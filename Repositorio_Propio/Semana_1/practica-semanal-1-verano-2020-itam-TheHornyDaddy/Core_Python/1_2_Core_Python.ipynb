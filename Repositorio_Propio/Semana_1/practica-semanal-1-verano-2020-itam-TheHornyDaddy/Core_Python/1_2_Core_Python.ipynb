{
 "cells": [
  {
   "cell_type": "markdown",
   "metadata": {},
   "source": [
    "### **Core Python**\n",
    "\n",
    "#### **Variables**\n",
    "\n",
    "In most computer languages the name of a variable represents a value of a given type stored in a fixed memory location. The value may be changed, but not the type. This is not so in Python, where variables are typed dynamically. The following interactive session with the Python interpreter illustrates this feature (>>> is the Python prompt):"
   ]
  },
  {
   "cell_type": "code",
   "execution_count": 2,
   "metadata": {},
   "outputs": [],
   "source": [
    "b = 2 # b is integer type"
   ]
  },
  {
   "cell_type": "code",
   "execution_count": 3,
   "metadata": {},
   "outputs": [
    {
     "name": "stdout",
     "output_type": "stream",
     "text": [
      "2\n"
     ]
    }
   ],
   "source": [
    "print(b)"
   ]
  },
  {
   "cell_type": "code",
   "execution_count": 4,
   "metadata": {},
   "outputs": [],
   "source": [
    "b = b*2.0 # Now b is float type"
   ]
  },
  {
   "cell_type": "code",
   "execution_count": 5,
   "metadata": {},
   "outputs": [
    {
     "name": "stdout",
     "output_type": "stream",
     "text": [
      "4.0\n"
     ]
    }
   ],
   "source": [
    "print(b)"
   ]
  },
  {
   "cell_type": "markdown",
   "metadata": {},
   "source": [
    "The assignment $b = 2$ creates an association between the name b and the integer value 2. The next statement evaluates the expression b*2.0 and associates the result with b; the original association with the integer 2 is destroyed. Now b refers to the floating point value 4.0. The pound sign (#) denotes the beginning of a comment—all characters between # and the end of the line are ignored by the interpreter."
   ]
  },
  {
   "cell_type": "markdown",
   "metadata": {},
   "source": [
    "#### **Strings**\n",
    "A string is a sequence of characters enclosed in single or double quotes. Strings are concatenated with the plus (+) operator, whereas slicing (:) is used to extract a portion of the string. Here is an example:"
   ]
  },
  {
   "cell_type": "code",
   "execution_count": 9,
   "metadata": {},
   "outputs": [],
   "source": [
    "string1 = 'Press return to exit'\n",
    "string2 = 'the program'"
   ]
  },
  {
   "cell_type": "code",
   "execution_count": 11,
   "metadata": {},
   "outputs": [
    {
     "name": "stdout",
     "output_type": "stream",
     "text": [
      "Press return to exit the program\n"
     ]
    }
   ],
   "source": [
    "print(string1 + ' ' + string2) # Concatenation"
   ]
  },
  {
   "cell_type": "code",
   "execution_count": 14,
   "metadata": {},
   "outputs": [
    {
     "name": "stdout",
     "output_type": "stream",
     "text": [
      "Press return\n"
     ]
    }
   ],
   "source": [
    "print(string1[0:12]) # Slicing"
   ]
  },
  {
   "cell_type": "markdown",
   "metadata": {},
   "source": [
    "A string can be split into its component parts using the *split* command. The\n",
    "components appear as elements in a list. For example,"
   ]
  },
  {
   "cell_type": "code",
   "execution_count": 15,
   "metadata": {},
   "outputs": [],
   "source": [
    "s = '3 9 81'"
   ]
  },
  {
   "cell_type": "code",
   "execution_count": 16,
   "metadata": {},
   "outputs": [
    {
     "name": "stdout",
     "output_type": "stream",
     "text": [
      "['3', '9', '81']\n"
     ]
    }
   ],
   "source": [
    "print(s.split()) # Delimiter is white space"
   ]
  },
  {
   "cell_type": "markdown",
   "metadata": {},
   "source": [
    "A string is an *immutable* object—its individual characters cannot be modified with an assignment statement, and it has a fixed length. An attempt to violate immutability will result in `TypeError`, as follows:"
   ]
  },
  {
   "cell_type": "code",
   "execution_count": 17,
   "metadata": {},
   "outputs": [],
   "source": [
    "s = 'Press return to exit'"
   ]
  },
  {
   "cell_type": "code",
   "execution_count": 18,
   "metadata": {
    "scrolled": true
   },
   "outputs": [
    {
     "ename": "TypeError",
     "evalue": "'str' object does not support item assignment",
     "output_type": "error",
     "traceback": [
      "\u001b[0;31m---------------------------------------------------------------------------\u001b[0m",
      "\u001b[0;31mTypeError\u001b[0m                                 Traceback (most recent call last)",
      "\u001b[0;32m<ipython-input-18-08749d9f5f0f>\u001b[0m in \u001b[0;36m<module>\u001b[0;34m\u001b[0m\n\u001b[0;32m----> 1\u001b[0;31m \u001b[0ms\u001b[0m\u001b[0;34m[\u001b[0m\u001b[0;36m0\u001b[0m\u001b[0;34m]\u001b[0m \u001b[0;34m=\u001b[0m \u001b[0;34m'p'\u001b[0m\u001b[0;34m\u001b[0m\u001b[0;34m\u001b[0m\u001b[0m\n\u001b[0m",
      "\u001b[0;31mTypeError\u001b[0m: 'str' object does not support item assignment"
     ]
    }
   ],
   "source": [
    "s[0] = 'p'"
   ]
  },
  {
   "cell_type": "markdown",
   "metadata": {},
   "source": [
    "#### **Tuples**\n",
    "A *tuple* is a sequence of arbitrary objects separated by commas and enclosed in parentheses. If the tuple contains a single object, a final comma is required; for example, x = (2,). Tuples support the same operations as strings; they are also immutable. Here is an example where the tuple `rec` contains another tuple (6,23,68):"
   ]
  },
  {
   "cell_type": "code",
   "execution_count": 20,
   "metadata": {},
   "outputs": [],
   "source": [
    "rec = ('Smith','John',(6,23,68)) # This is a tuple"
   ]
  },
  {
   "cell_type": "code",
   "execution_count": 21,
   "metadata": {},
   "outputs": [],
   "source": [
    "lastName,firstName,birthdate = rec # Unpacking the tuple"
   ]
  },
  {
   "cell_type": "code",
   "execution_count": 23,
   "metadata": {},
   "outputs": [
    {
     "name": "stdout",
     "output_type": "stream",
     "text": [
      "John\n",
      "68\n"
     ]
    }
   ],
   "source": [
    "print(firstName)\n",
    "birthYear = birthdate[2]\n",
    "print(birthYear)"
   ]
  },
  {
   "cell_type": "code",
   "execution_count": 24,
   "metadata": {},
   "outputs": [
    {
     "name": "stdout",
     "output_type": "stream",
     "text": [
      "John Smith\n"
     ]
    }
   ],
   "source": [
    "name = rec[1] + ' ' + rec[0]\n",
    "print(name)"
   ]
  },
  {
   "cell_type": "code",
   "execution_count": 25,
   "metadata": {},
   "outputs": [
    {
     "name": "stdout",
     "output_type": "stream",
     "text": [
      "('Smith', 'John')\n"
     ]
    }
   ],
   "source": [
    "print(rec[0:2])"
   ]
  },
  {
   "cell_type": "markdown",
   "metadata": {},
   "source": [
    "#### **Lists**\n",
    "\n",
    "A list is similar to a tuple, but it is *mutable*, so that its elements and length can be changed. A list is identified by enclosing it in brackets. Here is a sampling of operations that can be performed on lists:"
   ]
  },
  {
   "cell_type": "code",
   "execution_count": 2,
   "metadata": {},
   "outputs": [
    {
     "name": "stdout",
     "output_type": "stream",
     "text": [
      "[1.0, 2.0, 3.0, 4.0]\n"
     ]
    }
   ],
   "source": [
    "a = [1.0, 2.0, 3.0] # Create a list\n",
    "a.append(4.0) # Append 4.0 to list\n",
    "print(a)"
   ]
  },
  {
   "cell_type": "code",
   "execution_count": 4,
   "metadata": {},
   "outputs": [
    {
     "name": "stdout",
     "output_type": "stream",
     "text": [
      "[0.0, 0.0, 1.0, 2.0, 3.0, 4.0]\n"
     ]
    }
   ],
   "source": [
    "a.insert(0,0.0) # Insert 0.0 in position 0\n",
    "print(a)"
   ]
  },
  {
   "cell_type": "code",
   "execution_count": 5,
   "metadata": {},
   "outputs": [
    {
     "name": "stdout",
     "output_type": "stream",
     "text": [
      "6\n"
     ]
    }
   ],
   "source": [
    "print(len(a)) # Determine length of list"
   ]
  },
  {
   "cell_type": "code",
   "execution_count": 6,
   "metadata": {},
   "outputs": [
    {
     "name": "stdout",
     "output_type": "stream",
     "text": [
      "[0.0, 0.0, 1.0, 1.0, 1.0, 3.0, 4.0]\n"
     ]
    }
   ],
   "source": [
    "a[2:4] = [1.0, 1.0, 1.0] # Modify selected elements\n",
    "print(a)"
   ]
  },
  {
   "cell_type": "markdown",
   "metadata": {},
   "source": [
    "If *a* is amutable object, such as a list, the assignment statement b = a does not result in a new object *b*, but simply creates a new reference to *a*. Thus any changes made to *b* will be reflected in *a*. To create an independent copy of a list *a*, use the statement c = a[:], as shown in the following example:"
   ]
  },
  {
   "cell_type": "code",
   "execution_count": 7,
   "metadata": {},
   "outputs": [
    {
     "name": "stdout",
     "output_type": "stream",
     "text": [
      "[5.0, 2.0, 3.0]\n"
     ]
    }
   ],
   "source": [
    "a = [1.0, 2.0, 3.0]\n",
    "b = a # ’b’ is an alias of ’a’\n",
    "b[0] = 5.0 # Change ’b’\n",
    "print(a)"
   ]
  },
  {
   "cell_type": "code",
   "execution_count": 8,
   "metadata": {},
   "outputs": [
    {
     "name": "stdout",
     "output_type": "stream",
     "text": [
      "[5.0, 2.0, 3.0]\n"
     ]
    }
   ],
   "source": [
    "# The change is reflected in ’a’\n",
    "c = a[:] # ’c’ is an independent copy of ’a’\n",
    "c[0] = 1.0 # Change ’c’\n",
    "print(a)"
   ]
  },
  {
   "cell_type": "code",
   "execution_count": 10,
   "metadata": {},
   "outputs": [],
   "source": [
    "# ’a’ is not affected by the change"
   ]
  },
  {
   "cell_type": "markdown",
   "metadata": {},
   "source": [
    "Matrices can be represented as nested lists, with each row being an element of\n",
    "the list. Here is a 3×3 matrix a in the formof a list:"
   ]
  },
  {
   "cell_type": "code",
   "execution_count": 12,
   "metadata": {},
   "outputs": [
    {
     "name": "stdout",
     "output_type": "stream",
     "text": [
      "[4, 5, 6]\n"
     ]
    }
   ],
   "source": [
    "a = [[1, 2, 3], \\\n",
    "[4, 5, 6], \\\n",
    "[7, 8, 9]]\n",
    "print(a[1]) # Print second row (element 1)"
   ]
  },
  {
   "cell_type": "code",
   "execution_count": 14,
   "metadata": {},
   "outputs": [
    {
     "name": "stdout",
     "output_type": "stream",
     "text": [
      "6\n"
     ]
    }
   ],
   "source": [
    "print(a[1][2]) # Print third element of second row"
   ]
  },
  {
   "cell_type": "markdown",
   "metadata": {},
   "source": [
    "The backslash ( \\ ) is Python’s *continuation character*. Recall that Python sequences\n",
    "have zero offset, so that a[0] represents the first row, a[1] the second row,\n",
    "etc.With very few exceptionswe do not use lists for numerical arrays. It ismuchmore\n",
    "convenient to employ *array objects* provided by the *numpy* module. Array objects are\n",
    "discussed later."
   ]
  },
  {
   "cell_type": "markdown",
   "metadata": {},
   "source": [
    "#### *Arithmetic Operators*\n",
    "\n",
    "Python supports the usual arithmetic operators:\n",
    "\n",
    "| Symbol        | Operation        |\n",
    "| :-------------|:-----------------|\n",
    "| \\+            | Addition         |\n",
    "| \\-            | Substraction     |\n",
    "| \\*            | Multiplication   |\n",
    "| /             | Division         |\n",
    "| \\*\\*          | Exponentiation   |\n",
    "| \\%            | Modular division |\n",
    "\n",
    "Some of these operators are also defined for strings and sequences as follows:"
   ]
  },
  {
   "cell_type": "code",
   "execution_count": 17,
   "metadata": {},
   "outputs": [],
   "source": [
    "s = 'Hello '\n",
    "t = 'to you'\n",
    "a = [1, 2, 3]"
   ]
  },
  {
   "cell_type": "code",
   "execution_count": 19,
   "metadata": {},
   "outputs": [
    {
     "name": "stdout",
     "output_type": "stream",
     "text": [
      "Hello Hello Hello \n"
     ]
    }
   ],
   "source": [
    "print(3*s) # Repetition"
   ]
  },
  {
   "cell_type": "code",
   "execution_count": 20,
   "metadata": {},
   "outputs": [
    {
     "name": "stdout",
     "output_type": "stream",
     "text": [
      "[1, 2, 3, 1, 2, 3, 1, 2, 3]\n",
      "[1, 2, 3, 4, 5]\n",
      "Hello to you\n"
     ]
    }
   ],
   "source": [
    "print(3*a) # Repetition\n",
    "print(a + [4, 5]) # Append elements\n",
    "print(s + t) # Concatenation"
   ]
  },
  {
   "cell_type": "code",
   "execution_count": 22,
   "metadata": {},
   "outputs": [
    {
     "ename": "TypeError",
     "evalue": "unsupported operand type(s) for +: 'int' and 'str'",
     "output_type": "error",
     "traceback": [
      "\u001b[1;31m---------------------------------------------------------------------------\u001b[0m",
      "\u001b[1;31mTypeError\u001b[0m                                 Traceback (most recent call last)",
      "\u001b[1;32m<ipython-input-22-4e2eb5932b3d>\u001b[0m in \u001b[0;36m<module>\u001b[1;34m\u001b[0m\n\u001b[1;32m----> 1\u001b[1;33m \u001b[0mprint\u001b[0m\u001b[1;33m(\u001b[0m\u001b[1;36m3\u001b[0m \u001b[1;33m+\u001b[0m \u001b[0ms\u001b[0m\u001b[1;33m)\u001b[0m \u001b[1;31m# This addition makes no sense\u001b[0m\u001b[1;33m\u001b[0m\u001b[1;33m\u001b[0m\u001b[0m\n\u001b[0m",
      "\u001b[1;31mTypeError\u001b[0m: unsupported operand type(s) for +: 'int' and 'str'"
     ]
    }
   ],
   "source": [
    "print(3 + s) # This addition makes no sense"
   ]
  },
  {
   "cell_type": "markdown",
   "metadata": {},
   "source": [
    "Python also has *augmented assignment operators*, such as $a+ =b$, that are familiar to the users of C. The augmented operators and the equivalent arithmetic expressions are shown in following table.\n",
    "\n",
    "| Abreviation   | Whole Recursive Operation       |\n",
    "| :-------------|:-----------------|\n",
    "| a += b      | a = a + b        |\n",
    "| a -= b      | a = a - b        |\n",
    "| a *= b      | a = a*b          |\n",
    "| a /= b      | a = a/b          |\n",
    "| a **= b     | a = a**b         |\n",
    "| a \\%= b     | a = a%b          |"
   ]
  },
  {
   "cell_type": "markdown",
   "metadata": {},
   "source": [
    "#### **Comparison Operators**\n",
    "\n",
    "The comparison (relational) operators return `True` or `False`. These operators are\n",
    "\n",
    "| Abreviation   | Whole Recursive Operation|\n",
    "| :-------------|:-----------------|\n",
    "| <      | Less than               |\n",
    "| >      | Greater than            |\n",
    "| <=     | Less than or equal to   |\n",
    "| >=     | Greater than or equal to|\n",
    "| ==     | Equal to                |\n",
    "| !=     | Not equal to            |\n",
    "\n",
    "Numbers of different type (integer, floating point, and so on) are converted to a common type before the comparison is made. Otherwise, objects of different type are considered to be unequal. Here are a few examples:"
   ]
  },
  {
   "cell_type": "code",
   "execution_count": 23,
   "metadata": {},
   "outputs": [],
   "source": [
    "a = 2 # Integer\n",
    "b = 1.99 # Floating point\n",
    "c = '2' # String"
   ]
  },
  {
   "cell_type": "code",
   "execution_count": 25,
   "metadata": {},
   "outputs": [
    {
     "name": "stdout",
     "output_type": "stream",
     "text": [
      "True\n",
      "False\n",
      "True\n",
      "True\n"
     ]
    }
   ],
   "source": [
    "print(a > b)\n",
    "print(a == c)\n",
    "print((a > b) and (a != c))\n",
    "print((a > b) or (a == b))"
   ]
  },
  {
   "cell_type": "markdown",
   "metadata": {},
   "source": [
    "#### **Conditionals**\n",
    "\n",
    "The if construct\n",
    "\n",
    "$$\n",
    "\\fbox{if condition:\n",
    "block}\n",
    "$$\n",
    "\n",
    "executes a block of statements (which must be indented) if the condition returns True. If the condition returns False, the block is skipped. The if conditional can be followed by any number of elif (short for “else if”) constructs\n",
    "\n",
    "$$\n",
    "\\fbox{elif condition:\n",
    "block}\n",
    "$$\n",
    "\n",
    "that work in the samemanner. The else clause\n",
    "\n",
    "$$\n",
    "\\fbox{else:\n",
    "block}\n",
    "$$\n",
    "\n",
    "can be used to define the block of statements that are to be executed if none of the if-elif clauses are true. The function sign of a illustrates the use of the conditionals."
   ]
  },
  {
   "cell_type": "code",
   "execution_count": 28,
   "metadata": {},
   "outputs": [],
   "source": [
    "def sign_of_a(a):\n",
    "    if a < 0.0:\n",
    "        sign = \"negative\"\n",
    "    elif a > 0.0:\n",
    "        sign = \"positive\"\n",
    "    else:\n",
    "        sign = \"zero\"\n",
    "    return sign"
   ]
  },
  {
   "cell_type": "code",
   "execution_count": 30,
   "metadata": {},
   "outputs": [
    {
     "name": "stdout",
     "output_type": "stream",
     "text": [
      "a is positive\n"
     ]
    }
   ],
   "source": [
    "a = 1.5\n",
    "print(\"a is \" + sign_of_a(a))"
   ]
  },
  {
   "cell_type": "markdown",
   "metadata": {},
   "source": [
    "#### **Loops**\n",
    "\n",
    "The while construct\n",
    "\n",
    "$$\n",
    "\\fbox{while condition:\n",
    "block}\n",
    "$$\n",
    "\n",
    "executes a block of (indented) statements if the condition is True. After execution of the block, the condition is evaluated again. If it is still True, the block is executed\n",
    "again. This process is continued until the condition becomes False. The else clause\n",
    "\n",
    "$$\n",
    "\\fbox{else:\n",
    "block}\n",
    "$$\n",
    "\n",
    "can be used to define the block of statements that are to be executed if the condition\n",
    "is false. Here is an example that creates the list [1, 1/2, 1/3, . . .]:"
   ]
  },
  {
   "cell_type": "code",
   "execution_count": 31,
   "metadata": {},
   "outputs": [
    {
     "name": "stdout",
     "output_type": "stream",
     "text": [
      "[1.0, 0.5, 0.3333333333333333, 0.25]\n"
     ]
    }
   ],
   "source": [
    "nMax = 5\n",
    "n = 1\n",
    "a = []              # Create empty list\n",
    "while n < nMax:\n",
    "    a.append(1.0/n) # Append element to list\n",
    "    n = n + 1\n",
    "print(a)"
   ]
  },
  {
   "cell_type": "markdown",
   "metadata": {},
   "source": [
    "We met the for statement in Section 1.1. This statement requires a target and a sequence over which the target loops. The formof the construct is\n",
    "\n",
    "$$\n",
    "\\fbox{for target in sequence:\n",
    "block}\n",
    "$$\n",
    "\n",
    "You may add an else clause that is executed after the for loop has finished.\n",
    "The previous program could be written with the for construct as"
   ]
  },
  {
   "cell_type": "code",
   "execution_count": 33,
   "metadata": {},
   "outputs": [
    {
     "name": "stdout",
     "output_type": "stream",
     "text": [
      "[1.0, 0.5, 0.3333333333333333, 0.25]\n"
     ]
    }
   ],
   "source": [
    "nMax = 5\n",
    "a = []\n",
    "for n in range(1,nMax):\n",
    "    a.append(1.0/n)\n",
    "print(a)"
   ]
  },
  {
   "cell_type": "markdown",
   "metadata": {},
   "source": [
    "Here *n* is the target, and the *range object* [1, 2, . . . ,nMax − 1] (created by calling the range function) is the sequence.\n",
    "Any loop can be terminated by the\n",
    "\n",
    "$$\n",
    "\\fbox{break}\n",
    "$$\n",
    "\n",
    "statement. If there is an else cause associated with the loop, it is not executed. The following program, which searches for a name in a list, illustrates the use of break and else in conjunction with a for loop:"
   ]
  },
  {
   "cell_type": "code",
   "execution_count": 37,
   "metadata": {},
   "outputs": [
    {
     "name": "stdout",
     "output_type": "stream",
     "text": [
      "Type a name: 'Tim'\n",
      "Tim is number 3 on the list\n"
     ]
    }
   ],
   "source": [
    "list = ['Jack', 'Jill', 'Tim', 'Dave']\n",
    "name = eval(input('Type a name: '))       # Python input prompt\n",
    "for i in range(len(list)):\n",
    "    if list[i] == name:\n",
    "        print(name,'is number',i + 1,'on the list')\n",
    "        break\n",
    "else:\n",
    "    print(name,'is not on the list')"
   ]
  },
  {
   "cell_type": "code",
   "execution_count": 38,
   "metadata": {},
   "outputs": [
    {
     "name": "stdout",
     "output_type": "stream",
     "text": [
      "Type a name: 'June'\n",
      "June is not on the list\n"
     ]
    }
   ],
   "source": [
    "list = ['Jack', 'Jill', 'Tim', 'Dave']\n",
    "name = eval(input('Type a name: '))       # Python input prompt\n",
    "for i in range(len(list)):\n",
    "    if list[i] == name:\n",
    "        print(name,'is number',i + 1,'on the list')\n",
    "        break\n",
    "else:\n",
    "    print(name,'is not on the list')"
   ]
  },
  {
   "cell_type": "markdown",
   "metadata": {},
   "source": [
    "The\n",
    "\n",
    "$$\n",
    "\\fbox{continue}\n",
    "$$\n",
    "\n",
    "statement allows us to skip a portion of an iterative loop. If the interpreter encounters the continue statement, it immediately returns to the beginning of the loop without executing the statements that follow continue. The following example compiles a list of all numbers between 1 and 99 that are divisible by 7."
   ]
  },
  {
   "cell_type": "code",
   "execution_count": 39,
   "metadata": {},
   "outputs": [
    {
     "name": "stdout",
     "output_type": "stream",
     "text": [
      "[7, 14, 21, 28, 35, 42, 49, 56, 63, 70, 77, 84, 91, 98]\n"
     ]
    }
   ],
   "source": [
    "x = []                     # Create an empty list\n",
    "for i in range(1,100):\n",
    "    if i%7 != 0: continue  # If not divisible by 7, skip rest of loop\n",
    "    x.append(i)            # Append i to the list\n",
    "print(x)"
   ]
  },
  {
   "cell_type": "markdown",
   "metadata": {},
   "source": [
    "#### **Type Conversion**\n",
    "\n",
    "If an arithmetic operation involves numbers of mixed types, the numbers are automatically converted to a common type before the operation is carried out.\n",
    "\n",
    "Type conversions can also achieved by the following functions:\n",
    "\n",
    "| Function Symbol   | Function         |\n",
    "| :-----------------|:-----------------|\n",
    "| int(a)      | Converts *a* to integer       |\n",
    "| float(a)    | Converts *a* to floating point|\n",
    "| complex(a)  | Converts to complex *a + 0j*  |\n",
    "| complex(a,b)| Converts to complex *a +bj*   |\n",
    "\n",
    "These functions also work for converting strings to numbers as long as the literal in the string represents a valid number. Conversion from a float to an integer is carried out by truncation, not by rounding off. Here are a few examples:"
   ]
  },
  {
   "cell_type": "code",
   "execution_count": 40,
   "metadata": {},
   "outputs": [],
   "source": [
    "a = 5\n",
    "b = -3.6\n",
    "d = '4.0'"
   ]
  },
  {
   "cell_type": "code",
   "execution_count": 41,
   "metadata": {},
   "outputs": [
    {
     "name": "stdout",
     "output_type": "stream",
     "text": [
      "1.4\n",
      "-3\n",
      "(5-3.6j)\n",
      "4.0\n"
     ]
    }
   ],
   "source": [
    "print(a + b)\n",
    "print(int(b))\n",
    "print(complex(a,b))\n",
    "print(float(d))"
   ]
  },
  {
   "cell_type": "code",
   "execution_count": 43,
   "metadata": {},
   "outputs": [
    {
     "ename": "ValueError",
     "evalue": "invalid literal for int() with base 10: '4.0'",
     "output_type": "error",
     "traceback": [
      "\u001b[1;31m---------------------------------------------------------------------------\u001b[0m",
      "\u001b[1;31mValueError\u001b[0m                                Traceback (most recent call last)",
      "\u001b[1;32m<ipython-input-43-8855b2389f81>\u001b[0m in \u001b[0;36m<module>\u001b[1;34m\u001b[0m\n\u001b[1;32m----> 1\u001b[1;33m \u001b[0mprint\u001b[0m\u001b[1;33m(\u001b[0m\u001b[0mint\u001b[0m\u001b[1;33m(\u001b[0m\u001b[0md\u001b[0m\u001b[1;33m)\u001b[0m\u001b[1;33m)\u001b[0m \u001b[1;31m# This fails: d is a string\u001b[0m\u001b[1;33m\u001b[0m\u001b[1;33m\u001b[0m\u001b[0m\n\u001b[0m",
      "\u001b[1;31mValueError\u001b[0m: invalid literal for int() with base 10: '4.0'"
     ]
    }
   ],
   "source": [
    "print(int(d)) # This fails: d is a string"
   ]
  },
  {
   "cell_type": "markdown",
   "metadata": {},
   "source": [
    "#### **Mathematical Functions**\n",
    "\n",
    "Core Python supports only the following mathematical functions:\n",
    "\n",
    "\n",
    "| Function        | Function Name           |\n",
    "| :---------------|:------------------------|\n",
    "| abs(a)          | Absolute value of a     |\n",
    "| max(*sequence*) | Largest element of *sequence*|\n",
    "| min(*sequence*) | Smallest element of *sequence*|\n",
    "| round(a,n)      | Round *a* to *n* decimal places|\n",
    "| cmp(a,b)        | $$\n",
    "Returns\\left\\{\n",
    "\\begin{array}{cl}\n",
    "-1 \\,\\, if \\,\\, a < b\\\\\n",
    "0 \\,\\,\\,\\,if \\,\\, a = b\\\\\n",
    "1 \\,\\,\\,\\, if \\,\\,a > b\n",
    "\\end{array}\\right.\n",
    "$$\n",
    "               |\n",
    "\n",
    "Themajority ofmathematical functions are available in the math module.\n",
    "\n",
    "\n",
    "A minipage environment is a sufficient way to box or group something:\n",
    "\n",
    "$$\n",
    "\\fbox{input (prompt)}\n",
    "$$\n",
    "\n",
    "It displays the prompt and then reads a line of input that is converted to a *string*. To convert the string into a numerical value use the function\n",
    "\n",
    "$$\n",
    "\\fbox{eval (string)}\n",
    "$$\n",
    "\n",
    "The following program illustrates the use of these functions:"
   ]
  },
  {
   "cell_type": "code",
   "execution_count": 47,
   "metadata": {},
   "outputs": [
    {
     "name": "stdout",
     "output_type": "stream",
     "text": [
      "Input a: 10.0\n",
      "10.0 <class 'str'>\n",
      "10.0 <class 'float'>\n"
     ]
    }
   ],
   "source": [
    "a = input('Input a: ')\n",
    "print(a, type(a))     # Print a and its type\n",
    "b = eval(a)\n",
    "print(b,type(b))      # Print b and its type"
   ]
  },
  {
   "cell_type": "code",
   "execution_count": 48,
   "metadata": {
    "scrolled": true
   },
   "outputs": [
    {
     "name": "stdout",
     "output_type": "stream",
     "text": [
      "Input a: 11**2\n",
      "11**2 <class 'str'>\n",
      "121 <class 'int'>\n"
     ]
    }
   ],
   "source": [
    "a = input('Input a: ')\n",
    "print(a, type(a))     # Print a and its type\n",
    "b = eval(a)\n",
    "print(b,type(b))      # Print b and its type"
   ]
  },
  {
   "cell_type": "markdown",
   "metadata": {},
   "source": [
    "The function type(a) returns the type of the object *a*; it is a very useful tool in debugging. The program was run twice.\n",
    "\n",
    "A convenient way to input *a* number and assign it to the variable a is\n",
    "\n",
    "$$\n",
    "\\fbox{a = eval(input(prompt))}\n",
    "$$"
   ]
  },
  {
   "cell_type": "markdown",
   "metadata": {},
   "source": [
    "#### **Printing Output**\n",
    "\n",
    "Output can be displayed with the *print* function\n",
    "\n",
    "$$\n",
    "\\fbox{print(object1,object2,...)}\n",
    "$$\n",
    "\n",
    "that converts *object1, object2*, and so on, to strings and prints them on the same line, separated by spaces. The *newline character ’\\n’ can be used to force a new line. For example,"
   ]
  },
  {
   "cell_type": "code",
   "execution_count": 49,
   "metadata": {},
   "outputs": [
    {
     "name": "stdout",
     "output_type": "stream",
     "text": [
      "1234.56789 [2, 4, 6, 8]\n"
     ]
    }
   ],
   "source": [
    "a = 1234.56789\n",
    "b = [2, 4, 6, 8]\n",
    "print(a,b)"
   ]
  },
  {
   "cell_type": "code",
   "execution_count": 50,
   "metadata": {},
   "outputs": [],
   "source": [
    "a = 1234.56789\n",
    "b = [2, 4, 6, 8]"
   ]
  },
  {
   "cell_type": "markdown",
   "metadata": {},
   "source": [
    "The print function always appends the newline character to the end of a line. We can replace this character with something else by using the keyword argument end. For example,\n",
    "\n",
    "$$\n",
    "\\fbox{print(object1, object2, ... ,end=’ ’)}\n",
    "$$\n",
    "\n",
    "replaces \\n with a space.\n",
    "Output can be formatted with the format method. The simplest formof the conversion statement is\n",
    "\n",
    "$$\n",
    "\\fbox{’{:fmt1}{:fmt2}...’.format(arg1,arg2,...)}\n",
    "$$\n",
    "\n",
    "where *fmt1, fmt2*,... are the format specifications for *arg1, arg2*,..., respectively. Typically used format specifications are\n",
    "\n",
    "|Structure     | What type     |\n",
    "|:-------------|:--------------|\n",
    "|wd| Integer|\n",
    "|w.df |Floating point notation|\n",
    "|w.de |Exponential notation|\n",
    "\n",
    "where *w* is the width of the field and *d* is the number of digits after the decimal point. The output is right justified in the specified field and padded with blank spaces (there are provisions for changing the justification and padding).Here are several examples:"
   ]
  },
  {
   "cell_type": "code",
   "execution_count": 51,
   "metadata": {},
   "outputs": [
    {
     "name": "stdout",
     "output_type": "stream",
     "text": [
      "1234.57\n"
     ]
    }
   ],
   "source": [
    "a = 1234.56789\n",
    ">>> n = 9876\n",
    ">>> print('{:7.2f}'.format(a))"
   ]
  },
  {
   "cell_type": "code",
   "execution_count": 54,
   "metadata": {},
   "outputs": [
    {
     "name": "stdout",
     "output_type": "stream",
     "text": [
      "n =   9876\n",
      "n = 009876\n",
      "  1.2346e+03   9876\n"
     ]
    }
   ],
   "source": [
    "print(\"n = {:6d}\".format(n)) # Pad with spaces\n",
    "print(\"n = {:06d}\".format(n)) # Pad with zeros\n",
    "print(\"{:12.4e} {:6d}\".format(a,n))"
   ]
  },
  {
   "cell_type": "markdown",
   "metadata": {},
   "source": [
    "#### **Opening and Closing a File**\n",
    "\n",
    "Before a data file on a storage device (e.g., a disk) can be accessed, you must create a *file* object with the command\n",
    "\n",
    "$$\n",
    "\\fbox{file object = open(filename, action)}\n",
    "$$\n",
    "\n",
    "where *filename* is a string that specifies the file to be opened (including its path if necessary) and action is one of the following strings:\n",
    "\n",
    "|Symbol| Function|\n",
    "|:-----|:--------|\n",
    "|’r’ |Read from an existing file.|\n",
    "|’w’ |Write to a file. If *filename* does not exist, it is created.|\n",
    "|’a’ |Append to the end of the file.|\n",
    "|’r+’ |Read to and write from an existing file.|\n",
    "|’w+’ |Same as ’r+’, but *filename* is created if it does not exist.|\n",
    "|’a+’| Same as ’w+’, but data is appended to the end of the file.|\n",
    "\n",
    "It is good programming practice to close a file when access to it is no longer required. This can be done with themethod\n",
    "\n",
    "$$\n",
    "\\fbox{file object.close()}\n",
    "$$"
   ]
  },
  {
   "cell_type": "markdown",
   "metadata": {},
   "source": [
    "#### **Error Control**\n",
    "\n",
    "When an error occurs during execution of a program an exception is raised and the program stops. Exceptions can be caught with try and except statements:\n",
    "\n",
    "$$\\fbox{\n",
    "try:\n",
    "    do something\n",
    "except error:\n",
    "    do something else\n",
    "}\n",
    "$$\n",
    "\n",
    "where *error* is the name of a built-in Python exception. If the exception *error* is not raised, the `try` block is executed; otherwise the execution passes to the except\n",
    "block. All exceptions can be caught by omitting *error* from the except statement.\n",
    "The following statement raises the exception *ZeroDivisionError*:"
   ]
  },
  {
   "cell_type": "code",
   "execution_count": 55,
   "metadata": {},
   "outputs": [
    {
     "ename": "ZeroDivisionError",
     "evalue": "float division by zero",
     "output_type": "error",
     "traceback": [
      "\u001b[1;31m---------------------------------------------------------------------------\u001b[0m",
      "\u001b[1;31mZeroDivisionError\u001b[0m                         Traceback (most recent call last)",
      "\u001b[1;32m<ipython-input-55-d424c91496c1>\u001b[0m in \u001b[0;36m<module>\u001b[1;34m\u001b[0m\n\u001b[1;32m----> 1\u001b[1;33m \u001b[0mc\u001b[0m \u001b[1;33m=\u001b[0m \u001b[1;36m12.0\u001b[0m\u001b[1;33m/\u001b[0m\u001b[1;36m0.0\u001b[0m\u001b[1;33m\u001b[0m\u001b[1;33m\u001b[0m\u001b[0m\n\u001b[0m",
      "\u001b[1;31mZeroDivisionError\u001b[0m: float division by zero"
     ]
    }
   ],
   "source": [
    "c = 12.0/0.0"
   ]
  },
  {
   "cell_type": "markdown",
   "metadata": {},
   "source": [
    "This error can be caught by"
   ]
  },
  {
   "cell_type": "code",
   "execution_count": 58,
   "metadata": {},
   "outputs": [
    {
     "name": "stdout",
     "output_type": "stream",
     "text": [
      "Division by zero\n"
     ]
    }
   ],
   "source": [
    "try:\n",
    "    c = 12.0/0.0\n",
    "except ZeroDivisionError:\n",
    "    print('Division by zero')"
   ]
  }
 ],
 "metadata": {
  "kernelspec": {
   "display_name": "Python 3",
   "language": "python",
   "name": "python3"
  },
  "language_info": {
   "codemirror_mode": {
    "name": "ipython",
    "version": 3
   },
   "file_extension": ".py",
   "mimetype": "text/x-python",
   "name": "python",
   "nbconvert_exporter": "python",
   "pygments_lexer": "ipython3",
   "version": "3.7.6"
  }
 },
 "nbformat": 4,
 "nbformat_minor": 4
}
