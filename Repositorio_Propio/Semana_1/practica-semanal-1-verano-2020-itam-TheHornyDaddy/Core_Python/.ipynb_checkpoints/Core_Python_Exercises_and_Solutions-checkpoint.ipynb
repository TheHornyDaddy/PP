{
 "cells": [
  {
   "cell_type": "markdown",
   "metadata": {},
   "source": [
    "### Ejercicios de Core Python"
   ]
  },
  {
   "cell_type": "markdown",
   "metadata": {},
   "source": [
    "**Ejercicio 1:** Pide al usuario su nombre y apellidos por separado e imprimelos concatenadamente"
   ]
  },
  {
   "cell_type": "code",
   "execution_count": 9,
   "metadata": {},
   "outputs": [
    {
     "name": "stdout",
     "output_type": "stream",
     "text": [
      "Introduzca su nombre: A\n",
      "Introduzca su apellido paterno: B\n",
      "Introduzca su apellido materno: C\n",
      "Su nombre completo es: A B C \n"
     ]
    }
   ],
   "source": [
    "nombre = input(\"Introduzca su nombre: \")\n",
    "apellido_p = input(\"Introduzca su apellido paterno: \")\n",
    "apellido_m = input(\"Introduzca su apellido materno: \")\n",
    "\n",
    "print(\"Su nombre completo es: \" + nombre + ' ' + apellido_p + ' ' + apellido_m + ' ')"
   ]
  },
  {
   "cell_type": "markdown",
   "metadata": {},
   "source": [
    "**Ejercicio 2:** Tome en cuenta la siguiente cadena de texto: $\\textit{abc 123}$. Haga lo siguiente:\n",
    "1. Imprime dentro de una lista las subcadenas por separado.\n",
    "2. Imprime cada letra y número de forma intercalada empezando por la letra a.\n",
    "3. Imprime por separado las subcadenas como strings.\n",
    "4. Imprime los número 1 y 3 usando slices."
   ]
  },
  {
   "cell_type": "code",
   "execution_count": 26,
   "metadata": {},
   "outputs": [
    {
     "name": "stdout",
     "output_type": "stream",
     "text": [
      "['abc', '123']\n",
      "a1b2c3\n",
      "abc 123\n",
      "13\n"
     ]
    }
   ],
   "source": [
    "cad = 'abc 123'\n",
    "\n",
    "print(cad.split())\n",
    "print(cad[0] + cad[4] + cad[1] + cad[5] + cad[2] + cad[6])\n",
    "print(cad[0:3] + cad[3:7])\n",
    "print(cad[4:7:2])"
   ]
  },
  {
   "cell_type": "markdown",
   "metadata": {},
   "source": [
    "**Ejercicio 3:** Crea una tupla que contenga, en cualquier orden, los siguientes tipos de datos: int, float, boolean, tupla y string. Luego, desempacala e imprimela por separado:"
   ]
  },
  {
   "cell_type": "code",
   "execution_count": 33,
   "metadata": {},
   "outputs": [
    {
     "name": "stdout",
     "output_type": "stream",
     "text": [
      "(1, 1.0, True, (1, 2), '1')\n",
      "\n",
      "1\n",
      "1.0\n",
      "True\n",
      "(1, 2)\n",
      "1\n"
     ]
    }
   ],
   "source": [
    "t = (1,1.0,True,(1,2),'1')\n",
    "print(t)\n",
    "print()\n",
    "\n",
    "# Desempaquemosla:\n",
    "t1, t2, t3, t4 , t5 = t\n",
    "print(t1)\n",
    "print(t2)\n",
    "print(t3)\n",
    "print(t4)\n",
    "print(t5)"
   ]
  },
  {
   "cell_type": "markdown",
   "metadata": {},
   "source": [
    "**Ejercico 4:** Haz las siguientes acciones:\n",
    "+ Imprime sólo el último valor de la subtupla de la tupla del ejercicio anterior.\n",
    "+ Aplica slicing para imprimir cada dos elementos dentro de la misma tupla."
   ]
  },
  {
   "cell_type": "code",
   "execution_count": 44,
   "metadata": {},
   "outputs": [
    {
     "name": "stdout",
     "output_type": "stream",
     "text": [
      "2\n",
      "(1, True, '1')\n"
     ]
    }
   ],
   "source": [
    "# 1:\n",
    "print(t4[len(t4)-1])\n",
    "\n",
    "# 2:\n",
    "print(t[0:len(t):2])"
   ]
  },
  {
   "cell_type": "markdown",
   "metadata": {},
   "source": [
    "**Ejercico 5:** Crea el siguiente arreglo e inserte un número introducido por el usuario está contenido en la lista:\n",
    "\n",
    "[1,234,12,454,54,23.2,43,4]\n",
    "\n",
    "Luego, suma a la lista la anterior la siguiente lista:\n",
    "\n",
    "[3.4,9]\n",
    "\n",
    "Por último, imprime una replica de los mismos elementos dentro de la misma lista."
   ]
  },
  {
   "cell_type": "code",
   "execution_count": 56,
   "metadata": {},
   "outputs": [
    {
     "name": "stdout",
     "output_type": "stream",
     "text": [
      "Introduzca un número real: 2\n",
      "[1, 234, 12, 454, 54, 23.2, 43, 4, 2.0]\n",
      "\n",
      "[1, 234, 12, 454, 54, 23.2, 43, 4, 2.0, 3.4, 9]\n",
      "[1, 234, 12, 454, 54, 23.2, 43, 4, 2.0, 3.4, 9, 1, 234, 12, 454, 54, 23.2, 43, 4, 2.0, 3.4, 9]\n"
     ]
    }
   ],
   "source": [
    "l1 = [1,234,12,454,54,23.2,43,4]\n",
    "l2 = float(input(\"Introduzca un número real: \"))\n",
    "l1.append(l2)\n",
    "print(l1)\n",
    "print()\n",
    "\n",
    "l3 = [3.4,9]\n",
    "l4=l1 + l3\n",
    "print(l4)\n",
    "print(l4*2)"
   ]
  },
  {
   "cell_type": "markdown",
   "metadata": {},
   "source": [
    "**Ejercicio 6:** Crea una matriz 4x2 donde cada renglón contenga un tipo diferente de dato en el siguiente orden:\n",
    "+ strings.\n",
    "+ tuplas: la primera int y la segunda boolean.\n",
    "+ listas: la primera int, la segunda strings.\n",
    "+ float."
   ]
  },
  {
   "cell_type": "code",
   "execution_count": 54,
   "metadata": {},
   "outputs": [
    {
     "name": "stdout",
     "output_type": "stream",
     "text": [
      "[['a', 'b'], [(1, 2), (True, False)], [[13, 32], ['aa', 'bb']], [3.5, 6.23]]\n"
     ]
    }
   ],
   "source": [
    "m=[['a','b'],\n",
    "   [(1,2),(True,False)],\n",
    "   [[13,32],['aa','bb']],\n",
    "   [3.5,6.23]]\n",
    "print(m)"
   ]
  },
  {
   "cell_type": "markdown",
   "metadata": {},
   "source": [
    "**Ejercicio 7:** Se tienen la siguientes variables\n",
    "+ a=2\n",
    "+ b=5.2\n",
    "+ c=17\n",
    "\n",
    "Crea dos variables con las operaciones básicas:\n",
    "\n",
    "1. d - La suma de la potencia cúbica de 'a' más 'b', la suma está dvidida por 'c'.\n",
    "2. e - 'b' elevado a 'c' módulo 'a'. (El resultado es obvio)."
   ]
  },
  {
   "cell_type": "code",
   "execution_count": 55,
   "metadata": {},
   "outputs": [
    {
     "name": "stdout",
     "output_type": "stream",
     "text": [
      "0.776470588235294\n",
      "\n",
      "5.2\n"
     ]
    }
   ],
   "source": [
    "a=2\n",
    "b=5.2\n",
    "c=17\n",
    "\n",
    "d = (a**3 + b)/c\n",
    "print(d)\n",
    "print()\n",
    "\n",
    "e = b**(17%2)\n",
    "print(e) # e=c."
   ]
  },
  {
   "cell_type": "markdown",
   "metadata": {},
   "source": [
    "**Ejercico 8:** Comprueba las siguientes relaciones:\n",
    "+ Si 'd' y 'e' son iguales.\n",
    "+ Si la longitud de la lista resultante del ejercicio 5 es mayor igual que 'e'.\n",
    "+ Pide dos cadenas de texto al usuario y verifica si son diferentes.\n",
    "+ Verifica si alguna de las condiciones anteriores es verdadera."
   ]
  },
  {
   "cell_type": "code",
   "execution_count": 61,
   "metadata": {},
   "outputs": [
    {
     "name": "stdout",
     "output_type": "stream",
     "text": [
      "False\n",
      "True\n",
      "Introduzca la primer cadena: a\n",
      "Introduzca la segunda cadena: d\n",
      "True\n",
      "True\n"
     ]
    }
   ],
   "source": [
    "print(d==e)\n",
    "print(len(l4)>=e)\n",
    "\n",
    "s1 = input(\"Introduzca la primer cadena: \")\n",
    "s2 = input(\"Introduzca la segunda cadena: \")\n",
    "print(s1!=s2)\n",
    "\n",
    "print((d==e) or (len(l4)>=e) or (s1!=s2))"
   ]
  },
  {
   "cell_type": "markdown",
   "metadata": {},
   "source": [
    "**Ejercicio 9 (El clásico de programación):** Pide al usuario tres número y ordenalos de forma creciente. Contemple todos los casos posibles."
   ]
  },
  {
   "cell_type": "code",
   "execution_count": 9,
   "metadata": {},
   "outputs": [
    {
     "name": "stdout",
     "output_type": "stream",
     "text": [
      "Introduzca el primer número: 1.2\n",
      "Introduzca el segundo número: 3.\n",
      "Introduzca el tercer número: 4\n",
      "El orden es el siguiente: 1.2, 3.0, 4.0\n"
     ]
    }
   ],
   "source": [
    "num1=float(input(\"Introduzca el primer número: \"))\n",
    "num2=float(input(\"Introduzca el segundo número: \"))\n",
    "num3=float(input(\"Introduzca el tercer número: \"))\n",
    "\n",
    "if(num1==num2 and num1==num3):\n",
    "    print(\"El orden es indistinto: \"+str(num1)+\", \"+str(num2)+\", \"+str(num3))\n",
    "\n",
    "elif(num1>=num2 and num1>num3):\n",
    "    if(num1==num2):\n",
    "        print(\"El orden es el siguiente: \" + str(num3) + \", \" + str(num2) + \", \" + str(num1))\n",
    "    if(num2>num3):\n",
    "        print(\"El orden es el siguiente: \" + str(num3) + \", \" + str(num2) + \", \" + str(num1))\n",
    "    else:\n",
    "        print(\"El orden es el siguiente: \" + str(num2) + \", \" + str(num3) + \", \" + str(num1))\n",
    "\n",
    "elif(num1>=num2 and num1<num3):\n",
    "    if(num1>num2):\n",
    "        print(\"El orden es el siguiente: \" + str(num2) + \", \" + str(num1) + \", \" + str(num3))\n",
    "    else:\n",
    "        print(\"El orden es el siguiente: \" + str(num2) + \", \" + str(num1) + \", \" + str(num3))\n",
    "\n",
    "elif(num1>=num3 and num1>num2):\n",
    "    if(num1==num3):\n",
    "        print(\"El orden es el siguiente: \" + str(num2) + \", \" + str(num1) + \", \" + str(num3))\n",
    "    if(num3>num1):\n",
    "        print(\"El orden es el siguiente: \" + str(num2) + \", \" + str(num3) + \", \" + str(num1))\n",
    "    else:\n",
    "        print(\"El orden es el siguiente: \" + str(num3) + \", \" + str(num2) + \", \" + str(num1))\n",
    "\n",
    "elif(num1>=num3 and num1<num2):\n",
    "    print(\"El orden es el siguiente: \" + str(num3) + \", \" + str(num1) + \", \" + str(num2))\n",
    "\n",
    "elif(num2>=num1 and num2<num3):\n",
    "    print(\"El orden es el siguiente: \" + str(num1) + \", \" + str(num2) + \", \" + str(num3))\n",
    "\n",
    "elif(num3>=num2 and num3>num1):\n",
    "    if(num2==num3):\n",
    "        print(\"El orden es el siguiente: \" + str(num1) + \", \" + str(num3) + \", \" + str(num2))\n",
    "    if(num2>num1):\n",
    "        print(\"El orden es el siguiente: \" + str(num1) + \", \" + str(num2) + \", \" + str(num3))\n",
    "    else:\n",
    "        print(\"El orden es el siguiente: \" + str(num2) + \", \" + str(num1) + \", \" + str(num3))\n",
    "\n",
    "elif(num3>=num2 and num3<num1):\n",
    "    print(\"El orden es el siguiente: \" + str(num2) + \", \" + str(num3) + \", \" + str(num1))\n",
    "\n",
    "elif(num2>=num3 and num2>num1):\n",
    "    if(num3>num1):\n",
    "        print(\"El orden es el siguiente: .\" + str(num1) + \", \" + str(num3) + \", \" + str(num2))\n",
    "    else:\n",
    "        print(\"El orden es el siguiente: \" + str(num3) + \", \" + str(num1) + \", \" + str(num2))\n",
    "\n",
    "else:\n",
    "    print(\"Error.\")"
   ]
  },
  {
   "cell_type": "markdown",
   "metadata": {},
   "source": [
    "**Ejercicio 10:** Pida al usuario un número y verifique si es decimal o no."
   ]
  },
  {
   "cell_type": "code",
   "execution_count": 3,
   "metadata": {},
   "outputs": [
    {
     "name": "stdout",
     "output_type": "stream",
     "text": [
      "Digite un número: 1\n",
      " \n",
      "El número que ingreso es:  1.0\n",
      "El número no es decimal.\n"
     ]
    }
   ],
   "source": [
    "num=float(input(\"Digite un número: \"))\n",
    "print(\" \")\n",
    "print(\"El número que ingreso es: \",str(num))\n",
    "\n",
    "if(num.is_integer()==False):\n",
    "    print(\"El número es un decimal.\")\n",
    "else:\n",
    "    print(\"El número no es decimal.\")"
   ]
  },
  {
   "cell_type": "markdown",
   "metadata": {},
   "source": [
    "**Ejercicio 11:** Pida al usuario una fecha, después de Cristo, al usuario pero valide que sea correcta."
   ]
  },
  {
   "cell_type": "code",
   "execution_count": 66,
   "metadata": {},
   "outputs": [
    {
     "name": "stdout",
     "output_type": "stream",
     "text": [
      "Introduzca un número que represente a un mes: 04\n",
      "Introduzca un número que represente a un dia del mes: 27\n",
      "Introduzca un año después de Cristo: 200\n",
      "La fecha es 27/4/200\n"
     ]
    }
   ],
   "source": [
    "mes=int(input(\"Introduzca un número que represente a un mes: \"))\n",
    "dia=int(input(\"Introduzca un número que represente a un dia del mes: \"))\n",
    "ano=int(input(\"Introduzca un año después de Cristo: \"))\n",
    "\n",
    "if(mes>0 and mes<13):\n",
    "    if(ano>=0):\n",
    "        if(mes==1 and mes==3 and mes==5 and mes==7 and mes==8 and mes==10 and mes==12):\n",
    "            if(dia>0 and dia<32):\n",
    "                print(\"La fecha es %d/%d/%d\" %(dia,mes,ano))\n",
    "            else:\n",
    "                print(\"Dia invalido\")\n",
    "        elif(mes==2 and dia>0 and dia<29):\n",
    "            print(\"La fecha es %d/%d/%d\" % (dia, mes, ano))\n",
    "        else:\n",
    "            if(dia>0 and dia<31):\n",
    "                print(\"La fecha es %d/%d/%d\" % (dia, mes, ano))\n",
    "    elif(ano%4==0 and dia>0 and dia<30):\n",
    "            print(\"La fecha es %d/%d/%d\" % (dia, mes, ano))\n",
    "    else:\n",
    "        print(\"Año inválido.\")\n",
    "else:\n",
    "    print(\"Mes inválido.\")"
   ]
  },
  {
   "cell_type": "markdown",
   "metadata": {},
   "source": [
    "**Ejercicio 12:** Imprima por separado las letras y números de la siguiente lista:\n",
    "\n",
    "$$\n",
    "[1,A,2,n,3,t,4,o,5,n,6,i,7,o,8]\n",
    "$$"
   ]
  },
  {
   "cell_type": "code",
   "execution_count": 73,
   "metadata": {},
   "outputs": [
    {
     "name": "stdout",
     "output_type": "stream",
     "text": [
      "Los números: \n",
      "1\n",
      "2\n",
      "3\n",
      "4\n",
      "5\n",
      "6\n",
      "7\n",
      "8\n",
      "\n",
      "El nombre: \n",
      "A\n",
      "n\n",
      "t\n",
      "o\n",
      "n\n",
      "i\n",
      "o\n"
     ]
    }
   ],
   "source": [
    "cad1 = [1,'A',2,'n',3,'t',4,'o',5,'n',6,'i',7,'o',8]\n",
    "print(\"Los números: \")\n",
    "for i in range(0,len(cad1)+1,2):\n",
    "    print(cad1[i])\n",
    "print()\n",
    "print(\"El nombre: \")\n",
    "for i in range(1,len(cad1),2):\n",
    "    print(cad1[i])"
   ]
  },
  {
   "cell_type": "markdown",
   "metadata": {},
   "source": [
    "**Ejercicio 13:** Crea una matriz 2x2 con todas sus entradas igual a 3 y multiplicala por la matriz identidad para verificar que el resultado es la primer matriz."
   ]
  },
  {
   "cell_type": "code",
   "execution_count": 81,
   "metadata": {},
   "outputs": [
    {
     "name": "stdout",
     "output_type": "stream",
     "text": [
      "El resultado es el siguiente, donde se verifica que se cumple la identidad por la derecha.\n",
      "[[3, 3], [3, 3]]\n",
      "El resultado es el siguiente, donde se verifica que se cumple la identidad por la izquierda.\n",
      "[[3, 3], [3, 3]]\n"
     ]
    }
   ],
   "source": [
    "m = [[3,3],[3,3]]\n",
    "ide = [[1,0],[0,1]]\n",
    "m_end = [[0,0],[0,0]]\n",
    "for i in range(len(m)):\n",
    "   for j in range(len(ide[0])):\n",
    "       for k in range(len(ide)):\n",
    "           m_end[i][j] += m[i][k] * ide[k][j]\n",
    "print(\"El resultado es el siguiente, donde se verifica que se cumple la identidad por la derecha.\")\n",
    "print(m_end)\n",
    "\n",
    "m_end = [[0,0],[0,0]]\n",
    "for i in range(len(m)):\n",
    "   for j in range(len(ide[0])):\n",
    "       for k in range(len(ide)):\n",
    "           m_end[i][j] += ide[i][k] * m[k][j]\n",
    "print(\"El resultado es el siguiente, donde se verifica que se cumple la identidad por la izquierda.\")\n",
    "print(m_end)"
   ]
  },
  {
   "cell_type": "markdown",
   "metadata": {},
   "source": [
    "**Ejercicio 14:** Imprima hasta el n-ésimo término, dado por el usuario, de la siguiente serie (creo la armónica)- Valide que el número introducido por el usuario sea entero.\n",
    "\n",
    "$$\n",
    "    \\sum_{i=0}^{n}\\frac{1}{2^{i}}\n",
    "$$"
   ]
  },
  {
   "cell_type": "code",
   "execution_count": null,
   "metadata": {},
   "outputs": [],
   "source": [
    "num = 0\n",
    "l=[]\n",
    "i=0\n",
    "n=int(input(\"Ingrese el n-ésimo número: \"))\n",
    "while(i<=n):\n",
    "    num+=1/(2^i)\n",
    "    l.append(num)\n",
    "print(lis)"
   ]
  },
  {
   "cell_type": "markdown",
   "metadata": {},
   "source": [
    "**Ejercicio 16:** Toma en cuenta la siguiente lista:\n",
    "$$\n",
    "[2.132,65.36743,0.005345,7.54354,0.645645]\n",
    "$$\n",
    "Imprime los números de la lista con un número de decimales de acuerdo a su posición en la lista y el último en notación científica."
   ]
  },
  {
   "cell_type": "code",
   "execution_count": 31,
   "metadata": {},
   "outputs": [
    {
     "name": "stdout",
     "output_type": "stream",
     "text": [
      "2  65.4  0.01  7.544  6.4565e-01\n"
     ]
    }
   ],
   "source": [
    "l=[2.132,65.36743,0.005345,7.54354,0.645645]\n",
    "print(\"{:0.0f}  {:0.1f}  {:0.2f}  {:0.3f}  {:0.4e}\".format(l[0],l[1],l[2],l[3],l[4])) "
   ]
  },
  {
   "cell_type": "markdown",
   "metadata": {},
   "source": [
    "**Ejercicio 17:** Con las funciones de la librería math crea la siguiente función:\n",
    "$$\n",
    " y(x)=tan\\left( log_{10}\\left(\\left| x \\right| \\right)\\right)\n",
    "$$\n",
    "Y evalua la función para x = 1."
   ]
  },
  {
   "cell_type": "code",
   "execution_count": 35,
   "metadata": {},
   "outputs": [
    {
     "name": "stdout",
     "output_type": "stream",
     "text": [
      "0.0\n"
     ]
    }
   ],
   "source": [
    "import math\n",
    "x = 1\n",
    "y = math.tan(math.log10(math.fabs(x)))\n",
    "print(y)"
   ]
  },
  {
   "cell_type": "markdown",
   "metadata": {},
   "source": [
    "**Ejercicio 18:** Del ejercicio anterior evalúese en x=0 y múestrese como error \"El logarítmo de cero es un punto singular.\""
   ]
  },
  {
   "cell_type": "code",
   "execution_count": 37,
   "metadata": {},
   "outputs": [
    {
     "name": "stdout",
     "output_type": "stream",
     "text": [
      "El logarítmo de cero es un punto singular.\n"
     ]
    }
   ],
   "source": [
    "x = 0\n",
    "try:\n",
    "    y = math.tan(math.log10(math.fabs(x)))\n",
    "except ValueError:\n",
    "    print('El logarítmo de cero es un punto singular.')"
   ]
  },
  {
   "cell_type": "markdown",
   "metadata": {},
   "source": [
    "**Ejercicio 19:** Convierte el código del ejercicio 9 en una función y además, esta debe debe llamar a otra función que en este caso será el código del ejercicio 10."
   ]
  },
  {
   "cell_type": "code",
   "execution_count": 7,
   "metadata": {},
   "outputs": [],
   "source": [
    "def func_flotante(num):\n",
    "    if(num.is_integer()==False):\n",
    "        print(\"El número\" + \" \" + str(num) + \" \" + \"es un flotante.\")\n",
    "    else:\n",
    "        print(\"El número\" + \" \" + str(num) + \" \" + \"no es un flotante.\")\n",
    "\n",
    "def func_orden(num1,num2,num3):\n",
    "    \n",
    "    func_flotante(num1)\n",
    "    func_flotante(num2)\n",
    "    func_flotante(num3)\n",
    "    \n",
    "    if(num1==num2 and num1==num3):\n",
    "        print(\"El orden es indistinto: \"+str(num1)+\", \"+str(num2)+\", \"+str(num3))\n",
    "\n",
    "    elif(num1>=num2 and num1>num3):\n",
    "        if(num1==num2):\n",
    "            print(\"El orden es el siguiente: \" + str(num3) + \", \" + str(num2) + \", \" + str(num1))\n",
    "        if(num2>num3):\n",
    "            print(\"El orden es el siguiente: \" + str(num3) + \", \" + str(num2) + \", \" + str(num1))\n",
    "        else:\n",
    "            print(\"El orden es el siguiente: \" + str(num2) + \", \" + str(num3) + \", \" + str(num1))\n",
    "\n",
    "    elif(num1>=num2 and num1<num3):\n",
    "        if(num1>num2):\n",
    "            print(\"El orden es el siguiente: \" + str(num2) + \", \" + str(num1) + \", \" + str(num3))\n",
    "        else:\n",
    "            print(\"El orden es el siguiente: \" + str(num2) + \", \" + str(num1) + \", \" + str(num3))\n",
    "\n",
    "    elif(num1>=num3 and num1>num2):\n",
    "        if(num1==num3):\n",
    "            print(\"El orden es el siguiente: \" + str(num2) + \", \" + str(num1) + \", \" + str(num3))\n",
    "        if(num3>num1):\n",
    "            print(\"El orden es el siguiente: \" + str(num2) + \", \" + str(num3) + \", \" + str(num1))\n",
    "        else:\n",
    "            print(\"El orden es el siguiente: \" + str(num3) + \", \" + str(num2) + \", \" + str(num1))\n",
    "\n",
    "    elif(num1>=num3 and num1<num2):\n",
    "        print(\"El orden es el siguiente: \" + str(num3) + \", \" + str(num1) + \", \" + str(num2))\n",
    "\n",
    "    elif(num2>=num1 and num2<num3):\n",
    "        print(\"El orden es el siguiente: \" + str(num1) + \", \" + str(num2) + \", \" + str(num3))\n",
    "\n",
    "    elif(num3>=num2 and num3>num1):\n",
    "        if(num2==num3):\n",
    "            print(\"El orden es el siguiente: \" + str(num1) + \", \" + str(num3) + \", \" + str(num2))\n",
    "        if(num2>num1):\n",
    "            print(\"El orden es el siguiente: \" + str(num1) + \", \" + str(num2) + \", \" + str(num3))\n",
    "        else:\n",
    "            print(\"El orden es el siguiente: \" + str(num2) + \", \" + str(num1) + \", \" + str(num3))\n",
    "\n",
    "    elif(num3>=num2 and num3<num1):\n",
    "        print(\"El orden es el siguiente: \" + str(num2) + \", \" + str(num3) + \", \" + str(num1))\n",
    "\n",
    "    elif(num2>=num3 and num2>num1):\n",
    "        if(num3>num1):\n",
    "            print(\"El orden es el siguiente: \" + str(num1) + \", \" + str(num3) + \", \" + str(num2))\n",
    "        else:\n",
    "            print(\"El orden es el siguiente: \" + str(num3) + \", \" + str(num1) + \", \" + str(num2))\n",
    "\n",
    "    else:\n",
    "        print(\"Error.\")"
   ]
  },
  {
   "cell_type": "code",
   "execution_count": 8,
   "metadata": {},
   "outputs": [
    {
     "name": "stdout",
     "output_type": "stream",
     "text": [
      "Introduzca el primer número: 1.2\n",
      "Introduzca el segundo número: 5\n",
      "Introduzca el tercer número: 7\n",
      "El número 1.2 es un flotante.\n",
      "El número 5.0 no es un flotante.\n",
      "El número 7.0 no es un flotante.\n",
      "El orden es el siguiente: .1.2, 5.0, 7.0\n"
     ]
    }
   ],
   "source": [
    "num1=float(input(\"Introduzca el primer número: \"))\n",
    "num2=float(input(\"Introduzca el segundo número: \"))\n",
    "num3=float(input(\"Introduzca el tercer número: \"))\n",
    "\n",
    "func_orden(num1,num2,num3)"
   ]
  },
  {
   "cell_type": "markdown",
   "metadata": {},
   "source": [
    "**Ejercicio:** Crea un módulo que le pida al usaurio introducir las entradas de un vector fila , además, este tiene que llamar a otro módulo que imprima su producto punto. Los nombres tiene que ser *creacion.py* y *producto_punto.py*, respectivamente."
   ]
  },
  {
   "cell_type": "markdown",
   "metadata": {},
   "source": [
    "**_Nota:_** Abajo se muestra cómo están programados los módulos, los módulos están en la misma carpeta donde se encuentra este script."
   ]
  },
  {
   "cell_type": "code",
   "execution_count": 23,
   "metadata": {},
   "outputs": [],
   "source": [
    "def punto(vec1,vec2): \n",
    "    if len(vec1) == len(vec2):\n",
    "        i = 0\n",
    "        sum = 0\n",
    "\n",
    "        for i in range(len(vec1)):\n",
    "            sum += vec1[i] + vec2[i]\n",
    "\n",
    "        print(sum)\n",
    "    \n",
    "    else:\n",
    "        print(\"Los vectores no son de la misma dimensión:\")"
   ]
  },
  {
   "cell_type": "code",
   "execution_count": 28,
   "metadata": {},
   "outputs": [],
   "source": [
    "def vector(): \n",
    "    dim = int(input(\"Introduzca la dimensión que tendrán los dos vectores: \"))\n",
    "    \n",
    "    vec1 = []\n",
    "    vec2 = []\n",
    "    i = 0\n",
    "    \n",
    "    for i in range(dim):\n",
    "        ent1 = float(input(\"Introduce la entrada \" + \" \" + str(i+1) + \" \" + \"del primer vector.\"))\n",
    "        ent2 = float(input(\"Introduce la entrada \" + \" \" + str(i+1) + \" \" + \"del segundo vector.\"))\n",
    "        print(\"\\n\")        \n",
    "        \n",
    "        vec1.append(ent1)\n",
    "        vec2.append(ent2)\n",
    "                \n",
    "    print(vec1)\n",
    "    print(vec2)\n",
    "    print(\" \")\n",
    "    print(\"El producto punto es: \")\n",
    "    punto(vec1,vec2)"
   ]
  },
  {
   "cell_type": "code",
   "execution_count": 29,
   "metadata": {},
   "outputs": [
    {
     "name": "stdout",
     "output_type": "stream",
     "text": [
      "Introduzca la dimensión que tendrán los dos vectores: 3\n",
      "Introduce la entrada  1 del primer vector.1\n",
      "Introduce la entrada  1 del segundo vector.2\n",
      "\n",
      "\n",
      "Introduce la entrada  2 del primer vector.3\n",
      "Introduce la entrada  2 del segundo vector.4\n",
      "\n",
      "\n",
      "Introduce la entrada  3 del primer vector.5\n",
      "Introduce la entrada  3 del segundo vector.6\n",
      "\n",
      "\n",
      "[1.0, 3.0, 5.0]\n",
      "[2.0, 4.0, 6.0]\n",
      " \n",
      "El producto punto es: \n",
      "21.0\n"
     ]
    }
   ],
   "source": [
    "vector()"
   ]
  }
 ],
 "metadata": {
  "kernelspec": {
   "display_name": "Python 3",
   "language": "python",
   "name": "python3"
  },
  "language_info": {
   "codemirror_mode": {
    "name": "ipython",
    "version": 3
   },
   "file_extension": ".py",
   "mimetype": "text/x-python",
   "name": "python",
   "nbconvert_exporter": "python",
   "pygments_lexer": "ipython3",
   "version": "3.7.6"
  }
 },
 "nbformat": 4,
 "nbformat_minor": 4
}
