{
 "cells": [
  {
   "cell_type": "markdown",
   "metadata": {},
   "source": [
    "### Ejercicios de Core Python"
   ]
  },
  {
   "cell_type": "markdown",
   "metadata": {},
   "source": [
    "**Ejercicio 1:** Pide al usuario su nombre y apellidos por separado e imprimelos concatenadamente"
   ]
  },
  {
   "cell_type": "markdown",
   "metadata": {},
   "source": [
    "**Ejercicio 2:** Tome en cuenta la siguiente cadena de texto: $\\textit{abc 123}$. Haga lo siguiente:\n",
    "1. Imprime dentro de una lista las subcadenas por separado.\n",
    "2. Imprime cada letra y número de forma intercalada empezando por la letra a.\n",
    "3. Imprime por separado las subcadenas como strings.\n",
    "4. Imprime los número 1 y 3 usando slices."
   ]
  },
  {
   "cell_type": "markdown",
   "metadata": {},
   "source": [
    "**Ejercicio 3:** Crea una tupla que contenga, en cualquier orden, los siguientes tipos de datos: int, float, boolean, tupla y string. Luego, desempacala e imprimela por separado:"
   ]
  },
  {
   "cell_type": "markdown",
   "metadata": {},
   "source": [
    "**Ejercico 4:** Haz las siguientes acciones:\n",
    "+ Imprime sólo el último valor de la subtupla de la tupla del ejercicio anterior.\n",
    "+ Aplica slicing para imprimir cada dos elementos dentro de la misma tupla."
   ]
  },
  {
   "cell_type": "markdown",
   "metadata": {},
   "source": [
    "**Ejercico 5:** Crea el siguiente arreglo e inserte un número introducido por el usuario está contenido en la lista:\n",
    "\n",
    "[1,234,12,454,54,23.2,43,4]\n",
    "\n",
    "Luego, suma a la lista la anterior la siguiente lista:\n",
    "\n",
    "[3.4,9]\n",
    "\n",
    "Por último, imprime una replica de los mismos elementos dentro de la misma lista."
   ]
  },
  {
   "cell_type": "markdown",
   "metadata": {},
   "source": [
    "**Ejercicio 6:** Crea una matriz 4x2 donde cada renglón contenga un tipo diferente de dato en el siguiente orden:\n",
    "+ strings.\n",
    "+ tuplas: la primera int y la segunda boolean.\n",
    "+ listas: la primera int, la segunda strings.\n",
    "+ float."
   ]
  },
  {
   "cell_type": "markdown",
   "metadata": {},
   "source": [
    "**Ejercicio 7:** Se tienen la siguientes variables\n",
    "+ a=2\n",
    "+ b=5.2\n",
    "+ c=17\n",
    "\n",
    "Crea dos variables con las operaciones básicas:\n",
    "\n",
    "1. d - La suma de la potencia cúbica de 'a' más 'b', la suma está dvidida por 'c'.\n",
    "2. e - 'b' elevado a 'c' módulo 'a'. (El resultado es obvio)."
   ]
  },
  {
   "cell_type": "markdown",
   "metadata": {},
   "source": [
    "**Ejercico 8:** Comprueba las siguientes relaciones:\n",
    "+ Si 'd' y 'e' son iguales.\n",
    "+ Si la longitud de la lista resultante del ejercicio 5 es mayor igual que 'e'.\n",
    "+ Pide dos cadenas de texto al usuario y verifica si son diferentes.\n",
    "+ Verifica si alguna de las condiciones anteriores es verdadera."
   ]
  },
  {
   "cell_type": "markdown",
   "metadata": {},
   "source": [
    "**Ejercicio 9 (El clásico de programación):** Pide al usuario tres número y ordenalos de forma creciente. Contemple todos los casos posibles."
   ]
  },
  {
   "cell_type": "markdown",
   "metadata": {},
   "source": [
    "**Ejercicio 10:** Pida al usuario un número y verifique si es decimal o no."
   ]
  },
  {
   "cell_type": "markdown",
   "metadata": {},
   "source": [
    "**Ejercicio 11:** Pida al usuario una fecha, después de Cristo, al usuario pero valide que sea correcta."
   ]
  },
  {
   "cell_type": "markdown",
   "metadata": {},
   "source": [
    "**Ejercicio 12:** Imprima por separado las letras y números de la siguiente lista:\n",
    "\n",
    "$$\n",
    "[1,A,2,n,3,t,4,o,5,n,6,i,7,o,8]\n",
    "$$"
   ]
  },
  {
   "cell_type": "markdown",
   "metadata": {},
   "source": [
    "**Ejercicio 13:** Crea una matriz 2x2 con todas sus entradas igual a 3 y multiplicala por la matriz identidad para verificar que el resultado es la primer matriz."
   ]
  },
  {
   "cell_type": "markdown",
   "metadata": {},
   "source": [
    "**Ejercicio 14:** Imprima hasta el n-ésimo término, dado por el usuario, de la siguiente serie (creo la armónica)- Valide que el número introducido por el usuario sea entero.\n",
    "\n",
    "$$\n",
    "    \\sum_{i=0}^{n}\\frac{1}{2^{i}}\n",
    "$$"
   ]
  },
  {
   "cell_type": "markdown",
   "metadata": {},
   "source": [
    "**Ejercicio 16:** Toma en cuenta la siguiente lista:\n",
    "$$\n",
    "[2.132,65.36743,0.005345,7.54354,0.645645]\n",
    "$$\n",
    "Imprime los números de la lista con un número de decimales de acuerdo a su posición en la lista y el último en notación científica."
   ]
  },
  {
   "cell_type": "markdown",
   "metadata": {},
   "source": [
    "**Ejercicio 17:** Con las funciones de la librería math crea la siguiente función:\n",
    "$$\n",
    " y(x)=tan\\left( log_{10}\\left(\\left| x \\right| \\right)\\right)\n",
    "$$\n",
    "Y evalua la función para x = 1."
   ]
  },
  {
   "cell_type": "markdown",
   "metadata": {},
   "source": [
    "**Ejercicio 18:** Del ejercicio anterior evalúese en x=0 y múestrese como error \"El logarítmo de cero es un punto singular.\""
   ]
  },
  {
   "cell_type": "markdown",
   "metadata": {},
   "source": [
    "**Ejercicio 19:** Convierte el código del ejercicio 9 en una función y además, esta debe debe llamar a otra función que en este caso será el código del ejercicio 10."
   ]
  },
  {
   "cell_type": "markdown",
   "metadata": {},
   "source": [
    "**Ejercicio 20:** Crea un módulo que acepte un número *n* y te imprima la serie de Fibonacci hasta ese término y guarde todos los términos en un archivo *txt*.\n",
    "\n",
    "*_Nota:_* Nótese que para los primeros términos se tendrá una validación para que funcione el programa."
   ]
  },
  {
   "cell_type": "markdown",
   "metadata": {},
   "source": [
    "**Ejercicio 21:** Crea un módulo que le pida al usaurio introducir las entradas de un vector fila , además, este tiene que llamar a otro módulo que imprima su producto punto. Los nombres tiene que ser *creacion.py* y *producto_punto.py*, respectivamente."
   ]
  },
  {
   "cell_type": "markdown",
   "metadata": {},
   "source": [
    "**_Nota:_** Abajo se muestra cómo están programados los módulos, los módulos están en la misma carpeta donde se encuentra este script."
   ]
  }
 ],
 "metadata": {
  "kernelspec": {
   "display_name": "Python 3",
   "language": "python",
   "name": "python3"
  },
  "language_info": {
   "codemirror_mode": {
    "name": "ipython",
    "version": 3
   },
   "file_extension": ".py",
   "mimetype": "text/x-python",
   "name": "python",
   "nbconvert_exporter": "python",
   "pygments_lexer": "ipython3",
   "version": "3.7.6"
  }
 },
 "nbformat": 4,
 "nbformat_minor": 4
}
