{
 "cells": [
  {
   "cell_type": "markdown",
   "metadata": {},
   "source": [
    "### Ejercicios: Numpy y Matplotlib"
   ]
  },
  {
   "cell_type": "markdown",
   "metadata": {},
   "source": [
    "- Ejercicio 1: Crea la siguiente función y evalua en *x = pi*:\n",
    "$$\n",
    "y(x)= \\frac{e^{cos(x)}-e^{sen(x)}}{cos\\left(\\frac{x}{2}\\right)}\n",
    "$$"
   ]
  },
  {
   "cell_type": "markdown",
   "metadata": {},
   "source": [
    "- Ejericio 2: Crea una función que tome la raíz cuadrada del valor abosulto de la parte entera de x, donde la raíz está multiplicada por la función signo de x. Además, evalua si el resultado es menor, igual o mayor que cero.\n",
    "\n",
    "*Nota: El número debe ser digitado por el usuario.*"
   ]
  },
  {
   "cell_type": "markdown",
   "metadata": {},
   "source": [
    "- Exercise 4: Crea la siguiente matriz manualmente\n",
    "\n",
    "$$\n",
    "\\begin{pmatrix}\n",
    "    3 & 8 \\\\\n",
    "    8 & 3\n",
    "\\end{pmatrix}\n",
    "$$\n",
    "\n",
    "y otra matriz del mismo espacio matricial y tamaño donde las entradas sean obtenidas del usuario. Luego, multiplica las matrices."
   ]
  },
  {
   "cell_type": "markdown",
   "metadata": {},
   "source": [
    "- Ejercicio 5: Grafica la ecuación anterior para en el intervalo [2,4] cuya gráfica será de color verde, con mayado y etiquetas en los ejes."
   ]
  },
  {
   "cell_type": "markdown",
   "metadata": {},
   "source": [
    "- Ejercico 5: Crea un subplot de dimensiones 1x2 donde el primer gráfico es el del ejercico anterior (1,1) y el otro gráfico es de la ecuación $x^2$ para el mismo intervalo, además estos gráficos mallado deben presentar un color purpura y cyan, respectivamente. El título tiene que poseer etiquetas en los ejes, título principal y un estilo de línea.\n",
    "\n",
    "*Nota: Para que no se junten los gráficos entre sí, se tiene que ajustar el tamño del gráfico entero.*"
   ]
  }
 ],
 "metadata": {
  "kernelspec": {
   "display_name": "Python 3",
   "language": "python",
   "name": "python3"
  },
  "language_info": {
   "codemirror_mode": {
    "name": "ipython",
    "version": 3
   },
   "file_extension": ".py",
   "mimetype": "text/x-python",
   "name": "python",
   "nbconvert_exporter": "python",
   "pygments_lexer": "ipython3",
   "version": "3.7.6"
  }
 },
 "nbformat": 4,
 "nbformat_minor": 4
}
