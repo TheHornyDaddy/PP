{
 "cells": [
  {
   "cell_type": "markdown",
   "metadata": {},
   "source": [
    "Lo siguiente está basado en el libro de B. Rumbos, Pensando Antes de Actuar: Fundamentos de Elección Racional, 2009 y de G. J. Kerns, Introduction to Probability and Statistics Using R, 2014."
   ]
  },
  {
   "cell_type": "markdown",
   "metadata": {},
   "source": [
    "El libro de G. J. Kerns tiene github: [jkerns/IPSUR](https://github.com/gjkerns/IPSUR)"
   ]
  },
  {
   "cell_type": "markdown",
   "metadata": {},
   "source": [
    "**Notas:**\n",
    "\n",
    "* Se utilizará el paquete *prob* de *R* para los experimentos descritos en la nota y aunque con funciones nativas de *R* se pueden crear los experimentos, se le da preferencia a mostrar cómo en *R* se tienen paquetes para muchas aplicaciones.\n",
    "\n",
    "* En algunas líneas no es necesario colocar `print` y sólo se ha realizado para mostrar los resultados de las funciones en un formato similar al de R pues la nota se escribió con *jupyterlab* y *R*.\n",
    "\n",
    "* Cuidado al utilizar las funciones del paquete *prob* para construir espacios de probabilidad grandes como lanzar un dado 9 veces... (tal experimento tiene 10 millones de posibles resultados)"
   ]
  },
  {
   "cell_type": "code",
   "execution_count": 1,
   "metadata": {},
   "outputs": [],
   "source": [
    "options(repr.plot.width=4, repr.plot.height=4) #esta línea sólo se ejecuta para jupyterlab con R"
   ]
  },
  {
   "cell_type": "code",
   "execution_count": 2,
   "metadata": {},
   "outputs": [
    {
     "name": "stderr",
     "output_type": "stream",
     "text": [
      "Loading required package: combinat\n",
      "\n",
      "Attaching package: 'combinat'\n",
      "\n",
      "The following object is masked from 'package:utils':\n",
      "\n",
      "    combn\n",
      "\n",
      "Loading required package: fAsianOptions\n",
      "Loading required package: timeDate\n",
      "Loading required package: timeSeries\n",
      "Loading required package: fBasics\n",
      "Loading required package: fOptions\n",
      "\n",
      "Attaching package: 'prob'\n",
      "\n",
      "The following objects are masked from 'package:base':\n",
      "\n",
      "    intersect, setdiff, union\n",
      "\n"
     ]
    }
   ],
   "source": [
    "library(prob)\n",
    "library(ggplot2)"
   ]
  },
  {
   "cell_type": "markdown",
   "metadata": {},
   "source": [
    "# Ejemplos"
   ]
  },
  {
   "cell_type": "markdown",
   "metadata": {},
   "source": [
    "1) Supongamos que nos hacen la siguiente pregunta: ¿cuál es la probabilidad de obtener un $6$ si lanzamos un dado? La respuesta es simple, si $E$ es el evento {obtener $6$} entonces la probabilidad de obtener un $6$ es: $P(E) = \\frac{1}{6}$. Si la pregunta es ¿cuál es la probabilidad de obtener un $6$ dado que el número es par? La respuesta cambia pues ahora el espacio muestral se reduce a $\\{2,4,6\\}$ y si $F$ es el evento {número par} entonces la probabilidad de tener un $6$ dado que el número es par se denota por: $P(E|F)$ y en este caso es igual a: $P(E|F) = \\frac{1}{3}$."
   ]
  },
  {
   "cell_type": "markdown",
   "metadata": {},
   "source": [
    "2) Considérese una baraja y los eventos: $E=${primer carta extraída es as} y $F$={segunda carta extraída es as}. Calcular las probabilidades $P(E)$, $P(F|E)$ y $P(F|E^c)$."
   ]
  },
  {
   "cell_type": "markdown",
   "metadata": {},
   "source": [
    "3) Iguales enunciados que 1 y 2 pero calcúlese $P(E \\cap F)$ en ambos casos.\n",
    "\n",
    "**Solución:**\n",
    "\n",
    "1) $P(E\\cap F)$ puede pensarse como un producto de probabilidades que involucran los eventos {obtener $6$} y {el número es par dado que se obtuvo $6$}: $P(E)P(F|E) = \\frac{1}{6} \\cdot 1$ o bien como el producto $P(F)P(E|F) = \\frac{3}{6} \\cdot \\frac{1}{3}$ {obtener par} y {obtener $6$ dado que se tiene un número par}.\n",
    "\n",
    "2) $P(E \\cap F)$ se puede calcular como:\n",
    "\n",
    "a) $P(E|F)P(F)$ con eventos en cada probabilidad: $E|F =${primer carta extraída es as dado que se extrajo una segunda carta que es as}, $F=${segunda carta extraída es as}.\n"
   ]
  },
  {
   "cell_type": "code",
   "execution_count": 3,
   "metadata": {},
   "outputs": [
    {
     "data": {
      "text/html": [
       "0.00452488687782805"
      ],
      "text/latex": [
       "0.00452488687782805"
      ],
      "text/markdown": [
       "0.00452488687782805"
      ],
      "text/plain": [
       "[1] 0.004524887"
      ]
     },
     "metadata": {},
     "output_type": "display_data"
    }
   ],
   "source": [
    "3/51*4/52"
   ]
  },
  {
   "cell_type": "markdown",
   "metadata": {},
   "source": [
    "b) $P(F|E)P(E)$ con eventos en cada probabilidad: $F|E=$ {segunda carta extraída es as dado que se extrajo una primer carta que es as}, $E=${primer carta extraída es as}."
   ]
  },
  {
   "cell_type": "code",
   "execution_count": 4,
   "metadata": {},
   "outputs": [
    {
     "data": {
      "text/html": [
       "0.00452488687782805"
      ],
      "text/latex": [
       "0.00452488687782805"
      ],
      "text/markdown": [
       "0.00452488687782805"
      ],
      "text/plain": [
       "[1] 0.004524887"
      ]
     },
     "metadata": {},
     "output_type": "display_data"
    }
   ],
   "source": [
    "3/51*4/52"
   ]
  },
  {
   "cell_type": "markdown",
   "metadata": {},
   "source": [
    "# Probabilidad condicional\n",
    "\n",
    "La probabilidad condicional de $F$ dado $E$ se denota como $P(F|E)$ y está definida por:\n",
    "\n",
    "$$P(F|E) = \\frac{P(F \\cap E)}{P(E)}, \\quad \\text{ si } P(E)>0.$$"
   ]
  },
  {
   "cell_type": "markdown",
   "metadata": {},
   "source": [
    "**Obs:** obsérvese como en los ejemplos anteriores que a partir de esta igualdad se tiene: $P(F \\cap E) = P(F|E)P(E)$ si $P(E)>0$."
   ]
  },
  {
   "cell_type": "markdown",
   "metadata": {},
   "source": [
    "## Ejemplos"
   ]
  },
  {
   "cell_type": "markdown",
   "metadata": {},
   "source": [
    "1) **Experimento:** lanzar dos veces una moneda. Sean $E=${sale sol}, $F=${sale sol y águila}. Calcular $P(E), P(F), P(E\\cap F), P(E|F), P(F|E)$.\n",
    "\n",
    "2) **Experimento:** se lanzan dos dados y nos dicen que la suma de los números que se obtuvieron es 7. ¿Cuál es la probabilidad de que los números obtenidos sean 5 y 2? \n"
   ]
  },
  {
   "cell_type": "markdown",
   "metadata": {},
   "source": [
    "### En R ..."
   ]
  },
  {
   "cell_type": "markdown",
   "metadata": {},
   "source": [
    "**Experimento:** lanzamiento de dos dados de 6 lados. Sean $E=${resultados de ambos dados conciden}, $F=${suma de los resultados es al menos 8}. Calcular $P(E), P(F), P(E\\cap F), P(E|F), P(F|E)$."
   ]
  },
  {
   "cell_type": "markdown",
   "metadata": {},
   "source": [
    "**Solución:** El espacio de resultados se puede representar como una matriz pues el espacio de resultados es: $S=\\{(1,1),(1,2),\\dots,(6,6)\\}$ y $\\#(S)=36$."
   ]
  },
  {
   "cell_type": "code",
   "execution_count": 5,
   "metadata": {},
   "outputs": [],
   "source": [
    "S<-rolldie(2)\n",
    "E<-subset(S, X1 == X2)\n",
    "F<-subset(S, X1+X2>=8)"
   ]
  },
  {
   "cell_type": "code",
   "execution_count": 6,
   "metadata": {},
   "outputs": [],
   "source": [
    "E$etiqueta <- rep('X', nrow(E))\n",
    "F$etiqueta <- rep('O', nrow(F))"
   ]
  },
  {
   "cell_type": "code",
   "execution_count": 7,
   "metadata": {},
   "outputs": [
    {
     "data": {
      "image/png": "[encoded data removed]",
      "text/plain": [
       "plot without title"
      ]
     },
     "metadata": {},
     "output_type": "display_data"
    }
   ],
   "source": [
    "graf <- ggplot(rbind(E, F), aes(x=X1, y=X2, label=etiqueta)) #obsérvese que se puede asignar\n",
    "                                                             #el resultado al objeto \"graf\"\n",
    "                                                             #aes nos ayuda a mapear variables\n",
    "                                                             #a objetos en la gráfica\n",
    "\n",
    "graf + geom_text(size = 2) + xlab(\"Primer lanzamiento\") + ylab(\"Segundo lanzamiento\")\n",
    "                                                            #con el '+' añadimos capas a la\n",
    "                                                            #gráfica"
   ]
  },
  {
   "cell_type": "markdown",
   "metadata": {},
   "source": [
    "Entonces: $P(E) = \\frac{6}{36}$, $P(F)=\\frac{15}{36}$, $P(E \\cap F) =\\frac{3}{36}$, $P(E|F) = \\frac{3}{15}$, $P(F|E)=\\frac{3}{6}$."
   ]
  },
  {
   "cell_type": "markdown",
   "metadata": {},
   "source": [
    "**Otra opción podría ser:**"
   ]
  },
  {
   "cell_type": "code",
   "execution_count": 8,
   "metadata": {},
   "outputs": [],
   "source": [
    "S <- rolldie(2, makespace = TRUE)  # se asume el modelo equiprobable"
   ]
  },
  {
   "cell_type": "code",
   "execution_count": 9,
   "metadata": {},
   "outputs": [
    {
     "data": {
      "text/html": [
       "<table>\n",
       "<caption>A data.frame: 6 x 3</caption>\n",
       "<thead>\n",
       "\t<tr><th scope=col>X1</th><th scope=col>X2</th><th scope=col>probs</th></tr>\n",
       "\t<tr><th scope=col>&lt;int&gt;</th><th scope=col>&lt;int&gt;</th><th scope=col>&lt;dbl&gt;</th></tr>\n",
       "</thead>\n",
       "<tbody>\n",
       "\t<tr><td>1</td><td>1</td><td>0.02777778</td></tr>\n",
       "\t<tr><td>2</td><td>1</td><td>0.02777778</td></tr>\n",
       "\t<tr><td>3</td><td>1</td><td>0.02777778</td></tr>\n",
       "\t<tr><td>4</td><td>1</td><td>0.02777778</td></tr>\n",
       "\t<tr><td>5</td><td>1</td><td>0.02777778</td></tr>\n",
       "\t<tr><td>6</td><td>1</td><td>0.02777778</td></tr>\n",
       "</tbody>\n",
       "</table>\n"
      ],
      "text/latex": [
       "A data.frame: 6 x 3\n",
       "\\begin{tabular}{r|lll}\n",
       " X1 & X2 & probs\\\\\n",
       " <int> & <int> & <dbl>\\\\\n",
       "\\hline\n",
       "\t 1 & 1 & 0.02777778\\\\\n",
       "\t 2 & 1 & 0.02777778\\\\\n",
       "\t 3 & 1 & 0.02777778\\\\\n",
       "\t 4 & 1 & 0.02777778\\\\\n",
       "\t 5 & 1 & 0.02777778\\\\\n",
       "\t 6 & 1 & 0.02777778\\\\\n",
       "\\end{tabular}\n"
      ],
      "text/markdown": [
       "\n",
       "A data.frame: 6 x 3\n",
       "\n",
       "| X1 &lt;int&gt; | X2 &lt;int&gt; | probs &lt;dbl&gt; |\n",
       "|---|---|---|\n",
       "| 1 | 1 | 0.02777778 |\n",
       "| 2 | 1 | 0.02777778 |\n",
       "| 3 | 1 | 0.02777778 |\n",
       "| 4 | 1 | 0.02777778 |\n",
       "| 5 | 1 | 0.02777778 |\n",
       "| 6 | 1 | 0.02777778 |\n",
       "\n"
      ],
      "text/plain": [
       "  X1 X2 probs     \n",
       "1 1  1  0.02777778\n",
       "2 2  1  0.02777778\n",
       "3 3  1  0.02777778\n",
       "4 4  1  0.02777778\n",
       "5 5  1  0.02777778\n",
       "6 6  1  0.02777778"
      ]
     },
     "metadata": {},
     "output_type": "display_data"
    }
   ],
   "source": [
    "head(S)"
   ]
  },
  {
   "cell_type": "code",
   "execution_count": 10,
   "metadata": {},
   "outputs": [
    {
     "data": {
      "text/html": [
       "0.2"
      ],
      "text/latex": [
       "0.2"
      ],
      "text/markdown": [
       "0.2"
      ],
      "text/plain": [
       "[1] 0.2"
      ]
     },
     "metadata": {},
     "output_type": "display_data"
    },
    {
     "data": {
      "text/html": [
       "0.5"
      ],
      "text/latex": [
       "0.5"
      ],
      "text/markdown": [
       "0.5"
      ],
      "text/plain": [
       "[1] 0.5"
      ]
     },
     "metadata": {},
     "output_type": "display_data"
    }
   ],
   "source": [
    "#Eventos\n",
    "E <- subset(S, X1 == X2)\n",
    "F <- subset(S, X1 + X2 >= 8)\n",
    "Prob(E, given = F) #también podría haberse calculado: Prob(S, X1==X2, given = (X1 + X2 >= 8))\n",
    "                   #si se hace referencia al mismo S\n",
    "Prob(F, given = E) #también podría haberse calculado: Prob(S, X1+X2 >= 8, given = (X1==X2))\n",
    "                   #si se hace referencia al mismo S"
   ]
  },
  {
   "cell_type": "markdown",
   "metadata": {},
   "source": [
    "## Propiedades y reglas"
   ]
  },
  {
   "cell_type": "markdown",
   "metadata": {},
   "source": [
    "Las probabilidades condicionales se comportan como probabilidades sin condicionar:\n",
    "\n",
    "Para cualquier evento $E$ fijo con $P(E)>0$ se tiene:\n",
    "\n",
    "1) $P(F|E) \\geq 0$, para todos los eventos $F \\in S$.\n",
    "\n",
    "2) $P(S|E) = 1$.\n",
    "\n",
    "3) Si los eventos $F_1, F_2, F_3, \\dots $ son ajenos entonces:\n",
    "\n",
    "$P(\\displaystyle \\cup_{i=1}^n F_i | E ) =  \\sum_{i=1}^nP(F_i | E)$ para toda $n$ y aún más: $P(\\displaystyle \\cup_{i=1}^\\infty F_i| E ) = \\sum_{i=1}^\\infty P(F_i|E)$"
   ]
  },
  {
   "cell_type": "markdown",
   "metadata": {},
   "source": [
    "Y se tienen las siguientes propiedades:\n",
    "\n",
    "1)  $P(F^c | E) = 1-P(F|E)$.\n",
    "\n",
    "2) Si $F \\subset G$ entonces $P(F|E) \\leq P(G|E)$.\n",
    "\n",
    "3) $P(F \\cup G|E) = P(F|E) + P(G|E) - P(F \\cap G|E)$ \n",
    "\n",
    "4) La **regla de la multiplicación** para cualquier par de eventos $E, F$: $P(E \\cap F) = P(E|F)P(F) = P(F|E)P(E)$ y en general: $P(\\displaystyle \\cap_{i=1}^n E_i) = P(E_1)P(E_2|E_1)P(E_3|E_1 \\cap E_2) \\cdots P(E_n |\\displaystyle \\cap_{i=1}^{n-1} E_i)$"
   ]
  },
  {
   "cell_type": "markdown",
   "metadata": {},
   "source": [
    "### Ejemplos de la regla de la multiplicación"
   ]
  },
  {
   "cell_type": "markdown",
   "metadata": {},
   "source": [
    "\n",
    "1)**Problema:** calcular la probabilidad de extraer $2$ aces de una baraja.\n",
    "\n",
    "**Solución:**\n",
    "\n",
    "Si $E=${extraer un as} y $F=${extraer un as} entonces $P(E\\cap F)=P(E|F)P(F) = \\frac{3}{51} \\cdot \\frac{4}{52}  \\approx 0.00452$"
   ]
  },
  {
   "cell_type": "markdown",
   "metadata": {},
   "source": [
    "#### En R ..."
   ]
  },
  {
   "cell_type": "code",
   "execution_count": 11,
   "metadata": {},
   "outputs": [
    {
     "data": {
      "text/html": [
       "<table>\n",
       "<caption>A data.frame: 6 x 2</caption>\n",
       "<thead>\n",
       "\t<tr><th scope=col>rank</th><th scope=col>suit</th></tr>\n",
       "\t<tr><th scope=col>&lt;fct&gt;</th><th scope=col>&lt;fct&gt;</th></tr>\n",
       "</thead>\n",
       "<tbody>\n",
       "\t<tr><td>2</td><td>Club</td></tr>\n",
       "\t<tr><td>3</td><td>Club</td></tr>\n",
       "\t<tr><td>4</td><td>Club</td></tr>\n",
       "\t<tr><td>5</td><td>Club</td></tr>\n",
       "\t<tr><td>6</td><td>Club</td></tr>\n",
       "\t<tr><td>7</td><td>Club</td></tr>\n",
       "</tbody>\n",
       "</table>\n"
      ],
      "text/latex": [
       "A data.frame: 6 x 2\n",
       "\\begin{tabular}{r|ll}\n",
       " rank & suit\\\\\n",
       " <fct> & <fct>\\\\\n",
       "\\hline\n",
       "\t 2 & Club\\\\\n",
       "\t 3 & Club\\\\\n",
       "\t 4 & Club\\\\\n",
       "\t 5 & Club\\\\\n",
       "\t 6 & Club\\\\\n",
       "\t 7 & Club\\\\\n",
       "\\end{tabular}\n"
      ],
      "text/markdown": [
       "\n",
       "A data.frame: 6 x 2\n",
       "\n",
       "| rank &lt;fct&gt; | suit &lt;fct&gt; |\n",
       "|---|---|\n",
       "| 2 | Club |\n",
       "| 3 | Club |\n",
       "| 4 | Club |\n",
       "| 5 | Club |\n",
       "| 6 | Club |\n",
       "| 7 | Club |\n",
       "\n"
      ],
      "text/plain": [
       "  rank suit\n",
       "1 2    Club\n",
       "2 3    Club\n",
       "3 4    Club\n",
       "4 5    Club\n",
       "5 6    Club\n",
       "6 7    Club"
      ]
     },
     "metadata": {},
     "output_type": "display_data"
    }
   ],
   "source": [
    "L <- cards() #Es un dataframe\n",
    "head(L)"
   ]
  },
  {
   "cell_type": "code",
   "execution_count": 12,
   "metadata": {},
   "outputs": [],
   "source": [
    "M <- urnsamples(L, size = 2, replace=F, ordered = F) #extraer dos canicas\n",
    "                                                     #sin reemplazo y sin orden\n",
    "N <- probspace(M) #modelo equiprobable"
   ]
  },
  {
   "cell_type": "markdown",
   "metadata": {},
   "source": [
    "$M$ es una lista de una dimensión que contiene todas las combinaciones posibles de pares de renglones del data frame $L$. La cantidad de combinaciones de pares de renglones es $\\binom{52}{2}:$"
   ]
  },
  {
   "cell_type": "code",
   "execution_count": 13,
   "metadata": {},
   "outputs": [
    {
     "data": {
      "text/html": [
       "1"
      ],
      "text/latex": [
       "1"
      ],
      "text/markdown": [
       "1"
      ],
      "text/plain": [
       "[1] 1"
      ]
     },
     "metadata": {},
     "output_type": "display_data"
    }
   ],
   "source": [
    "NCOL(M)"
   ]
  },
  {
   "cell_type": "code",
   "execution_count": 14,
   "metadata": {},
   "outputs": [
    {
     "data": {
      "text/html": [
       "1326"
      ],
      "text/latex": [
       "1326"
      ],
      "text/markdown": [
       "1326"
      ],
      "text/plain": [
       "[1] 1326"
      ]
     },
     "metadata": {},
     "output_type": "display_data"
    }
   ],
   "source": [
    "NROW(M)"
   ]
  },
  {
   "cell_type": "code",
   "execution_count": 15,
   "metadata": {},
   "outputs": [
    {
     "data": {
      "text/html": [
       "1326"
      ],
      "text/latex": [
       "1326"
      ],
      "text/markdown": [
       "1326"
      ],
      "text/plain": [
       "[1] 1326"
      ]
     },
     "metadata": {},
     "output_type": "display_data"
    }
   ],
   "source": [
    "choose(52,2)"
   ]
  },
  {
   "cell_type": "code",
   "execution_count": 16,
   "metadata": {},
   "outputs": [
    {
     "data": {
      "text/html": [
       "<ol>\n",
       "\t<li><table>\n",
       "<caption>A data.frame: 2 x 2</caption>\n",
       "<thead>\n",
       "\t<tr><th scope=col>rank</th><th scope=col>suit</th></tr>\n",
       "\t<tr><th scope=col>&lt;fct&gt;</th><th scope=col>&lt;fct&gt;</th></tr>\n",
       "</thead>\n",
       "<tbody>\n",
       "\t<tr><td>2</td><td>Club</td></tr>\n",
       "\t<tr><td>3</td><td>Club</td></tr>\n",
       "</tbody>\n",
       "</table>\n",
       "</li>\n",
       "\t<li><table>\n",
       "<caption>A data.frame: 2 x 2</caption>\n",
       "<thead>\n",
       "\t<tr><th></th><th scope=col>rank</th><th scope=col>suit</th></tr>\n",
       "\t<tr><th></th><th scope=col>&lt;fct&gt;</th><th scope=col>&lt;fct&gt;</th></tr>\n",
       "</thead>\n",
       "<tbody>\n",
       "\t<tr><th scope=row>1</th><td>2</td><td>Club</td></tr>\n",
       "\t<tr><th scope=row>3</th><td>4</td><td>Club</td></tr>\n",
       "</tbody>\n",
       "</table>\n",
       "</li>\n",
       "\t<li><table>\n",
       "<caption>A data.frame: 2 x 2</caption>\n",
       "<thead>\n",
       "\t<tr><th></th><th scope=col>rank</th><th scope=col>suit</th></tr>\n",
       "\t<tr><th></th><th scope=col>&lt;fct&gt;</th><th scope=col>&lt;fct&gt;</th></tr>\n",
       "</thead>\n",
       "<tbody>\n",
       "\t<tr><th scope=row>1</th><td>2</td><td>Club</td></tr>\n",
       "\t<tr><th scope=row>4</th><td>5</td><td>Club</td></tr>\n",
       "</tbody>\n",
       "</table>\n",
       "</li>\n",
       "\t<li><table>\n",
       "<caption>A data.frame: 2 x 2</caption>\n",
       "<thead>\n",
       "\t<tr><th></th><th scope=col>rank</th><th scope=col>suit</th></tr>\n",
       "\t<tr><th></th><th scope=col>&lt;fct&gt;</th><th scope=col>&lt;fct&gt;</th></tr>\n",
       "</thead>\n",
       "<tbody>\n",
       "\t<tr><th scope=row>1</th><td>2</td><td>Club</td></tr>\n",
       "\t<tr><th scope=row>5</th><td>6</td><td>Club</td></tr>\n",
       "</tbody>\n",
       "</table>\n",
       "</li>\n",
       "\t<li><table>\n",
       "<caption>A data.frame: 2 x 2</caption>\n",
       "<thead>\n",
       "\t<tr><th></th><th scope=col>rank</th><th scope=col>suit</th></tr>\n",
       "\t<tr><th></th><th scope=col>&lt;fct&gt;</th><th scope=col>&lt;fct&gt;</th></tr>\n",
       "</thead>\n",
       "<tbody>\n",
       "\t<tr><th scope=row>1</th><td>2</td><td>Club</td></tr>\n",
       "\t<tr><th scope=row>6</th><td>7</td><td>Club</td></tr>\n",
       "</tbody>\n",
       "</table>\n",
       "</li>\n",
       "\t<li><table>\n",
       "<caption>A data.frame: 2 x 2</caption>\n",
       "<thead>\n",
       "\t<tr><th></th><th scope=col>rank</th><th scope=col>suit</th></tr>\n",
       "\t<tr><th></th><th scope=col>&lt;fct&gt;</th><th scope=col>&lt;fct&gt;</th></tr>\n",
       "</thead>\n",
       "<tbody>\n",
       "\t<tr><th scope=row>1</th><td>2</td><td>Club</td></tr>\n",
       "\t<tr><th scope=row>7</th><td>8</td><td>Club</td></tr>\n",
       "</tbody>\n",
       "</table>\n",
       "</li>\n",
       "</ol>\n"
      ],
      "text/latex": [
       "\\begin{enumerate}\n",
       "\\item A data.frame: 2 x 2\n",
       "\\begin{tabular}{r|ll}\n",
       " rank & suit\\\\\n",
       " <fct> & <fct>\\\\\n",
       "\\hline\n",
       "\t 2 & Club\\\\\n",
       "\t 3 & Club\\\\\n",
       "\\end{tabular}\n",
       "\n",
       "\\item A data.frame: 2 x 2\n",
       "\\begin{tabular}{r|ll}\n",
       "  & rank & suit\\\\\n",
       "  & <fct> & <fct>\\\\\n",
       "\\hline\n",
       "\t1 & 2 & Club\\\\\n",
       "\t3 & 4 & Club\\\\\n",
       "\\end{tabular}\n",
       "\n",
       "\\item A data.frame: 2 x 2\n",
       "\\begin{tabular}{r|ll}\n",
       "  & rank & suit\\\\\n",
       "  & <fct> & <fct>\\\\\n",
       "\\hline\n",
       "\t1 & 2 & Club\\\\\n",
       "\t4 & 5 & Club\\\\\n",
       "\\end{tabular}\n",
       "\n",
       "\\item A data.frame: 2 x 2\n",
       "\\begin{tabular}{r|ll}\n",
       "  & rank & suit\\\\\n",
       "  & <fct> & <fct>\\\\\n",
       "\\hline\n",
       "\t1 & 2 & Club\\\\\n",
       "\t5 & 6 & Club\\\\\n",
       "\\end{tabular}\n",
       "\n",
       "\\item A data.frame: 2 x 2\n",
       "\\begin{tabular}{r|ll}\n",
       "  & rank & suit\\\\\n",
       "  & <fct> & <fct>\\\\\n",
       "\\hline\n",
       "\t1 & 2 & Club\\\\\n",
       "\t6 & 7 & Club\\\\\n",
       "\\end{tabular}\n",
       "\n",
       "\\item A data.frame: 2 x 2\n",
       "\\begin{tabular}{r|ll}\n",
       "  & rank & suit\\\\\n",
       "  & <fct> & <fct>\\\\\n",
       "\\hline\n",
       "\t1 & 2 & Club\\\\\n",
       "\t7 & 8 & Club\\\\\n",
       "\\end{tabular}\n",
       "\n",
       "\\end{enumerate}\n"
      ],
      "text/markdown": [
       "1. \n",
       "A data.frame: 2 x 2\n",
       "\n",
       "| rank &lt;fct&gt; | suit &lt;fct&gt; |\n",
       "|---|---|\n",
       "| 2 | Club |\n",
       "| 3 | Club |\n",
       "\n",
       "\n",
       "2. \n",
       "A data.frame: 2 x 2\n",
       "\n",
       "| <!--/--> | rank &lt;fct&gt; | suit &lt;fct&gt; |\n",
       "|---|---|---|\n",
       "| 1 | 2 | Club |\n",
       "| 3 | 4 | Club |\n",
       "\n",
       "\n",
       "3. \n",
       "A data.frame: 2 x 2\n",
       "\n",
       "| <!--/--> | rank &lt;fct&gt; | suit &lt;fct&gt; |\n",
       "|---|---|---|\n",
       "| 1 | 2 | Club |\n",
       "| 4 | 5 | Club |\n",
       "\n",
       "\n",
       "4. \n",
       "A data.frame: 2 x 2\n",
       "\n",
       "| <!--/--> | rank &lt;fct&gt; | suit &lt;fct&gt; |\n",
       "|---|---|---|\n",
       "| 1 | 2 | Club |\n",
       "| 5 | 6 | Club |\n",
       "\n",
       "\n",
       "5. \n",
       "A data.frame: 2 x 2\n",
       "\n",
       "| <!--/--> | rank &lt;fct&gt; | suit &lt;fct&gt; |\n",
       "|---|---|---|\n",
       "| 1 | 2 | Club |\n",
       "| 6 | 7 | Club |\n",
       "\n",
       "\n",
       "6. \n",
       "A data.frame: 2 x 2\n",
       "\n",
       "| <!--/--> | rank &lt;fct&gt; | suit &lt;fct&gt; |\n",
       "|---|---|---|\n",
       "| 1 | 2 | Club |\n",
       "| 7 | 8 | Club |\n",
       "\n",
       "\n",
       "\n",
       "\n"
      ],
      "text/plain": [
       "[[1]]\n",
       "  rank suit\n",
       "1    2 Club\n",
       "2    3 Club\n",
       "\n",
       "[[2]]\n",
       "  rank suit\n",
       "1    2 Club\n",
       "3    4 Club\n",
       "\n",
       "[[3]]\n",
       "  rank suit\n",
       "1    2 Club\n",
       "4    5 Club\n",
       "\n",
       "[[4]]\n",
       "  rank suit\n",
       "1    2 Club\n",
       "5    6 Club\n",
       "\n",
       "[[5]]\n",
       "  rank suit\n",
       "1    2 Club\n",
       "6    7 Club\n",
       "\n",
       "[[6]]\n",
       "  rank suit\n",
       "1    2 Club\n",
       "7    8 Club\n"
      ]
     },
     "metadata": {},
     "output_type": "display_data"
    }
   ],
   "source": [
    "head(M)"
   ]
  },
  {
   "cell_type": "markdown",
   "metadata": {},
   "source": [
    "$N$ es una lista de dimensión igual a dos, se utiliza `attributes` para revisar sus `names`: "
   ]
  },
  {
   "cell_type": "code",
   "execution_count": 17,
   "metadata": {},
   "outputs": [
    {
     "name": "stdout",
     "output_type": "stream",
     "text": [
      "$names\n",
      "[1] \"outcomes\" \"probs\"   \n",
      "\n",
      "$class\n",
      "[1] \"ps\"   \"list\"\n",
      "\n"
     ]
    }
   ],
   "source": [
    "print(attributes(N))"
   ]
  },
  {
   "cell_type": "code",
   "execution_count": 18,
   "metadata": {},
   "outputs": [
    {
     "name": "stdout",
     "output_type": "stream",
     "text": [
      "[1] \"outcomes\" \"probs\"   \n"
     ]
    }
   ],
   "source": [
    "print(attributes(N)$names) #dos dimensiones"
   ]
  },
  {
   "cell_type": "markdown",
   "metadata": {},
   "source": [
    "En la primer dimensión tiene $\\binom{52}{2} = 1326$ data frames y cada data frame tiene 2 renglones:"
   ]
  },
  {
   "cell_type": "code",
   "execution_count": 19,
   "metadata": {},
   "outputs": [
    {
     "data": {
      "text/html": [
       "1326"
      ],
      "text/latex": [
       "1326"
      ],
      "text/markdown": [
       "1326"
      ],
      "text/plain": [
       "[1] 1326"
      ]
     },
     "metadata": {},
     "output_type": "display_data"
    }
   ],
   "source": [
    "length(N$outcomes)"
   ]
  },
  {
   "cell_type": "code",
   "execution_count": 20,
   "metadata": {},
   "outputs": [
    {
     "data": {
      "text/html": [
       "<ol>\n",
       "\t<li><table>\n",
       "<caption>A data.frame: 2 x 2</caption>\n",
       "<thead>\n",
       "\t<tr><th scope=col>rank</th><th scope=col>suit</th></tr>\n",
       "\t<tr><th scope=col>&lt;fct&gt;</th><th scope=col>&lt;fct&gt;</th></tr>\n",
       "</thead>\n",
       "<tbody>\n",
       "\t<tr><td>2</td><td>Club</td></tr>\n",
       "\t<tr><td>3</td><td>Club</td></tr>\n",
       "</tbody>\n",
       "</table>\n",
       "</li>\n",
       "</ol>\n"
      ],
      "text/latex": [
       "\\begin{enumerate}\n",
       "\\item A data.frame: 2 x 2\n",
       "\\begin{tabular}{r|ll}\n",
       " rank & suit\\\\\n",
       " <fct> & <fct>\\\\\n",
       "\\hline\n",
       "\t 2 & Club\\\\\n",
       "\t 3 & Club\\\\\n",
       "\\end{tabular}\n",
       "\n",
       "\\end{enumerate}\n"
      ],
      "text/markdown": [
       "1. \n",
       "A data.frame: 2 x 2\n",
       "\n",
       "| rank &lt;fct&gt; | suit &lt;fct&gt; |\n",
       "|---|---|\n",
       "| 2 | Club |\n",
       "| 3 | Club |\n",
       "\n",
       "\n",
       "\n",
       "\n"
      ],
      "text/plain": [
       "[[1]]\n",
       "  rank suit\n",
       "1    2 Club\n",
       "2    3 Club\n"
      ]
     },
     "metadata": {},
     "output_type": "display_data"
    }
   ],
   "source": [
    "N$outcomes[1]"
   ]
  },
  {
   "cell_type": "code",
   "execution_count": 21,
   "metadata": {},
   "outputs": [
    {
     "data": {
      "text/html": [
       "<ol>\n",
       "\t<li><table>\n",
       "<caption>A data.frame: 2 x 2</caption>\n",
       "<thead>\n",
       "\t<tr><th></th><th scope=col>rank</th><th scope=col>suit</th></tr>\n",
       "\t<tr><th></th><th scope=col>&lt;fct&gt;</th><th scope=col>&lt;fct&gt;</th></tr>\n",
       "</thead>\n",
       "<tbody>\n",
       "\t<tr><th scope=row>2</th><td>3</td><td>Club </td></tr>\n",
       "\t<tr><th scope=row>51</th><td>K</td><td>Spade</td></tr>\n",
       "</tbody>\n",
       "</table>\n",
       "</li>\n",
       "</ol>\n"
      ],
      "text/latex": [
       "\\begin{enumerate}\n",
       "\\item A data.frame: 2 x 2\n",
       "\\begin{tabular}{r|ll}\n",
       "  & rank & suit\\\\\n",
       "  & <fct> & <fct>\\\\\n",
       "\\hline\n",
       "\t2 & 3 & Club \\\\\n",
       "\t51 & K & Spade\\\\\n",
       "\\end{tabular}\n",
       "\n",
       "\\end{enumerate}\n"
      ],
      "text/markdown": [
       "1. \n",
       "A data.frame: 2 x 2\n",
       "\n",
       "| <!--/--> | rank &lt;fct&gt; | suit &lt;fct&gt; |\n",
       "|---|---|---|\n",
       "| 2 | 3 | Club  |\n",
       "| 51 | K | Spade |\n",
       "\n",
       "\n",
       "\n",
       "\n"
      ],
      "text/plain": [
       "[[1]]\n",
       "   rank  suit\n",
       "2     3  Club\n",
       "51    K Spade\n"
      ]
     },
     "metadata": {},
     "output_type": "display_data"
    }
   ],
   "source": [
    "N$outcomes[100]"
   ]
  },
  {
   "cell_type": "markdown",
   "metadata": {},
   "source": [
    "Cada renglón representa el par de cartas elegidas."
   ]
  },
  {
   "cell_type": "markdown",
   "metadata": {},
   "source": [
    "La segunda dimensión tiene $\\binom{52}{2} = 1326$ probabilidades:"
   ]
  },
  {
   "cell_type": "code",
   "execution_count": 22,
   "metadata": {},
   "outputs": [
    {
     "data": {
      "text/html": [
       "1326"
      ],
      "text/latex": [
       "1326"
      ],
      "text/markdown": [
       "1326"
      ],
      "text/plain": [
       "[1] 1326"
      ]
     },
     "metadata": {},
     "output_type": "display_data"
    }
   ],
   "source": [
    "length(N$probs)"
   ]
  },
  {
   "cell_type": "markdown",
   "metadata": {},
   "source": [
    "cada probabilidad igual a $\\frac{1}{\\binom{52}{2}}$ que es la probabilidad de extraer dos cartas cualesquiera."
   ]
  },
  {
   "cell_type": "code",
   "execution_count": 23,
   "metadata": {},
   "outputs": [
    {
     "data": {
      "text/html": [
       "0.000754147812971342"
      ],
      "text/latex": [
       "0.000754147812971342"
      ],
      "text/markdown": [
       "0.000754147812971342"
      ],
      "text/plain": [
       "[1] 0.0007541478"
      ]
     },
     "metadata": {},
     "output_type": "display_data"
    }
   ],
   "source": [
    "N$probs[1]"
   ]
  },
  {
   "cell_type": "code",
   "execution_count": 24,
   "metadata": {},
   "outputs": [
    {
     "data": {
      "text/html": [
       "0.000754147812971342"
      ],
      "text/latex": [
       "0.000754147812971342"
      ],
      "text/markdown": [
       "0.000754147812971342"
      ],
      "text/plain": [
       "[1] 0.0007541478"
      ]
     },
     "metadata": {},
     "output_type": "display_data"
    }
   ],
   "source": [
    "N$probs[100]"
   ]
  },
  {
   "cell_type": "code",
   "execution_count": 25,
   "metadata": {},
   "outputs": [
    {
     "data": {
      "text/html": [
       "0.000754147812971342"
      ],
      "text/latex": [
       "0.000754147812971342"
      ],
      "text/markdown": [
       "0.000754147812971342"
      ],
      "text/plain": [
       "[1] 0.0007541478"
      ]
     },
     "metadata": {},
     "output_type": "display_data"
    }
   ],
   "source": [
    "1/choose(52,2)"
   ]
  },
  {
   "cell_type": "markdown",
   "metadata": {},
   "source": [
    "Y la probabilidad deseada: $P(E\\cap F) = P(${extraer dos aces}$)$ es:"
   ]
  },
  {
   "cell_type": "code",
   "execution_count": 26,
   "metadata": {},
   "outputs": [
    {
     "data": {
      "text/html": [
       "0.00452488687782805"
      ],
      "text/latex": [
       "0.00452488687782805"
      ],
      "text/markdown": [
       "0.00452488687782805"
      ],
      "text/plain": [
       "[1] 0.004524887"
      ]
     },
     "metadata": {},
     "output_type": "display_data"
    }
   ],
   "source": [
    "Prob(N, all(rank == 'A')) #Prob asume modelo equiprobable\n",
    "                          # el evento es all(rank == 'A') y como son dos cartas extraídas, \n",
    "                          #entonces ambas deben ser iguales a A"
   ]
  },
  {
   "cell_type": "markdown",
   "metadata": {},
   "source": [
    "2) **Problema:** considérese una urna con $10$ canicas: $7$ son rojas y $3$ son verdes y se seleccionan $3$ canicas. Sea $E=${primer canica es roja}, $F=${segunda canica es roja} y $G=${tercera canica es roja}. Calcular $P(E \\cap F \\cap G)$."
   ]
  },
  {
   "cell_type": "markdown",
   "metadata": {},
   "source": [
    "**Solución:**\n",
    "\n",
    "$P(E\\cap F\\cap G) = \\frac{\\binom{7}{3}}{\\binom{10}{3}}$"
   ]
  },
  {
   "cell_type": "code",
   "execution_count": 27,
   "metadata": {},
   "outputs": [
    {
     "data": {
      "text/html": [
       "0.291666666666667"
      ],
      "text/latex": [
       "0.291666666666667"
      ],
      "text/markdown": [
       "0.291666666666667"
      ],
      "text/plain": [
       "[1] 0.2916667"
      ]
     },
     "metadata": {},
     "output_type": "display_data"
    }
   ],
   "source": [
    "choose(7,3)/choose(10,3)"
   ]
  },
  {
   "cell_type": "markdown",
   "metadata": {},
   "source": [
    "#### En R ..."
   ]
  },
  {
   "cell_type": "code",
   "execution_count": 28,
   "metadata": {},
   "outputs": [
    {
     "name": "stdout",
     "output_type": "stream",
     "text": [
      " [1] \"red\"   \"red\"   \"red\"   \"red\"   \"red\"   \"red\"   \"red\"   \"green\" \"green\"\n",
      "[10] \"green\"\n"
     ]
    }
   ],
   "source": [
    "L <- rep(c(\"red\",\"green\"), times = c(7,3)) #urna, es un vector\n",
    "print(L)"
   ]
  },
  {
   "cell_type": "code",
   "execution_count": 29,
   "metadata": {},
   "outputs": [],
   "source": [
    "M <- urnsamples(L, size = 3, replace = FALSE, ordered = TRUE) #data frame, espacio de resultados"
   ]
  },
  {
   "cell_type": "code",
   "execution_count": 30,
   "metadata": {},
   "outputs": [
    {
     "data": {
      "text/html": [
       "720"
      ],
      "text/latex": [
       "720"
      ],
      "text/markdown": [
       "720"
      ],
      "text/plain": [
       "[1] 720"
      ]
     },
     "metadata": {},
     "output_type": "display_data"
    }
   ],
   "source": [
    "NROW(M)"
   ]
  },
  {
   "cell_type": "code",
   "execution_count": 31,
   "metadata": {},
   "outputs": [
    {
     "data": {
      "text/html": [
       "3"
      ],
      "text/latex": [
       "3"
      ],
      "text/markdown": [
       "3"
      ],
      "text/plain": [
       "[1] 3"
      ]
     },
     "metadata": {},
     "output_type": "display_data"
    }
   ],
   "source": [
    "NCOL(M)"
   ]
  },
  {
   "cell_type": "code",
   "execution_count": 32,
   "metadata": {},
   "outputs": [
    {
     "data": {
      "text/html": [
       "<table>\n",
       "<caption>A data.frame: 6 x 3</caption>\n",
       "<thead>\n",
       "\t<tr><th></th><th scope=col>X1</th><th scope=col>X2</th><th scope=col>X3</th></tr>\n",
       "\t<tr><th></th><th scope=col>&lt;fct&gt;</th><th scope=col>&lt;fct&gt;</th><th scope=col>&lt;fct&gt;</th></tr>\n",
       "</thead>\n",
       "<tbody>\n",
       "\t<tr><th scope=row>35</th><td>red  </td><td>green</td><td>red  </td></tr>\n",
       "\t<tr><th scope=row>36</th><td>red  </td><td>red  </td><td>green</td></tr>\n",
       "\t<tr><th scope=row>37</th><td>red  </td><td>red  </td><td>green</td></tr>\n",
       "\t<tr><th scope=row>38</th><td>red  </td><td>green</td><td>red  </td></tr>\n",
       "\t<tr><th scope=row>39</th><td>green</td><td>red  </td><td>red  </td></tr>\n",
       "\t<tr><th scope=row>40</th><td>green</td><td>red  </td><td>red  </td></tr>\n",
       "</tbody>\n",
       "</table>\n"
      ],
      "text/latex": [
       "A data.frame: 6 x 3\n",
       "\\begin{tabular}{r|lll}\n",
       "  & X1 & X2 & X3\\\\\n",
       "  & <fct> & <fct> & <fct>\\\\\n",
       "\\hline\n",
       "\t35 & red   & green & red  \\\\\n",
       "\t36 & red   & red   & green\\\\\n",
       "\t37 & red   & red   & green\\\\\n",
       "\t38 & red   & green & red  \\\\\n",
       "\t39 & green & red   & red  \\\\\n",
       "\t40 & green & red   & red  \\\\\n",
       "\\end{tabular}\n"
      ],
      "text/markdown": [
       "\n",
       "A data.frame: 6 x 3\n",
       "\n",
       "| <!--/--> | X1 &lt;fct&gt; | X2 &lt;fct&gt; | X3 &lt;fct&gt; |\n",
       "|---|---|---|---|\n",
       "| 35 | red   | green | red   |\n",
       "| 36 | red   | red   | green |\n",
       "| 37 | red   | red   | green |\n",
       "| 38 | red   | green | red   |\n",
       "| 39 | green | red   | red   |\n",
       "| 40 | green | red   | red   |\n",
       "\n"
      ],
      "text/plain": [
       "   X1    X2    X3   \n",
       "35 red   green red  \n",
       "36 red   red   green\n",
       "37 red   red   green\n",
       "38 red   green red  \n",
       "39 green red   red  \n",
       "40 green red   red  "
      ]
     },
     "metadata": {},
     "output_type": "display_data"
    }
   ],
   "source": [
    "M[35:40,]"
   ]
  },
  {
   "cell_type": "code",
   "execution_count": 33,
   "metadata": {},
   "outputs": [],
   "source": [
    "N <- probspace(M) #a cada renglón de M (outcomes) se le asocia un vector de probabilidades\n",
    "                  #con lo que se tiene un data frame: N, que es un espacio de probabilidad\n",
    "                  #probspace usa modelo equiprobable"
   ]
  },
  {
   "cell_type": "code",
   "execution_count": 34,
   "metadata": {},
   "outputs": [
    {
     "data": {
      "text/html": [
       "720"
      ],
      "text/latex": [
       "720"
      ],
      "text/markdown": [
       "720"
      ],
      "text/plain": [
       "[1] 720"
      ]
     },
     "metadata": {},
     "output_type": "display_data"
    }
   ],
   "source": [
    "NROW(N)"
   ]
  },
  {
   "cell_type": "code",
   "execution_count": 35,
   "metadata": {},
   "outputs": [
    {
     "data": {
      "text/html": [
       "4"
      ],
      "text/latex": [
       "4"
      ],
      "text/markdown": [
       "4"
      ],
      "text/plain": [
       "[1] 4"
      ]
     },
     "metadata": {},
     "output_type": "display_data"
    }
   ],
   "source": [
    "NCOL(N)"
   ]
  },
  {
   "cell_type": "code",
   "execution_count": 36,
   "metadata": {},
   "outputs": [
    {
     "data": {
      "text/html": [
       "0.291666666666667"
      ],
      "text/latex": [
       "0.291666666666667"
      ],
      "text/markdown": [
       "0.291666666666667"
      ],
      "text/plain": [
       "[1] 0.2916667"
      ]
     },
     "metadata": {},
     "output_type": "display_data"
    }
   ],
   "source": [
    "Prob(N, isrep(N, vals='red', nrep=3))# equivalente hacer: \n",
    "                                     #Prob(N, X1 =='red'& X2 =='red' & X3 =='red')\n",
    "                                     #y se calculó: sum(N[with(N,isrep(N, 'red', 3)),]$probs)"
   ]
  },
  {
   "cell_type": "markdown",
   "metadata": {},
   "source": [
    "`isrep` es una función del paquete `prob`"
   ]
  },
  {
   "cell_type": "markdown",
   "metadata": {},
   "source": [
    "**Ejercicio: calcular la probabilidad de:**\n",
    "\n",
    "* extraer dos canicas rojas\n",
    "\n",
    "* extraer roja, verde, roja (en este orden)\n",
    "\n",
    "* extraer roja, verde, roja (no importa el orden)"
   ]
  },
  {
   "cell_type": "markdown",
   "metadata": {},
   "source": [
    "## Ejercicios\n",
    "\n",
    "1) Supongamos que en una muestra de 100 personas, 65 de ellas son vacunadas contra la influenza esta temporada de invierno. Cinco de las personas vacunadas contraen la enfermedad. De las 35 personas que no son vacunadas 25 caen enfermas. La siguiente tabla resume esta información:\n",
    "\n",
    "|----|enfermo|no enfermo|Total|\n",
    "|:---:|:---:|:---:|:---:|\n",
    "|vacunados|5|60|65|\n",
    "|no vacunados|25|10|35|\n",
    "|Total|30|70|100\n",
    "\n",
    "Calcular:\n",
    "\n",
    "a) $P(${vacunado}$)$, $P(${no vacunado}$)$, $P(${enfermo|vacunado}$)$, $P(${no enfermo|vacunado}$)$, $P(${enfermo|no vacunado}$)$, $P(${no enfermo|no vacunado}$)$ y $P(${vacunado y no enfermo}$)$. \n",
    "\n",
    "b)$P(${no vacunado y no enfermo}$)$, $P(${no enfermo}$)$\n",
    "\n",
    "c)$P(${vacunado} | {no enfermo}$)$.\n",
    "\n"
   ]
  },
  {
   "cell_type": "markdown",
   "metadata": {},
   "source": [
    "2) Considérese dos urnas, la primera tiene $5$ canicas rojas y $3$ canicas verdes y la segunda $2$ canicas rojas y $6$ verdes. Una persona selecciona una canica de la primer urna y la transfiere a la segunda urna sin mostrarte qué color fue. Seleccionas una canica de la segunda urna. ¿Cuál es la probabilidad que la canica que seleccionaste es roja?. Sugerencia: considérese los eventos: $E=${la canica que se lleva de la primer urna a la segunda urna es roja} y $F=${la canica seleccionada es roja} y condicionar sobre $E$, lo que se pide es $P(F)$."
   ]
  },
  {
   "cell_type": "markdown",
   "metadata": {},
   "source": [
    "3) Considérese la siguiente tabla:\n",
    "\n",
    "\n",
    "|Fuma/No Fuma|Femenino|Masculino|Suma\n",
    "|:----:|:----:|:----:|:----:|\n",
    "|No fuma|61|75|136\n",
    "|Fuma|9|23|32\n",
    "|Suma|70|98|168\n",
    "\n",
    "Calcular:\n",
    "\n",
    "a) $P(Femenino), P(Fuma)$.\n",
    "\n",
    "b) Supóngase que una persona deja de fumar pero no se sabe su género. Si se selecciona una persona no fumadora aleatoriamente, calcular $P(Femenino)$. Sugerencia: piénsese este problema como el de tener dos urnas, cada urna con canicas rojas y verdes como en el ejercicio anterior. La urna 1 y la urna 2 representan fumar y  no fumar respectivamente y las canicas rojas y verdes representan Femenino y Masculino respectivamente. Además, considérese los eventos: $E=${mujer deja de fumar} y usar la regla de probabilidad total condicionando sobre $E$."
   ]
  },
  {
   "cell_type": "code",
   "execution_count": null,
   "metadata": {},
   "outputs": [],
   "source": []
  }
 ],
 "metadata": {
  "kernelspec": {
   "display_name": "R",
   "language": "R",
   "name": "ir"
  },
  "language_info": {
   "codemirror_mode": "r",
   "file_extension": ".r",
   "mimetype": "text/x-r-source",
   "name": "R",
   "pygments_lexer": "r",
   "version": "3.6.0"
  }
 },
 "nbformat": 4,
 "nbformat_minor": 2
}
