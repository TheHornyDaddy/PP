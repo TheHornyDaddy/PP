{
 "cells": [
  {
   "cell_type": "markdown",
   "metadata": {},
   "source": [
    "# Revisar las siguientes referencias para graficar en el paquete base y ggplot2 de R"
   ]
  },
  {
   "cell_type": "markdown",
   "metadata": {},
   "source": [
    "## Github"
   ]
  },
  {
   "cell_type": "markdown",
   "metadata": {},
   "source": [
    "Descarguen vía github los archivos que están en las ligas:"
   ]
  },
  {
   "cell_type": "markdown",
   "metadata": {},
   "source": [
    "Alicia Mastretta:"
   ]
  },
  {
   "cell_type": "markdown",
   "metadata": {},
   "source": [
    "* https://github.com/AliciaMstt/BioinfinvRepro/blob/master/Unidad3/Graficar%20en%20R.Rmd\n",
    "\n",
    "* https://github.com/AliciaMstt/BioinfinvRepro/blob/master/Unidad3/Graficar_en_R.html\n"
   ]
  },
  {
   "cell_type": "markdown",
   "metadata": {},
   "source": [
    "Sonia Mendizábal:\n",
    "\n",
    "* https://github.com/Songeo/R_intro/tree/master/2_visualizacion"
   ]
  },
  {
   "cell_type": "markdown",
   "metadata": {},
   "source": [
    "**Nota:** el archivo con extensión `.Rmd` se abre en su `Rstudio` y el `.html` en su browser"
   ]
  },
  {
   "cell_type": "markdown",
   "metadata": {},
   "source": [
    "## Libros"
   ]
  },
  {
   "cell_type": "markdown",
   "metadata": {},
   "source": [
    "* M.D. Ugarte, A. F. Militino, A. T. Arnholt, \"Probability and Statistics with R\", **2ed** (que tiene github: [alanarnholt/PASWR2E-Book](https://github.com/alanarnholt/PASWR2E-Book)) capítulo 2 tiene ejemplos de ambos paquetes: `base` y `ggplot2` de R.\n",
    "\n",
    "* [R for Data Science](https://r4ds.had.co.nz/) por Hadley Wickham y Garret Grolemund.\n",
    "\n",
    "* [R Graphics Cookbook](http://www.cookbook-r.com/Graphs/) por Winston Chang.\n"
   ]
  },
  {
   "cell_type": "markdown",
   "metadata": {},
   "source": [
    "## Documentación"
   ]
  },
  {
   "cell_type": "markdown",
   "metadata": {},
   "source": [
    "* https://ggplot2.tidyverse.org/"
   ]
  }
 ],
 "metadata": {
  "kernelspec": {
   "display_name": "R",
   "language": "R",
   "name": "ir"
  },
  "language_info": {
   "codemirror_mode": "r",
   "file_extension": ".r",
   "mimetype": "text/x-r-source",
   "name": "R",
   "pygments_lexer": "r",
   "version": "3.6.0"
  }
 },
 "nbformat": 4,
 "nbformat_minor": 2
}
