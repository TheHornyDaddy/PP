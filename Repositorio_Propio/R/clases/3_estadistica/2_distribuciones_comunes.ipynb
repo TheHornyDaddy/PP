{
 "cells": [
  {
   "cell_type": "markdown",
   "metadata": {},
   "source": [
    "Lo siguiente está basado en los libros:\n",
    "\n",
    "* B. Rumbos, Pensando Antes de Actuar: Fundamentos de Elección Racional, 2009\n",
    "\n",
    "* G. J. Kerns, Introduction to Probability and Statistics Using R, 2014.\n",
    "\n",
    "El libro de G. J. Kerns tiene github: [jkerns/IPSUR](https://github.com/gjkerns/IPSUR)\n"
   ]
  },
  {
   "cell_type": "markdown",
   "metadata": {},
   "source": [
    "**Nota:**\n",
    "\n",
    "* En algunas líneas no es necesario colocar `print` y sólo se ha realizado para mostrar los resultados de las funciones en un formato similar al de R pues la nota se escribió con *jupyterlab* y *R*."
   ]
  },
  {
   "cell_type": "code",
   "execution_count": 1,
   "metadata": {},
   "outputs": [],
   "source": [
    "library(ggplot2)"
   ]
  },
  {
   "cell_type": "code",
   "execution_count": 2,
   "metadata": {},
   "outputs": [],
   "source": [
    "options(repr.plot.width=2.5, repr.plot.height=2.5) #esta línea sólo se ejecuta para jupyterlab con R"
   ]
  },
  {
   "cell_type": "markdown",
   "metadata": {},
   "source": [
    "# Motivación"
   ]
  },
  {
   "cell_type": "markdown",
   "metadata": {},
   "source": [
    "En el análisis estadístico de datos de poblaciones aparecen ciertas distribuciones con mucha frecuencia. En lo que continúa se estudiarán tres de las más comunes: la distribución uniforme (discreta y continua), que representa datos equiprobables, la distribución binomial y la distribución normal, que están íntimamente relacionadas y podemos pensar a la segunda (normal) como la versión continua de la primera (binomial). Ésta última es muy importante en la práctica y en la teoría."
   ]
  },
  {
   "cell_type": "markdown",
   "metadata": {},
   "source": [
    "Si $X$ es una variable aleatoria con función de distribución -o densidad en el caso continuo- $f$, entonces decimos que los datos representados por los valores que toma $X$ tienen una distribución dada por $f$."
   ]
  },
  {
   "cell_type": "markdown",
   "metadata": {},
   "source": [
    "## Caso discreto"
   ]
  },
  {
   "cell_type": "markdown",
   "metadata": {},
   "source": [
    "En el caso discreto, en el cual $X$ toma valores $x_1,x_2,\\dots,x_n$ (soporte de $X$, $S_X$), éstos representan datos con media: $$\\mu = E(X) = \\displaystyle \\sum_{i=1}^nx_if(x_i)$$"
   ]
  },
  {
   "cell_type": "markdown",
   "metadata": {},
   "source": [
    "en donde, recordemos que $f(x_i) = P(X = x_i)$ es la probabilidad de que $X$ tome el valor $X_i$. Asimismo, la varianza está dada por: $$\\sigma^2=E((X-\\mu)^2) = \\sum_{i=1}^n(x_i-\\mu)^2f(x_i)$$"
   ]
  },
  {
   "cell_type": "markdown",
   "metadata": {},
   "source": [
    "que es el valor esperado de las desviaciones -al cuadrado- alrededor de la media. Decimos que la distribución $f$ tiene media $\\mu$ y varianza $\\sigma^2$. Claramente la desviación estándar es simplemente $\\sigma = \\sqrt{\\sigma^2}$.\n",
    "\n",
    "**Obs:**\n",
    "\n",
    "* La varianza puede ser calculada con la fórmula: $\\sigma^2 = E(X^2)-(E(X))^2$."
   ]
  },
  {
   "cell_type": "markdown",
   "metadata": {},
   "source": [
    "## Caso continuo"
   ]
  },
  {
   "cell_type": "markdown",
   "metadata": {},
   "source": [
    "En el caso continuo, en el cual $X$ toma valores en un intervalo de la forma $[a,b]$ o $(a,b)$ (soporte de $X$, $S_X$) o uniones de estos intervalos, éstos representan datos con media: $$\\mu=E(X)=\\displaystyle \\int_{X \\in S}xf(x)dx.$$"
   ]
  },
  {
   "cell_type": "markdown",
   "metadata": {},
   "source": [
    "si $\\displaystyle \\int_{X \\in S}|x|f(x)dx < \\infty$ (es finita)."
   ]
  },
  {
   "cell_type": "markdown",
   "metadata": {},
   "source": [
    "Asimismo, la varianza está dada por: $$\\sigma^2=E((X-\\mu)^2) = \\int_{X \\in S}(x-\\mu)^2f(x)dx,$$"
   ]
  },
  {
   "cell_type": "markdown",
   "metadata": {},
   "source": [
    "y la desviación estándar es: $\\sigma = \\sqrt{\\sigma^2}$."
   ]
  },
  {
   "cell_type": "markdown",
   "metadata": {},
   "source": [
    "# Uniforme"
   ]
  },
  {
   "cell_type": "markdown",
   "metadata": {},
   "source": [
    "Cuando los datos de un conjunto **ocurren, cada uno con la misma frecuencia**, decimos que están uniformemente distribuidos. Éste es el caso de la distribución de probabilidad determinada por una **variable aleatoria sobre un espacio muestral de datos equiprobables**. Por ejemplo, los que resultan de lanzar una moneda, lanzar un dado, girar una ruleta o bien, elegir un número al azar en el intervalo $[0, 1]$. La distribución que resulta, ya sea en el caso discreto o continuo, se conoce como distribución uniforme."
   ]
  },
  {
   "cell_type": "markdown",
   "metadata": {},
   "source": [
    "## Su distribución de probabilidad: caso discreto"
   ]
  },
  {
   "cell_type": "markdown",
   "metadata": {},
   "source": [
    "En el caso discreto, dada una variable aleatoria $X$ que toma valores $\\{1, 2, \\dots , n\\}$, cada uno con probabilidad $\\frac{1}{n}$ , la distribución de probabilidad queda dada por: $$f(i) = P(X=i)= \\frac{1}{n} \\forall i=1,2,\\dots,n.$$"
   ]
  },
  {
   "cell_type": "markdown",
   "metadata": {},
   "source": [
    "### Su gráfica"
   ]
  },
  {
   "cell_type": "code",
   "execution_count": 3,
   "metadata": {},
   "outputs": [
    {
     "data": {
      "image/png": "[encoded data removed]",
      "text/plain": [
       "plot without title"
      ]
     },
     "metadata": {},
     "output_type": "display_data"
    }
   ],
   "source": [
    "n<-10\n",
    "valores<-1:n\n",
    "probabilidad<-.7\n",
    "qplot(valores,probabilidad,main='Uniforme discreta') #qplot es quick plot"
   ]
  },
  {
   "cell_type": "markdown",
   "metadata": {},
   "source": [
    "**Propiedades:**\n",
    "\n",
    "* $\\mu = \\displaystyle \\sum_{i=1}^ni\\frac{1}{n} = \\frac{n+1}{2}$.\n",
    "\n",
    "* $\\sigma = \\sqrt{\\displaystyle \\sum_{i=1}^n(i-\\mu)^2\\frac{1}{n}} = \\sqrt{\\frac{n^2-1}{12}}$."
   ]
  },
  {
   "cell_type": "markdown",
   "metadata": {},
   "source": [
    "## Su función de densidad: caso continuo"
   ]
  },
  {
   "cell_type": "markdown",
   "metadata": {},
   "source": [
    "Para el caso continuo, considérese el caso de elegir un número al azar en el intervalo $[a,b]$ de la recta numérica. Sea $X$ la variable aleatoria asociada que toma cada uno de los valores del intervalo. La densidad de probabilidad correspondiente debe ser tal que el área bajo la gráfica sea la unidad y dados números $c$ y $d$ en el intervalo $[a, b]$, con $c < d$, la probabilidad: $$P(c < X < d) = \\frac{d-c}{b-a}$$ es el área por debajo de la gráfica entre $c$ y $d$. "
   ]
  },
  {
   "cell_type": "markdown",
   "metadata": {},
   "source": [
    "Podemos definir esta función de densidad como: $$f(x) = \\begin{cases}\n",
    "\\frac{1}{n} & \\text{si } a \\leq x \\leq b,\\\\\n",
    "0 & \\text{en otro caso}\n",
    "\\end{cases}$$"
   ]
  },
  {
   "cell_type": "markdown",
   "metadata": {},
   "source": [
    "La media y varianza están dadas por: $$\\mu=\\frac{a+b}{2},$$"
   ]
  },
  {
   "cell_type": "markdown",
   "metadata": {},
   "source": [
    "$$\\sigma^2=\\frac{(b-a)^2}{12}.$$"
   ]
  },
  {
   "cell_type": "markdown",
   "metadata": {},
   "source": [
    "### Su gráfica"
   ]
  },
  {
   "cell_type": "code",
   "execution_count": 4,
   "metadata": {},
   "outputs": [],
   "source": [
    "set.seed(2000)\n",
    "n_runif<-500 #cantidad de números que queremos\n",
    "a<- -2 #extremo izquierdo del intervalo\n",
    "b<-3 #extremo derecho del intervalo\n",
    "vec<-seq(a,b,by=.01)\n",
    "y<-dunif(vec,a,b) #evaluamos vec en la función de densidad en vec\n",
    "                  #esta evaluación es igual a 1/(b-a)\n",
    "df <- data.frame(valores=vec,probabilidad=y)\n",
    "gf<-ggplot(df, aes(x=vec,y=probabilidad))"
   ]
  },
  {
   "cell_type": "code",
   "execution_count": 5,
   "metadata": {},
   "outputs": [
    {
     "data": {
      "image/png": "[encoded data removed]",
      "text/plain": [
       "plot without title"
      ]
     },
     "metadata": {},
     "output_type": "display_data"
    }
   ],
   "source": [
    "gf + geom_point(size=.1) + ylim(0, 1/(b-a)+.3)+\n",
    "ggtitle('Uniforme continua')+\n",
    "xlab('runif')"
   ]
  },
  {
   "cell_type": "markdown",
   "metadata": {},
   "source": [
    "El área debajo de la curva es: $$(b-a)\\frac{1}{b-a} = 1.$$"
   ]
  },
  {
   "cell_type": "markdown",
   "metadata": {},
   "source": [
    "Y la probabilidad de que $X$ esté entre $0$ y $2$ es el área formada en el rectángulo:"
   ]
  },
  {
   "cell_type": "code",
   "execution_count": 6,
   "metadata": {},
   "outputs": [
    {
     "data": {
      "image/png": "[encoded data removed]",
      "text/plain": [
       "plot without title"
      ]
     },
     "metadata": {},
     "output_type": "display_data"
    }
   ],
   "source": [
    "gf + geom_point(size=.1) + ylim(0, 1/(b-a)+.3) +\n",
    "geom_segment(aes(x = 0, y = 0, xend = 0, yend = 1/(b-a))) +\n",
    "geom_segment(aes(x = 2, y = 0, xend = 2, yend = 1/(b-a))) +\n",
    "xlab('runif')"
   ]
  },
  {
   "cell_type": "markdown",
   "metadata": {},
   "source": [
    "## Ejemplos"
   ]
  },
  {
   "cell_type": "markdown",
   "metadata": {},
   "source": [
    "1) Sea $X$ la variable aleatoria uniforme que representa el resultado observado al lanzar un dado. La probabilidad de observar del número $3$ en adelante es de: $$P(X\\geq 3) = \\displaystyle \\sum_{i=3}^6P(X=i)=\\sum_{i=3}^6\\frac{1}{6}=\\frac{4}{6}=\\frac{2}{3}.$$"
   ]
  },
  {
   "cell_type": "markdown",
   "metadata": {},
   "source": [
    "El lanzamiento medio es de: $$\\mu = \\displaystyle \\sum_{i=1}^6 i\\frac{1}{6} = \\frac{1+6}{2} = \\frac{7}{2} $$"
   ]
  },
  {
   "cell_type": "markdown",
   "metadata": {},
   "source": [
    "con desviación estándar:"
   ]
  },
  {
   "cell_type": "markdown",
   "metadata": {},
   "source": [
    "$$\\sigma = \\sqrt{\\frac{(6-1)^2}{12}} \\approx 1.4.$$"
   ]
  },
  {
   "cell_type": "markdown",
   "metadata": {},
   "source": [
    "2) Sea $X$ el tiempo de espera (en minutos) en un consultorio dental y supongamos que éste sigue una distribución uniforme descrita por la función de densidad, $$f(x) = \\begin{cases}\n",
    "\\frac{1}{90} & \\text{si } 0 \\leq x \\leq 90,\\\\\n",
    "0 & \\text{en otro caso}\n",
    "\\end{cases}$$"
   ]
  },
  {
   "cell_type": "markdown",
   "metadata": {},
   "source": [
    "La probabilidad de que un paciente espere entre $15$ y $45$ minutos está dada por: $$P(15 < X < 45) = \\frac{45-15}{90-0} = \\frac{1}{3}.$$"
   ]
  },
  {
   "cell_type": "markdown",
   "metadata": {},
   "source": [
    "**en R ...**"
   ]
  },
  {
   "cell_type": "markdown",
   "metadata": {},
   "source": [
    "Obsérvese que:"
   ]
  },
  {
   "cell_type": "markdown",
   "metadata": {},
   "source": [
    "$$P(15 < X < 45) = 1 - P((15 < X < 45)^c) = 1 - P( (15 < X)^c \\cup (X <45)^c)=$$"
   ]
  },
  {
   "cell_type": "markdown",
   "metadata": {},
   "source": [
    "$$1 - P( X \\leq 15 \\cup 45 \\leq X) = 1 - (P(X \\leq 15) + P( 45 \\leq X))$$"
   ]
  },
  {
   "cell_type": "markdown",
   "metadata": {},
   "source": [
    "y la función `punif` nos calcula $P(X \\leq 15)$ y si la volvemos a usar pero con el argumento `lower.tail=F` nos calcula $P(45 < X)$ que sí nos sirve pues como $X$ es **continua**: $P(X=45)=0$ (esto último no es igual para las variables discretas)."
   ]
  },
  {
   "cell_type": "code",
   "execution_count": 7,
   "metadata": {},
   "outputs": [
    {
     "data": {
      "text/html": [
       "0.333333333333333"
      ],
      "text/latex": [
       "0.333333333333333"
      ],
      "text/markdown": [
       "0.333333333333333"
      ],
      "text/plain": [
       "[1] 0.3333333"
      ]
     },
     "metadata": {},
     "output_type": "display_data"
    }
   ],
   "source": [
    "ext_izq <- 15\n",
    "ext_der <- 45\n",
    "a<-0\n",
    "b<-90\n",
    "1-punif(ext_izq,a,b)-punif(ext_der,a,b, lower.tail = F) #mismo resultado si se \n",
    "                                                #calcula:\n",
    "                                                #1-punif(15,0,90)-punif(45,0,90)\n",
    "                                                #pues es una uniforme"
   ]
  },
  {
   "cell_type": "markdown",
   "metadata": {},
   "source": [
    "El tiempo medio de espera es de: $$\\mu = \\frac{0+90}{2} = 45 \\text{ minutos}$$"
   ]
  },
  {
   "cell_type": "markdown",
   "metadata": {},
   "source": [
    "con desviación estándar: $$\\sigma = \\sqrt{\\frac{(90-0)^2}{12}} \\approx 26 \\text{ minutos}.$$"
   ]
  },
  {
   "cell_type": "markdown",
   "metadata": {},
   "source": [
    "# Binomial"
   ]
  },
  {
   "cell_type": "markdown",
   "metadata": {},
   "source": [
    "La distribución binomial se basa en ensayos *Bernoulli* por ejemplo:\n",
    "\n",
    "* Se lanza un dado 10 veces, ¿cuál es la probabilidad de obtener 4 seises?\n",
    "\n",
    "* Un nuevo medicamento para la diabetes mantiene el nivel de glucosa en la sangre del paciente, muy cercano a los niveles normales. Desgraciadamente, el $10\\%$ de los pacientes que reciben este medicamento desarrolla hipertensión arterial. Un médico tiene $5$ pacientes diabéticos -sin relación alguna entre ellos- y desea saber la probabilidad de que todos ellos desarrollen hipertensión arterial si son tratados con el medicamento."
   ]
  },
  {
   "cell_type": "markdown",
   "metadata": {},
   "source": [
    "Estas dos situaciones describen ejemplos de lo que se conoce como un **experimento binomial**: que consiste de $n$ **etapas o ensayos idénticos e independientes, llamados ensayos** *Bernoullli*, tales que:\n",
    "\n",
    "* En cada ensayo o etapa hay **dos posibles resultados**: éxito y fracaso (podríamos llamarlos positivo y negativo, o $1$ y $0$).\n",
    "\n",
    "* La **probabilidad de éxito** en cada ensayo es de $p$ y la de fracaso de $1-p$.\n",
    "\n",
    "La variable aleatoria discreta $X$ que asociamos a este experimento es el número de éxitos en los $n$ ensayos. En las situaciones descritas tenemos que,\n",
    "\n",
    "* $X$ cuenta el número de seises en $10$ lanzamientos de un dado.\n",
    "\n",
    "* $X$ cuenta el número de pacientes, del grupo de $5$ pacientes, que desarrollan hipertensión arterial."
   ]
  },
  {
   "cell_type": "markdown",
   "metadata": {},
   "source": [
    "## ¿Cómo obtenemos una distribución binomial?"
   ]
  },
  {
   "cell_type": "markdown",
   "metadata": {},
   "source": [
    "Pensemos ahora en lanzar un dado $n$ veces. Queremos calcular la probabilidad de que salgan -exactamente- $k$ cuatros en estos $n$ lanzamientos.\n",
    "\n",
    "* El espacio de resultados o espacio muestral $S$ lo podemos representar como un conjunto de $n$ elementos: $\\{l_1,l_2,\\dots,l_n\\}$ con cada $l_i$ lanzamiento $i$, por lo que se tienen $6^n$ posibilidades.\n",
    "\n",
    "* Si queremos que salgan $k$ cuatros, éstos pueden aparecer distribuidos de diferentes formas en los $n$ lanzamientos. Como no nos interesa el orden existen $\\binom{n}{k}$ formas posibles de realizar esto. Por ejemplo, si $k = 2$ y $n = 4$ los dos cuatros pueden aparecer en los siguientes subconjuntos de lanzamientos: $\\{l_1, l_2\\}, \\{l_1, l_3\\}, \\{l_1, l_4\\}, \\{l_2, l_3\\}, \\{l_2, l_4\\} y \\{l_3, l_4\\}$.\n",
    "\n",
    "* Una vez elegidos los cuatros, en los otros lanzamientos pueden aparecer cualquiera de los $5$ números restantes, por lo que tenemos $5^{n-k}$ posibilidades. En resúmen, hay $\\binom{n}{k}5^{n-k}$ diferentes formas de obtener $k$ cuatros en $n$ lanzamientos de un dado.\n",
    "\n",
    "* Si $E=${obtener $k$ cuatros en $n$ lanzamientos} entonces: $$P(E) = \\frac{\\binom{n}{k}5^{n-k}}{6^n} = \\binom{n}{k}\\frac{1}{6}^k\\frac{5^{n-k}}{6^{n-k}}=\\binom{n}{k}\\left(\\frac{1}{6}\\right)^k\\left(\\frac{5}{6}\\right)^{n-k},$$ y la última igualdad es básicamente: $\\binom{n}{k}P(\\{\\text{obtener cuatro}\\})P(\\{\\text{no obtener cuatro}\\})$.\n",
    "\n",
    "* Se interpreta el evento: “obtener un cuatro”, como el éxito y a “no obtener un cuatro” como el fracaso. Los lanzamientos son los ensayos del experimento binomial."
   ]
  },
  {
   "cell_type": "markdown",
   "metadata": {},
   "source": [
    "## Su distribución de probabilidad"
   ]
  },
  {
   "cell_type": "markdown",
   "metadata": {},
   "source": [
    "En resúmen: sea $X$ la variable aleatoria asociada a un experimento binomial y $p$ la probabilidad de éxito, entonces, si $E$ representa el evento \"éxito\" y $F$ representa el evento ·fracaso\": $$P(X=k) = \\binom{n}{k}P(E)^{k}P(F)^{n-k}=\\binom{n}{k}p^k(1-p)^{n-k}$$"
   ]
  },
  {
   "cell_type": "markdown",
   "metadata": {},
   "source": [
    "**Comentarios:**\n",
    "\n",
    "* La distribución anterior se conoce con el nombre de **distribución binomial**. \n",
    "\n",
    "* Si representamos a los éxitos y fracasos, respectivamente por los números $1$ y $0$ entonces, la variable binomial consiste en contar el número de éxitos en los $n$ ensayos. "
   ]
  },
  {
   "cell_type": "markdown",
   "metadata": {},
   "source": [
    "## Propiedades"
   ]
  },
  {
   "cell_type": "markdown",
   "metadata": {},
   "source": [
    "* La media y la desviación estándar de la distribición binomial con parámetros $n$ y $p$ están dadas por:"
   ]
  },
  {
   "cell_type": "markdown",
   "metadata": {},
   "source": [
    "$$\\mu = np.$$"
   ]
  },
  {
   "cell_type": "markdown",
   "metadata": {},
   "source": [
    "$$\\sigma = \\sqrt{np(1-p)}.$$"
   ]
  },
  {
   "cell_type": "markdown",
   "metadata": {},
   "source": [
    "* Dado un número $n$ de ensayos, la varianza tomará su valor máximo cuando el producto $p(1-p)$ sea máximo y esto sucede para $p = 1$. Esto nos dice que: **la máxima dispersión en una distribución binomial ocurre cuando** $p=\\frac{1}{2}$."
   ]
  },
  {
   "cell_type": "markdown",
   "metadata": {},
   "source": [
    "## Su gráfica"
   ]
  },
  {
   "cell_type": "code",
   "execution_count": 8,
   "metadata": {},
   "outputs": [],
   "source": [
    "set.seed(2000)\n",
    "n_rbinom <- 500  #cantidad de números que queremos\n",
    "n<-10 #número de ensayos\n",
    "p1<-0.5; p2<-0.2; p3<-0.8 #diferentes probabilidades de éxito\n",
    "                          #para comparación\n",
    "valores1<-rbinom(n_rbinom, n, p1)\n",
    "valores2<-rbinom(n_rbinom, n, p2)\n",
    "valores3<-rbinom(n_rbinom, n, p3)\n",
    "\n",
    "gf1<-ggplot(data.frame(valores=valores1,probabilidad=p1),aes(x=valores1, y=..density..))\n",
    "gf2<-ggplot(data.frame(valores=valores2,probabilidad=p2),aes(x=valores2, y=..density..))\n",
    "gf3<-ggplot(data.frame(valores=valores3,probabilidad=p3),aes(x=valores3, y=..density..))"
   ]
  },
  {
   "cell_type": "code",
   "execution_count": 9,
   "metadata": {},
   "outputs": [
    {
     "data": {
      "image/png": "[encoded data removed]",
      "text/plain": [
       "plot without title"
      ]
     },
     "metadata": {},
     "output_type": "display_data"
    }
   ],
   "source": [
    "gf1 + geom_histogram(bins = 10) + \n",
    "ggtitle('Binomial, n=10, p=0.5') +\n",
    "theme(plot.title = element_text(size=10, hjust = 0.5),\n",
    "      axis.text=element_text(size=8),\n",
    "      axis.title=element_text(size=8)) +\n",
    "xlab('rbinom')"
   ]
  },
  {
   "cell_type": "markdown",
   "metadata": {},
   "source": [
    "**Obsérvese que es simétrica la distribución en este caso.**"
   ]
  },
  {
   "cell_type": "code",
   "execution_count": 10,
   "metadata": {},
   "outputs": [
    {
     "data": {
      "image/png": "[encoded data removed]",
      "text/plain": [
       "plot without title"
      ]
     },
     "metadata": {},
     "output_type": "display_data"
    }
   ],
   "source": [
    "gf2 + geom_histogram(bins = 7) + \n",
    "ggtitle('Binomial, n=10, p=0.2') +\n",
    "theme(plot.title = element_text(size=10, hjust = 0.5),\n",
    "      axis.text=element_text(size=8),\n",
    "      axis.title=element_text(size=8)) +\n",
    "xlab('rbinom')"
   ]
  },
  {
   "cell_type": "markdown",
   "metadata": {},
   "source": [
    "**Obsérvese que está sesgada a la derecha la distribución en este caso.**"
   ]
  },
  {
   "cell_type": "code",
   "execution_count": 11,
   "metadata": {},
   "outputs": [
    {
     "data": {
      "image/png": "[encoded data removed]",
      "text/plain": [
       "plot without title"
      ]
     },
     "metadata": {},
     "output_type": "display_data"
    }
   ],
   "source": [
    "gf3 + geom_histogram(bins = 7) + \n",
    "ggtitle('Binomial, n=10, p=0.8') +\n",
    "theme(plot.title = element_text(size=10, hjust = 0.5),\n",
    "      axis.text=element_text(size=8),\n",
    "      axis.title=element_text(size=8)) +\n",
    "xlab('rbinom')"
   ]
  },
  {
   "cell_type": "markdown",
   "metadata": {},
   "source": [
    "**Obsérvese que está sesgada a la izquierda la distribución en este caso.**"
   ]
  },
  {
   "cell_type": "markdown",
   "metadata": {},
   "source": [
    "## Ejemplos"
   ]
  },
  {
   "cell_type": "markdown",
   "metadata": {},
   "source": [
    "1) La probabilidad de obtener $4$ seises en $10$ lanzamientos de un dado se calcula poniendo: $n = 10,k = 4$ y $p = \\frac{1}{6}$ para obtener: $$P(X=4) = \\binom{10}{4}\\left(\\frac{1}{6}\\right)^4\\left(\\frac{5}{6}\\right)^{10-4} \\approx 0.0543.$$"
   ]
  },
  {
   "cell_type": "markdown",
   "metadata": {},
   "source": [
    "**en R...**"
   ]
  },
  {
   "cell_type": "code",
   "execution_count": 12,
   "metadata": {},
   "outputs": [
    {
     "data": {
      "text/html": [
       "0.0542658758509881"
      ],
      "text/latex": [
       "0.0542658758509881"
      ],
      "text/markdown": [
       "0.0542658758509881"
      ],
      "text/plain": [
       "[1] 0.05426588"
      ]
     },
     "metadata": {},
     "output_type": "display_data"
    }
   ],
   "source": [
    "dbinom(4,10,1/6)"
   ]
  },
  {
   "cell_type": "markdown",
   "metadata": {},
   "source": [
    "El número medio de seises que se obtienen en $10$ lanzamientos es de:"
   ]
  },
  {
   "cell_type": "markdown",
   "metadata": {},
   "source": [
    "$$\\mu = np = 10*\\frac{1}{6} = \\frac{5}{3} \\approx 1.67.$$"
   ]
  },
  {
   "cell_type": "markdown",
   "metadata": {},
   "source": [
    "con desviación estándar:"
   ]
  },
  {
   "cell_type": "markdown",
   "metadata": {},
   "source": [
    "$$\\sigma = \\sqrt{np(1-p)} = \\sqrt{10*\\frac{1}{6}*\\frac{5}{6}} \\approx 1.18.$$"
   ]
  },
  {
   "cell_type": "markdown",
   "metadata": {},
   "source": [
    "2) La probabilidad de que los $5$ pacientes tratados con el medicamento desarrollen hipertensión arterial se calcula poniendo: $n = 5, k = 5$ y $p = 0.1$ para obtener: $$P(X=5)=\\binom{5}{5}(0.1)^5(0.9)^0 \\approx .00001.$$"
   ]
  },
  {
   "cell_type": "markdown",
   "metadata": {},
   "source": [
    "**en R ...**"
   ]
  },
  {
   "cell_type": "code",
   "execution_count": 13,
   "metadata": {},
   "outputs": [
    {
     "data": {
      "text/html": [
       "1e-05"
      ],
      "text/latex": [
       "1e-05"
      ],
      "text/markdown": [
       "1e-05"
      ],
      "text/plain": [
       "[1] 1e-05"
      ]
     },
     "metadata": {},
     "output_type": "display_data"
    }
   ],
   "source": [
    "dbinom(5,5,.1)"
   ]
  },
  {
   "cell_type": "markdown",
   "metadata": {},
   "source": [
    "El número medio de pacientes que desarrollan hipertensión arterial es de: $$ \\mu=np=5*0.1=.5$$"
   ]
  },
  {
   "cell_type": "markdown",
   "metadata": {},
   "source": [
    "con desviación estándar: $$\\sigma=\\sqrt{np(1-p)} = \\sqrt{5*0.1*0.9} \\approx 0.67$$"
   ]
  },
  {
   "cell_type": "markdown",
   "metadata": {},
   "source": [
    "3) Igual que el ejemplo $1$ pero ahora se utiliza $Y = \\frac{X}{n}$, entonces $Y$ mide la **proporción** de seises en $n=10$ lanzamientos de un dado. Por las propiedades de media y desviación estándar se tiene:\n",
    "\n",
    "* El número medio de la proporción de seises que se obtienen en $10$ lanzamientos es de: $$\\mu_Y = \\frac{\\mu_X}{n} = \\frac{np}{n} = p = \\frac{1}{6}.$$"
   ]
  },
  {
   "cell_type": "markdown",
   "metadata": {},
   "source": [
    "* La desviación estándar de la proporción de seises que se obtienen en $10$ lanzamientos es de: $$\\sigma_Y = \\frac{\\sigma_X}{n} = \\frac{\\sqrt{np(1-p)}}{n} = \\sqrt{\\frac{np(1-p)}{n^2}} = \\sqrt{\\frac{p(1-p)}{n}} \\approx \\frac{1.18}{10}\\approx .118$$"
   ]
  },
  {
   "cell_type": "markdown",
   "metadata": {},
   "source": [
    "**Obs:** como $\\mu_Y = p$, entonces $Y$ (proporción) se llama estimador insesgado."
   ]
  },
  {
   "cell_type": "markdown",
   "metadata": {},
   "source": [
    "**Comentario:** \n",
    "\n",
    "* Un experimento binomial puede representarse por la siguiente urna con canicas: en la urna colocamos $r$ canicas rojas y $a$ azules. El experimento consiste en extraer repetidamente canicas de la urna, con remplazo, de manera que la urna siempre contiene las mismas canicas. Si al extraer una canica al azar, ésta es roja, entonces se contabiliza como un éxito. La probabilidad de éxito está dada por la **proporción de canicas rojas**, es decir: $$p=\\frac{r}{r+a}.$$\n",
    "\n",
    "    Supongamos que no sabemos de antemano la proporción de canicas de cada color, por lo tanto desconocemos $p$. Para tratar de averiguar esta proporción empezamos a extraer canicas con remplazo. Sea $n$ el número de veces que repetimos este proceso de extracción y $k$ el número de canicas rojas o éxitos que obtenemos. *Jacobo Bernoulli* se dio cuenta de que si $n$ era suficientemente grande, entonces la proporción $\\frac{k}{n}$ se parecía cada vez más a la probabilidad p, es decir, a la proporción real de canicas. La prueba formal de este hecho, que nos puede parecer trivial, es uno de los grandes teoremas de la Estadística por su importancia para la inferencia y se conoce como el **Teorema de Bernoulli o la Ley de los Grandes Números**."
   ]
  },
  {
   "cell_type": "markdown",
   "metadata": {},
   "source": [
    "# Normal"
   ]
  },
  {
   "cell_type": "markdown",
   "metadata": {},
   "source": [
    "**Un poco de historia...**"
   ]
  },
  {
   "cell_type": "markdown",
   "metadata": {},
   "source": [
    "El matemático y estadístico francés Abraham de Moivre (1667 - 1754) notó que cuando la distribución binomial involucraba una gran número de ensayos (por ejemplo la probabilidad de obtener al menos $60$ caras iguales al lanzar una moneda $100$ veces), su forma podía reproducirse con una curva suave en forma de campana."
   ]
  },
  {
   "cell_type": "code",
   "execution_count": 14,
   "metadata": {},
   "outputs": [
    {
     "data": {
      "image/png": "[encoded data removed]",
      "text/plain": [
       "plot without title"
      ]
     },
     "metadata": {},
     "output_type": "display_data"
    }
   ],
   "source": [
    "set.seed(2000)\n",
    "vec <- seq(-3,3,by=.1) \n",
    "y <- dnorm(vec)  #evaluamos la función de densidad en vec\n",
    "qplot(vec,y,geom='line') +  #qplot es quickplot\n",
    "ggtitle('Normal estandar') + \n",
    "theme(plot.title = element_text(size=10, hjust = 0.5)) + \n",
    "xlab('rnorm')"
   ]
  },
  {
   "cell_type": "code",
   "execution_count": 15,
   "metadata": {},
   "outputs": [],
   "source": [
    "set.seed(2000)\n",
    "n_rbinom<-1000 #cantidad de números que queremos\n",
    "n1<-60 #número de ensayos\n",
    "p<-1/2 #proba de éxito\n",
    "vec1 <- rbinom(n_rbinom,n1,p)\n",
    "y1 <- dbinom(vec1,n1,p) #evaluamos la distribución\n",
    "                        #de probabilidad en vec\n",
    "#Incrementamos el número de ensayos\n",
    "n2<-100\n",
    "vec2 <- rbinom(n_rbinom,n2,p)\n",
    "y2 <- dbinom(vec2,n2,p)\n",
    "gf1 <- ggplot(data.frame(x=vec1,y=y1),aes(x=vec1,y=..density..))\n",
    "gf2 <- ggplot(data.frame(x=vec2,y=y2),aes(x=vec2,y=..density..))"
   ]
  },
  {
   "cell_type": "code",
   "execution_count": 16,
   "metadata": {},
   "outputs": [
    {
     "name": "stderr",
     "output_type": "stream",
     "text": [
      "`geom_smooth()` using method = 'gam' and formula 'y ~ s(x, bs = \"cs\")'\n"
     ]
    },
    {
     "data": {
      "image/png": "[encoded data removed]",
      "text/plain": [
       "plot without title"
      ]
     },
     "metadata": {},
     "output_type": "display_data"
    }
   ],
   "source": [
    "gf1 + geom_histogram(bins=9)+\n",
    "ggtitle('n=60,p=.5') + \n",
    "theme(plot.title = element_text(size=10, hjust = 0.5))+\n",
    "xlab('rbinom') + \n",
    "geom_smooth(aes(x=vec1,y=y1), colour='red', size=.5)"
   ]
  },
  {
   "cell_type": "code",
   "execution_count": 17,
   "metadata": {},
   "outputs": [
    {
     "name": "stderr",
     "output_type": "stream",
     "text": [
      "`geom_smooth()` using method = 'gam' and formula 'y ~ s(x, bs = \"cs\")'\n"
     ]
    },
    {
     "data": {
      "image/png": "[encoded data removed]",
      "text/plain": [
       "plot without title"
      ]
     },
     "metadata": {},
     "output_type": "display_data"
    }
   ],
   "source": [
    "gf2 + geom_histogram(bins=10)+\n",
    "ggtitle('n=100,p=.5') + \n",
    "theme(plot.title = element_text(size=10, hjust = 0.5))+\n",
    "xlab('rbinom') + \n",
    "geom_smooth(aes(x=vec2,y=y2), colour='red', size=.5)"
   ]
  },
  {
   "cell_type": "markdown",
   "metadata": {},
   "source": [
    "Y encontró una fórmula para aproximar las probabilidades binomiales cuando se tenía un gran número de ensayos. Esta curva fue descubierta en forma independiente por Pierre S. Laplace (1749 - 1827), en 1778 y por el alemán Carl F. Gauss en 1809. Hoy en día también es conocida como la distribución Gaussiana o campana de Gauss. Entre otras aportaciones, Gauss observó y estudió que los errores en mediciones suelen seguir una distribución normal y los errores pequeños (que producen subestimación de la cantidad real medida) ocurren con mayor frecuencia que los grandes (que producen sobrestimación)."
   ]
  },
  {
   "cell_type": "markdown",
   "metadata": {},
   "source": [
    "**Comentario:** otros datos que típicamente están distribuidos normal: las calificaciones de un grupo de estudiantes, el rendimiento de una vaca lechera, la altura de los individuos de una población, el nivel de consumo de un producto, el tiempo dedicado para tomar ciertas decisiones..."
   ]
  },
  {
   "cell_type": "markdown",
   "metadata": {},
   "source": [
    "## Su función de densidad"
   ]
  },
  {
   "cell_type": "markdown",
   "metadata": {},
   "source": [
    "Está en términos de su $\\mu$ y su $\\sigma$ y es: $$f(x) = \\frac{1}{\\sigma\\sqrt{2\\pi}}exp\\left(-\\frac{1}{2}\\left(\\frac{x-\\mu}{\\sigma}\\right)^2\\right)$$"
   ]
  },
  {
   "cell_type": "markdown",
   "metadata": {},
   "source": [
    "La media $\\mu$ da el centro de la curva. La desviación estándar $\\sigma$, determina el ancho de la misma."
   ]
  },
  {
   "cell_type": "markdown",
   "metadata": {},
   "source": [
    "La distribución normal estándar es aquella en la que $\\mu = 0 , \\sigma = 1$: $$f(x) = \\frac{1}{\\sqrt{2\\pi}}exp\\left(-\\frac{x^2}{2}\\right)$$"
   ]
  },
  {
   "cell_type": "code",
   "execution_count": 18,
   "metadata": {},
   "outputs": [],
   "source": [
    "set.seed(2000)\n",
    "vec <- seq(-5,8,by=.1) #cantidad de números que queremos\n",
    "y1 <- dnorm(vec) #evaluamos la función de densidad en vec\n",
    "y2 <- dnorm(vec,1,1)\n",
    "y3 <- dnorm(vec,1,2) #media 1 y desviación estándar 2\n",
    "\n",
    "df1<-data.frame(values=y1,normal=rep('estandar',NROW(y1)))\n",
    "df2<-data.frame(values=y2,normal=rep('media y desv_est 1',NROW(y2)))\n",
    "df3<-data.frame(values=y3,normal=rep('media 1 y desv_est 2',NROW(y3)))\n",
    "df<-rbind(df1,df2,df3)"
   ]
  },
  {
   "cell_type": "code",
   "execution_count": 19,
   "metadata": {},
   "outputs": [
    {
     "data": {
      "text/html": [
       "<table>\n",
       "<caption>A data.frame: 6 x 2</caption>\n",
       "<thead>\n",
       "\t<tr><th scope=col>values</th><th scope=col>normal</th></tr>\n",
       "\t<tr><th scope=col>&lt;dbl&gt;</th><th scope=col>&lt;fct&gt;</th></tr>\n",
       "</thead>\n",
       "<tbody>\n",
       "\t<tr><td>1.486720e-06</td><td>estandar</td></tr>\n",
       "\t<tr><td>2.438961e-06</td><td>estandar</td></tr>\n",
       "\t<tr><td>3.961299e-06</td><td>estandar</td></tr>\n",
       "\t<tr><td>6.369825e-06</td><td>estandar</td></tr>\n",
       "\t<tr><td>1.014085e-05</td><td>estandar</td></tr>\n",
       "\t<tr><td>1.598374e-05</td><td>estandar</td></tr>\n",
       "</tbody>\n",
       "</table>\n"
      ],
      "text/latex": [
       "A data.frame: 6 x 2\n",
       "\\begin{tabular}{r|ll}\n",
       " values & normal\\\\\n",
       " <dbl> & <fct>\\\\\n",
       "\\hline\n",
       "\t 1.486720e-06 & estandar\\\\\n",
       "\t 2.438961e-06 & estandar\\\\\n",
       "\t 3.961299e-06 & estandar\\\\\n",
       "\t 6.369825e-06 & estandar\\\\\n",
       "\t 1.014085e-05 & estandar\\\\\n",
       "\t 1.598374e-05 & estandar\\\\\n",
       "\\end{tabular}\n"
      ],
      "text/markdown": [
       "\n",
       "A data.frame: 6 x 2\n",
       "\n",
       "| values &lt;dbl&gt; | normal &lt;fct&gt; |\n",
       "|---|---|\n",
       "| 1.486720e-06 | estandar |\n",
       "| 2.438961e-06 | estandar |\n",
       "| 3.961299e-06 | estandar |\n",
       "| 6.369825e-06 | estandar |\n",
       "| 1.014085e-05 | estandar |\n",
       "| 1.598374e-05 | estandar |\n",
       "\n"
      ],
      "text/plain": [
       "  values       normal  \n",
       "1 1.486720e-06 estandar\n",
       "2 2.438961e-06 estandar\n",
       "3 3.961299e-06 estandar\n",
       "4 6.369825e-06 estandar\n",
       "5 1.014085e-05 estandar\n",
       "6 1.598374e-05 estandar"
      ]
     },
     "metadata": {},
     "output_type": "display_data"
    }
   ],
   "source": [
    "head(df)"
   ]
  },
  {
   "cell_type": "code",
   "execution_count": 20,
   "metadata": {},
   "outputs": [
    {
     "data": {
      "text/html": [
       "<table>\n",
       "<caption>A data.frame: 6 x 2</caption>\n",
       "<thead>\n",
       "\t<tr><th></th><th scope=col>values</th><th scope=col>normal</th></tr>\n",
       "\t<tr><th></th><th scope=col>&lt;dbl&gt;</th><th scope=col>&lt;fct&gt;</th></tr>\n",
       "</thead>\n",
       "<tbody>\n",
       "\t<tr><th scope=row>388</th><td>0.0010145240</td><td>media 1 y desv_est 2</td></tr>\n",
       "\t<tr><th scope=row>389</th><td>0.0008612845</td><td>media 1 y desv_est 2</td></tr>\n",
       "\t<tr><th scope=row>390</th><td>0.0007293654</td><td>media 1 y desv_est 2</td></tr>\n",
       "\t<tr><th scope=row>391</th><td>0.0006161096</td><td>media 1 y desv_est 2</td></tr>\n",
       "\t<tr><th scope=row>392</th><td>0.0005191406</td><td>media 1 y desv_est 2</td></tr>\n",
       "\t<tr><th scope=row>393</th><td>0.0004363413</td><td>media 1 y desv_est 2</td></tr>\n",
       "</tbody>\n",
       "</table>\n"
      ],
      "text/latex": [
       "A data.frame: 6 x 2\n",
       "\\begin{tabular}{r|ll}\n",
       "  & values & normal\\\\\n",
       "  & <dbl> & <fct>\\\\\n",
       "\\hline\n",
       "\t388 & 0.0010145240 & media 1 y desv\\_est 2\\\\\n",
       "\t389 & 0.0008612845 & media 1 y desv\\_est 2\\\\\n",
       "\t390 & 0.0007293654 & media 1 y desv\\_est 2\\\\\n",
       "\t391 & 0.0006161096 & media 1 y desv\\_est 2\\\\\n",
       "\t392 & 0.0005191406 & media 1 y desv\\_est 2\\\\\n",
       "\t393 & 0.0004363413 & media 1 y desv\\_est 2\\\\\n",
       "\\end{tabular}\n"
      ],
      "text/markdown": [
       "\n",
       "A data.frame: 6 x 2\n",
       "\n",
       "| <!--/--> | values &lt;dbl&gt; | normal &lt;fct&gt; |\n",
       "|---|---|---|\n",
       "| 388 | 0.0010145240 | media 1 y desv_est 2 |\n",
       "| 389 | 0.0008612845 | media 1 y desv_est 2 |\n",
       "| 390 | 0.0007293654 | media 1 y desv_est 2 |\n",
       "| 391 | 0.0006161096 | media 1 y desv_est 2 |\n",
       "| 392 | 0.0005191406 | media 1 y desv_est 2 |\n",
       "| 393 | 0.0004363413 | media 1 y desv_est 2 |\n",
       "\n"
      ],
      "text/plain": [
       "    values       normal              \n",
       "388 0.0010145240 media 1 y desv_est 2\n",
       "389 0.0008612845 media 1 y desv_est 2\n",
       "390 0.0007293654 media 1 y desv_est 2\n",
       "391 0.0006161096 media 1 y desv_est 2\n",
       "392 0.0005191406 media 1 y desv_est 2\n",
       "393 0.0004363413 media 1 y desv_est 2"
      ]
     },
     "metadata": {},
     "output_type": "display_data"
    }
   ],
   "source": [
    "tail(df)"
   ]
  },
  {
   "cell_type": "code",
   "execution_count": 21,
   "metadata": {},
   "outputs": [],
   "source": [
    "gf<-ggplot(df,aes(x=rep(vec,3),y=values, group=normal,color=normal))"
   ]
  },
  {
   "cell_type": "code",
   "execution_count": 22,
   "metadata": {},
   "outputs": [],
   "source": [
    "options(repr.plot.width=4.5, repr.plot.height=3.5) #esta línea sólo se ejecuta para jupyterlab con R"
   ]
  },
  {
   "cell_type": "code",
   "execution_count": 23,
   "metadata": {},
   "outputs": [
    {
     "data": {
      "image/png": "[encoded data removed]",
      "text/plain": [
       "plot without title"
      ]
     },
     "metadata": {},
     "output_type": "display_data"
    }
   ],
   "source": [
    "gf + geom_line() + xlab('') + ylab('dnorm')"
   ]
  },
  {
   "cell_type": "markdown",
   "metadata": {},
   "source": [
    "## Propiedades"
   ]
  },
  {
   "cell_type": "markdown",
   "metadata": {},
   "source": [
    "* Moda, media y mediana son iguales por su simetría.\n",
    "\n",
    "* El $68\\%$ de los datos se encuentran a una distancia de $\\sigma$ de la media, el $95\\%$ a una distancia de $1.96\\sigma$ ($\\approx 2\\sigma$) y el $99\\%$ a una distancia de $2.58\\sigma$ ($\\approx 3\\sigma$)."
   ]
  },
  {
   "cell_type": "markdown",
   "metadata": {},
   "source": [
    "(dibujo)"
   ]
  },
  {
   "cell_type": "markdown",
   "metadata": {},
   "source": [
    "* Si $X$ se distribuye normal con media $\\mu$ y desviación estándar $\\sigma$ (escrito: $X\\sim N(\\mu,\\sigma))$ entonces $$Z=\\frac{X-\\mu}{\\sigma},$$ es una variable aleatoria normal con media $0$ y desviación estándar $1$: $Z \\sim N(0,1)$."
   ]
  },
  {
   "cell_type": "markdown",
   "metadata": {},
   "source": [
    "## Ejemplos"
   ]
  },
  {
   "cell_type": "markdown",
   "metadata": {},
   "source": [
    "1) Si $X \\sim N(1,2)$ calcular: $P(1<X<5)$."
   ]
  },
  {
   "cell_type": "markdown",
   "metadata": {},
   "source": [
    "Nuevamente usando: $$P(1 < X < 5) = 1 - P((1 < X < 5)^c) = 1 - P( (1 < X)^c \\cup (X <5)^c)=$$"
   ]
  },
  {
   "cell_type": "markdown",
   "metadata": {},
   "source": [
    "$$1 - P( X \\leq 1 \\cup 5 \\leq X) = 1 - (P(X \\leq 1) + P( 5 \\leq X))$$"
   ]
  },
  {
   "cell_type": "code",
   "execution_count": 24,
   "metadata": {},
   "outputs": [
    {
     "data": {
      "text/html": [
       "0.477249868051821"
      ],
      "text/latex": [
       "0.477249868051821"
      ],
      "text/markdown": [
       "0.477249868051821"
      ],
      "text/plain": [
       "[1] 0.4772499"
      ]
     },
     "metadata": {},
     "output_type": "display_data"
    }
   ],
   "source": [
    "ext_izq <- 1\n",
    "ext_der <- 5\n",
    "media<-1\n",
    "desv_est<-2\n",
    "1-pnorm(ext_izq,media,desv_est)-pnorm(ext_der,media,desv_est, lower.tail = F)"
   ]
  },
  {
   "cell_type": "markdown",
   "metadata": {},
   "source": [
    "2) Si $X \\sim N(0,1)$ calcular: $P(Z>0), P(Z<-1), P(-1<Z<0)$"
   ]
  },
  {
   "cell_type": "markdown",
   "metadata": {},
   "source": [
    "Para el cálculo de $P(Z>0)$:"
   ]
  },
  {
   "cell_type": "code",
   "execution_count": 25,
   "metadata": {},
   "outputs": [
    {
     "data": {
      "text/html": [
       "0.5"
      ],
      "text/latex": [
       "0.5"
      ],
      "text/markdown": [
       "0.5"
      ],
      "text/plain": [
       "[1] 0.5"
      ]
     },
     "metadata": {},
     "output_type": "display_data"
    }
   ],
   "source": [
    "ext_izq<-0\n",
    "pnorm(ext_izq,lower.tail=F)"
   ]
  },
  {
   "cell_type": "markdown",
   "metadata": {},
   "source": [
    "Para el cálculo de P(Z<-1):"
   ]
  },
  {
   "cell_type": "markdown",
   "metadata": {},
   "source": [
    "Por simetría de la normal se tiene: $P(Z<-1)=P(Z>1)$"
   ]
  },
  {
   "cell_type": "code",
   "execution_count": 26,
   "metadata": {},
   "outputs": [
    {
     "data": {
      "text/html": [
       "0.158655253931457"
      ],
      "text/latex": [
       "0.158655253931457"
      ],
      "text/markdown": [
       "0.158655253931457"
      ],
      "text/plain": [
       "[1] 0.1586553"
      ]
     },
     "metadata": {},
     "output_type": "display_data"
    }
   ],
   "source": [
    "ext_izq<-1\n",
    "pnorm(ext_izq,lower.tail=F)"
   ]
  },
  {
   "cell_type": "markdown",
   "metadata": {},
   "source": [
    "De igual forma por simetría: $P(-1<Z<0) = P(0<Z<1)$"
   ]
  },
  {
   "cell_type": "markdown",
   "metadata": {},
   "source": [
    "**Ejercicio: calcular este caso**"
   ]
  },
  {
   "cell_type": "markdown",
   "metadata": {},
   "source": [
    "# Teorema del límite central"
   ]
  },
  {
   "cell_type": "code",
   "execution_count": 27,
   "metadata": {},
   "outputs": [],
   "source": [
    "options(repr.plot.width=2.5, repr.plot.height=2.5) #esta línea sólo se ejecuta para jupyterlab con R"
   ]
  },
  {
   "cell_type": "markdown",
   "metadata": {},
   "source": [
    "El hecho de que para un gran número de ensayos una distribución binomial se parezca, cada vez más a una normal, es un resultado parecido al Teorema de Bernoulli o Ley de los Grandes Números. Esencialmente es también una ley de los grandes números. La versión más general de este tipo de resultados es el llamado **Teorema del Límite Central** por el matemático ruso Aleksandr Lyapunov. En términos simples, el teorema nos dice que si tenemos **cierto número de variables aleatorias independientes con la misma distribución**, al aumentar su número, la **distribución de la suma** de sus resultados se **aproxima a una distribución normal**. Esto sucede **independientemente de cual sea la distribución original de las variables.**"
   ]
  },
  {
   "cell_type": "markdown",
   "metadata": {},
   "source": [
    "El resultado del teorema aplica si cambiamos la palabra suma por **media**. Podemos, por ejemplo, iniciar con una distribución uniforme, tomar muestras aleatorias de tamaño dos y calcular sus medias. Después procedemos con muestras de tamaño tres, cuatro y así sucesivamente aumentamos el tamaño de la muestra. La **distribución de estas medias se aproxima a una normal con la misma media de la distribución original**. **La varianza de esta distribución normal disminuye conforme aumentamos el tamaño de la muestra**."
   ]
  },
  {
   "cell_type": "markdown",
   "metadata": {},
   "source": [
    "## Ejemplo"
   ]
  },
  {
   "cell_type": "markdown",
   "metadata": {},
   "source": [
    "Lanzamos **un dado** $100$ veces y hacemos un histograma con los resultados. Después tomamos **dos dados** y los lanzamos $50$ veces. **Sumamos** los números de las dos caras que aparecen en cada lanzamiento y realizamos un histograma con ellos. Tomamos ahora **tres dados** y lanzamos los tres juntos $50$ ocasiones. **Sumamos** los números de las tres caras que aparecen en cada lanzamiento y realizamos un histograma con los resultados. Las siguientes figuras muestran estos histogramas. Visualmente observamos como la **distribución de la suma de las caras tiende a ser normal**."
   ]
  },
  {
   "cell_type": "markdown",
   "metadata": {},
   "source": [
    "Caso de **un dado**"
   ]
  },
  {
   "cell_type": "code",
   "execution_count": 28,
   "metadata": {},
   "outputs": [],
   "source": [
    "set.seed(2000)\n",
    "n_sample<-100\n",
    "prob<-rep(1/6,6)\n",
    "dado <-sample(1:6,size=n_sample, replace=T,prob=prob)\n",
    "gf<-ggplot(data.frame(valores=dado),aes(x=dado))"
   ]
  },
  {
   "cell_type": "code",
   "execution_count": 29,
   "metadata": {},
   "outputs": [
    {
     "data": {
      "image/png": "[encoded data removed]",
      "text/plain": [
       "plot without title"
      ]
     },
     "metadata": {},
     "output_type": "display_data"
    }
   ],
   "source": [
    "gf + geom_histogram(bins = 10)+\n",
    "ggtitle('Un dado') +\n",
    "theme(plot.title = element_text(size=10, hjust = 0.5),\n",
    "      axis.text=element_text(size=8),\n",
    "      axis.title=element_text(size=8)) +\n",
    "xlab('')"
   ]
  },
  {
   "cell_type": "markdown",
   "metadata": {},
   "source": [
    "Caso de **dos dados**"
   ]
  },
  {
   "cell_type": "code",
   "execution_count": 30,
   "metadata": {},
   "outputs": [],
   "source": [
    "set.seed(2000)\n",
    "n_sample<-100\n",
    "prob<-c(1,2,3,4,5,6,5,4,3,2,1)/36\n",
    "suma<-2:12\n",
    "dos_dados<-sample(suma,n_sample,prob=prob,replace=T)\n",
    "gf<-ggplot(data.frame(valores=dos_dados),aes(x=dos_dados))"
   ]
  },
  {
   "cell_type": "code",
   "execution_count": 31,
   "metadata": {},
   "outputs": [
    {
     "data": {
      "image/png": "[encoded data removed]",
      "text/plain": [
       "plot without title"
      ]
     },
     "metadata": {},
     "output_type": "display_data"
    }
   ],
   "source": [
    "gf + geom_histogram(bins = 6)+\n",
    "ggtitle('Dos dados') +\n",
    "theme(plot.title = element_text(size=10, hjust = 0.5),\n",
    "      axis.text=element_text(size=8),\n",
    "      axis.title=element_text(size=8)) +\n",
    "xlab('')"
   ]
  },
  {
   "cell_type": "markdown",
   "metadata": {},
   "source": [
    "Caso de **tres dados**"
   ]
  },
  {
   "cell_type": "markdown",
   "metadata": {},
   "source": [
    "**Ejercicio: calcular este caso utilizando set.seed(2000), sample, ggplot2**"
   ]
  },
  {
   "cell_type": "markdown",
   "metadata": {},
   "source": [
    "La gráfica se ve así:"
   ]
  },
  {
   "cell_type": "code",
   "execution_count": 34,
   "metadata": {},
   "outputs": [
    {
     "data": {
      "image/png": "[encoded data removed]",
      "text/plain": [
       "plot without title"
      ]
     },
     "metadata": {},
     "output_type": "display_data"
    }
   ],
   "source": [
    "gf + geom_histogram(bins = 9)+\n",
    "ggtitle('Tres dados') +\n",
    "theme(plot.title = element_text(size=10, hjust = 0.5),\n",
    "      axis.text=element_text(size=8),\n",
    "      axis.title=element_text(size=8)) +\n",
    "xlab('')"
   ]
  },
  {
   "cell_type": "markdown",
   "metadata": {},
   "source": [
    "**Promedios**"
   ]
  },
  {
   "cell_type": "markdown",
   "metadata": {},
   "source": [
    "Caso de **dos dados**"
   ]
  },
  {
   "cell_type": "code",
   "execution_count": 35,
   "metadata": {},
   "outputs": [],
   "source": [
    "set.seed(2000)\n",
    "n_sample<-100\n",
    "prob<-c(1,2,3,4,5,6,5,4,3,2,1)/36\n",
    "promedio<-(2:12)/2\n",
    "dos_dados<-sample(promedio,n_sample,prob=prob,replace=T)\n",
    "gf<-ggplot(data.frame(valores=dos_dados),aes(x=dos_dados))"
   ]
  },
  {
   "cell_type": "code",
   "execution_count": 36,
   "metadata": {},
   "outputs": [
    {
     "data": {
      "image/png": "[encoded data removed]",
      "text/plain": [
       "plot without title"
      ]
     },
     "metadata": {},
     "output_type": "display_data"
    }
   ],
   "source": [
    "gf + geom_histogram(bins = 6)+\n",
    "ggtitle('Promedio dos dados') +\n",
    "theme(plot.title = element_text(size=10, hjust = 0.5),\n",
    "      axis.text=element_text(size=8),\n",
    "      axis.title=element_text(size=8)) +\n",
    "xlab('')"
   ]
  },
  {
   "cell_type": "markdown",
   "metadata": {},
   "source": [
    "Caso de **tres dados**"
   ]
  },
  {
   "cell_type": "markdown",
   "metadata": {},
   "source": [
    "**Ejercicio: calcular este caso utilizando set.seed(2000), sample, ggplot2**"
   ]
  },
  {
   "cell_type": "markdown",
   "metadata": {},
   "source": [
    "La gráfica se ve así:"
   ]
  },
  {
   "cell_type": "code",
   "execution_count": 38,
   "metadata": {},
   "outputs": [
    {
     "data": {
      "image/png": "[encoded data removed]",
      "text/plain": [
       "plot without title"
      ]
     },
     "metadata": {},
     "output_type": "display_data"
    }
   ],
   "source": [
    "gf + geom_histogram(bins = 9)+\n",
    "ggtitle('Promedio tres dados') +\n",
    "theme(plot.title = element_text(size=10, hjust = 0.5),\n",
    "      axis.text=element_text(size=8),\n",
    "      axis.title=element_text(size=8)) +\n",
    "xlab('')"
   ]
  },
  {
   "cell_type": "markdown",
   "metadata": {},
   "source": [
    "Estos histogramas convergen a los de una distribución normal con media de $3.5$, igual a la de la distribución uniforme original."
   ]
  },
  {
   "cell_type": "markdown",
   "metadata": {},
   "source": [
    "# Distribución muestral de la media"
   ]
  },
  {
   "cell_type": "markdown",
   "metadata": {},
   "source": [
    "Supongamos que tenemos una población y consideremos todas las posibles muestras de tamaño $n$ de la misma. Para cada una de estas muestras puede calcularse la media y obtenerse una distribución muestral de medias. Por el teorema del límite central, sabemos que si las muestras son suficientemente grandes, esta distribución se aproximará por una distribición normal. El siguiente resultado nos proporciona la media y la desviación estándar para esta distribución muestral."
   ]
  },
  {
   "cell_type": "markdown",
   "metadata": {},
   "source": [
    "Considérese una población cuya media es $\\mu$ y desviación estándar $\\sigma$. Las medias $\\bar{X}$ de las muestras aleatorias de tamaño $n$ siguen una distribución con media $\\mu$ y desviación estándar $\\frac{\\sigma}{\\sqrt{n}}$. Si $n$ es suficientemente grande (usualmente $n \\geq 30),$entonces, aproximadamente se tiene que, $$\\bar{X} \\sim N\\left(\\mu,\\frac{\\sigma}{\\sqrt{n}}\\right)$$."
   ]
  },
  {
   "cell_type": "markdown",
   "metadata": {},
   "source": [
    "es decir, las medias están distribuidas normalmente y la desviación estándar de las medias de la muestra: $\\frac{\\sigma}{\\sqrt{n}}$, decrece conforme $n$ crece."
   ]
  },
  {
   "cell_type": "markdown",
   "metadata": {},
   "source": [
    "## Ejemplo"
   ]
  },
  {
   "cell_type": "markdown",
   "metadata": {},
   "source": [
    "Una muestra aleatoria de $36$ individuos se toma de una población cuyo ingreso mensual promedio es de $\\$25,000$ con una desviación estándar de $\\$6000$. ¿Cual es la probabilidad de que la media de la muestra esté entre $\\$23,000$ y $\\$27,000$?"
   ]
  },
  {
   "cell_type": "markdown",
   "metadata": {},
   "source": [
    "Buscamos: $P(23000 < \\bar{X} < 27000)$ con $\\bar{X} \\sim N\\left(25000,\\frac{6000}{\\sqrt{36}}\\right)$, entonces:"
   ]
  },
  {
   "cell_type": "code",
   "execution_count": 39,
   "metadata": {},
   "outputs": [
    {
     "data": {
      "text/html": [
       "0.954499736103642"
      ],
      "text/latex": [
       "0.954499736103642"
      ],
      "text/markdown": [
       "0.954499736103642"
      ],
      "text/plain": [
       "[1] 0.9544997"
      ]
     },
     "metadata": {},
     "output_type": "display_data"
    }
   ],
   "source": [
    "ext_izq <- 23000\n",
    "ext_der <- 27000\n",
    "mu<-25000\n",
    "sigma<-6000/sqrt(36)\n",
    "1-pnorm(ext_izq, mu,sigma)-pnorm(ext_der,mu,sigma,lower.tail =F)"
   ]
  },
  {
   "cell_type": "markdown",
   "metadata": {},
   "source": [
    "que es consistente con el hecho que aproximadamente el $95\\%$ del área se encuentra a dos desviaciones estándar de la media:"
   ]
  },
  {
   "cell_type": "code",
   "execution_count": 40,
   "metadata": {},
   "outputs": [
    {
     "data": {
      "text/html": [
       "26960"
      ],
      "text/latex": [
       "26960"
      ],
      "text/markdown": [
       "26960"
      ],
      "text/plain": [
       "[1] 26960"
      ]
     },
     "metadata": {},
     "output_type": "display_data"
    },
    {
     "data": {
      "text/html": [
       "23040"
      ],
      "text/latex": [
       "23040"
      ],
      "text/markdown": [
       "23040"
      ],
      "text/plain": [
       "[1] 23040"
      ]
     },
     "metadata": {},
     "output_type": "display_data"
    }
   ],
   "source": [
    "mu+sigma*1.96\n",
    "mu-sigma*1.96"
   ]
  },
  {
   "cell_type": "markdown",
   "metadata": {},
   "source": [
    "# Ejercicios"
   ]
  },
  {
   "cell_type": "markdown",
   "metadata": {},
   "source": [
    "1) Supóngase que el tiempo (en minutos) que una persona espera el Metrobús los días de semana sigue una distribución uniforme dada por, $$f(x) = \\begin{cases}\n",
    "\\frac{1}{12} & \\text{si } 0 \\leq x \\leq 12,\\\\\n",
    "0 & \\text{en otro caso}\n",
    "\\end{cases}$$"
   ]
  },
  {
   "cell_type": "markdown",
   "metadata": {},
   "source": [
    "a) ¿Cuál es la probabilidad que una persona espere menos de $6$ minutos?.\n",
    "\n",
    "b) ¿Su tiempo medio de espera? ¿su desviación estándar?."
   ]
  },
  {
   "cell_type": "markdown",
   "metadata": {},
   "source": [
    "2) Considérese lanzamientos de una moneda no cargada. Sea $X$ la variable aleatoria que cuenta el número de águilas en $10$ lanzamientos. Calcular en *R* la probabilidad $P(X \\geq 3)$ con la función `pbinom` y `dbinom`, el número medio de águilas y su desviación estándar."
   ]
  },
  {
   "cell_type": "markdown",
   "metadata": {},
   "source": [
    "3) Considérese una población de votantes en la ciudad de México. Se reporta que la proporción de votantes que favorecen al candidato del partido Naranja es igual a $0.40$. Dada una muestra aleatoria de $200$ votantes, ¿cuál es la probabilidad de que más de la mitad de ellos tengan intención de voto por el candidato naranja? Usar:\n",
    "\n",
    "a)`pbinom`\n",
    "\n",
    "b) El teorema del límite central y `pnorm` considerando lo que se conoce como corrección por continuidad: si $B$ es variable aleatoria binomial con $\\mu$ y $\\sigma$ entonces $P(B=k) = P(k-0.5<X<k+0.5)$ con $X$ variable aleatoria normal $N(\\mu,\\sigma)$ y $k$ un número entero no negativo."
   ]
  },
  {
   "cell_type": "markdown",
   "metadata": {},
   "source": [
    "4) Supongamos que el ingreso anual de un imigrante mexicano en los EUA se distribuye de forma normal con una media de $\\$30,000$ y una desviación estándar de $\\$10,000$ dólares. ¿Cuál es la probabilidad de que un inmigrante mexicano gane menos de $\\$20,000$ dólares anuales? ¿Cuál es la probabilidad de que su ingreso sea mayor a los $\\$50,000$ dólares anuales? (usar *R*)."
   ]
  },
  {
   "cell_type": "code",
   "execution_count": null,
   "metadata": {},
   "outputs": [],
   "source": []
  }
 ],
 "metadata": {
  "kernelspec": {
   "display_name": "R",
   "language": "R",
   "name": "ir"
  },
  "language_info": {
   "codemirror_mode": "r",
   "file_extension": ".r",
   "mimetype": "text/x-r-source",
   "name": "R",
   "pygments_lexer": "r",
   "version": "3.6.0"
  }
 },
 "nbformat": 4,
 "nbformat_minor": 2
}
