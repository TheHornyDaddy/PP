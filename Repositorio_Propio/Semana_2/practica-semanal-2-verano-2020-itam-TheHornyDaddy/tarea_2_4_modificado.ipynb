{
 "cells": [
  {
   "cell_type": "markdown",
   "metadata": {},
   "source": [
    "**Tarea 4:** Ejercicio: aproximar la integral de:"
   ]
  },
  {
   "cell_type": "markdown",
   "metadata": {},
   "source": [
    "$$\\displaystyle \\int_0^1e^{-\\frac{t^2}{2}}dt \\approx .855624391892149$$"
   ]
  },
  {
   "cell_type": "markdown",
   "metadata": {},
   "source": [
    "|n  |grado|# (num de nodos + num de pesos)|pesos: $w_i, w_{i+1}$    |nodos: $x_i, x_{i+1}$              |\n",
    "|---|:----:|:---:|:-------:|:-----------------:|\n",
    "|0  |1|2|2|0|\n",
    "|1  |3|4|1,1|-$\\sqrt{\\frac{1}{3}}$,$\\sqrt{\\frac{1}{3}}$|\n",
    "|2  |5|6|$\\frac{5}{9}$, $\\frac{8}{9}$, $\\frac{5}{9}$ |$-\\sqrt{\\frac{3}{5}}$, 0, $\\sqrt{\\frac{3}{5}}$  |\n",
    "|3  |7|8|0.347855, 0.652145, 0.652145, 0.347855|-0.861136,-0.339981,0.339981,0.861136|\n",
    "|4  |9|10|0.236927, 0.478629, 0.568889, 0.478629, 0.236927 | -0.90618, -0.538469, 0, 0.538469, 0.90618|"
   ]
  },
  {
   "cell_type": "markdown",
   "metadata": {},
   "source": [
    "Y para una integral en $[a,b]$ se utiliza la fórmula de cambio de variable:"
   ]
  },
  {
   "cell_type": "markdown",
   "metadata": {},
   "source": [
    "$$\\displaystyle \\int_{a}^{b}f(t)dt \\approx \\frac{(b-a)}{2} \\displaystyle \\sum_{i=0}^nw_if \\left (\\frac{1}{2}[(b-a)x_i+a+b] \\right )$$"
   ]
  },
  {
   "cell_type": "markdown",
   "metadata": {},
   "source": [
    "**_Solución_:** Creemos primero la función que integrará:"
   ]
  },
  {
   "cell_type": "code",
   "execution_count": 1,
   "metadata": {},
   "outputs": [],
   "source": [
    "# Esto lo hice para verificar si los número que copie de la tabla de arriba son los adecuados:\n",
    "from numpy.polynomial.legendre import leggauss"
   ]
  },
  {
   "cell_type": "code",
   "execution_count": 15,
   "metadata": {},
   "outputs": [
    {
     "data": {
      "text/plain": [
       "(array([0.]), array([2.]))"
      ]
     },
     "execution_count": 15,
     "metadata": {},
     "output_type": "execute_result"
    }
   ],
   "source": [
    "leggauss(1)"
   ]
  },
  {
   "cell_type": "code",
   "execution_count": 16,
   "metadata": {},
   "outputs": [
    {
     "data": {
      "text/plain": [
       "(array([-0.57735027,  0.57735027]), array([1., 1.]))"
      ]
     },
     "execution_count": 16,
     "metadata": {},
     "output_type": "execute_result"
    }
   ],
   "source": [
    "leggauss(2)"
   ]
  },
  {
   "cell_type": "code",
   "execution_count": 17,
   "metadata": {},
   "outputs": [
    {
     "data": {
      "text/plain": [
       "(array([-0.77459667,  0.        ,  0.77459667]),\n",
       " array([0.55555556, 0.88888889, 0.55555556]))"
      ]
     },
     "execution_count": 17,
     "metadata": {},
     "output_type": "execute_result"
    }
   ],
   "source": [
    "leggauss(3)"
   ]
  },
  {
   "cell_type": "code",
   "execution_count": 18,
   "metadata": {},
   "outputs": [
    {
     "data": {
      "text/plain": [
       "(array([-0.86113631, -0.33998104,  0.33998104,  0.86113631]),\n",
       " array([0.34785485, 0.65214515, 0.65214515, 0.34785485]))"
      ]
     },
     "execution_count": 18,
     "metadata": {},
     "output_type": "execute_result"
    }
   ],
   "source": [
    "leggauss(4)"
   ]
  },
  {
   "cell_type": "code",
   "execution_count": 8,
   "metadata": {},
   "outputs": [
    {
     "data": {
      "text/plain": [
       "(array([-0.90617985, -0.53846931,  0.        ,  0.53846931,  0.90617985]),\n",
       " array([0.23692689, 0.47862867, 0.56888889, 0.47862867, 0.23692689]))"
      ]
     },
     "execution_count": 8,
     "metadata": {},
     "output_type": "execute_result"
    }
   ],
   "source": [
    "leggauss(5)"
   ]
  },
  {
   "cell_type": "code",
   "execution_count": 2,
   "metadata": {},
   "outputs": [],
   "source": [
    "def GLf(f,a,b,n): #GLf: Gauss-Legendre quadrature for f\n",
    "    \"\"\"\n",
    "    Compute numerical approximation using quadrature Gauss-Legendre.\n",
    "    Weights and nodes are obtained with table for n=0,1,2,3,4\n",
    "    Args:\n",
    "        f (function): function expression of integrand\n",
    "        a (float): left point of interval\n",
    "        b (float): right point of interval\n",
    "        n (float): number of subintervals\n",
    "    Returns:\n",
    "        sum_res (float): numerical approximation to integral of f in the interval a,b\n",
    "    \"\"\"\n",
    "    \n",
    "    if(n == 0):\n",
    "        w = [2]\n",
    "        x = [0]\n",
    "        sum_res = w[0]*f((1/2)*((b-a)*x[0]+a+b))\n",
    "        sum_res = (b-a)*sum_res/2\n",
    "        return sum_res\n",
    "    \n",
    "    elif(n == 1):\n",
    "        w = [1,1]\n",
    "        x = [-pow(1/3,1/2),pow(1/3,1/2)]\n",
    "        \n",
    "        sum_res = w[0]*f((1/2)*((b-a)*x[0]+a+b)) + w[1]*f((1/2)*((b-a)*x[1]+a+b))\n",
    "        sum_res = (b-a)*sum_res/2\n",
    "        return sum_res\n",
    "        \n",
    "    elif(n == 2):\n",
    "        w = [5/9,8/9,5/9]\n",
    "        x = [-pow(3/5,1/2),0,pow(3/5,1/2)]\n",
    "        \n",
    "        sum_res = w[0]*f((1/2)*((b-a)*x[0]+a+b)) + w[1]*f((1/2)*((b-a)*x[1]+a+b)) + w[2]*f((1/2)*((b-a)*x[2]+a+b))\n",
    "        sum_res = (b-a)*sum_res/2\n",
    "        return sum_res\n",
    "    \n",
    "    elif(n == 3):\n",
    "        w = [0.347855,0.652145,0.652145,0.347855]\n",
    "        x = [-0.861136,-0.339981,0.339981,0.861136]\n",
    "        \n",
    "        sum_res = w[0]*f((1/2)*((b-a)*x[0]+a+b)) + w[1]*f((1/2)*((b-a)*x[1]+a+b)) + w[2]*f((1/2)*((b-a)*x[2]+a+b)) + w[3]*f((1/2)*((b-a)*x[3]+a+b))\n",
    "        sum_res = (b-a)*sum_res/2\n",
    "        return sum_res\n",
    "     \n",
    "    elif(n == 4):\n",
    "        w = [0.236927,0.478629,0.568889,0.478629,0.236927]\n",
    "        x = [-0.90618,-0.538469,0,0.538469,0.90618]\n",
    "        \n",
    "        sum_res = w[0]*f((1/2)*((b-a)*x[0]+a+b)) + w[1]*f((1/2)*((b-a)*x[1]+a+b)) + w[2]*f((1/2)*((b-a)*x[2]+a+b)) + w[3]*f((1/2)*((b-a)*x[3]+a+b)) + w[4]*f((1/2)*((b-a)*x[4]+a+b))\n",
    "        sum_res = (b-a)*sum_res/2\n",
    "        return sum_res\n",
    "    \n",
    "    \n",
    "    \"\"\"\n",
    "    Algorítmo original pero erróneo por alguna razón que no detecto en el for, la solución de arriba que si satisface el teste según los errores calculados abajo, es provicional\n",
    "    debido a que es muy específica\n",
    "    else:\n",
    "        if(n == 1):\n",
    "            w = [1,1]\n",
    "            x = [-pow(1/3,1/2),pow(1/3,1/2)]\n",
    "\n",
    "        elif(n == 2):\n",
    "            w = [5/9,8/9,5/9]\n",
    "            x = [-pow(3/5,1/2),0,pow(3/5,1/2)]\n",
    "\n",
    "        elif(n == 3):\n",
    "            w = [0.347855,0.652145,0.652145,0.347855]\n",
    "            x = [-0.861136,-0.339981,0.339981,0.861136]\n",
    "\n",
    "        elif(n == 4):\n",
    "            w = [0.236927,0.478629,0.568889,0.478629,0.236927]\n",
    "            x = [-0.90618,-0.538469,0,0.538469,0.90618]\n",
    "\n",
    "        for i in range(0,n):\n",
    "            sum_res += w[i]*f((1/2)*((b-a)*x[i]+a+b))\n",
    "            i+=1\n",
    "        sum_res = ((b-a)/2)*sum_res\n",
    "        return sum_res\n",
    "    \n",
    "    \"\"\""
   ]
  },
  {
   "cell_type": "code",
   "execution_count": 3,
   "metadata": {},
   "outputs": [],
   "source": [
    "import numpy as np\n",
    "import math"
   ]
  },
  {
   "cell_type": "markdown",
   "metadata": {},
   "source": [
    "Definamos la función a integrar y los parámetros para la función que la integrará"
   ]
  },
  {
   "cell_type": "code",
   "execution_count": 4,
   "metadata": {},
   "outputs": [
    {
     "name": "stdout",
     "output_type": "stream",
     "text": [
      "1.0\n",
      "0\n",
      "1\n",
      "2\n",
      "3\n",
      "4\n"
     ]
    }
   ],
   "source": [
    "f = lambda x : math.exp((-pow(x,2))/2)\n",
    "print(f(0))\n",
    "a = 0\n",
    "b = 1\n",
    "n = range(0,5)\n",
    "for i in n:\n",
    "    print(n[i])"
   ]
  },
  {
   "cell_type": "markdown",
   "metadata": {},
   "source": [
    "Veamos si funciona nuestro algoritmo para integrar."
   ]
  },
  {
   "cell_type": "code",
   "execution_count": 5,
   "metadata": {},
   "outputs": [
    {
     "name": "stdout",
     "output_type": "stream",
     "text": [
      "El valor de la integral para n=0 es: \n",
      "0.8824969025845955\n",
      " \n",
      "El valor de la integral para n=1 es: \n",
      "0.8553145616837845\n",
      " \n",
      "El valor de la integral para n=2 es: \n",
      "0.8556263940426317\n",
      " \n",
      "El valor de la integral para n=3 es: \n",
      "0.8556243937941527\n",
      " \n",
      "El valor de la integral para n=4 es: \n",
      "0.8556248255858607\n",
      " \n"
     ]
    }
   ],
   "source": [
    "for i in range(0,len(n)):\n",
    "    print(\"El valor de la integral para n=\" + str(n[i]) + \" es: \")\n",
    "    print(GLf(f,a,b,n[i]))\n",
    "    print(\" \")"
   ]
  },
  {
   "cell_type": "markdown",
   "metadata": {},
   "source": [
    "Ahora creemos el módulo de esta función."
   ]
  },
  {
   "cell_type": "code",
   "execution_count": 6,
   "metadata": {},
   "outputs": [
    {
     "name": "stdout",
     "output_type": "stream",
     "text": [
      "Writing gauss_legendre_quadrature.py\n"
     ]
    }
   ],
   "source": [
    "%%file gauss_legendre_quadrature.py\n",
    "def GLf(f,a,b,n): #GLf: Gauss-Legendre quadrature for f\n",
    "    \"\"\"\n",
    "    Compute numerical approximation using quadrature Gauss-Legendre.\n",
    "    Weights and nodes are obtained with table for n=0,1,2,3,4\n",
    "    Args:\n",
    "        f (function): function expression of integrand\n",
    "        a (float): left point of interval\n",
    "        b (float): right point of interval\n",
    "        n (float): number of subintervals\n",
    "    Returns:\n",
    "        sum_res (float): numerical approximation to integral of f in the interval a,b\n",
    "    \"\"\"\n",
    "    \n",
    "    if(n == 0):\n",
    "        w = [2]\n",
    "        x = [0]\n",
    "        sum_res = w[0]*f((1/2)*((b-a)*x[0]+a+b))\n",
    "        sum_res = (b-a)*sum_res/2\n",
    "        return sum_res\n",
    "    \n",
    "    elif(n == 1):\n",
    "        w = [1,1]\n",
    "        x = [-pow(1/3,1/2),pow(1/3,1/2)]\n",
    "        \n",
    "        sum_res = w[0]*f((1/2)*((b-a)*x[0]+a+b)) + w[1]*f((1/2)*((b-a)*x[1]+a+b))\n",
    "        sum_res = (b-a)*sum_res/2\n",
    "        return sum_res\n",
    "        \n",
    "    elif(n == 2):\n",
    "        w = [5/9,8/9,5/9]\n",
    "        x = [-pow(3/5,1/2),0,pow(3/5,1/2)]\n",
    "        \n",
    "        sum_res = w[0]*f((1/2)*((b-a)*x[0]+a+b)) + w[1]*f((1/2)*((b-a)*x[1]+a+b)) + w[2]*f((1/2)*((b-a)*x[2]+a+b))\n",
    "        sum_res = (b-a)*sum_res/2\n",
    "        return sum_res\n",
    "    \n",
    "    elif(n == 3):\n",
    "        w = [0.347855,0.652145,0.652145,0.347855]\n",
    "        x = [-0.861136,-0.339981,0.339981,0.861136]\n",
    "        \n",
    "        sum_res = w[0]*f((1/2)*((b-a)*x[0]+a+b)) + w[1]*f((1/2)*((b-a)*x[1]+a+b)) + w[2]*f((1/2)*((b-a)*x[2]+a+b)) + w[3]*f((1/2)*((b-a)*x[3]+a+b))\n",
    "        sum_res = (b-a)*sum_res/2\n",
    "        return sum_res\n",
    "     \n",
    "    elif(n == 4):\n",
    "        w = [0.236927,0.478629,0.568889,0.478629,0.236927]\n",
    "        x = [-0.90618,-0.538469,0,0.538469,0.90618]\n",
    "        \n",
    "        sum_res = w[0]*f((1/2)*((b-a)*x[0]+a+b)) + w[1]*f((1/2)*((b-a)*x[1]+a+b)) + w[2]*f((1/2)*((b-a)*x[2]+a+b)) + w[3]*f((1/2)*((b-a)*x[3]+a+b)) + w[4]*f((1/2)*((b-a)*x[4]+a+b))\n",
    "        sum_res = (b-a)*sum_res/2\n",
    "        return sum_res\n",
    "    \n",
    "    \n",
    "    \"\"\"\n",
    "    Algorítmo original pero erróneo por alguna razón que no detecto en el for, la solución de arriba que si satisface el teste según los errores calculados abajo, es provicional\n",
    "    debido a que es muy específica\n",
    "    else:\n",
    "        if(n == 1):\n",
    "            w = [1,1]\n",
    "            x = [-pow(1/3,1/2),pow(1/3,1/2)]\n",
    "\n",
    "        elif(n == 2):\n",
    "            w = [5/9,8/9,5/9]\n",
    "            x = [-pow(3/5,1/2),0,pow(3/5,1/2)]\n",
    "\n",
    "        elif(n == 3):\n",
    "            w = [0.347855,0.652145,0.652145,0.347855]\n",
    "            x = [-0.861136,-0.339981,0.339981,0.861136]\n",
    "\n",
    "        elif(n == 4):\n",
    "            w = [0.236927,0.478629,0.568889,0.478629,0.236927]\n",
    "            x = [-0.90618,-0.538469,0,0.538469,0.90618]\n",
    "\n",
    "        for i in range(0,n):\n",
    "            sum_res += w[i]*f((1/2)*((b-a)*x[i]+a+b))\n",
    "            i+=1\n",
    "        sum_res = ((b-a)/2)*sum_res\n",
    "        return sum_res\n",
    "    "
   ]
  },
  {
   "cell_type": "markdown",
   "metadata": {},
   "source": [
    "Se aprecia que conforme mayor sea n, más se aproxima la integral al valor real aunque con *n=4* no fue suficiente para ser un valor aceptable."
   ]
  },
  {
   "cell_type": "markdown",
   "metadata": {},
   "source": [
    "Veamos ahora los errores"
   ]
  },
  {
   "cell_type": "code",
   "execution_count": 10,
   "metadata": {},
   "outputs": [],
   "source": [
    "def rae(approx, obj):\n",
    "    abs_obj = pow(pow(obj,2),1/2)\n",
    "    abs_ao = pow(pow(approx - obj,2),1/2)\n",
    "    if(abs_obj > 0 ):\n",
    "        return abs_ao/abs_obj\n",
    "    else:\n",
    "        return abs_ao"
   ]
  },
  {
   "cell_type": "code",
   "execution_count": 12,
   "metadata": {},
   "outputs": [],
   "source": [
    "obj = 0.855624391892149"
   ]
  },
  {
   "cell_type": "code",
   "execution_count": 13,
   "metadata": {},
   "outputs": [
    {
     "name": "stdout",
     "output_type": "stream",
     "text": [
      "El error de la integral para n=0 es: \n",
      "0.03140690114387683\n",
      " \n",
      "El error de la integral para n=1 es: \n",
      "0.0003621100699096914\n",
      " \n",
      "El error de la integral para n=2 es: \n",
      "2.3399876180606825e-06\n",
      " \n",
      "El error de la integral para n=3 es: \n",
      "2.2229423140576968e-09\n",
      " \n",
      "El error de la integral para n=4 es: \n",
      "5.068739458934811e-07\n",
      " \n"
     ]
    }
   ],
   "source": [
    "for i in range(0,len(n)):\n",
    "    print(\"El error de la integral para n=\" + str(n[i]) + \" es: \")\n",
    "    print(rae(GLf(f,a,b,n[i]),obj))\n",
    "    print(\" \")"
   ]
  },
  {
   "cell_type": "markdown",
   "metadata": {},
   "source": [
    "Creemos la gráfica:"
   ]
  },
  {
   "cell_type": "code",
   "execution_count": 14,
   "metadata": {},
   "outputs": [],
   "source": [
    "import matplotlib.pyplot as plt"
   ]
  },
  {
   "cell_type": "code",
   "execution_count": 17,
   "metadata": {},
   "outputs": [
    {
     "data": {
      "text/plain": [
       "[0.03140690114387683,\n",
       " 0.0003621100699096914,\n",
       " 2.3399876180606825e-06,\n",
       " 2.2229423140576968e-09,\n",
       " 5.068739458934811e-07]"
      ]
     },
     "execution_count": 17,
     "metadata": {},
     "output_type": "execute_result"
    }
   ],
   "source": [
    "err = []\n",
    "for i in range(0,len(n)):\n",
    "    err.append(rae(GLf(f,a,b,n[i]),obj))\n",
    "err"
   ]
  },
  {
   "cell_type": "code",
   "execution_count": 18,
   "metadata": {},
   "outputs": [
    {
     "data": {
      "image/png": "[encoded data removed]",
      "text/plain": [
       "<Figure size 432x288 with 1 Axes>"
      ]
     },
     "metadata": {
      "needs_background": "light"
     },
     "output_type": "display_data"
    }
   ],
   "source": [
    "plt.plot(n,err, c = \"black\" , ls = '--' , marker = '^' , linewidth=2.0 , markersize = 10.0 , markeredgecolor='red' , markerfacecolor = 'cyan')\n",
    "plt.title(\"Error relativo vs n\" , fontsize = 18 , color = \"purple\")\n",
    "plt.xlabel(\"n\" , fontsize = 15 , color = \"purple\")\n",
    "plt.ylabel(\"Error relativo\" , fontsize = 15 , color = \"purple\")\n",
    "plt.grid(True)\n",
    "plt.show()"
   ]
  },
  {
   "cell_type": "code",
   "execution_count": 19,
   "metadata": {},
   "outputs": [
    {
     "data": {
      "text/plain": [
       "<Figure size 432x288 with 0 Axes>"
      ]
     },
     "metadata": {},
     "output_type": "display_data"
    }
   ],
   "source": [
    "plt.savefig('Grafica_2.png')"
   ]
  }
 ],
 "metadata": {
  "kernelspec": {
   "display_name": "Python 3",
   "language": "python",
   "name": "python3"
  },
  "language_info": {
   "codemirror_mode": {
    "name": "ipython",
    "version": 3
   },
   "file_extension": ".py",
   "mimetype": "text/x-python",
   "name": "python",
   "nbconvert_exporter": "python",
   "pygments_lexer": "ipython3",
   "version": "3.6.9"
  }
 },
 "nbformat": 4,
 "nbformat_minor": 4
}
