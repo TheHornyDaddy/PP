{
 "cells": [
  {
   "cell_type": "markdown",
   "metadata": {},
   "source": [
    "**Tarea 5:** Aproximar las integrales: $$(2\\pi\\sigma^2)^{-\\frac{1}{2}}\\displaystyle \\int_{-\\infty}^\\infty te^{\\frac{-(t-\\mu)^2}{2\\sigma^2}}dt$$"
   ]
  },
  {
   "cell_type": "markdown",
   "metadata": {},
   "source": [
    "$$(2\\pi\\sigma^2)^{-\\frac{1}{2}}\\displaystyle \\int_{-\\infty}^\\infty t^2e^{\\frac{-(t-\\mu)^2}{2\\sigma^2}}dt$$"
   ]
  },
  {
   "cell_type": "markdown",
   "metadata": {},
   "source": [
    "**donde: $\\sigma=0.25, \\mu=0.15$ cuyos valores respectivamente son: $0.15, 0.085$ con cuadratura de Gauss-Hermite y $n=5$. Para lo anterior, realizar cambio de variable $x=\\frac{t-\\mu}{\\sqrt{2\\sigma^2}}, dt=\\sqrt{2\\sigma^2}dx$. En el módulo de `numerical_integration.py` crear una función:**"
   ]
  },
  {
   "cell_type": "markdown",
   "metadata": {},
   "source": [
    "**_Solución:_** La relación que nos permite hallar la integral es la siguiente:"
   ]
  },
  {
   "cell_type": "markdown",
   "metadata": {},
   "source": [
    "$$\n",
    " \\int_{-\\infty}^\\infty e^{-x^2}f(x)dx \\approx \\sum_{i=0}^{n}A_{i}f(x_{i})\n",
    "$$"
   ]
  },
  {
   "cell_type": "markdown",
   "metadata": {},
   "source": [
    "donde los pesos $A_{i}$ están dados de la siguiente manera:"
   ]
  },
  {
   "cell_type": "markdown",
   "metadata": {},
   "source": [
    "$$\n",
    "A_{i} = \\frac{2^{n + 2}(n + 1)!\\sqrt{\\pi}}{(H_{n+1}(x_{i}))^{2}}\n",
    "$$"
   ]
  },
  {
   "cell_type": "markdown",
   "metadata": {},
   "source": [
    "donde $H_n$ son los *n*-ésimos polinomios de Hermite y $x_{i}$ su *i*-ésima raíz."
   ]
  },
  {
   "cell_type": "markdown",
   "metadata": {},
   "source": [
    "Con el cambio de variable propuesto nuestras funciones $f(x_{i})$ son:"
   ]
  },
  {
   "cell_type": "markdown",
   "metadata": {},
   "source": [
    "$$f_{1}(x_{i}) = \\pi^{-1/2}\\left( \\sqrt{2\\sigma^{2}}x_{i} + \\mu \\right)$$\n",
    "$$f_{2}(x_{i}) = \\pi^{-1/2}\\left( \\sqrt{2\\sigma^{2}}x_{i} + \\mu \\right)^{2}$$"
   ]
  },
  {
   "cell_type": "markdown",
   "metadata": {},
   "source": [
    "Python cuenta con una librería para hallar tanto los pesos como los nodos, dicha librería se importará a continuación:"
   ]
  },
  {
   "cell_type": "code",
   "execution_count": 1,
   "metadata": {},
   "outputs": [],
   "source": [
    "from scipy.special import roots_hermite\n",
    "import numpy as np"
   ]
  },
  {
   "cell_type": "markdown",
   "metadata": {},
   "source": [
    "En este caso, la ecuación dada arriba para los pesos tiene un cambio de variable de $n-1$ para que concuerde con la relación conocida para que concuerde con el módulo antes descrito, es decir, se nos pide para $n=5$, entonces tenemos que poner en el argumento de la función $n=6$."
   ]
  },
  {
   "cell_type": "code",
   "execution_count": 2,
   "metadata": {},
   "outputs": [
    {
     "data": {
      "text/plain": [
       "(array([-2.35060497, -1.33584907, -0.43607741,  0.43607741,  1.33584907,\n",
       "         2.35060497]),\n",
       " array([0.00453001, 0.15706732, 0.7246296 , 0.7246296 , 0.15706732,\n",
       "        0.00453001]))"
      ]
     },
     "execution_count": 2,
     "metadata": {},
     "output_type": "execute_result"
    }
   ],
   "source": [
    "n = 6\n",
    "aux = roots_hermite(6)\n",
    "aux"
   ]
  },
  {
   "cell_type": "markdown",
   "metadata": {},
   "source": [
    "El primer renglón corresponde a los nodos y el segundo a los pesos. La idea de hacer esto vinó del hecho de que al estar relacionado con personas que usan bibliotecas relacionadas, sabía que hay funciones de esta librería para la funciones especiales.\n",
    "\n",
    "Creemos una lista los nodos y pesos por separado"
   ]
  },
  {
   "cell_type": "code",
   "execution_count": 3,
   "metadata": {},
   "outputs": [
    {
     "name": "stdout",
     "output_type": "stream",
     "text": [
      "[-2.350604973674492, -1.3358490740136968, -0.4360774119276165, 0.4360774119276165, 1.3358490740136968, 2.350604973674492]\n",
      "[0.004530009905508862, 0.1570673203228565, 0.7246295952243925, 0.7246295952243925, 0.1570673203228565, 0.004530009905508862]\n"
     ]
    }
   ],
   "source": [
    "x = []\n",
    "w = []\n",
    "\n",
    "for i in range(0,6):\n",
    "    x.append(aux[0][i])\n",
    "    w.append(aux[1][i])\n",
    "    \n",
    "print(x)\n",
    "print(w)"
   ]
  },
  {
   "cell_type": "markdown",
   "metadata": {},
   "source": [
    "Entonces, viendo que todo funciona como debe, creemos la función ya con el arreglo *aux* dado explícitamente."
   ]
  },
  {
   "cell_type": "code",
   "execution_count": 25,
   "metadata": {},
   "outputs": [],
   "source": [
    "def GHf(f,mu, sigma): #GHf: Gauss-Hermite quadrature for f\n",
    "    \"\"\"\n",
    "    Compute numerical approximation using quadrature Gauss-Hermite.\n",
    "    Weights and nodes are obtained with table in Kiusalaas for n=6\n",
    "    Args:\n",
    "        f (function): function expression of integrand\n",
    "        mu (float): mean\n",
    "        sigma (float): standard deviation\n",
    "    Returns:\n",
    "        sum_res (float): numerical approximation to integral of f in the interval a,b\n",
    "    \"\"\"\n",
    "    aux = [[-2.35060497, -1.33584907, -0.43607741,  0.43607741,  1.33584907,\n",
    "          2.35060497],\n",
    "          [0.00453001, 0.15706732, 0.7246296 , 0.7246296 , 0.15706732,\n",
    "          0.00453001]]\n",
    "    x = []\n",
    "    w = []\n",
    "\n",
    "    for i in range(0,6):\n",
    "        x.append(aux[0][i])\n",
    "        w.append(aux[1][i])\n",
    "        \n",
    "    sum_res = 0\n",
    "        \n",
    "    for i in range(0,6):\n",
    "        sum_res += w[i]*f(x[i]*pow(2*sigma**2,1/2) + mu)*pow(3.14159265358979323846,-1/2)\n",
    "    \n",
    "    return sum_res"
   ]
  },
  {
   "cell_type": "markdown",
   "metadata": {},
   "source": [
    "**La parte del número pi $$\\sqrt{\\pi}$$ la comenté en un chat grupal por lo cual puede algunos coincidan con ello puesto que  a base de prueba y error me di ceunta que entre más dígitos uno ponga, menor es el error.**"
   ]
  },
  {
   "cell_type": "markdown",
   "metadata": {},
   "source": [
    "Definamos los parámetros y las dos funciones que integraremos:"
   ]
  },
  {
   "cell_type": "code",
   "execution_count": 26,
   "metadata": {},
   "outputs": [],
   "source": [
    "sigma = 0.25\n",
    "mu = 0.15\n",
    "f1 = lambda x : x\n",
    "f2 = lambda x : x**2"
   ]
  },
  {
   "cell_type": "markdown",
   "metadata": {},
   "source": [
    "Obtengamos ahora las integrales respectivamente:"
   ]
  },
  {
   "cell_type": "code",
   "execution_count": 27,
   "metadata": {},
   "outputs": [
    {
     "name": "stdout",
     "output_type": "stream",
     "text": [
      "La integral de la función f1 es: 0.15000000076965195\n",
      "La integral de la función f2 es: 0.08499999981548606\n"
     ]
    }
   ],
   "source": [
    "print(\"La integral de la función f1 es: \" + str(GHf(f1,mu,sigma)))\n",
    "print(\"La integral de la función f2 es: \" + str(GHf(f2,mu,sigma)))"
   ]
  },
  {
   "cell_type": "markdown",
   "metadata": {},
   "source": [
    "Calculesmos ahora los errores relativos:"
   ]
  },
  {
   "cell_type": "code",
   "execution_count": 28,
   "metadata": {},
   "outputs": [],
   "source": [
    "import relative_absolute_error as raer"
   ]
  },
  {
   "cell_type": "code",
   "execution_count": 29,
   "metadata": {},
   "outputs": [
    {
     "name": "stdout",
     "output_type": "stream",
     "text": [
      "El error relativo de la función f1 es: 5.13101302187143e-09\n",
      "El error relativo de la función f2 es: 2.170752303399999e-09\n"
     ]
    }
   ],
   "source": [
    "obj1 = 0.15\n",
    "obj2 = 0.085\n",
    "\n",
    "print(\"El error relativo de la función f1 es: \" + str(raer.rae(GHf(f1,mu,sigma),obj1)))\n",
    "print(\"El error relativo de la función f2 es: \" + str(raer.rae(GHf(f2,mu,sigma),obj2)))"
   ]
  },
  {
   "cell_type": "markdown",
   "metadata": {},
   "source": [
    "Vemos que los errores son bastantes aceptables y menores a $10^{-6}$."
   ]
  },
  {
   "cell_type": "markdown",
   "metadata": {},
   "source": [
    "Por último, importemos el módulo"
   ]
  },
  {
   "cell_type": "code",
   "execution_count": 30,
   "metadata": {},
   "outputs": [
    {
     "name": "stdout",
     "output_type": "stream",
     "text": [
      "Overwriting gauss_hermite_quadrature.py\n"
     ]
    }
   ],
   "source": [
    "%%file gauss_hermite_quadrature.py\n",
    "def GHf(f,mu, sigma): #GHf: Gauss-Hermite quadrature for f\n",
    "    \"\"\"\n",
    "    Compute numerical approximation using quadrature Gauss-Hermite.\n",
    "    Weights and nodes are obtained with table in Kiusalaas for n=6\n",
    "    Args:\n",
    "        f (function): function expression of integrand\n",
    "        mu (float): mean\n",
    "        sigma (float): standard deviation\n",
    "    Returns:\n",
    "        sum_res (float): numerical approximation to integral of f in the interval a,b\n",
    "    \"\"\"\n",
    "    aux = [[-2.35060497, -1.33584907, -0.43607741,  0.43607741,  1.33584907,\n",
    "          2.35060497],\n",
    "          [0.00453001, 0.15706732, 0.7246296 , 0.7246296 , 0.15706732,\n",
    "          0.00453001]]\n",
    "    x = []\n",
    "    w = []\n",
    "\n",
    "    for i in range(0,6):\n",
    "        x.append(aux[0][i])\n",
    "        w.append(aux[1][i])\n",
    "        \n",
    "    sum_res = 0\n",
    "        \n",
    "    for i in range(0,6):\n",
    "        sum_res += w[i]*f(x[i]*pow(2*sigma**2,1/2) + mu)*pow(3.14159265358979323846,-1/2)\n",
    "    \n",
    "    return sum_res"
   ]
  }
 ],
 "metadata": {
  "kernelspec": {
   "display_name": "Python 3",
   "language": "python",
   "name": "python3"
  },
  "language_info": {
   "codemirror_mode": {
    "name": "ipython",
    "version": 3
   },
   "file_extension": ".py",
   "mimetype": "text/x-python",
   "name": "python",
   "nbconvert_exporter": "python",
   "pygments_lexer": "ipython3",
   "version": "3.7.6"
  }
 },
 "nbformat": 4,
 "nbformat_minor": 4
}
