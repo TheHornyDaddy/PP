{
 "cells": [
  {
   "cell_type": "markdown",
   "metadata": {},
   "source": [
    "**Tarea 4:** Ejercicio: aproximar la integral de:"
   ]
  },
  {
   "cell_type": "markdown",
   "metadata": {},
   "source": [
    "$$\\displaystyle \\int_0^1e^{-\\frac{t^2}{2}}dt \\approx .855624391892149$$"
   ]
  },
  {
   "cell_type": "markdown",
   "metadata": {},
   "source": [
    "|n  |grado|# (num de nodos + num de pesos)|pesos: $w_i, w_{i+1}$    |nodos: $x_i, x_{i+1}$              |\n",
    "|---|:----:|:---:|:-------:|:-----------------:|\n",
    "|0  |1|2|2|0|\n",
    "|1  |3|4|1,1|-$\\sqrt{\\frac{1}{3}}$,$\\sqrt{\\frac{1}{3}}$|\n",
    "|2  |5|6|$\\frac{5}{9}$, $\\frac{8}{9}$, $\\frac{5}{9}$ |$-\\sqrt{\\frac{3}{5}}$, 0, $\\sqrt{\\frac{3}{5}}$  |\n",
    "|3  |7|8|0.347855, 0.652145, 0.652145, 0.347855|-0.861136,-0.339981,0.339981,0.861136|\n",
    "|4  |9|10|0.236927, 0.478629, 0.568889, 0.478629, 0.236927 | -0.90618, -0.538469, 0, 0.538469, 0.90618|"
   ]
  },
  {
   "cell_type": "markdown",
   "metadata": {},
   "source": [
    "Y para una integral en $[a,b]$ se utiliza la fórmula de cambio de variable:"
   ]
  },
  {
   "cell_type": "markdown",
   "metadata": {},
   "source": [
    "$$\\displaystyle \\int_{a}^{b}f(t)dt \\approx \\frac{(b-a)}{2} \\displaystyle \\sum_{i=0}^nw_if \\left (\\frac{1}{2}[(b-a)x_i+a+b] \\right )$$"
   ]
  },
  {
   "cell_type": "markdown",
   "metadata": {},
   "source": [
    "**_Solución_:** Creemos primero la función que integraráa prueba y error:"
   ]
  },
  {
   "cell_type": "code",
   "execution_count": 4,
   "metadata": {},
   "outputs": [],
   "source": [
    "def GLf(f,a,b,n): #GLf: Gauss-Legendre quadrature for f\n",
    "    \"\"\"\n",
    "    Compute numerical approximation using quadrature Gauss-Legendre.\n",
    "    Weights and nodes are obtained with table for n=0,1,2,3,4\n",
    "    Args:\n",
    "        f (function): function expression of integrand\n",
    "        a (float): left point of interval\n",
    "        b (float): right point of interval\n",
    "        n (float): number of subintervals\n",
    "    Returns:\n",
    "        sum_res (float): numerical approximation to integral of f in the interval a,b\n",
    "    \"\"\"\n",
    "    \n",
    "    if(n == 0):\n",
    "        w = [2]\n",
    "        x = [0]\n",
    "    \n",
    "    elif(n == 1):\n",
    "        w = [1,1]\n",
    "        x = [-pow(1/3,1/2),pow(1/3,1/2)]\n",
    "        \n",
    "    elif(n == 2):\n",
    "        w = [5/9,8/9,5/9]\n",
    "        x = [-pow(3/5,1/2),0,pow(3/5,1/2)]\n",
    "        \n",
    "    elif(n == 3):\n",
    "        w = [0.347855,0.652145,0.652145,0.347855]\n",
    "        x = [-0.861136,-0.339981,0.339981,0.861136]\n",
    "        \n",
    "    elif(n == 4):\n",
    "        w = [0.236927,0.478629,0.568889,0.478629,0.236927]\n",
    "        x = [-0.90618,-0.538469,0,0.538469,0.90618]\n",
    "    \n",
    "    else:\n",
    "        print(\"Error\")\n",
    "    \n",
    "    sum_aux = 0\n",
    "    \n",
    "    for i in range(0,n+1):\n",
    "        sum_aux += w[i]*f(0.5*((b-a)*x[i]+a+b))\n",
    "    sum_res = ((b-a)/2)*sum_aux\n",
    "                          \n",
    "    return sum_res"
   ]
  },
  {
   "cell_type": "code",
   "execution_count": 2,
   "metadata": {},
   "outputs": [],
   "source": [
    "import numpy as np\n",
    "import math"
   ]
  },
  {
   "cell_type": "markdown",
   "metadata": {},
   "source": [
    "Definamos la función a integrar y los parámetros para la función que la integrará"
   ]
  },
  {
   "cell_type": "code",
   "execution_count": 5,
   "metadata": {},
   "outputs": [
    {
     "name": "stdout",
     "output_type": "stream",
     "text": [
      "1.0\n",
      "0\n",
      "1\n",
      "2\n",
      "3\n",
      "4\n"
     ]
    }
   ],
   "source": [
    "f = lambda x : math.exp((-pow(x,2))/2)\n",
    "print(f(0))\n",
    "a = 0\n",
    "b = 1\n",
    "n = range(0,5)\n",
    "for i in n:\n",
    "    print(n[i])"
   ]
  },
  {
   "cell_type": "markdown",
   "metadata": {},
   "source": [
    "Veamos si funciona nuestro algoritmo para integrar."
   ]
  },
  {
   "cell_type": "code",
   "execution_count": 6,
   "metadata": {},
   "outputs": [
    {
     "name": "stdout",
     "output_type": "stream",
     "text": [
      "El valor de la integral para n=0 es: \n",
      "0.8824969025845955\n",
      " \n",
      "El valor de la integral para n=1 es: \n",
      "0.8553145616837845\n",
      " \n",
      "El valor de la integral para n=2 es: \n",
      "0.8556263940426317\n",
      " \n",
      "El valor de la integral para n=3 es: \n",
      "0.8556243937941527\n",
      " \n",
      "El valor de la integral para n=4 es: \n",
      "0.8556248255858607\n",
      " \n"
     ]
    }
   ],
   "source": [
    "for i in range(0,len(n)):\n",
    "    print(\"El valor de la integral para n=\" + str(n[i]) + \" es: \")\n",
    "    print(GLf(f,a,b,n[i]))\n",
    "    print(\" \")"
   ]
  },
  {
   "cell_type": "markdown",
   "metadata": {},
   "source": [
    "Ahora creemos el módulo de esta función."
   ]
  },
  {
   "cell_type": "code",
   "execution_count": 7,
   "metadata": {},
   "outputs": [
    {
     "name": "stdout",
     "output_type": "stream",
     "text": [
      "Overwriting gauss_legendre_quadrature.py\n"
     ]
    }
   ],
   "source": [
    "%%file gauss_legendre_quadrature.py\n",
    "def GLf(f,a,b,n): #GLf: Gauss-Legendre quadrature for f\n",
    "    \"\"\"\n",
    "    Compute numerical approximation using quadrature Gauss-Legendre.\n",
    "    Weights and nodes are obtained with table for n=0,1,2,3,4\n",
    "    Args:\n",
    "        f (function): function expression of integrand\n",
    "        a (float): left point of interval\n",
    "        b (float): right point of interval\n",
    "        n (float): number of subintervals\n",
    "    Returns:\n",
    "        sum_res (float): numerical approximation to integral of f in the interval a,b\n",
    "    \"\"\"\n",
    "    \n",
    "    if(n == 0):\n",
    "        w = [2]\n",
    "        x = [0]\n",
    "    \n",
    "    elif(n == 1):\n",
    "        w = [1,1]\n",
    "        x = [-pow(1/3,1/2),pow(1/3,1/2)]\n",
    "        \n",
    "    elif(n == 2):\n",
    "        w = [5/9,8/9,5/9]\n",
    "        x = [-pow(3/5,1/2),0,pow(3/5,1/2)]\n",
    "        \n",
    "    elif(n == 3):\n",
    "        w = [0.347855,0.652145,0.652145,0.347855]\n",
    "        x = [-0.861136,-0.339981,0.339981,0.861136]\n",
    "        \n",
    "    elif(n == 4):\n",
    "        w = [0.236927,0.478629,0.568889,0.478629,0.236927]\n",
    "        x = [-0.90618,-0.538469,0,0.538469,0.90618]\n",
    "    \n",
    "    else:\n",
    "        print(\"Error\")\n",
    "    \n",
    "    sum_aux = 0\n",
    "    \n",
    "    for i in range(0,n+1):\n",
    "        sum_aux += w[i]*f(0.5*((b-a)*x[i]+a+b))\n",
    "    sum_res = ((b-a)/2)*sum_aux\n",
    "                          \n",
    "    return sum_res"
   ]
  },
  {
   "cell_type": "markdown",
   "metadata": {},
   "source": [
    "Se aprecia que conforme mayor sea n, más se aproxima la integral al valor real aunque con *n=4* no fue suficiente para ser un valor aceptable."
   ]
  },
  {
   "cell_type": "markdown",
   "metadata": {},
   "source": [
    "Veamos ahora los errores"
   ]
  },
  {
   "cell_type": "code",
   "execution_count": 8,
   "metadata": {},
   "outputs": [],
   "source": [
    "import gauss_legendre_quadrature as galq\n",
    "import relative_absolute_error as raer"
   ]
  },
  {
   "cell_type": "code",
   "execution_count": 9,
   "metadata": {},
   "outputs": [],
   "source": [
    "obj = 0.855624391892149"
   ]
  },
  {
   "cell_type": "code",
   "execution_count": 10,
   "metadata": {},
   "outputs": [
    {
     "name": "stdout",
     "output_type": "stream",
     "text": [
      "El error de la integral para n=0 es: \n",
      "0.03140690114387683\n",
      " \n",
      "El error de la integral para n=1 es: \n",
      "0.0003621100699096914\n",
      " \n",
      "El error de la integral para n=2 es: \n",
      "2.3399876180606825e-06\n",
      " \n",
      "El error de la integral para n=3 es: \n",
      "2.2229423140576968e-09\n",
      " \n",
      "El error de la integral para n=4 es: \n",
      "5.068739458934811e-07\n",
      " \n"
     ]
    }
   ],
   "source": [
    "for i in range(0,len(n)):\n",
    "    print(\"El error de la integral para n=\" + str(n[i]) + \" es: \")\n",
    "    print(raer.rae(galq.GLf(f,a,b,n[i]),obj))\n",
    "    print(\" \")"
   ]
  },
  {
   "cell_type": "markdown",
   "metadata": {},
   "source": [
    "Se aprecia que a partir de $n=3$ los errorees están por debajo de $10^{-6}$, cumpliendo así con el objetivo del test."
   ]
  },
  {
   "cell_type": "markdown",
   "metadata": {},
   "source": [
    "Creemos la gráfica:"
   ]
  },
  {
   "cell_type": "code",
   "execution_count": 11,
   "metadata": {},
   "outputs": [],
   "source": [
    "import matplotlib.pyplot as plt"
   ]
  },
  {
   "cell_type": "code",
   "execution_count": 12,
   "metadata": {},
   "outputs": [
    {
     "data": {
      "text/plain": [
       "[0.03140690114387683,\n",
       " 0.0003621100699096914,\n",
       " 2.3399876180606825e-06,\n",
       " 2.2229423140576968e-09,\n",
       " 5.068739458934811e-07]"
      ]
     },
     "execution_count": 12,
     "metadata": {},
     "output_type": "execute_result"
    }
   ],
   "source": [
    "err = []\n",
    "for i in range(0,len(n)):\n",
    "    err.append(raer.rae(galq.GLf(f,a,b,n[i]),obj))\n",
    "err"
   ]
  },
  {
   "cell_type": "code",
   "execution_count": 13,
   "metadata": {},
   "outputs": [
    {
     "data": {
      "image/png": "[encoded data removed]",
      "text/plain": [
       "<Figure size 432x288 with 1 Axes>"
      ]
     },
     "metadata": {
      "needs_background": "light"
     },
     "output_type": "display_data"
    }
   ],
   "source": [
    "plt.plot(n,err, c = \"black\" , ls = '--' , marker = '^' , linewidth=2.0 , markersize = 10.0 , markeredgecolor='red' , markerfacecolor = 'cyan')\n",
    "plt.title(\"Error relativo vs n\" , fontsize = 18 , color = \"purple\")\n",
    "plt.xlabel(\"n\" , fontsize = 15 , color = \"purple\")\n",
    "plt.ylabel(\"Error relativo\" , fontsize = 15 , color = \"purple\")\n",
    "plt.grid(True)\n",
    "plt.show()"
   ]
  },
  {
   "cell_type": "markdown",
   "metadata": {},
   "source": [
    "Para las ideas de diseño me inspiré en trabajos previos que he hecho en un repositorio propio: \n",
    "[Repositorio](https://github.com/TheHornyDaddy/48q6a5nevexwrUFv/blob/master/Python_para_Data_Science_con_Ejercicios_Reales/Seccion%204/Matrices.ipynb)"
   ]
  },
  {
   "cell_type": "code",
   "execution_count": 20,
   "metadata": {},
   "outputs": [
    {
     "data": {
      "text/plain": [
       "<Figure size 432x288 with 0 Axes>"
      ]
     },
     "metadata": {},
     "output_type": "display_data"
    }
   ],
   "source": [
    "plt.savefig('Grafica_2.png')"
   ]
  }
 ],
 "metadata": {
  "kernelspec": {
   "display_name": "Python 3",
   "language": "python",
   "name": "python3"
  },
  "language_info": {
   "codemirror_mode": {
    "name": "ipython",
    "version": 3
   },
   "file_extension": ".py",
   "mimetype": "text/x-python",
   "name": "python",
   "nbconvert_exporter": "python",
   "pygments_lexer": "ipython3",
   "version": "3.7.6"
  }
 },
 "nbformat": 4,
 "nbformat_minor": 4
}
