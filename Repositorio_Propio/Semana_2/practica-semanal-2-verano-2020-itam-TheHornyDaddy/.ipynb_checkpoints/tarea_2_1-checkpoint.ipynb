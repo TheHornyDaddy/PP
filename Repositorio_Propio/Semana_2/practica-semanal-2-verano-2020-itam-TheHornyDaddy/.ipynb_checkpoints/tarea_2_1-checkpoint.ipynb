{
 "cells": [
  {
   "cell_type": "markdown",
   "metadata": {},
   "source": [
    "**Ejercicio 1:** Realizar una gráfica de log(error relativo) vs log(h) (h en el eje horizontal) para aproximar la segunda derivada de $f(x)=e^{-x}$ en $x=1$ con $h \\in \\{10^{-16}, 10^{-14}, \\dots , 10^{-1}\\}$ y diferencias hacia delante. Valor a aproximar: $f^{(2)}(1) = e^{-1}$. Usar:"
   ]
  },
  {
   "cell_type": "markdown",
   "metadata": {},
   "source": [
    "$$\\frac{d^2f(x)}{dx} \\approx \\frac{f(x+2h)-2f(x+h)+f(x)}{h^2}$$"
   ]
  },
  {
   "cell_type": "markdown",
   "metadata": {},
   "source": [
    "**Solución:** Creemos primeros la lista que contendrá los valores de $log(h)$."
   ]
  },
  {
   "cell_type": "code",
   "execution_count": 1,
   "metadata": {},
   "outputs": [],
   "source": [
    "import numpy as np\n",
    "from math import *\n",
    "import matplotlib.pyplot as plt"
   ]
  },
  {
   "cell_type": "code",
   "execution_count": 2,
   "metadata": {},
   "outputs": [
    {
     "data": {
      "text/plain": [
       "[0.1, 0.01, 0.0001, 1e-06, 1e-08, 1e-10, 1e-12, 1e-14, 1e-16]"
      ]
     },
     "execution_count": 2,
     "metadata": {},
     "output_type": "execute_result"
    }
   ],
   "source": [
    "h_list = [pow(10,-1)]\n",
    "for i in np.arange(8):\n",
    "    h_list.append(pow(10,-(2*i + 2)))\n",
    "    i += 1\n",
    "h_list"
   ]
  },
  {
   "cell_type": "code",
   "execution_count": 3,
   "metadata": {},
   "outputs": [
    {
     "data": {
      "text/plain": [
       "[-1.0000000000000002,\n",
       " -0.5000000000000001,\n",
       " -0.25000000000000006,\n",
       " -0.16666666666666669,\n",
       " -0.125,\n",
       " -0.1,\n",
       " -0.08333333333333334,\n",
       " -0.07142857142857144,\n",
       " -0.0625]"
      ]
     },
     "execution_count": 3,
     "metadata": {},
     "output_type": "execute_result"
    }
   ],
   "source": [
    "h_log = []\n",
    "for i in np.arange(len(h_list)):\n",
    "    h_log.append(log(10,h_list[i]))\n",
    "    i += 1\n",
    "h_log"
   ]
  },
  {
   "cell_type": "markdown",
   "metadata": {},
   "source": [
    "Ahora definamos una función que nos halle las segundas derivadas de una función"
   ]
  },
  {
   "cell_type": "code",
   "execution_count": 4,
   "metadata": {},
   "outputs": [],
   "source": [
    "def sda(f,x,h):\n",
    "    \"\"\"\n",
    "    Numerical differentiation by finite differences. Uses central point formula\n",
    "    to approximate first derivative of function.\n",
    "    Args:\n",
    "        f (function): function definition.\n",
    "        x (float): point where first derivative will be approximated\n",
    "        h (float): step size for central differences. Tipically less than 1\n",
    "    Returns:\n",
    "        ddfa (float): approximation to second_derivative.\n",
    "    \"\"\"\n",
    "    ddfa = (f(x + 2*h) - 2*f(x + h) + f(x))/(pow(h,2))\n",
    "    \n",
    "    return ddfa"
   ]
  },
  {
   "cell_type": "markdown",
   "metadata": {},
   "source": [
    "Escribamos ahora la función a diferenciar"
   ]
  },
  {
   "cell_type": "code",
   "execution_count": 5,
   "metadata": {},
   "outputs": [
    {
     "name": "stdout",
     "output_type": "stream",
     "text": [
      "2.718281828459045\n"
     ]
    }
   ],
   "source": [
    "f = lambda x : exp(-x)\n",
    "print(f(-1))"
   ]
  },
  {
   "cell_type": "markdown",
   "metadata": {},
   "source": [
    "Obtengamos ahora la lista con el valor de la segunda derivada para cada valor distinto de **_h_**:"
   ]
  },
  {
   "cell_type": "code",
   "execution_count": 6,
   "metadata": {},
   "outputs": [
    {
     "name": "stdout",
     "output_type": "stream",
     "text": [
      "[0.3331485687485369, 0.3642220147398456, 0.3678426563347159, 0.36781688805831436, -0.5551115123125782, 0.0, 111022302.46251567, -555111512312.5782, -1.1102230246251566e+16]\n"
     ]
    }
   ],
   "source": [
    "d2f = []\n",
    "for i in range(0,len(h_list)):\n",
    "    d2f.append(sda(f,1,h_list[i]))\n",
    "print(d2f)"
   ]
  },
  {
   "cell_type": "markdown",
   "metadata": {},
   "source": [
    "A pesar de que la derivada es positiva definida, obtenemos valores negativos, procigamos aún así creando la función para obtener los errores relativos."
   ]
  },
  {
   "cell_type": "code",
   "execution_count": 7,
   "metadata": {},
   "outputs": [],
   "source": [
    "def rae(aprox, obj):\n",
    "    if(np.abs(obj) > 0 ):\n",
    "        return np.abs(aprox-obj)/np.abs(obj)\n",
    "    else:\n",
    "        return np.abs(aprox-obj)"
   ]
  },
  {
   "cell_type": "code",
   "execution_count": 8,
   "metadata": {},
   "outputs": [
    {
     "data": {
      "text/plain": [
       "[0.8774414907017225,\n",
       " 0.8660102087551688,\n",
       " 0.8646782491485658,\n",
       " 0.8646877287676884,\n",
       " 1.2042141129373856,\n",
       " 1.0,\n",
       " 40842821.58747711,\n",
       " 204214112938.3855,\n",
       " 4084282258747711.5]"
      ]
     },
     "execution_count": 8,
     "metadata": {},
     "output_type": "execute_result"
    }
   ],
   "source": [
    "obj = f(-1)\n",
    "err1 = []\n",
    "for i in range(0,len(h_list)):\n",
    "    err1.append(rae(d2f[i],obj))\n",
    "err1"
   ]
  },
  {
   "cell_type": "markdown",
   "metadata": {},
   "source": [
    "Ahora, se creará la lista y sus entradas con el *log(**Err_Abs**)*:"
   ]
  },
  {
   "cell_type": "code",
   "execution_count": 9,
   "metadata": {},
   "outputs": [
    {
     "data": {
      "text/plain": [
       "[-17.61126649511319,\n",
       " -16.005893145678137,\n",
       " -15.836449887431648,\n",
       " -15.837644058908293,\n",
       " 12.391003671642094,\n",
       " 0,\n",
       " 0.13138678145477348,\n",
       " 0.08841665942290515,\n",
       " 0.06405692047566501]"
      ]
     },
     "execution_count": 9,
     "metadata": {},
     "output_type": "execute_result"
    }
   ],
   "source": [
    "err2 = []\n",
    "for i in range(0,len(h_list)):\n",
    "    if(err1[i] == 1.0):\n",
    "        err2.append(0)\n",
    "    else: \n",
    "        err2.append(log(10,err1[i]))\n",
    "err2"
   ]
  },
  {
   "cell_type": "markdown",
   "metadata": {},
   "source": [
    "Se observa que se tuvo que *parchar* un error puesto que Python aproxima por algo equivalente a la función de Taylor de **_log(x)_**.\n",
    "Grafiquemos ahora log(error relativo) vs log(h):"
   ]
  },
  {
   "cell_type": "code",
   "execution_count": 43,
   "metadata": {},
   "outputs": [
    {
     "data": {
      "image/png": "[encoded data removed]",
      "text/plain": [
       "<Figure size 432x288 with 1 Axes>"
      ]
     },
     "metadata": {
      "needs_background": "light"
     },
     "output_type": "display_data"
    }
   ],
   "source": [
    "\n",
    "plt.plot(h_log,err2, c = \"purple\" , ls = '--' , marker = '^' , linewidth=2.0 , markersize = 10.0 , markeredgecolor='cyan')\n",
    "plt.title(\"log(error relativo) vs log(h)\" , fontsize = 18 , color = \"blue\")\n",
    "plt.xlabel(\"log(h)\" , fontsize = 15 , color = \"blue\")\n",
    "plt.ylabel(\"log(error relativo)\" , fontsize = 15 , color = \"blue\")\n",
    "plt.grid(True)\n",
    "plt.show()"
   ]
  },
  {
   "cell_type": "markdown",
   "metadata": {},
   "source": [
    "Para las ideas de diseño me inspiré en trabajos previos que he hecho en un repositorio propio: \n",
    "[Repositorio](https://github.com/TheHornyDaddy/48q6a5nevexwrUFv/blob/master/Python_para_Data_Science_con_Ejercicios_Reales/Seccion%204/Matrices.ipynb)"
   ]
  },
  {
   "cell_type": "markdown",
   "metadata": {},
   "source": [
    "Notemos que los puntos se acumulan en la parte derecha para ver esto podría hacerse un gráfico _KDE_ con el módulo **_seaborn_**."
   ]
  },
  {
   "cell_type": "code",
   "execution_count": 41,
   "metadata": {},
   "outputs": [
    {
     "data": {
      "text/plain": [
       "<Figure size 432x288 with 0 Axes>"
      ]
     },
     "metadata": {},
     "output_type": "display_data"
    }
   ],
   "source": [
    "plt.savefig('log(error_relativo)_vs_log(h).png')"
   ]
  }
 ],
 "metadata": {
  "kernelspec": {
   "display_name": "Python 3",
   "language": "python",
   "name": "python3"
  },
  "language_info": {
   "codemirror_mode": {
    "name": "ipython",
    "version": 3
   },
   "file_extension": ".py",
   "mimetype": "text/x-python",
   "name": "python",
   "nbconvert_exporter": "python",
   "pygments_lexer": "ipython3",
   "version": "3.7.6"
  }
 },
 "nbformat": 4,
 "nbformat_minor": 4
}
