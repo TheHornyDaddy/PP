{
 "cells": [
  {
   "cell_type": "markdown",
   "metadata": {},
   "source": [
    "**Tarea 2:** Los módulos se crearon aparte, aquí sólo véremos como funciona el método."
   ]
  },
  {
   "cell_type": "markdown",
   "metadata": {},
   "source": [
    "2) **Crear un módulo con nombre `central_finite_derivative.py` en el que se tengan dos funciones de Python que aproximen la primera y segunda derivada de una función en un punto `x`. Ambas funciones reciben `fun`, `x` y `h` donde: `fun` es la función a calcularse su primera y segunda derivadas, `x` es el punto donde se realiza la aproximación y `h` es el parámetro de espaciado entre `x` y `x+h` igual a $h=10^{-6}$. La salida de cada función es un `float`. \n",
    "Función de prueba: `math.atan` y `x=0.9`.**. \n",
    "\n",
    "**Los nombres de las funciones y sus salidas son:**"
   ]
  },
  {
   "cell_type": "markdown",
   "metadata": {},
   "source": [
    "| central_finite_derivative.py   | parámetros de entrada |salida|\n",
    "|:---:|:---:|:---:|\n",
    "| approx_first_derivative  | fun (function), x (float) ,h (float) | float|\n",
    "| approx_second_derivative | fun (function), x (float), h (float)| float|"
   ]
  },
  {
   "cell_type": "markdown",
   "metadata": {},
   "source": [
    "**3) (Tarea) Mismo ejercicio que 2) pero función de prueba: `math.asin` y `x=0.5`.**"
   ]
  },
  {
   "cell_type": "markdown",
   "metadata": {},
   "source": [
    "**Solución:**"
   ]
  },
  {
   "cell_type": "code",
   "execution_count": 1,
   "metadata": {},
   "outputs": [
    {
     "name": "stdout",
     "output_type": "stream",
     "text": [
      "Writing central_finite_derivative.py\n"
     ]
    }
   ],
   "source": [
    "%%file central_finite_derivative.py\n",
    "def approx_first_derivative(f,x,h):\n",
    "    \"\"\"\n",
    "    Numerical differentiation by finite differences. Uses central point formula\n",
    "    to approximate first derivative of function.\n",
    "    Args:\n",
    "        f (function): function definition.\n",
    "        x (float): point where first derivative will be approximated\n",
    "        h (float): step size for central differences. Tipically less than 1\n",
    "    Returns:\n",
    "        df (float): approximation to first_derivative.\n",
    "    \"\"\"\n",
    "    df = (f(x+h) - f(x-h))/(2.0*h)\n",
    "    return df\n",
    "\n",
    "def approx_second_derivative(f,x,h):\n",
    "    \"\"\"\n",
    "    Numerical differentiation by finite differences. Uses central point formula\n",
    "    to approximate second derivative of function.\n",
    "    Args:\n",
    "        f (function): function definition.\n",
    "        x (float): point where second derivative will be approximated\n",
    "        h (float): step size for central differences. Tipically less than 1\n",
    "    Returns:\n",
    "        ddf (float): approximation to second_derivative.\n",
    "    \"\"\"\n",
    "    ddf =(f(x+h) - 2.0*f(x) + f(x-h))/h**2\n",
    "    return ddf"
   ]
  },
  {
   "cell_type": "code",
   "execution_count": 2,
   "metadata": {},
   "outputs": [],
   "source": [
    "import central_finite_derivative as cfd\n",
    "import math"
   ]
  },
  {
   "cell_type": "markdown",
   "metadata": {},
   "source": [
    "Una vez importadas las las librerías necesarias, creemos los parámetros de las funciones a usar."
   ]
  },
  {
   "cell_type": "code",
   "execution_count": 3,
   "metadata": {},
   "outputs": [],
   "source": [
    "f = math.asin\n",
    "x = 0.5\n",
    "h = pow(10,-6)"
   ]
  },
  {
   "cell_type": "code",
   "execution_count": 4,
   "metadata": {},
   "outputs": [
    {
     "name": "stdout",
     "output_type": "stream",
     "text": [
      "La primera derivada centrada es: \n",
      "1.1547005383527598\n",
      " \n",
      "La segunda derivada centrada es: \n",
      "0.769717622972621\n"
     ]
    }
   ],
   "source": [
    "res_first_d = cfd.approx_first_derivative(f,x,h)\n",
    "print(\"La primera derivada centrada es: \")\n",
    "print(res_first_d)\n",
    "print(\" \")\n",
    "res_second_d = cfd.approx_second_derivative(f,x,h)\n",
    "print(\"La segunda derivada centrada es: \")\n",
    "print(res_second_d)"
   ]
  }
 ],
 "metadata": {
  "kernelspec": {
   "display_name": "Python 3",
   "language": "python",
   "name": "python3"
  },
  "language_info": {
   "codemirror_mode": {
    "name": "ipython",
    "version": 3
   },
   "file_extension": ".py",
   "mimetype": "text/x-python",
   "name": "python",
   "nbconvert_exporter": "python",
   "pygments_lexer": "ipython3",
   "version": "3.6.9"
  }
 },
 "nbformat": 4,
 "nbformat_minor": 4
}
