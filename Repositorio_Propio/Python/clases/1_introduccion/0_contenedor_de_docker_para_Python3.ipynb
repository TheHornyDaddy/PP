{
 "cells": [
  {
   "cell_type": "markdown",
   "metadata": {},
   "source": [
    "# Contenedor de docker para Python3\n",
    "\n",
    "Lo que se necesita para correr los ejemplos del propedéutico es:\n",
    "\n",
    "* Tener docker instalado en sus sistemas (ver [Get Docker](https://docs.docker.com/install/)).\n",
    "* Elegir un directorio que se montará en el contenedor (la ruta al directorio de su elección **no** debe tener espacios o caracteres como acentos, si desean separar las palabras usen guiones).\n",
    "* Ejecutar lo siguiente:\n",
    "\n",
    "Modificar la variable en bash `dir_montar` de acuerdo al caso de cada persona.\n",
    "\n",
    "```\n",
    "dir_montar=<ruta completa de mi máquina a mi directorio> #aquí colocar la ruta al directorio a montar, por ejemplo: \n",
    "#dir_montar=/Users/erick/midirectorio.\n",
    "                                        \n",
    "JUPYTERLAB_VERSION=2.1.4\n",
    "REPO_URL=palmoreck/jupyterlab_prope_r_kernel_tidyverse                                        \n",
    "                                        \n",
    "docker run --rm -v $dir_montar:/datos --name jupyterlab_prope_r_kernel_tidyverse -p 8888:8888 -d $REPO_URL:$JUPYTERLAB_VERSION\n",
    "```\n",
    "\n",
    "y vamos a un browser y colocamos:\n",
    "\n",
    "    localhost:8888\n",
    "    \n",
    "el password es **qwerty**.\n",
    "\n",
    "La documentación de la imagen de docker **palmoreck/jupyterlab_prope_r_kernel_tidyverse:2.1.4 ** la pueden encontrar [aquí](https://github.com/palmoreck/dockerfiles/tree/master/jupyterlab/prope_r_kernel_tidyverse)\n",
    "\n",
    "\n",
    "## NOTA: Sistema Operativo Windows 10 Home.\n",
    "\n",
    "La instalación de Docker Desktop for Windows requiere Windows 10 64bit: Pro, Enterprise or Education\n",
    "(Build 15063 o posterior).Para Windows 10 Home Edit., es necesario instalar:\n",
    "\n",
    "[Docker Toolbox](https://docs.docker.com/toolbox/toolbox_install_windows/)\n",
    "\n",
    "Esta solución utiliza una Oracle VM Virtual Box para ejecutar Docker\n",
    "\n",
    "## Para montar un volumen\n",
    "\n",
    "Es necesario apagar la machine `default` si está corriendo con:\n",
    "\n",
    "```\n",
    "docker-machine stop default\n",
    "```\n",
    "\n",
    "Y realizar los siguientes pasos para montar una carpeta (si no van a mapear puertos no es necesario ejecutar el `stop` de `docker-machine`).\n",
    "\n",
    "\n",
    "1. Habilitar la opción de carpeta compartida para MONTAR en un directorio local, con lo que se direccionan los archivos creados en el contenedor a una carpeta evitando la pérdida en caso de borrado accidental del contenedor:\n",
    "    \n",
    "        Abrir ORACLE VM VirtualBox e ir a:\n",
    "  \n",
    "        Configuración-->Carpetas Compartidas-->Agregar (+). En el cuadro indicar Ruta Carpeta, Nombre y seleccionar\n",
    "        los checklist Automontar y Hacer Permanente.\n",
    "        \n",
    "        \n",
    "\n"
   ]
  },
  {
   "cell_type": "markdown",
   "metadata": {},
   "source": [
    "<img src=\"https://dl.dropboxusercontent.com/s/oieyklwb2u609vf/Img_docker_windows_virtual_box_1.png?dl=0\" heigth=\"800\" width=\"800\">\n"
   ]
  },
  {
   "cell_type": "markdown",
   "metadata": {},
   "source": [
    "<img src=\"https://dl.dropboxusercontent.com/s/kbdso5vly38q4cp/Img_docker_windows_virtual_box_2.png?dl=0\" heigth=\"800\" width=\"800\">\n"
   ]
  },
  {
   "cell_type": "markdown",
   "metadata": {},
   "source": [
    "<img src=\"https://dl.dropboxusercontent.com/s/gj8f370jrveso0f/Img_docker_windows_virtual_box_3.png?dl=0\" heigth=\"800\" width=\"800\">\n",
    "\n"
   ]
  },
  {
   "cell_type": "markdown",
   "metadata": {},
   "source": [
    "Es importante mencionar lo siguiente:\n",
    "    1. La ruta de la carpeta no debe contener caracteres especiales o nombres que el sistema traduce en la ruta pero no en el sistema, por ejemplo \"Documents\" por \"Documentos\".\n",
    "    2. Al montar en \"dir_montar\", para la ruta utilizada se eliminan los dos puntos\":\" y se sustituye el símbolo diagonal invertida \"\\\" por diagonal \"/\", por ejemplo:\n",
    "    \n",
    "        dir_montar=C:\\Users\\miuser\\folder\n",
    "        dir_montar=/c/Users/miuser/Folder\n",
    "                \n"
   ]
  },
  {
   "cell_type": "markdown",
   "metadata": {},
   "source": [
    "2. Iniciar la máquina de default con un:\n",
    "\n",
    "```\n",
    "docker-machine start default\n",
    "```\n",
    "\n",
    "## Para reenvío de puertos\n",
    "\n",
    "1. Reconfigurar el Reenvío de Puertos para tener JupyterLab de forma local y ejecutarlo desde un Browser:\n",
    "\n",
    "Abrir ORACLE VM VirtualBox e ir a:\n",
    "        \n",
    "Configuración-->Red-->Avanzadas-->Reenvío de Puertos-->Agregar (+)\n",
    "\n",
    "Finalmente, debemos registrar 8888 tanto en Puerto Anfitrión como en Puerto Invitado y Aceptar\n",
    "\n",
    "<img src=\"https://dl.dropboxusercontent.com/s/0q8paonqvwq0ckl/Img_docker_windows_virtual_box_0.png?dl=0\" heigth=\"800\" width=\"800\">\n",
    "\n",
    "\n",
    "        "
   ]
  },
  {
   "cell_type": "markdown",
   "metadata": {},
   "source": [
    "# Algunas referencias para docker:\n",
    "\n",
    "* [docker en repo de prope](https://github.com/ITAM-DS/Propedeutico/tree/master/herramientas/docker)"
   ]
  }
 ],
 "metadata": {
  "kernelspec": {
   "display_name": "Python 3",
   "language": "python",
   "name": "python3"
  },
  "language_info": {
   "codemirror_mode": {
    "name": "ipython",
    "version": 3
   },
   "file_extension": ".py",
   "mimetype": "text/x-python",
   "name": "python",
   "nbconvert_exporter": "python",
   "pygments_lexer": "ipython3",
   "version": "3.6.9"
  }
 },
 "nbformat": 4,
 "nbformat_minor": 4
}
