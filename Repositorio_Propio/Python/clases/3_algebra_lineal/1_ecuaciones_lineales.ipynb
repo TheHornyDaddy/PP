{
 "cells": [
  {
   "cell_type": "markdown",
   "metadata": {},
   "source": [
    "Lo siguiente está basado en el capítulo 2 y apéndice del libro de texto de J. Kiusalas Numerical Methods in Engineering with Python 3 y el libro de Matrix Analysis and Applied Linear Algebra de C. D. Meyer."
   ]
  },
  {
   "cell_type": "markdown",
   "metadata": {},
   "source": [
    "**Se sugiere haber revisado la sección 1.5 del libro de texto de J. Kiusalas Numerical Methods in Engineering with Python 3: uso de numpy**"
   ]
  },
  {
   "cell_type": "markdown",
   "metadata": {},
   "source": [
    "# Sistemas de ecuaciones lineales"
   ]
  },
  {
   "cell_type": "markdown",
   "metadata": {},
   "source": [
    "En general son de la forma: $$\\begin{array}{ccc} a_{11}x_1 + a_{12}x_2 + \\cdots + a_{1n}x_n  &= & b_1 \\\\ a_{21}x_1 + a_{22}x_2 +  \\cdots + a_{2n}x_n &= & b_2 \\\\ \\vdots & & \\\\ a_{m1}x_1 + a_{m2}x_2 + \\cdots + a_{mn}x_n &=& b_m \\end{array}$$"
   ]
  },
  {
   "cell_type": "markdown",
   "metadata": {},
   "source": [
    "donde: las $x_i$'s son las incógnitas y las $a_i$'s y $b_i$'s son constantes conocidas."
   ]
  },
  {
   "cell_type": "markdown",
   "metadata": {},
   "source": [
    "Las entradas $a_{ij}$'s son llamadas coeficientes del sistema y el conjunto de $b_i$'s se le llama lado derecho del sistema. Si todas las $b_i$'s son iguales a $0$ el sistema se le nombra **homogéneo**."
   ]
  },
  {
   "cell_type": "markdown",
   "metadata": {},
   "source": [
    "**3 posibilidades para solución del sistema anterior:**\n",
    "\n",
    "* Una única solución: sólo existe uno y sólo un conjunto de valores de $x_i$'s que satisfacen todas las ecuaciones simultáneamente y el sistema se nombra **consistente** o **no singular**.\n",
    "\n",
    "* Ninguna solución: no existe ningún conjunto de valores de $x_i$'s que satisfacen todas las ecuaciones simultáneamente (el conjunto solución es vacío) y el sistema se nombra **inconsistente** o singular.\n",
    "\n",
    "* Infinitas soluciones: hay una infinidad de conjuntos (distintos) de valores de las $x_i$'s que satisfacen todas las ecuaciones simultáneamente. **obs:** si un sistema tiene más de una solución entonces tiene una infinidad de soluciones y el sistema se nombra **consistente** o **no singular**.\n",
    "\n"
   ]
  },
  {
   "cell_type": "markdown",
   "metadata": {},
   "source": [
    "## Interpretación geométrica"
   ]
  },
  {
   "cell_type": "markdown",
   "metadata": {},
   "source": [
    "Resolver un sistema de ecuaciones lineales equivale a encontrar la intersección entre rectas, planos o hiperplanos (2,3 o n dimensiones respectivamente). Por ejemplo para un caso de dos dimensiones se tiene:"
   ]
  },
  {
   "cell_type": "markdown",
   "metadata": {},
   "source": [
    "![image](https://drive.google.com/uc?export=view&id=0B66Kmqpqr3IQdHlOQk9LOWxZQ0VINVd6SlFELWdjR0c3d2lz)"
   ]
  },
  {
   "cell_type": "markdown",
   "metadata": {},
   "source": [
    "El inciso a) representa un sistema de ecuaciones lineales sin solución, el inciso b) infinitas soluciones (en el dibujo ligeramente se desplazó hacia abajo una de las rectas para mostrar ambas) y el inciso c) una única solución. "
   ]
  },
  {
   "cell_type": "markdown",
   "metadata": {},
   "source": [
    "## Algoritmos"
   ]
  },
  {
   "cell_type": "markdown",
   "metadata": {},
   "source": [
    "Existen una gran cantidad de algoritmos para resolver los sistemas de ecuaciones. Típicamente se elige el algoritmo de acuerdo a las características de los coeficientes.\n",
    "\n",
    "Los hay iterativos y directos o basados en factorizaciones matriciales. Entre los directos o basados en factorizaciones matriciales se encuentran:\n",
    "\n",
    "\n",
    "* Eliminación Gaussiana o factorización LU.\n",
    "* Factorización de Cholesky.\n",
    "* Factorización QR.\n",
    "* Descomposición en valores singulares.\n",
    "\n",
    "y como ejemplo de los iterativos están:\n",
    "\n",
    "* Jacobi.\n",
    "* Gauss-Seidel.\n",
    "* Gradiente conjugado.\n",
    "\n"
   ]
  },
  {
   "cell_type": "markdown",
   "metadata": {},
   "source": [
    "### Algoritmos directos o basados en factorizaciones matriciales"
   ]
  },
  {
   "cell_type": "markdown",
   "metadata": {},
   "source": [
    "Los algoritmos directos encuentran sistemas de ecuaciones equivalentes a partir de operaciones básicas del álgebra lineal. **Obs:** dos sistemas de ecuaciones lineales son equivalentes si tienen el mismo conjunto solución."
   ]
  },
  {
   "cell_type": "markdown",
   "metadata": {},
   "source": [
    "### Ejemplos de uso de los paquetes numpy y scipy para resolver ecuaciones lineales"
   ]
  },
  {
   "cell_type": "markdown",
   "metadata": {},
   "source": [
    "1)Resolver: $$\\begin{array}{ccc} 8x_1 -6x_2 + 2x_3  &= & 28 \\\\ -4x_1 + 11x_2 -7x_3 &= & -40 \\\\ 4x_1 -7x_2 + 6x_3 &=& 33\\end{array} $$"
   ]
  },
  {
   "cell_type": "code",
   "execution_count": 1,
   "metadata": {},
   "outputs": [],
   "source": [
    "import numpy as np\n",
    "import pprint"
   ]
  },
  {
   "cell_type": "code",
   "execution_count": 2,
   "metadata": {},
   "outputs": [
    {
     "name": "stdout",
     "output_type": "stream",
     "text": [
      "A:\n",
      "array([[ 8, -6,  2],\n",
      "       [-4, 11, -7],\n",
      "       [ 4, -7,  6]])\n",
      "b:\n",
      "array([ 28, -40,  33])\n"
     ]
    }
   ],
   "source": [
    "A = np.array([[8, -6, 2], [-4, 11, -7], [4, -7, 6]])\n",
    "b = np.array([28,-40,33])\n",
    "print('A:')\n",
    "pprint.pprint(A)\n",
    "print('b:')\n",
    "pprint.pprint(b)"
   ]
  },
  {
   "cell_type": "code",
   "execution_count": 3,
   "metadata": {},
   "outputs": [
    {
     "name": "stdout",
     "output_type": "stream",
     "text": [
      "x:\n",
      "array([ 2., -1.,  3.])\n"
     ]
    }
   ],
   "source": [
    "x=np.linalg.solve(A,b)\n",
    "print('x:')\n",
    "pprint.pprint(x)"
   ]
  },
  {
   "cell_type": "code",
   "execution_count": 4,
   "metadata": {},
   "outputs": [
    {
     "name": "stdout",
     "output_type": "stream",
     "text": [
      "Verificando resultado Ax = b\n",
      "b:\n",
      "array([ 28, -40,  33])\n",
      "Ax:\n",
      "array([ 28., -40.,  33.])\n"
     ]
    }
   ],
   "source": [
    "print('Verificando resultado Ax = b')\n",
    "print('b:')\n",
    "pprint.pprint(b)\n",
    "print('Ax:')\n",
    "pprint.pprint(A@x)"
   ]
  },
  {
   "cell_type": "markdown",
   "metadata": {},
   "source": [
    "2) Resolver $Ax = B$ "
   ]
  },
  {
   "cell_type": "markdown",
   "metadata": {},
   "source": [
    "$$\\begin{array}{l}\n",
    "\\begin{array}{ccc}\n",
    "6x_1-4x_2+x_3&=&\\\\\n",
    "-4x_1+6x_2-4x_3&=&\\\\\n",
    "x_1-4x_2+6x_3&=&\n",
    "\\end{array}\n",
    "\\left[\\begin{array}{cc}\n",
    "-14 & 22\\\\\n",
    "36 & -18\\\\\n",
    "6 & 7\n",
    "\\end{array}\n",
    "\\right] \n",
    "\\end{array}\n",
    "$$"
   ]
  },
  {
   "cell_type": "code",
   "execution_count": 5,
   "metadata": {},
   "outputs": [],
   "source": [
    "import numpy as np\n",
    "import pprint"
   ]
  },
  {
   "cell_type": "code",
   "execution_count": 6,
   "metadata": {},
   "outputs": [
    {
     "name": "stdout",
     "output_type": "stream",
     "text": [
      "A:\n",
      "array([[ 6, -4,  1],\n",
      "       [-4,  6, -4],\n",
      "       [ 1, -4,  6]])\n",
      "B:\n",
      "array([[-14,  22],\n",
      "       [ 36, -18],\n",
      "       [  6,   7]])\n"
     ]
    }
   ],
   "source": [
    "A = np.array([[6,-4,1], [-4,6,-4], [1,-4,6]])\n",
    "B = np.array([[-14,22],[36,-18],[6,7]])\n",
    "print('A:')\n",
    "pprint.pprint(A)\n",
    "print('B:')\n",
    "pprint.pprint(B)"
   ]
  },
  {
   "cell_type": "code",
   "execution_count": 7,
   "metadata": {},
   "outputs": [
    {
     "name": "stdout",
     "output_type": "stream",
     "text": [
      "X:\n",
      "array([[10.,  3.],\n",
      "       [22., -1.],\n",
      "       [14.,  0.]])\n"
     ]
    }
   ],
   "source": [
    "X=np.linalg.solve(A,B)\n",
    "print('X:')\n",
    "pprint.pprint(X)"
   ]
  },
  {
   "cell_type": "code",
   "execution_count": 8,
   "metadata": {},
   "outputs": [
    {
     "name": "stdout",
     "output_type": "stream",
     "text": [
      "Verificando resultado AX = B\n",
      "B:\n",
      "array([[-14,  22],\n",
      "       [ 36, -18],\n",
      "       [  6,   7]])\n",
      "AX:\n",
      "array([[-14.,  22.],\n",
      "       [ 36., -18.],\n",
      "       [  6.,   7.]])\n"
     ]
    }
   ],
   "source": [
    "print('Verificando resultado AX = B')\n",
    "print('B:')\n",
    "pprint.pprint(B)\n",
    "print('AX:')\n",
    "pprint.pprint(A@X)"
   ]
  },
  {
   "cell_type": "markdown",
   "metadata": {},
   "source": [
    "3) Obtener los factores $P, L, U$ de la matriz $A$: $$A = \\begin{bmatrix} 2& -1&2 \\\\ 1& 6& -1 \\\\ 1& 4& 1\\end{bmatrix}$$ "
   ]
  },
  {
   "cell_type": "markdown",
   "metadata": {},
   "source": [
    "y utilizarlos para resolver $Ax = B$ con $$B=\\begin{bmatrix}7 & -1\\\\13 & 6\\\\5 & 7\\end{bmatrix}$$"
   ]
  },
  {
   "cell_type": "code",
   "execution_count": 9,
   "metadata": {},
   "outputs": [],
   "source": [
    "import scipy\n",
    "import scipy.linalg \n",
    "import numpy as np\n",
    "import pprint"
   ]
  },
  {
   "cell_type": "code",
   "execution_count": 10,
   "metadata": {},
   "outputs": [
    {
     "name": "stdout",
     "output_type": "stream",
     "text": [
      "A:\n",
      "array([[ 2, -1,  2],\n",
      "       [ 1,  6, -1],\n",
      "       [ 1,  4,  1]])\n",
      "P:\n",
      "array([[1., 0., 0.],\n",
      "       [0., 1., 0.],\n",
      "       [0., 0., 1.]])\n",
      "L:\n",
      "array([[1.        , 0.        , 0.        ],\n",
      "       [0.5       , 1.        , 0.        ],\n",
      "       [0.5       , 0.69230769, 1.        ]])\n",
      "U:\n",
      "array([[ 2.        , -1.        ,  2.        ],\n",
      "       [ 0.        ,  6.5       , -2.        ],\n",
      "       [ 0.        ,  0.        ,  1.38461538]])\n"
     ]
    }
   ],
   "source": [
    "A = scipy.array([[2,-1,2], [1,6,-1], [1,4,1]])\n",
    "P, L, U = scipy.linalg.lu(A)\n",
    "\n",
    "print('A:')\n",
    "pprint.pprint(A)\n",
    "print('P:')\n",
    "pprint.pprint(P)\n",
    "print('L:')\n",
    "pprint.pprint(L)\n",
    "print('U:')\n",
    "pprint.pprint(U)\n"
   ]
  },
  {
   "cell_type": "code",
   "execution_count": 11,
   "metadata": {},
   "outputs": [
    {
     "name": "stdout",
     "output_type": "stream",
     "text": [
      "Verificando que es igual PA al producto LU\n",
      "L*U:\n",
      "array([[ 2., -1.,  2.],\n",
      "       [ 1.,  6., -1.],\n",
      "       [ 1.,  4.,  1.]])\n",
      "P*A\n",
      "array([[ 2., -1.,  2.],\n",
      "       [ 1.,  6., -1.],\n",
      "       [ 1.,  4.,  1.]])\n"
     ]
    }
   ],
   "source": [
    "print('Verificando que es igual PA al producto LU')\n",
    "print('L*U:')\n",
    "pprint.pprint(L@U)\n",
    "print('P*A')\n",
    "pprint.pprint(P@A)"
   ]
  },
  {
   "cell_type": "code",
   "execution_count": 12,
   "metadata": {},
   "outputs": [
    {
     "name": "stdout",
     "output_type": "stream",
     "text": [
      "Usando los factores P,L,U para resolver AX = B\n",
      "X:\n",
      "array([[ 7.33333333, -1.83333333],\n",
      "       [ 0.33333333,  1.66666667],\n",
      "       [-3.66666667,  2.16666667]])\n"
     ]
    }
   ],
   "source": [
    "print('Usando los factores P,L,U para resolver AX = B')\n",
    "B = scipy.array([[7,-1],[13,6],[5,7]])\n",
    "D = scipy.linalg.solve_triangular(L,P@B,lower=True)\n",
    "X = scipy.linalg.solve_triangular(U,D) #default es usar una triangular superior\n",
    "print('X:')\n",
    "pprint.pprint(X)"
   ]
  },
  {
   "cell_type": "code",
   "execution_count": 14,
   "metadata": {},
   "outputs": [
    {
     "name": "stdout",
     "output_type": "stream",
     "text": [
      "Verificando resultado AX = B\n",
      "B:\n",
      "array([[ 7, -1],\n",
      "       [13,  6],\n",
      "       [ 5,  7]])\n",
      "AX:\n",
      "array([[ 7., -1.],\n",
      "       [13.,  6.],\n",
      "       [ 5.,  7.]])\n"
     ]
    }
   ],
   "source": [
    "print('Verificando resultado AX = B')\n",
    "print('B:')\n",
    "pprint.pprint(B)\n",
    "print('AX:')\n",
    "pprint.pprint(A@X)"
   ]
  },
  {
   "cell_type": "markdown",
   "metadata": {},
   "source": [
    "**Ejercicio: resolver el ejercicio 3) anterior con la factorización QR del paquete `numpy` de la matriz A y verificar resultado**"
   ]
  },
  {
   "cell_type": "markdown",
   "metadata": {},
   "source": [
    "**Ejercicio: resolver los sistemas de ecuaciones lineales $Ax = b$ con la factorización P, LU y verificar resultado**"
   ]
  },
  {
   "cell_type": "markdown",
   "metadata": {},
   "source": [
    "$$1)A = \\left[\\begin{array}{ccc}\n",
    "0 &1& -1\\\\\n",
    "-2 &4& -1\\\\\n",
    "-2 &5& -4\n",
    "\\end{array}\n",
    "\\right],\n",
    "b=\n",
    "\\left[\\begin{array}{c}\n",
    "3\\\\\n",
    "1\\\\\n",
    "-2\n",
    "\\end{array}\n",
    "\\right] \n",
    "$$\n",
    "\n"
   ]
  },
  {
   "cell_type": "markdown",
   "metadata": {},
   "source": [
    "$$2)A \\text{ como inciso 1) y } \n",
    "b=\n",
    "\\left[\\begin{array}{c}\n",
    "-5\\\\\n",
    "7\\\\\n",
    "0\n",
    "\\end{array}\n",
    "\\right] \n",
    "$$\n",
    "\n"
   ]
  },
  {
   "cell_type": "markdown",
   "metadata": {},
   "source": [
    "$$3)A = \\left[\\begin{array}{cccc}\n",
    "1 &2& 2\\\\\n",
    "2 &5& 7\\\\\n",
    "3 &6& 6\n",
    "\\end{array}\n",
    "\\right],\n",
    "b=\n",
    "\\left[\\begin{array}{c}\n",
    "0\\\\\n",
    "0\\\\\n",
    "0\n",
    "\\end{array}\n",
    "\\right] \n",
    "$$"
   ]
  },
  {
   "cell_type": "markdown",
   "metadata": {},
   "source": [
    "## Referencias:\n",
    "* [numpy.linalg.solve](https://docs.scipy.org/doc/numpy/reference/generated/numpy.linalg.solve.html)\n",
    "* [scipy.linalg.lu](https://docs.scipy.org/doc/scipy-0.14.0/reference/generated/scipy.linalg.lu.html)\n",
    "* [scipy.linalg.solve_triangular](https://docs.scipy.org/doc/scipy/reference/generated/scipy.linalg.solve_triangular.html)"
   ]
  },
  {
   "cell_type": "markdown",
   "metadata": {},
   "source": [
    "### Algoritmos iterativos"
   ]
  },
  {
   "cell_type": "markdown",
   "metadata": {},
   "source": [
    "A diferencia de los algoritmos directos que utilizan un número finito de pasos para resolver un sistema de ecuaciones lineales, esta clase de algoritmos utilizan un punto inicial y con un proceso iterativo van mejorando la solución hasta que se satisfaga un criterio de paro. Típicamente tienen un desempeño más lento que los directos pero aprovechan mejor la estructura de las matrices. Dependiendo de las características de las matrices convergen o no a la solución.\n",
    "\n",
    "Revisar sección 2.7 del libro de texto de J. Kiusalas Numerical Methods in Engineering with Python 3:\n",
    "\n",
    "* Gauss-Seidel.\n",
    "* Gradiente conjugado.\n"
   ]
  },
  {
   "cell_type": "code",
   "execution_count": null,
   "metadata": {},
   "outputs": [],
   "source": []
  }
 ],
 "metadata": {
  "kernelspec": {
   "display_name": "Python 3",
   "language": "python",
   "name": "python3"
  },
  "language_info": {
   "codemirror_mode": {
    "name": "ipython",
    "version": 3
   },
   "file_extension": ".py",
   "mimetype": "text/x-python",
   "name": "python",
   "nbconvert_exporter": "python",
   "pygments_lexer": "ipython3",
   "version": "3.6.8"
  }
 },
 "nbformat": 4,
 "nbformat_minor": 2
}
