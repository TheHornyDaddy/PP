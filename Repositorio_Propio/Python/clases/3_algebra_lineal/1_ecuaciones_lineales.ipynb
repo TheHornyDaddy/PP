{
 "cells": [
  {
   "cell_type": "markdown",
   "metadata": {},
   "source": [
    "**Notas para contenedor de docker:**"
   ]
  },
  {
   "cell_type": "markdown",
   "metadata": {},
   "source": [
    "Comando de docker para ejecución de la nota de forma local:\n",
    "\n",
    "nota: cambiar `dir_montar` por la ruta de directorio que se desea mapear a `/datos` dentro del contenedor de docker.\n",
    "\n",
    "```\n",
    "dir_montar=<ruta completa de mi máquina a mi directorio>#aquí colocar la ruta al directorio a montar, por ejemplo: \n",
    "#dir_montar=/Users/erick/midirectorio.\n",
    "```\n",
    "\n",
    "Ejecutar:\n",
    "\n",
    "```\n",
    "$docker run --rm -v $dir_montar:/datos --name jupyterlab_prope_r_kernel_tidyverse -p 8888:8888 -d palmoreck/jupyterlab_prope_r_kernel_tidyverse:2.1.4   \n",
    "\n",
    "```"
   ]
  },
  {
   "cell_type": "markdown",
   "metadata": {},
   "source": [
    "Ir a `localhost:8888` y escribir el password para jupyterlab: `qwerty`\n",
    "\n",
    "Detener el contenedor de docker:\n",
    "\n",
    "```\n",
    "docker stop jupyterlab_prope_r_kernel_tidyverse\n",
    "```\n"
   ]
  },
  {
   "cell_type": "markdown",
   "metadata": {},
   "source": [
    "Documentación de la imagen de docker `palmoreck/jupyterlab_prope_r_kernel_tidyverse:2.1.4` en [liga](https://github.com/palmoreck/dockerfiles/tree/master/jupyterlab/prope_r_kernel_tidyverse)."
   ]
  },
  {
   "cell_type": "markdown",
   "metadata": {},
   "source": [
    "---"
   ]
  },
  {
   "cell_type": "markdown",
   "metadata": {},
   "source": [
    "Para ejecución de la nota usar:\n",
    "\n",
    "[docker](https://www.docker.com/) (instalación de forma **local** con [Get docker](https://docs.docker.com/install/)) y ejecutar comandos que están al inicio de la nota de forma **local**. \n",
    "\n",
    "O bien dar click en alguno de los botones siguientes:"
   ]
  },
  {
   "cell_type": "markdown",
   "metadata": {},
   "source": [
    "[![Binder](https://mybinder.org/badge_logo.svg)](https://mybinder.org/v2/gh/palmoreck/dockerfiles-for-binder/jupyterlab_prope_r_kernel_tidyerse?urlpath=lab/tree/Propedeutico/Python/clases/3_algebra_lineal/1_ecuaciones_lineales.ipynb) esta opción crea una máquina individual en un servidor de Google, clona el repositorio y permite la ejecución de los notebooks de jupyter."
   ]
  },
  {
   "cell_type": "markdown",
   "metadata": {},
   "source": [
    "[![Run on Repl.it](https://repl.it/badge/github/palmoreck/dummy)](https://repl.it/languages/python3) esta opción no clona el repositorio, no ejecuta los notebooks de jupyter pero permite ejecución de instrucciones de Python de forma colaborativa con [repl.it](https://repl.it/). Al dar click se crearán nuevos ***repl*** debajo de sus users de ***repl.it***.\n"
   ]
  },
  {
   "cell_type": "markdown",
   "metadata": {},
   "source": [
    "## Lo siguiente está basado en el capítulo 2 y apéndice del libro de texto de J. Kiusalas Numerical Methods in Engineering with Python 3 y el libro de Matrix Analysis and Applied Linear Algebra de C. D. Meyer."
   ]
  },
  {
   "cell_type": "markdown",
   "metadata": {},
   "source": [
    "**Se sugiere haber revisado la sección 1.5 del libro de texto de J. Kiusalas Numerical Methods in Engineering with Python 3: uso de numpy**"
   ]
  },
  {
   "cell_type": "markdown",
   "metadata": {},
   "source": [
    "# Sistemas de ecuaciones lineales"
   ]
  },
  {
   "cell_type": "markdown",
   "metadata": {},
   "source": [
    "En general son de la forma: $$\\begin{array}{ccc} a_{11}x_1 + a_{12}x_2 + \\cdots + a_{1n}x_n  &= & b_1 \\\\ a_{21}x_1 + a_{22}x_2 +  \\cdots + a_{2n}x_n &= & b_2 \\\\ \\vdots & & \\\\ a_{m1}x_1 + a_{m2}x_2 + \\cdots + a_{mn}x_n &=& b_m \\end{array}$$"
   ]
  },
  {
   "cell_type": "markdown",
   "metadata": {},
   "source": [
    "donde: las $x_i$'s son las incógnitas y las $a_i$'s y $b_i$'s son constantes conocidas."
   ]
  },
  {
   "cell_type": "markdown",
   "metadata": {},
   "source": [
    "Las entradas $a_{ij}$'s son llamadas coeficientes del sistema y el conjunto de $b_i$'s se le llama lado derecho del sistema. Si todas las $b_i$'s son iguales a $0$ el sistema se le nombra **homogéneo**."
   ]
  },
  {
   "cell_type": "markdown",
   "metadata": {},
   "source": [
    "**3 posibilidades para solución del sistema anterior:**\n",
    "\n",
    "* Una única solución: sólo existe uno y sólo un conjunto de valores de $x_i$'s que satisfacen todas las ecuaciones simultáneamente y el sistema se nombra **consistente** o **no singular**.\n",
    "\n",
    "* Ninguna solución: no existe ningún conjunto de valores de $x_i$'s que satisfacen todas las ecuaciones simultáneamente (el conjunto solución es vacío) y el sistema se nombra **inconsistente** o singular.\n",
    "\n",
    "* Infinitas soluciones: hay una infinidad de conjuntos (distintos) de valores de las $x_i$'s que satisfacen todas las ecuaciones simultáneamente. **obs:** si un sistema tiene más de una solución entonces tiene una infinidad de soluciones y el sistema se nombra **consistente** o **no singular**.\n",
    "\n"
   ]
  },
  {
   "cell_type": "markdown",
   "metadata": {},
   "source": [
    "## Interpretación geométrica"
   ]
  },
  {
   "cell_type": "markdown",
   "metadata": {},
   "source": [
    "Resolver un sistema de ecuaciones lineales equivale a encontrar la intersección entre rectas, planos o hiperplanos (2,3 o n dimensiones respectivamente). Por ejemplo para un caso de dos dimensiones se tiene:"
   ]
  },
  {
   "cell_type": "markdown",
   "metadata": {},
   "source": [
    "<img src=\"https://dl.dropboxusercontent.com/s/p92z7zlquo1adbm/algebra_lineal_1.jpg?dl=0\" heigth=\"700\" width=\"700\">\n"
   ]
  },
  {
   "cell_type": "markdown",
   "metadata": {},
   "source": [
    "El inciso a) representa un sistema de ecuaciones lineales sin solución, el inciso b) infinitas soluciones (en el dibujo ligeramente se desplazó hacia abajo una de las rectas para mostrar ambas) y el inciso c) una única solución. "
   ]
  },
  {
   "cell_type": "markdown",
   "metadata": {},
   "source": [
    "## Algoritmos"
   ]
  },
  {
   "cell_type": "markdown",
   "metadata": {},
   "source": [
    "Existen una gran cantidad de algoritmos para resolver los sistemas de ecuaciones. Típicamente se elige el algoritmo de acuerdo a las características de los coeficientes de la matriz del sistema y sus dimensiones."
   ]
  },
  {
   "cell_type": "markdown",
   "metadata": {},
   "source": [
    "### Sistemas triangulares\n",
    "\n",
    "Son sistemas cuya matriz es triangular inferior o superior. Un sistema triangular inferior se resuelve con el método de sustitución hacia delante. Si es triangular superior se resuelve con el método de sustitución hacia atrás.\n"
   ]
  },
  {
   "cell_type": "markdown",
   "metadata": {},
   "source": [
    "**Ejemplo matriz triangular inferior:**"
   ]
  },
  {
   "cell_type": "code",
   "execution_count": 2,
   "metadata": {},
   "outputs": [],
   "source": [
    "import numpy as np"
   ]
  },
  {
   "cell_type": "code",
   "execution_count": 4,
   "metadata": {},
   "outputs": [
    {
     "data": {
      "text/plain": [
       "array([[1., 1., 1., 1.],\n",
       "       [1., 1., 1., 1.],\n",
       "       [1., 1., 1., 1.],\n",
       "       [1., 1., 1., 1.]])"
      ]
     },
     "execution_count": 4,
     "metadata": {},
     "output_type": "execute_result"
    }
   ],
   "source": [
    "np.ones((4,4))"
   ]
  },
  {
   "cell_type": "code",
   "execution_count": 5,
   "metadata": {},
   "outputs": [
    {
     "data": {
      "text/plain": [
       "array([[1., 1., 1., 1., 1.],\n",
       "       [1., 1., 1., 1., 1.],\n",
       "       [1., 1., 1., 1., 1.],\n",
       "       [1., 1., 1., 1., 1.]])"
      ]
     },
     "execution_count": 5,
     "metadata": {},
     "output_type": "execute_result"
    }
   ],
   "source": [
    "np.ones((4,5))"
   ]
  },
  {
   "cell_type": "code",
   "execution_count": 8,
   "metadata": {},
   "outputs": [
    {
     "data": {
      "text/plain": [
       "array([[1., 0., 0., 0.],\n",
       "       [1., 1., 0., 0.],\n",
       "       [1., 1., 1., 0.],\n",
       "       [1., 1., 1., 1.]])"
      ]
     },
     "execution_count": 8,
     "metadata": {},
     "output_type": "execute_result"
    }
   ],
   "source": [
    "np.tril(np.ones(4))"
   ]
  },
  {
   "cell_type": "code",
   "execution_count": 7,
   "metadata": {},
   "outputs": [
    {
     "data": {
      "text/plain": [
       "array([[1., 0., 0., 0.],\n",
       "       [1., 1., 0., 0.],\n",
       "       [1., 1., 1., 0.],\n",
       "       [1., 1., 1., 1.]])"
      ]
     },
     "execution_count": 7,
     "metadata": {},
     "output_type": "execute_result"
    }
   ],
   "source": [
    "np.tril(np.ones((4,4)))"
   ]
  },
  {
   "cell_type": "markdown",
   "metadata": {},
   "source": [
    "**Ejemplo matriz triangular superior:**"
   ]
  },
  {
   "cell_type": "code",
   "execution_count": 27,
   "metadata": {},
   "outputs": [
    {
     "data": {
      "text/plain": [
       "array([[1., 1., 1., 1.],\n",
       "       [0., 1., 1., 1.],\n",
       "       [0., 0., 1., 1.],\n",
       "       [0., 0., 0., 1.]])"
      ]
     },
     "execution_count": 27,
     "metadata": {},
     "output_type": "execute_result"
    }
   ],
   "source": [
    "np.triu(np.ones(4))"
   ]
  },
  {
   "cell_type": "code",
   "execution_count": 10,
   "metadata": {},
   "outputs": [
    {
     "data": {
      "text/plain": [
       "array([[1., 1., 1., 1.],\n",
       "       [0., 1., 1., 1.],\n",
       "       [0., 0., 1., 1.],\n",
       "       [0., 0., 0., 1.]])"
      ]
     },
     "execution_count": 10,
     "metadata": {},
     "output_type": "execute_result"
    }
   ],
   "source": [
    "np.triu(np.ones((4,4)))"
   ]
  },
  {
   "cell_type": "markdown",
   "metadata": {},
   "source": [
    "### Sistemas no triangulares"
   ]
  },
  {
   "cell_type": "markdown",
   "metadata": {},
   "source": [
    "Para sistemas de ecuaciones lineales más generales (no tienen estructura identificable) se tienen los métodos iterativos y directos o basados en factorizaciones matriciales.\n",
    "\n",
    "Entre los directos o basados en factorizaciones matriciales se encuentran:\n",
    "\n",
    "\n",
    "* Eliminación Gaussiana o factorización LU.\n",
    "* Factorización de Cholesky (la matriz del sistema debe ser definida positiva).\n",
    "* Factorización QR.\n",
    "* Descomposición en valores singulares (DVS o SVD por sus siglas en inglés).\n",
    "\n",
    "y como ejemplo de los iterativos están:\n",
    "\n",
    "* Jacobi.\n",
    "* Gauss-Seidel.\n",
    "* Gradiente conjugado.\n",
    "\n"
   ]
  },
  {
   "cell_type": "markdown",
   "metadata": {},
   "source": [
    "Ambos métodos: iterativos y directos o basados en factorizaciones matriciales encuentran sistemas de ecuaciones equivalentes a partir de operaciones básicas del álgebra lineal. **Obs:** dos sistemas de ecuaciones lineales son equivalentes si tienen el mismo conjunto solución."
   ]
  },
  {
   "cell_type": "markdown",
   "metadata": {},
   "source": [
    "### Ejemplos de uso de los paquetes numpy y scipy para resolver ecuaciones lineales"
   ]
  },
  {
   "cell_type": "markdown",
   "metadata": {},
   "source": [
    "1)Resolver: $$\\begin{array}{ccc} 8x_1 -6x_2 + 2x_3  &= & 28 \\\\ -4x_1 + 11x_2 -7x_3 &= & -40 \\\\ 4x_1 -7x_2 + 6x_3 &=& 33\\end{array} $$"
   ]
  },
  {
   "cell_type": "code",
   "execution_count": 11,
   "metadata": {},
   "outputs": [],
   "source": [
    "import numpy as np\n",
    "import pprint"
   ]
  },
  {
   "cell_type": "code",
   "execution_count": 12,
   "metadata": {},
   "outputs": [],
   "source": [
    "A = np.array([[8, -6, 2], \n",
    "              [-4, 11, -7], \n",
    "              [4, -7, 6]])\n",
    "b = np.array([28,-40,33])"
   ]
  },
  {
   "cell_type": "code",
   "execution_count": 14,
   "metadata": {},
   "outputs": [
    {
     "name": "stdout",
     "output_type": "stream",
     "text": [
      "A:\n",
      "array([[ 8, -6,  2],\n",
      "       [-4, 11, -7],\n",
      "       [ 4, -7,  6]])\n",
      "b:\n",
      "array([ 28, -40,  33])\n"
     ]
    }
   ],
   "source": [
    "print('A:')\n",
    "pprint.pprint(A)\n",
    "print('b:')\n",
    "pprint.pprint(b)"
   ]
  },
  {
   "cell_type": "markdown",
   "metadata": {},
   "source": [
    "Usamos la función de [solve](https://numpy.org/doc/stable/reference/generated/numpy.linalg.solve.html) dentro de [numpy.linalg](https://numpy.org/doc/stable/reference/routines.linalg.html)"
   ]
  },
  {
   "cell_type": "code",
   "execution_count": 15,
   "metadata": {},
   "outputs": [],
   "source": [
    "x=np.linalg.solve(A,b)"
   ]
  },
  {
   "cell_type": "code",
   "execution_count": 16,
   "metadata": {},
   "outputs": [
    {
     "name": "stdout",
     "output_type": "stream",
     "text": [
      "x:\n",
      "array([ 2., -1.,  3.])\n"
     ]
    }
   ],
   "source": [
    "print('x:')\n",
    "pprint.pprint(x)"
   ]
  },
  {
   "cell_type": "code",
   "execution_count": 17,
   "metadata": {},
   "outputs": [
    {
     "name": "stdout",
     "output_type": "stream",
     "text": [
      "Verificando resultado Ax = b\n",
      "b:\n",
      "array([ 28, -40,  33])\n",
      "Ax:\n",
      "array([ 28., -40.,  33.])\n"
     ]
    }
   ],
   "source": [
    "print('Verificando resultado Ax = b')\n",
    "print('b:')\n",
    "pprint.pprint(b)\n",
    "print('Ax:')\n",
    "pprint.pprint(A@x)"
   ]
  },
  {
   "cell_type": "markdown",
   "metadata": {},
   "source": [
    "¿Cómo verificamos que son iguales las cantidades?\n",
    "**1era opción**"
   ]
  },
  {
   "cell_type": "code",
   "execution_count": 18,
   "metadata": {},
   "outputs": [],
   "source": [
    "!pip3 install -q --user pytest"
   ]
  },
  {
   "cell_type": "code",
   "execution_count": 19,
   "metadata": {},
   "outputs": [],
   "source": [
    "from pytest import approx"
   ]
  },
  {
   "cell_type": "code",
   "execution_count": 20,
   "metadata": {},
   "outputs": [],
   "source": [
    "sol_numpy = A@x"
   ]
  },
  {
   "cell_type": "code",
   "execution_count": 21,
   "metadata": {},
   "outputs": [
    {
     "data": {
      "text/plain": [
       "array([ 28., -40.,  33.])"
      ]
     },
     "execution_count": 21,
     "metadata": {},
     "output_type": "execute_result"
    }
   ],
   "source": [
    "sol_numpy"
   ]
  },
  {
   "cell_type": "code",
   "execution_count": 22,
   "metadata": {},
   "outputs": [
    {
     "data": {
      "text/plain": [
       "array([ 28, -40,  33])"
      ]
     },
     "execution_count": 22,
     "metadata": {},
     "output_type": "execute_result"
    }
   ],
   "source": [
    "b "
   ]
  },
  {
   "cell_type": "code",
   "execution_count": 23,
   "metadata": {},
   "outputs": [
    {
     "data": {
      "text/plain": [
       "True"
      ]
     },
     "execution_count": 23,
     "metadata": {},
     "output_type": "execute_result"
    }
   ],
   "source": [
    "sol_numpy == approx(b)"
   ]
  },
  {
   "cell_type": "markdown",
   "metadata": {},
   "source": [
    "**2a opción**"
   ]
  },
  {
   "cell_type": "code",
   "execution_count": 24,
   "metadata": {},
   "outputs": [
    {
     "data": {
      "text/plain": [
       "True"
      ]
     },
     "execution_count": 24,
     "metadata": {},
     "output_type": "execute_result"
    }
   ],
   "source": [
    "np.allclose(sol_numpy, b)"
   ]
  },
  {
   "cell_type": "markdown",
   "metadata": {},
   "source": [
    "2) Resolver $AX = B$ "
   ]
  },
  {
   "cell_type": "markdown",
   "metadata": {},
   "source": [
    "$$\\begin{array}{l}\n",
    "\\left[\n",
    "\\begin{array}{ccc}\n",
    "6 &4 &1\\\\\n",
    "-4 & 6 & -4\\\\\n",
    "1 &-4 & 6\n",
    "\\end{array}\n",
    "\\right]\n",
    "\\left[\n",
    "\\begin{array}{cc}\n",
    "x_{11} &x_{12} \\\\\n",
    "x_{21} & x_{22}\\\\\n",
    "x_{31} & x_{32}\n",
    "\\end{array}\n",
    "\\right]\n",
    "=\n",
    "\\left[\\begin{array}{cc}\n",
    "-14 & 22\\\\\n",
    "36 & -18\\\\\n",
    "6 & 7\n",
    "\\end{array}\n",
    "\\right] \n",
    "\\end{array}\n",
    "$$"
   ]
  },
  {
   "cell_type": "code",
   "execution_count": 25,
   "metadata": {},
   "outputs": [],
   "source": [
    "A = np.array([[6,-4,1], \n",
    "              [-4,6,-4], \n",
    "              [1,-4,6]])\n",
    "B = np.array([[-14,22],\n",
    "              [36,-18],\n",
    "              [6,7]])"
   ]
  },
  {
   "cell_type": "code",
   "execution_count": 26,
   "metadata": {},
   "outputs": [
    {
     "name": "stdout",
     "output_type": "stream",
     "text": [
      "A:\n",
      "array([[ 6, -4,  1],\n",
      "       [-4,  6, -4],\n",
      "       [ 1, -4,  6]])\n",
      "B:\n",
      "array([[-14,  22],\n",
      "       [ 36, -18],\n",
      "       [  6,   7]])\n"
     ]
    }
   ],
   "source": [
    "print('A:')\n",
    "pprint.pprint(A)\n",
    "print('B:')\n",
    "pprint.pprint(B)"
   ]
  },
  {
   "cell_type": "code",
   "execution_count": 27,
   "metadata": {},
   "outputs": [],
   "source": [
    "X=np.linalg.solve(A,B)"
   ]
  },
  {
   "cell_type": "code",
   "execution_count": 28,
   "metadata": {},
   "outputs": [
    {
     "name": "stdout",
     "output_type": "stream",
     "text": [
      "X:\n",
      "array([[10.,  3.],\n",
      "       [22., -1.],\n",
      "       [14.,  0.]])\n"
     ]
    }
   ],
   "source": [
    "print('X:')\n",
    "pprint.pprint(X)"
   ]
  },
  {
   "cell_type": "code",
   "execution_count": 29,
   "metadata": {},
   "outputs": [
    {
     "name": "stdout",
     "output_type": "stream",
     "text": [
      "Verificando resultado AX = B\n",
      "B:\n",
      "array([[-14,  22],\n",
      "       [ 36, -18],\n",
      "       [  6,   7]])\n",
      "AX:\n",
      "array([[-14.,  22.],\n",
      "       [ 36., -18.],\n",
      "       [  6.,   7.]])\n"
     ]
    }
   ],
   "source": [
    "print('Verificando resultado AX = B')\n",
    "print('B:')\n",
    "pprint.pprint(B)\n",
    "print('AX:')\n",
    "pprint.pprint(A@X)"
   ]
  },
  {
   "cell_type": "markdown",
   "metadata": {},
   "source": [
    "### Ejemplo factorización P,L,U"
   ]
  },
  {
   "cell_type": "markdown",
   "metadata": {},
   "source": [
    "**¿Dado el sistema $Ax=b$, $A \\in \\mathbb{R}^{n \\times n}$ cómo se resuelve con la factorización $PLU$?**"
   ]
  },
  {
   "cell_type": "markdown",
   "metadata": {},
   "source": [
    "Paso 1: encontrar factores $P,L,U$ tales que $PA=LU$.\n",
    "\n",
    "Paso 2: resolver con el método de sustitución hacia delante el sistema triangular inferior $Ld=Pb$.\n",
    "\n",
    "Paso 3: resolver con el método de sustitución hacia atrás el sistema triangular superior $Ux=d$."
   ]
  },
  {
   "cell_type": "markdown",
   "metadata": {},
   "source": [
    "**Ejemplo:**"
   ]
  },
  {
   "cell_type": "markdown",
   "metadata": {},
   "source": [
    "Obtener los factores $P, L, U$ de la matriz $A$: $$A = \\begin{bmatrix} 2& -1&2 \\\\ 1& 6& -1 \\\\ 1& 4& 1\\end{bmatrix}$$ "
   ]
  },
  {
   "cell_type": "markdown",
   "metadata": {},
   "source": [
    "y utilizarlos para resolver $AX = B$ con $$B=\\begin{bmatrix}7 & -1\\\\13 & 6\\\\5 & 7\\end{bmatrix}$$"
   ]
  },
  {
   "cell_type": "markdown",
   "metadata": {},
   "source": [
    "La factorización P,L,U la encontramos con el nombre [lu](https://docs.scipy.org/doc/scipy/reference/generated/scipy.linalg.lu.html) dentro de [scipy.linalg](https://docs.scipy.org/doc/scipy/reference/linalg.html)."
   ]
  },
  {
   "cell_type": "code",
   "execution_count": 30,
   "metadata": {},
   "outputs": [],
   "source": [
    "import scipy\n",
    "import scipy.linalg "
   ]
  },
  {
   "cell_type": "code",
   "execution_count": 31,
   "metadata": {},
   "outputs": [
    {
     "data": {
      "text/plain": [
       "array([[ 2, -1,  2],\n",
       "       [ 1,  6, -1],\n",
       "       [ 1,  4,  1]])"
      ]
     },
     "execution_count": 31,
     "metadata": {},
     "output_type": "execute_result"
    }
   ],
   "source": [
    "A = np.array([[2,-1,2], [1,6,-1], [1,4,1]])\n",
    "A"
   ]
  },
  {
   "cell_type": "code",
   "execution_count": 32,
   "metadata": {},
   "outputs": [],
   "source": [
    "P, L, U = scipy.linalg.lu(A)"
   ]
  },
  {
   "cell_type": "code",
   "execution_count": 33,
   "metadata": {},
   "outputs": [
    {
     "name": "stdout",
     "output_type": "stream",
     "text": [
      "A:\n",
      "array([[ 2, -1,  2],\n",
      "       [ 1,  6, -1],\n",
      "       [ 1,  4,  1]])\n",
      "P:\n",
      "array([[1., 0., 0.],\n",
      "       [0., 1., 0.],\n",
      "       [0., 0., 1.]])\n",
      "L:\n",
      "array([[1.        , 0.        , 0.        ],\n",
      "       [0.5       , 1.        , 0.        ],\n",
      "       [0.5       , 0.69230769, 1.        ]])\n",
      "U:\n",
      "array([[ 2.        , -1.        ,  2.        ],\n",
      "       [ 0.        ,  6.5       , -2.        ],\n",
      "       [ 0.        ,  0.        ,  1.38461538]])\n"
     ]
    }
   ],
   "source": [
    "print('A:')\n",
    "pprint.pprint(A)\n",
    "print('P:')\n",
    "pprint.pprint(P)\n",
    "print('L:')\n",
    "pprint.pprint(L)\n",
    "print('U:')\n",
    "pprint.pprint(U)"
   ]
  },
  {
   "cell_type": "code",
   "execution_count": 34,
   "metadata": {},
   "outputs": [
    {
     "name": "stdout",
     "output_type": "stream",
     "text": [
      "Verificando que es igual PA al producto LU\n",
      "L*U:\n",
      "array([[ 2., -1.,  2.],\n",
      "       [ 1.,  6., -1.],\n",
      "       [ 1.,  4.,  1.]])\n",
      "P*A\n",
      "array([[ 2., -1.,  2.],\n",
      "       [ 1.,  6., -1.],\n",
      "       [ 1.,  4.,  1.]])\n"
     ]
    }
   ],
   "source": [
    "print('Verificando que es igual PA al producto LU')\n",
    "print('L*U:')\n",
    "pprint.pprint(L@U)\n",
    "print('P*A')\n",
    "pprint.pprint(P@A)"
   ]
  },
  {
   "cell_type": "code",
   "execution_count": 35,
   "metadata": {},
   "outputs": [
    {
     "name": "stdout",
     "output_type": "stream",
     "text": [
      "Usando los factores P,L,U para resolver AX = B\n"
     ]
    },
    {
     "data": {
      "text/plain": [
       "array([[ 7, -1],\n",
       "       [13,  6],\n",
       "       [ 5,  7]])"
      ]
     },
     "execution_count": 35,
     "metadata": {},
     "output_type": "execute_result"
    }
   ],
   "source": [
    "print('Usando los factores P,L,U para resolver AX = B')\n",
    "B = np.array([[7,-1],[13,6],[5,7]])\n",
    "\n",
    "B"
   ]
  },
  {
   "cell_type": "markdown",
   "metadata": {},
   "source": [
    "Resolvemos paso 2: $LD = PB$"
   ]
  },
  {
   "cell_type": "code",
   "execution_count": 36,
   "metadata": {},
   "outputs": [
    {
     "data": {
      "text/plain": [
       "array([[ 7.        , -1.        ],\n",
       "       [ 9.5       ,  6.5       ],\n",
       "       [-5.07692308,  3.        ]])"
      ]
     },
     "execution_count": 36,
     "metadata": {},
     "output_type": "execute_result"
    }
   ],
   "source": [
    "D = scipy.linalg.solve_triangular(L,P@B,lower=True)\n",
    "D"
   ]
  },
  {
   "cell_type": "markdown",
   "metadata": {},
   "source": [
    "Resolver paso 3: $UX = D$"
   ]
  },
  {
   "cell_type": "code",
   "execution_count": 39,
   "metadata": {},
   "outputs": [],
   "source": [
    "X = scipy.linalg.solve_triangular(U,D) #by default parameter lower is False\n"
   ]
  },
  {
   "cell_type": "code",
   "execution_count": 40,
   "metadata": {},
   "outputs": [
    {
     "name": "stdout",
     "output_type": "stream",
     "text": [
      "X:\n",
      "array([[ 7.33333333, -1.83333333],\n",
      "       [ 0.33333333,  1.66666667],\n",
      "       [-3.66666667,  2.16666667]])\n"
     ]
    }
   ],
   "source": [
    "print('X:')\n",
    "pprint.pprint(X)"
   ]
  },
  {
   "cell_type": "code",
   "execution_count": 41,
   "metadata": {},
   "outputs": [
    {
     "name": "stdout",
     "output_type": "stream",
     "text": [
      "Verificando resultado AX = B\n",
      "B:\n",
      "array([[ 7, -1],\n",
      "       [13,  6],\n",
      "       [ 5,  7]])\n",
      "AX:\n",
      "array([[ 7., -1.],\n",
      "       [13.,  6.],\n",
      "       [ 5.,  7.]])\n"
     ]
    }
   ],
   "source": [
    "print('Verificando resultado AX = B')\n",
    "print('B:')\n",
    "pprint.pprint(B)\n",
    "print('AX:')\n",
    "pprint.pprint(A@X)"
   ]
  },
  {
   "cell_type": "markdown",
   "metadata": {},
   "source": [
    "**Nota:** en la factorización LU, la matriz $P$ es una matriz de permutación que cumple con tener un $1$ exactamente en cada renglón y cada columna. Por ejemplo:"
   ]
  },
  {
   "cell_type": "markdown",
   "metadata": {},
   "source": [
    "$$\n",
    "\\left[\n",
    "\\begin{array}{ccc}\n",
    "0 & 1 & 0\\\\\n",
    "1 & 0 & 0\\\\\n",
    "0 & 0 & 1\n",
    "\\end{array}\n",
    "\\right ]\n",
    "$$"
   ]
  },
  {
   "cell_type": "markdown",
   "metadata": {},
   "source": [
    "### Ejercicio anterior con la factorización QR del paquete `numpy`"
   ]
  },
  {
   "cell_type": "markdown",
   "metadata": {},
   "source": [
    "**¿Dado el sistema $Ax=b$, $A \\in \\mathbb{R}^{n \\times n}$ cómo se resuelve con la factorización $QR$?**"
   ]
  },
  {
   "cell_type": "markdown",
   "metadata": {},
   "source": [
    "Paso 1: encontrar factores $Q,R$ tales que $A=QR$. \n",
    "\n",
    "Paso 2: resolver con el método de sustitución hacia atrás el sistema triangular superior $Rx=Q^Tb$.\n"
   ]
  },
  {
   "cell_type": "code",
   "execution_count": 42,
   "metadata": {},
   "outputs": [],
   "source": [
    "Q, R = np.linalg.qr(A)"
   ]
  },
  {
   "cell_type": "code",
   "execution_count": 43,
   "metadata": {},
   "outputs": [
    {
     "name": "stdout",
     "output_type": "stream",
     "text": [
      "A:\n",
      "array([[ 2, -1,  2],\n",
      "       [ 1,  6, -1],\n",
      "       [ 1,  4,  1]])\n",
      "Q:\n",
      "array([[-0.81649658,  0.56354707, -0.12549116],\n",
      "       [-0.40824829, -0.71724173, -0.56471022],\n",
      "       [-0.40824829, -0.40985242,  0.81569255]])\n",
      "R:\n",
      "array([[-2.44948974, -3.26598632, -1.63299316],\n",
      "       [ 0.        , -6.5064071 ,  1.43448345],\n",
      "       [ 0.        ,  0.        ,  1.12942045]])\n"
     ]
    }
   ],
   "source": [
    "print('A:')\n",
    "pprint.pprint(A)\n",
    "print('Q:')\n",
    "pprint.pprint(Q)\n",
    "print('R:')\n",
    "pprint.pprint(R)\n"
   ]
  },
  {
   "cell_type": "markdown",
   "metadata": {},
   "source": [
    "$Q^TQ = I$"
   ]
  },
  {
   "cell_type": "markdown",
   "metadata": {},
   "source": [
    "Norma de la primer columna de Q:"
   ]
  },
  {
   "cell_type": "code",
   "execution_count": 44,
   "metadata": {},
   "outputs": [
    {
     "data": {
      "text/plain": [
       "0.9999999999999999"
      ]
     },
     "execution_count": 44,
     "metadata": {},
     "output_type": "execute_result"
    }
   ],
   "source": [
    "np.linalg.norm(Q[:,0])"
   ]
  },
  {
   "cell_type": "markdown",
   "metadata": {},
   "source": [
    "Norma de la segunda columna de Q:"
   ]
  },
  {
   "cell_type": "code",
   "execution_count": 45,
   "metadata": {},
   "outputs": [
    {
     "data": {
      "text/plain": [
       "0.9999999999999999"
      ]
     },
     "execution_count": 45,
     "metadata": {},
     "output_type": "execute_result"
    }
   ],
   "source": [
    "np.linalg.norm(Q[:,1])"
   ]
  },
  {
   "cell_type": "markdown",
   "metadata": {},
   "source": [
    "Norma de la tercera columna de Q:"
   ]
  },
  {
   "cell_type": "code",
   "execution_count": 46,
   "metadata": {},
   "outputs": [
    {
     "data": {
      "text/plain": [
       "1.0"
      ]
     },
     "execution_count": 46,
     "metadata": {},
     "output_type": "execute_result"
    }
   ],
   "source": [
    "np.linalg.norm(Q[:,2])"
   ]
  },
  {
   "cell_type": "markdown",
   "metadata": {},
   "source": [
    "Producto punto entre primera y segunda columna de Q:"
   ]
  },
  {
   "cell_type": "code",
   "execution_count": 47,
   "metadata": {},
   "outputs": [
    {
     "data": {
      "text/plain": [
       "-2.7755575615628914e-17"
      ]
     },
     "execution_count": 47,
     "metadata": {},
     "output_type": "execute_result"
    }
   ],
   "source": [
    "Q[:,0].dot(Q[:,1])"
   ]
  },
  {
   "cell_type": "markdown",
   "metadata": {},
   "source": [
    "$QQ^T = I$"
   ]
  },
  {
   "cell_type": "markdown",
   "metadata": {},
   "source": [
    "Producto punto entre primer y segundo renglón de Q:"
   ]
  },
  {
   "cell_type": "code",
   "execution_count": 52,
   "metadata": {},
   "outputs": [
    {
     "data": {
      "text/plain": [
       "1.5265566588595902e-16"
      ]
     },
     "execution_count": 52,
     "metadata": {},
     "output_type": "execute_result"
    }
   ],
   "source": [
    "Q[0,:].dot(Q[1,:])"
   ]
  },
  {
   "cell_type": "markdown",
   "metadata": {},
   "source": [
    "Producto punto entre segundo y tercer renglón de Q:"
   ]
  },
  {
   "cell_type": "code",
   "execution_count": 53,
   "metadata": {},
   "outputs": [
    {
     "data": {
      "text/plain": [
       "-5.551115123125783e-17"
      ]
     },
     "execution_count": 53,
     "metadata": {},
     "output_type": "execute_result"
    }
   ],
   "source": [
    "Q[1,:].dot(Q[2,:])"
   ]
  },
  {
   "cell_type": "markdown",
   "metadata": {},
   "source": [
    "Norma de primer renglón:"
   ]
  },
  {
   "cell_type": "code",
   "execution_count": 54,
   "metadata": {},
   "outputs": [
    {
     "data": {
      "text/plain": [
       "0.9999999999999999"
      ]
     },
     "execution_count": 54,
     "metadata": {},
     "output_type": "execute_result"
    }
   ],
   "source": [
    "np.linalg.norm(Q[0,:])"
   ]
  },
  {
   "cell_type": "markdown",
   "metadata": {},
   "source": [
    "Norma de segundo renglón:"
   ]
  },
  {
   "cell_type": "code",
   "execution_count": 55,
   "metadata": {},
   "outputs": [
    {
     "data": {
      "text/plain": [
       "0.9999999999999999"
      ]
     },
     "execution_count": 55,
     "metadata": {},
     "output_type": "execute_result"
    }
   ],
   "source": [
    "np.linalg.norm(Q[1,:])"
   ]
  },
  {
   "cell_type": "markdown",
   "metadata": {},
   "source": [
    "Norma de tercer renglón:"
   ]
  },
  {
   "cell_type": "code",
   "execution_count": 56,
   "metadata": {},
   "outputs": [
    {
     "data": {
      "text/plain": [
       "0.9999999999999999"
      ]
     },
     "execution_count": 56,
     "metadata": {},
     "output_type": "execute_result"
    }
   ],
   "source": [
    "np.linalg.norm(Q[2,:])"
   ]
  },
  {
   "cell_type": "code",
   "execution_count": 62,
   "metadata": {},
   "outputs": [
    {
     "data": {
      "text/plain": [
       "True"
      ]
     },
     "execution_count": 62,
     "metadata": {},
     "output_type": "execute_result"
    }
   ],
   "source": [
    "Q@Q.T == approx(np.eye(3))"
   ]
  },
  {
   "cell_type": "code",
   "execution_count": 63,
   "metadata": {},
   "outputs": [
    {
     "data": {
      "text/plain": [
       "True"
      ]
     },
     "execution_count": 63,
     "metadata": {},
     "output_type": "execute_result"
    }
   ],
   "source": [
    "Q.T@Q == approx(np.eye(3))"
   ]
  },
  {
   "cell_type": "code",
   "execution_count": 48,
   "metadata": {},
   "outputs": [
    {
     "name": "stdout",
     "output_type": "stream",
     "text": [
      "Verificando que es igual A al producto QR\n",
      "QR:\n",
      "array([[ 2., -1.,  2.],\n",
      "       [ 1.,  6., -1.],\n",
      "       [ 1.,  4.,  1.]])\n",
      "A\n",
      "array([[ 2, -1,  2],\n",
      "       [ 1,  6, -1],\n",
      "       [ 1,  4,  1]])\n"
     ]
    }
   ],
   "source": [
    "print('Verificando que es igual A al producto QR')\n",
    "print('QR:')\n",
    "pprint.pprint(Q@R)\n",
    "print('A')\n",
    "pprint.pprint(A)"
   ]
  },
  {
   "cell_type": "markdown",
   "metadata": {},
   "source": [
    "Resolvemos: $ RX = Q^T B$"
   ]
  },
  {
   "cell_type": "code",
   "execution_count": 49,
   "metadata": {},
   "outputs": [
    {
     "name": "stdout",
     "output_type": "stream",
     "text": [
      "Usando los factores Q,R para resolver AX = B\n"
     ]
    }
   ],
   "source": [
    "print('Usando los factores Q,R para resolver AX = B')\n",
    "X = scipy.linalg.solve_triangular(R, Q.T@B) #by default parameter lower is False\n"
   ]
  },
  {
   "cell_type": "code",
   "execution_count": 50,
   "metadata": {},
   "outputs": [
    {
     "name": "stdout",
     "output_type": "stream",
     "text": [
      "X:\n",
      "array([[ 7.33333333, -1.83333333],\n",
      "       [ 0.33333333,  1.66666667],\n",
      "       [-3.66666667,  2.16666667]])\n"
     ]
    }
   ],
   "source": [
    "print('X:')\n",
    "pprint.pprint(X)"
   ]
  },
  {
   "cell_type": "code",
   "execution_count": 51,
   "metadata": {},
   "outputs": [
    {
     "name": "stdout",
     "output_type": "stream",
     "text": [
      "Verificando resultado AX = B\n",
      "B:\n",
      "array([[ 7, -1],\n",
      "       [13,  6],\n",
      "       [ 5,  7]])\n",
      "AX:\n",
      "array([[ 7., -1.],\n",
      "       [13.,  6.],\n",
      "       [ 5.,  7.]])\n"
     ]
    }
   ],
   "source": [
    "print('Verificando resultado AX = B')\n",
    "print('B:')\n",
    "pprint.pprint(B)\n",
    "print('AX:')\n",
    "pprint.pprint(A@X)"
   ]
  },
  {
   "cell_type": "markdown",
   "metadata": {},
   "source": [
    "**(Tarea) Ejercicio: resolver sistemas de ecuaciones lineales $Ax = b$ con la factorización P,L,U y QR. Para esto crear un módulo con nombre `solve_linear_system_of_equations.py` y colocar en tal módulo las siguientes funciones de Python:**"
   ]
  },
  {
   "cell_type": "markdown",
   "metadata": {},
   "source": [
    "Para factorización `PLU`:"
   ]
  },
  {
   "cell_type": "markdown",
   "metadata": {},
   "source": [
    "```\n",
    "def PLU(matrix, rhs):\n",
    "    \"\"\"\n",
    "    Compute numerical approximation to linear system of equations Ax=b using\n",
    "    factorization PLU via scipy.\n",
    "    Args:\n",
    "        matrix (numpy 2d array of floats): Square system matrix.\n",
    "        rhs (numpy 1d array of floats): Right hand side of linear system of equations.\n",
    "    Returns:\n",
    "        x (numpy 1d array of floats or string): solution of Ax=b if A is square, if not returns string \n",
    "        \"System matrix must be square\"\n",
    "    \"\"\"\n",
    "```"
   ]
  },
  {
   "cell_type": "markdown",
   "metadata": {},
   "source": [
    "Para factorización `QR`:"
   ]
  },
  {
   "cell_type": "markdown",
   "metadata": {},
   "source": [
    "```\n",
    "def QR(matrix, rhs):\n",
    "    \"\"\"\n",
    "    Compute numerical approximation to linear system of equations Ax=b using\n",
    "    factorization QR via numpy.\n",
    "    Args:\n",
    "        matrix (numpy 2d array of floats): Square system matrix.\n",
    "        rhs (numpy 1d array of floats): Right hand side of linear system of equations.\n",
    "    Returns:\n",
    "        x (numpy 1d array of floats or string): solution of Ax=b if A is square, if not returns string \n",
    "        \"System matrix must be square\"\n",
    "    \"\"\"\n",
    "```"
   ]
  },
  {
   "cell_type": "markdown",
   "metadata": {},
   "source": [
    "**La implementación de ambas funciones deben realizar un chequeo de dimensiones (ver *docstring* anteriores para saber qué mensaje deben regresar si la matriz del sistema no es cuadrada)**."
   ]
  },
  {
   "cell_type": "markdown",
   "metadata": {},
   "source": [
    "## Referencias:\n",
    "* [numpy.linalg.solve](https://docs.scipy.org/doc/numpy/reference/generated/numpy.linalg.solve.html)\n",
    "* [scipy.linalg.lu](https://docs.scipy.org/doc/scipy-0.14.0/reference/generated/scipy.linalg.lu.html)\n",
    "* [scipy.linalg.solve_triangular](https://docs.scipy.org/doc/scipy/reference/generated/scipy.linalg.solve_triangular.html)\n",
    "* [numpy.linalg.qr](https://numpy.org/doc/stable/reference/generated/numpy.linalg.qr.html)"
   ]
  },
  {
   "cell_type": "markdown",
   "metadata": {},
   "source": [
    "### Algoritmos iterativos"
   ]
  },
  {
   "cell_type": "markdown",
   "metadata": {},
   "source": [
    "A diferencia de los algoritmos directos que utilizan un número finito de pasos para resolver un sistema de ecuaciones lineales, esta clase de algoritmos utilizan un punto inicial y con un proceso iterativo van mejorando la solución hasta que se satisfaga un criterio de paro. Típicamente tienen un desempeño más lento que los directos pero aprovechan mejor la estructura de las matrices. Dependiendo de las características de las matrices convergen o no a la solución.\n",
    "\n",
    "Revisar sección 2.7 del libro de texto de J. Kiusalas Numerical Methods in Engineering with Python 3:\n",
    "\n",
    "* Gauss-Seidel.\n",
    "* Gradiente conjugado.\n"
   ]
  }
 ],
 "metadata": {
  "kernelspec": {
   "display_name": "Python 3",
   "language": "python",
   "name": "python3"
  },
  "language_info": {
   "codemirror_mode": {
    "name": "ipython",
    "version": 3
   },
   "file_extension": ".py",
   "mimetype": "text/x-python",
   "name": "python",
   "nbconvert_exporter": "python",
   "pygments_lexer": "ipython3",
   "version": "3.6.9"
  }
 },
 "nbformat": 4,
 "nbformat_minor": 4
}
