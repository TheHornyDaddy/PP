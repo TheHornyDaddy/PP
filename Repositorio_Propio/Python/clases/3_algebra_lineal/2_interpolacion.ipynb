{
 "cells": [
  {
   "cell_type": "markdown",
   "metadata": {},
   "source": [
    "**Notas para contenedor de docker:**"
   ]
  },
  {
   "cell_type": "markdown",
   "metadata": {},
   "source": [
    "Comando de docker para ejecución de la nota de forma local:\n",
    "\n",
    "nota: cambiar `dir_montar` por la ruta de directorio que se desea mapear a `/datos` dentro del contenedor de docker.\n",
    "\n",
    "```\n",
    "dir_montar=<ruta completa de mi máquina a mi directorio>#aquí colocar la ruta al directorio a montar, por ejemplo: \n",
    "#dir_montar=/Users/erick/midirectorio.\n",
    "```\n",
    "\n",
    "Ejecutar:\n",
    "\n",
    "```\n",
    "$docker run --rm -v $dir_montar:/datos --name jupyterlab_prope_r_kernel_tidyverse -p 8888:8888 -d palmoreck/jupyterlab_prope_r_kernel_tidyverse:2.1.4   \n",
    "\n",
    "```"
   ]
  },
  {
   "cell_type": "markdown",
   "metadata": {},
   "source": [
    "Ir a `localhost:8888` y escribir el password para jupyterlab: `qwerty`\n",
    "\n",
    "Detener el contenedor de docker:\n",
    "\n",
    "```\n",
    "docker stop jupyterlab_prope_r_kernel_tidyverse\n",
    "```\n"
   ]
  },
  {
   "cell_type": "markdown",
   "metadata": {},
   "source": [
    "Documentación de la imagen de docker `palmoreck/jupyterlab_prope_r_kernel_tidyverse:2.1.4` en [liga](https://github.com/palmoreck/dockerfiles/tree/master/jupyterlab/prope_r_kernel_tidyverse)."
   ]
  },
  {
   "cell_type": "markdown",
   "metadata": {},
   "source": [
    "---"
   ]
  },
  {
   "cell_type": "markdown",
   "metadata": {},
   "source": [
    "Para ejecución de la nota usar:\n",
    "\n",
    "[docker](https://www.docker.com/) (instalación de forma **local** con [Get docker](https://docs.docker.com/install/)) y ejecutar comandos que están al inicio de la nota de forma **local**. \n",
    "\n",
    "**Esta nota utiliza la versión clásica de notebooks de jupyter a través del siguiente botón:**"
   ]
  },
  {
   "cell_type": "markdown",
   "metadata": {},
   "source": [
    "[![Binder](https://mybinder.org/badge_logo.svg)](https://mybinder.org/v2/gh/palmoreck/dockerfiles-for-binder/jupyterlab_prope_r_kernel_tidyerse?urlpath=/tree/Propedeutico/Python/clases/3_algebra_lineal/2_interpolacion.ipynb) esta opción crea una máquina individual en un servidor de Google, clona el repositorio y permite la ejecución de los notebooks de jupyter. **Se utiliza la versión clásica pues se usará el comando de magic `%matplotlib notebook`**"
   ]
  },
  {
   "cell_type": "markdown",
   "metadata": {},
   "source": [
    "[![Run on Repl.it](https://repl.it/badge/github/palmoreck/dummy)](https://repl.it/languages/python3) Esta opción no clona el repositorio, no ejecuta los notebooks de jupyter pero permite ejecución de instrucciones de Python de forma colaborativa con [repl.it](https://repl.it/). Al dar click se crearán nuevos ***repl*** debajo de sus users de ***repl.it***.\n"
   ]
  },
  {
   "cell_type": "markdown",
   "metadata": {},
   "source": [
    "# Interpolación"
   ]
  },
  {
   "cell_type": "markdown",
   "metadata": {},
   "source": [
    "Dados $n+1$ puntos $x_0,x_1,\\dots,x_n$ el objetivo es construir una función $f(x)$ tal que $f(x_i) = y_i$ con $y_i$ conocido $\\forall i=0,1,\\dots,n$."
   ]
  },
  {
   "cell_type": "markdown",
   "metadata": {},
   "source": [
    "<img src=\"https://dl.dropboxusercontent.com/s/m0gks881yffz85f/interpolacion.jpg?dl=0\" heigth=\"300\" width=\"300\">"
   ]
  },
  {
   "cell_type": "markdown",
   "metadata": {},
   "source": [
    "Entre las aplicaciones en interpolación se encuentran:\n",
    "\n",
    "* Reconstrucción de funciones.\n",
    "* Aproximación a derivadas e integrales.\n",
    "* Estimación de funciones en cantidades no conocidas."
   ]
  },
  {
   "cell_type": "markdown",
   "metadata": {},
   "source": [
    "## Modelo en interpolación"
   ]
  },
  {
   "cell_type": "markdown",
   "metadata": {},
   "source": [
    "Típicamente el modelo $f$ es de la forma $f(x|w) = \\displaystyle \\sum_{j=0}^nw_j \\phi_j(x)$ con $\\phi_j:\\mathbb{R} \\rightarrow \\mathbb{R}$ funciones conocidas y $w_j$ parámetros desconocidos por determinar $\\forall j=0,1,\\dots,n$."
   ]
  },
  {
   "cell_type": "markdown",
   "metadata": {},
   "source": [
    "**Obs:**\n",
    "\n",
    "* Comúnmente las $\\phi_j$'s son funciones polinomiales, trigonométricas, racionales y exponenciales.\n",
    "* La notación $f(x|w)$ se utiliza para denotar que $w$ es un vector de parámetros a estimar."
   ]
  },
  {
   "cell_type": "markdown",
   "metadata": {},
   "source": [
    "## ¿Cómo ajustar el modelo anterior?"
   ]
  },
  {
   "cell_type": "markdown",
   "metadata": {},
   "source": [
    "El problema de interpolación conduce a plantear y posteriormente resolver un sistema de ecuaciones lineales de la forma $Aw = y$ pues la condición de interpolación es: $f(x_i|w_i) = y_i$, $\\forall i=0,1,\\dots,n$ con $A \\in \\mathbb{R}^{{n+1}x{n+1}}$, $w,y \\in \\mathbb{R}^{n+1}$ definidas como sigue:"
   ]
  },
  {
   "cell_type": "markdown",
   "metadata": {},
   "source": [
    "$$A = \\left[\\begin{array}{cccc}\n",
    "\\phi_0(x_0) &\\phi_1(x_0)&\\dots&\\phi_n(x_0)\\\\\n",
    "\\phi_0(x_1) &\\phi_1(x_1)&\\dots&\\phi_n(x_1)\\\\\n",
    "\\vdots &\\vdots& \\vdots&\\vdots\\\\\n",
    "\\phi_0(x_n) &\\phi_1(x_n)&\\dots&\\phi_n(x_n)\n",
    "\\end{array}\n",
    "\\right],\n",
    "w=\n",
    "\\left[\\begin{array}{c}\n",
    "w_0\\\\\n",
    "w_1\\\\\n",
    "\\vdots \\\\\n",
    "w_n\n",
    "\\end{array}\n",
    "\\right] ,\n",
    "y=\n",
    "\\left[\\begin{array}{c}\n",
    "y_0\\\\\n",
    "y_1\\\\\n",
    "\\vdots \\\\\n",
    "y_n\n",
    "\\end{array}\n",
    "\\right]\n",
    "$$"
   ]
  },
  {
   "cell_type": "markdown",
   "metadata": {},
   "source": [
    "Esto es, hay que resolver: $$\\begin{array}{ccc} \\phi_0(x_0)w_0 + \\phi_1(x_0)w_1 + \\cdots + \\phi_n(x_0)w_n  &= & y_0 \\\\ \\phi_0(x_1)w_0 + \\phi_1(x_1)w_1 + \\cdots + \\phi_n(x_1)w_n  &= & y_1\\\\ \\vdots & & \\\\ \\phi_0(x_n)w_0 + \\phi_1(x_n)w_1 + \\cdots + \\phi_n(x_n)w_n  &= & y_n \\end{array}$$ "
   ]
  },
  {
   "cell_type": "markdown",
   "metadata": {},
   "source": [
    "que es la condición de  interpolación $f(x_i|w) = y_i \\forall i=0,1,\\dots,n$ bajo el modelo: $f(x|w) = \\displaystyle \\sum_{j=0}^nw_j \\phi_j(x)$ en notación **matricial**."
   ]
  },
  {
   "cell_type": "markdown",
   "metadata": {},
   "source": [
    "## Interpolación polinomial: funciones $\\phi_j$'s son polinomios"
   ]
  },
  {
   "cell_type": "markdown",
   "metadata": {},
   "source": [
    "**En numpy ...**"
   ]
  },
  {
   "cell_type": "code",
   "execution_count": 1,
   "metadata": {},
   "outputs": [],
   "source": [
    "import numpy as np\n",
    "import matplotlib.pyplot as plt\n",
    "import pprint"
   ]
  },
  {
   "cell_type": "markdown",
   "metadata": {},
   "source": [
    "Supongamos que queremos realizar la interpolación a los siguientes puntos:"
   ]
  },
  {
   "cell_type": "code",
   "execution_count": 2,
   "metadata": {},
   "outputs": [],
   "source": [
    "#pseudorandom array\n",
    "np.random.seed(2000) #for reproducibility\n",
    "npoints = 6\n",
    "x = np.random.randn(npoints) + 10\n",
    "y = np.random.randn(npoints) - 10\n"
   ]
  },
  {
   "cell_type": "code",
   "execution_count": 3,
   "metadata": {},
   "outputs": [
    {
     "name": "stdout",
     "output_type": "stream",
     "text": [
      "'x:'\n",
      "array([11.73673761, 11.89791391,  7.89322658,  9.85108791, 10.58306155,\n",
      "        7.74076697])\n",
      "'y:'\n",
      "array([ -9.86276046, -10.70121322, -10.62078008, -10.47961976,\n",
      "        -8.79026123, -11.07518386])\n"
     ]
    }
   ],
   "source": [
    "pprint.pprint('x:')\n",
    "pprint.pprint(x)\n",
    "pprint.pprint('y:')\n",
    "pprint.pprint(y)"
   ]
  },
  {
   "cell_type": "markdown",
   "metadata": {},
   "source": [
    "ver: [numpy.random.randn](https://docs.scipy.org/doc/numpy/reference/generated/numpy.random.randn.html#numpy.random.randn)"
   ]
  },
  {
   "cell_type": "markdown",
   "metadata": {},
   "source": [
    "**Los datos ejemplo**"
   ]
  },
  {
   "cell_type": "code",
   "execution_count": 4,
   "metadata": {},
   "outputs": [
    {
     "data": {
      "image/png": "[encoded data removed]",
      "text/plain": [
       "<Figure size 432x288 with 1 Axes>"
      ]
     },
     "metadata": {
      "needs_background": "light"
     },
     "output_type": "display_data"
    }
   ],
   "source": [
    "plt.plot(x,y, 'r*')\n",
    "plt.xlabel('x')\n",
    "plt.ylabel('y')\n",
    "plt.title('Puntos ejemplo')\n",
    "plt.show()"
   ]
  },
  {
   "cell_type": "markdown",
   "metadata": {},
   "source": [
    "Con numpy podemos usar la función `polyfit` en el paquete de `numpy` para realizar lo anterior: (ver [numpy.polyfit](https://docs.scipy.org/doc/numpy/reference/generated/numpy.polyfit.html))"
   ]
  },
  {
   "cell_type": "markdown",
   "metadata": {},
   "source": [
    "El tercer argumento de polyfit especifica el grado del polinomio a ajustar. Como tenemos `npoints = 6` puntos, entonces debemos generar un polinomio de grado $5$"
   ]
  },
  {
   "cell_type": "code",
   "execution_count": 5,
   "metadata": {},
   "outputs": [],
   "source": [
    "ndegree = npoints -1\n",
    "coefficients = np.polyfit(x,y,ndegree)"
   ]
  },
  {
   "cell_type": "markdown",
   "metadata": {},
   "source": [
    "Una vez realizado el llamado a la función `polyfit` se regresan los coeficientes de $x$ ordenados del mayor grado al menor."
   ]
  },
  {
   "cell_type": "code",
   "execution_count": 6,
   "metadata": {},
   "outputs": [
    {
     "name": "stdout",
     "output_type": "stream",
     "text": [
      "array([ 8.16e-02, -4.26e+00,  8.78e+01, -8.95e+02,  4.50e+03, -8.98e+03])\n"
     ]
    }
   ],
   "source": [
    "np.set_printoptions(precision = 2) #sólo dos decimales que se muestren\n",
    "pprint.pprint(coefficients)"
   ]
  },
  {
   "cell_type": "markdown",
   "metadata": {},
   "source": [
    "Entonces nuestro polinomio es: $$p_{npoints}(x) = .0816x^5 -4.26x^4 +87.8x^3-895x^2+4500x-8980$$"
   ]
  },
  {
   "cell_type": "markdown",
   "metadata": {},
   "source": [
    "**Nota: si queremos utilizar una representación con la matriz de [Vandermonde](https://en.wikipedia.org/wiki/Vandermonde_matrix) para el sistema de ecuaciones que se resolvió se tiene la siguiente representación matricial:**"
   ]
  },
  {
   "cell_type": "markdown",
   "metadata": {},
   "source": [
    "$$\\left[\\begin{array}{ccccc}\n",
    "1 & x_0 & x_0^2 & x_0^3 & x_0^4 & x_0^5 \\\\\n",
    "1 & x_1 & x_1^2 & x_1^3 & x_1^4 & x_1^5\\\\\n",
    "\\vdots &\\vdots& \\vdots&\\vdots\\\\\n",
    "1 & x_5 & x_5^2 & x_5^3 & x_5^4 & x_5^5\n",
    "\\end{array}\n",
    "\\right]\n",
    "\\left[\\begin{array}{c}\n",
    "-8980\\\\\n",
    "4500\\\\\n",
    "\\vdots \\\\\n",
    ".0816\n",
    "\\end{array}\n",
    "\\right] =\n",
    "\\left[\\begin{array}{c}\n",
    "y_0\\\\\n",
    "y_1\\\\\n",
    "\\vdots \\\\\n",
    "y_5\n",
    "\\end{array}\n",
    "\\right]\n",
    "$$"
   ]
  },
  {
   "cell_type": "markdown",
   "metadata": {},
   "source": [
    "**Obs: hay diferentes representaciones matriciales para el problema de interpolación, por ejemplo representación por [Newton](https://en.wikipedia.org/wiki/Newton_polynomial) o por [Lagrange](https://en.wikipedia.org/wiki/Lagrange_polynomial). Cualquiera de las representaciones que se utilicen obtienen el mismo interpolador, la diferencia consiste en propiedades que tienen las matrices de cada representación (la matriz de Vandermonde para un grado alto conduce a tener sistemas de ecuaciones lineales muy sensibles a perturbaciones en los datos).**"
   ]
  },
  {
   "cell_type": "markdown",
   "metadata": {},
   "source": [
    "**La gráfica**"
   ]
  },
  {
   "cell_type": "markdown",
   "metadata": {},
   "source": [
    "Ahora nos gustaría graficarlo en el intervalo `[min(x),max(x)]` con `min(x)` la entrada con valor mínimo del numpy array `x` y `max(x)` su entrada con valor máximo."
   ]
  },
  {
   "cell_type": "markdown",
   "metadata": {},
   "source": [
    "Para lo anterior debemos evaluar $p_{npoints}(x)$ en diferentes valores de $x$. Para esto, generamos un numpy array con un número de puntos `neval`:"
   ]
  },
  {
   "cell_type": "code",
   "execution_count": 7,
   "metadata": {},
   "outputs": [],
   "source": [
    "neval = 100\n",
    "xeval = np.linspace(min(x),max(x), neval)\n",
    "yeval = np.polyval(coefficients,xeval)"
   ]
  },
  {
   "cell_type": "code",
   "execution_count": 8,
   "metadata": {},
   "outputs": [
    {
     "name": "stdout",
     "output_type": "stream",
     "text": [
      "xeval.shape: 100\n",
      "yeval.shape: 100\n"
     ]
    }
   ],
   "source": [
    "print('xeval.shape:', xeval.shape[0])\n",
    "print('yeval.shape:', yeval.shape[0])"
   ]
  },
  {
   "cell_type": "code",
   "execution_count": 9,
   "metadata": {},
   "outputs": [
    {
     "data": {
      "image/png": "[encoded data removed]",
      "text/plain": [
       "<Figure size 432x288 with 1 Axes>"
      ]
     },
     "metadata": {
      "needs_background": "light"
     },
     "output_type": "display_data"
    }
   ],
   "source": [
    "plt.plot(x, y, 'r*', xeval, yeval, 'k-')\n",
    "plt.legend(['datos','interpolador'], loc='best')\n",
    "plt.show()"
   ]
  },
  {
   "cell_type": "code",
   "execution_count": 10,
   "metadata": {},
   "outputs": [
    {
     "data": {
      "text/plain": [
       "-8.30968311551078"
      ]
     },
     "execution_count": 10,
     "metadata": {},
     "output_type": "execute_result"
    }
   ],
   "source": [
    "max(yeval)"
   ]
  },
  {
   "cell_type": "markdown",
   "metadata": {},
   "source": [
    "Si tuviéramos que estimar cantidades negativas con nuestro interpolador, entonces la siguiente estimación calcularíamos:"
   ]
  },
  {
   "cell_type": "code",
   "execution_count": 11,
   "metadata": {},
   "outputs": [
    {
     "data": {
      "text/plain": [
       "-10.740611757826628"
      ]
     },
     "execution_count": 11,
     "metadata": {},
     "output_type": "execute_result"
    }
   ],
   "source": [
    "np.polyval(coefficients, 8.5)"
   ]
  },
  {
   "cell_type": "markdown",
   "metadata": {},
   "source": [
    "### Problema con: número de puntos y la interpolación polinomial"
   ]
  },
  {
   "cell_type": "markdown",
   "metadata": {},
   "source": [
    "Si incrementamos a 9 puntos por los que deseamos hacer pasar un interpolador tenemos:"
   ]
  },
  {
   "cell_type": "code",
   "execution_count": 12,
   "metadata": {},
   "outputs": [],
   "source": [
    "#pseudorandom array\n",
    "np.random.seed(2000) #for reproducibility\n",
    "npoints = 9\n",
    "x = np.random.randn(npoints) + 10\n",
    "y = np.random.randn(npoints) - 10"
   ]
  },
  {
   "cell_type": "code",
   "execution_count": 13,
   "metadata": {},
   "outputs": [
    {
     "name": "stdout",
     "output_type": "stream",
     "text": [
      "'x:'\n",
      "array([11.74, 11.9 ,  7.89,  9.85, 10.58,  7.74, 10.14,  9.3 ,  9.38])\n",
      "'y:'\n",
      "array([-10.48,  -8.79, -11.08,  -9.19, -10.29, -10.22, -10.17,  -8.9 ,\n",
      "        -9.92])\n"
     ]
    }
   ],
   "source": [
    "pprint.pprint('x:')\n",
    "pprint.pprint(x)\n",
    "pprint.pprint('y:')\n",
    "pprint.pprint(y)"
   ]
  },
  {
   "cell_type": "markdown",
   "metadata": {},
   "source": [
    "**Los datos**"
   ]
  },
  {
   "cell_type": "code",
   "execution_count": 14,
   "metadata": {},
   "outputs": [
    {
     "data": {
      "image/png": "[encoded data removed]",
      "text/plain": [
       "<Figure size 432x288 with 1 Axes>"
      ]
     },
     "metadata": {
      "needs_background": "light"
     },
     "output_type": "display_data"
    }
   ],
   "source": [
    "plt.plot(x,y, 'r*')\n",
    "plt.xlabel('x')\n",
    "plt.ylabel('y')\n",
    "plt.title('Puntos ejemplo')\n",
    "plt.show()"
   ]
  },
  {
   "cell_type": "code",
   "execution_count": 15,
   "metadata": {},
   "outputs": [
    {
     "name": "stdout",
     "output_type": "stream",
     "text": [
      "array([ 2.55e+00, -2.01e+02,  6.94e+03, -1.36e+05,  1.66e+06, -1.30e+07,\n",
      "        6.31e+07, -1.75e+08,  2.11e+08])\n"
     ]
    }
   ],
   "source": [
    "ndegree = npoints -1\n",
    "new_coefficients = np.polyfit(x,y,ndegree)\n",
    "pprint.pprint(new_coefficients)"
   ]
  },
  {
   "cell_type": "markdown",
   "metadata": {},
   "source": [
    "Nuestro polinomio ahora es (considerando dos dígitos a la derecha del punto decimal de los resultados anteriores): $$p_{npoints}(x) = 2.55x^8 -201x^7 + 6940x^6-1.36*10^5x^5+1.66*10^6x^4-1.3*10^7x^3 +6.31*10^7x^2-1.75*10^8x+2.11*10^8$$"
   ]
  },
  {
   "cell_type": "markdown",
   "metadata": {},
   "source": [
    "**La gráfica**"
   ]
  },
  {
   "cell_type": "code",
   "execution_count": 16,
   "metadata": {},
   "outputs": [],
   "source": [
    "neval = 100\n",
    "xeval = np.linspace(min(x),max(x), neval)\n",
    "yeval = np.polyval(new_coefficients,xeval)"
   ]
  },
  {
   "cell_type": "code",
   "execution_count": 17,
   "metadata": {},
   "outputs": [
    {
     "name": "stdout",
     "output_type": "stream",
     "text": [
      "xeval.shape: 100\n",
      "yeval.shape: 100\n"
     ]
    }
   ],
   "source": [
    "print('xeval.shape:', xeval.shape[0])\n",
    "print('yeval.shape:', yeval.shape[0])"
   ]
  },
  {
   "cell_type": "markdown",
   "metadata": {},
   "source": [
    "Obsérvese la oscilación que debe tener el polinomio de grado $9$ para pasar por los $10$ puntos:"
   ]
  },
  {
   "cell_type": "code",
   "execution_count": 18,
   "metadata": {},
   "outputs": [
    {
     "data": {
      "image/png": "[encoded data removed]",
      "text/plain": [
       "<Figure size 432x288 with 1 Axes>"
      ]
     },
     "metadata": {
      "needs_background": "light"
     },
     "output_type": "display_data"
    }
   ],
   "source": [
    "plt.plot(x, y, 'r*',xeval, yeval, 'k-')\n",
    "plt.legend(['datos','interpolador'], loc='best')\n",
    "plt.show()"
   ]
  },
  {
   "cell_type": "code",
   "execution_count": 19,
   "metadata": {},
   "outputs": [
    {
     "data": {
      "text/plain": [
       "34.327245980501175"
      ]
     },
     "execution_count": 19,
     "metadata": {},
     "output_type": "execute_result"
    }
   ],
   "source": [
    "max(yeval)"
   ]
  },
  {
   "cell_type": "markdown",
   "metadata": {},
   "source": [
    "Este tipo de oscilación es típica al tener un polinomio mayor o igual a $6$ (más de $7$ puntos). Si tuviéramos que estimar cantidades negativas con nuestro interpolador, entonces la siguiente estimación sería errórena:"
   ]
  },
  {
   "cell_type": "code",
   "execution_count": 20,
   "metadata": {},
   "outputs": [
    {
     "data": {
      "text/plain": [
       "32.875958532094955"
      ]
     },
     "execution_count": 20,
     "metadata": {},
     "output_type": "execute_result"
    }
   ],
   "source": [
    "np.polyval(new_coefficients,8.5)"
   ]
  },
  {
   "cell_type": "markdown",
   "metadata": {},
   "source": [
    "lo cual es erróneo."
   ]
  },
  {
   "cell_type": "markdown",
   "metadata": {},
   "source": [
    "**Nota**"
   ]
  },
  {
   "cell_type": "markdown",
   "metadata": {},
   "source": [
    "Los interpoladores obtenidos con alguno de los métodos anteriores se utilizan para estimar cantidades en el intervalo con el que fueron construídos. Si deseamos estimar fuera del intervalo debe de realizarse con cuidado pues se pueden tener estimaciones incorrectas."
   ]
  },
  {
   "cell_type": "code",
   "execution_count": 21,
   "metadata": {},
   "outputs": [
    {
     "data": {
      "text/plain": [
       "35.302850723801384"
      ]
     },
     "execution_count": 21,
     "metadata": {},
     "output_type": "execute_result"
    }
   ],
   "source": [
    "np.polyval(coefficients, 15)"
   ]
  },
  {
   "cell_type": "code",
   "execution_count": 22,
   "metadata": {},
   "outputs": [
    {
     "data": {
      "text/plain": [
       "867306.9197259247"
      ]
     },
     "execution_count": 22,
     "metadata": {},
     "output_type": "execute_result"
    }
   ],
   "source": [
    "np.polyval(new_coefficients, 15)"
   ]
  },
  {
   "cell_type": "markdown",
   "metadata": {},
   "source": [
    "### Polinomios piecewise"
   ]
  },
  {
   "cell_type": "markdown",
   "metadata": {},
   "source": [
    "Para arreglar la oscilación de interpoladores de grado alto, una solución es interpolar con polinomios de grado bajo en cada subintervalo compuesto por las $x$'s, esto es, una forma *piecewise*. En python se realiza con el método `interpolate` del paquete `scipy`:"
   ]
  },
  {
   "cell_type": "markdown",
   "metadata": {},
   "source": [
    "**Lineal**"
   ]
  },
  {
   "cell_type": "code",
   "execution_count": 23,
   "metadata": {},
   "outputs": [],
   "source": [
    "from scipy.interpolate import interp1d"
   ]
  },
  {
   "cell_type": "code",
   "execution_count": 24,
   "metadata": {},
   "outputs": [],
   "source": [
    "pw_l = interp1d(x, y) #linear piecewise "
   ]
  },
  {
   "cell_type": "code",
   "execution_count": 25,
   "metadata": {},
   "outputs": [],
   "source": [
    "neval = 100\n",
    "xeval = np.linspace(min(x),max(x), neval)\n",
    "yeval = pw_l(xeval)"
   ]
  },
  {
   "cell_type": "code",
   "execution_count": 26,
   "metadata": {},
   "outputs": [
    {
     "name": "stdout",
     "output_type": "stream",
     "text": [
      "xeval.shape: 100\n",
      "yeval.shape: 100\n"
     ]
    }
   ],
   "source": [
    "print('xeval.shape:', xeval.shape[0])\n",
    "print('yeval.shape:', yeval.shape[0])"
   ]
  },
  {
   "cell_type": "code",
   "execution_count": 27,
   "metadata": {},
   "outputs": [
    {
     "data": {
      "image/png": "[encoded data removed]",
      "text/plain": [
       "<Figure size 432x288 with 1 Axes>"
      ]
     },
     "metadata": {
      "needs_background": "light"
     },
     "output_type": "display_data"
    }
   ],
   "source": [
    "plt.plot(x, y, 'r*',xeval, yeval, 'k-')\n",
    "plt.legend(['datos','interpolador lineal piecewise'], loc='best')\n",
    "plt.show()"
   ]
  },
  {
   "cell_type": "markdown",
   "metadata": {},
   "source": [
    "Aunque se ha resuelto la estimación:"
   ]
  },
  {
   "cell_type": "code",
   "execution_count": 28,
   "metadata": {},
   "outputs": [
    {
     "name": "stdout",
     "output_type": "stream",
     "text": [
      "-10.1358074696758\n"
     ]
    }
   ],
   "source": [
    "print(pw_l(8.5))"
   ]
  },
  {
   "cell_type": "markdown",
   "metadata": {},
   "source": [
    "**Splines**"
   ]
  },
  {
   "cell_type": "markdown",
   "metadata": {},
   "source": [
    "Los *splines* cúbicos *piecewise* resuelven la no diferenciabilidad del interpolador lineal en los puntos dados:"
   ]
  },
  {
   "cell_type": "code",
   "execution_count": 29,
   "metadata": {},
   "outputs": [],
   "source": [
    "pw_spline = interp1d(x, y, kind = 'cubic') #spline piecewise \n",
    "neval = 100\n",
    "xeval = np.linspace(min(x),max(x), neval)\n",
    "yeval = pw_spline(xeval)"
   ]
  },
  {
   "cell_type": "code",
   "execution_count": 30,
   "metadata": {},
   "outputs": [
    {
     "name": "stdout",
     "output_type": "stream",
     "text": [
      "xeval.shape: 100\n",
      "yeval.shape: 100\n"
     ]
    }
   ],
   "source": [
    "print('xeval.shape:', xeval.shape[0])\n",
    "print('yeval.shape:', yeval.shape[0])"
   ]
  },
  {
   "cell_type": "code",
   "execution_count": 31,
   "metadata": {},
   "outputs": [
    {
     "data": {
      "image/png": "[encoded data removed]",
      "text/plain": [
       "<Figure size 432x288 with 1 Axes>"
      ]
     },
     "metadata": {
      "needs_background": "light"
     },
     "output_type": "display_data"
    }
   ],
   "source": [
    "plt.plot(x, y, 'r*',xeval, yeval, 'k-')\n",
    "plt.legend(['datos','cubic splines piecewise'], loc='best')\n",
    "plt.show()"
   ]
  },
  {
   "cell_type": "code",
   "execution_count": 32,
   "metadata": {},
   "outputs": [
    {
     "name": "stdout",
     "output_type": "stream",
     "text": [
      "-8.864195192656851\n"
     ]
    }
   ],
   "source": [
    "print(pw_spline(8.5))"
   ]
  },
  {
   "cell_type": "markdown",
   "metadata": {},
   "source": [
    "Ver: [Interpolation (scipy.interpolate)](https://docs.scipy.org/doc/scipy/reference/tutorial/interpolate.html)"
   ]
  },
  {
   "cell_type": "markdown",
   "metadata": {},
   "source": [
    "**(Tarea)Ejercicio: Interpolar con 10 puntos generados de la función de [Runge](https://en.wikipedia.org/wiki/Runge%27s_phenomenon) $f(x) = \\frac{1}{1+25x^2}$ en el intervalo $[-1,1]$ equidistantes. Hacer la gráfica con $10,000$ puntos en el mismo intervalo. Utilizar polyfit para el polinomio interpolador y splines cúbicos.**"
   ]
  },
  {
   "cell_type": "markdown",
   "metadata": {},
   "source": [
    "# Curvas paramétricas e interpolación"
   ]
  },
  {
   "cell_type": "markdown",
   "metadata": {},
   "source": [
    "Ninguna de las técnicas vistas anteriormente pueden usarse para generar curvas como la de una circunferencia:"
   ]
  },
  {
   "cell_type": "code",
   "execution_count": 33,
   "metadata": {},
   "outputs": [],
   "source": [
    "radius = 1\n",
    "npoints = 100"
   ]
  },
  {
   "cell_type": "code",
   "execution_count": 34,
   "metadata": {},
   "outputs": [],
   "source": [
    "x = np.linspace(-radius,radius,npoints)\n",
    "y1 = np.sqrt(radius-x**2)\n",
    "y2 = -np.sqrt(radius-x**2)"
   ]
  },
  {
   "cell_type": "code",
   "execution_count": 35,
   "metadata": {},
   "outputs": [
    {
     "data": {
      "image/png": "[encoded data removed]",
      "text/plain": [
       "<Figure size 432x288 with 1 Axes>"
      ]
     },
     "metadata": {
      "needs_background": "light"
     },
     "output_type": "display_data"
    }
   ],
   "source": [
    "plt.plot(x,y1,'m',\n",
    "         x,y2,'m')\n",
    "plt.title(\"Circunferencia\")\n",
    "plt.show()"
   ]
  },
  {
   "cell_type": "markdown",
   "metadata": {},
   "source": [
    "pues no puede expresarse como una función del tipo: $y = f(x)$. Obsérvese que para la gráfica anterior se han usado dos funciones: $y_1 = f_1(x) = \\sqrt{r-x^2}$, $y_2 = f_2(x) =  -\\sqrt{r-x^2}$."
   ]
  },
  {
   "cell_type": "markdown",
   "metadata": {},
   "source": [
    "Lo anterior puede resolverse definiendo una función, $f: \\mathbb{R} \\rightarrow \\mathbb{R}^2$, de un parámetro $t$ que tome valores en el intervalo $[0,2\\pi)$ y definida por $f(t) = (\\cos(t), \\sin(t))$. Obsérvese que para $t=0$ se obtiene el punto $(1,0)$, para $t=\\frac{\\pi}{2}$ se obtiene $(0,1)$ y así sucesivamente hasta $t=2\\pi$ en el que obtendríamos nuevamente el punto $(1,0)$. Para este caso se cumple:\n",
    "\n",
    "$$f(t) = (x(t), y(t))$$\n",
    "\n",
    "con $x(t) = \\cos(t)$, $y(t) = \\sin(t)$ funciones tales que $x : \\mathbb{R} \\rightarrow \\mathbb{R}$, $y: \\mathbb{R} \\rightarrow \\mathbb{R}$."
   ]
  },
  {
   "cell_type": "code",
   "execution_count": 36,
   "metadata": {},
   "outputs": [],
   "source": [
    "import time"
   ]
  },
  {
   "cell_type": "code",
   "execution_count": 37,
   "metadata": {},
   "outputs": [],
   "source": [
    "npoints = 100\n",
    "a = 0\n",
    "b = 2*np.pi\n",
    "t = np.linspace(a,b,npoints)\n",
    "x = np.cos(t)\n",
    "y = np.sin(t)\n",
    "x_min = np.min(x)\n",
    "y_min = np.min(y)\n",
    "x_max = np.max(x)\n",
    "y_max = np.max(y)"
   ]
  },
  {
   "cell_type": "markdown",
   "metadata": {},
   "source": [
    "Ver [plt.draw](https://matplotlib.org/3.1.1/api/_as_gen/matplotlib.pyplot.draw.html#matplotlib-pyplot-draw)"
   ]
  },
  {
   "cell_type": "code",
   "execution_count": 32,
   "metadata": {},
   "outputs": [],
   "source": [
    "def make_plot(ax, idx):\n",
    "    ax.plot(x[:idx], y[:idx])\n",
    "    window = 0.5\n",
    "    plt.xlim(x_min-window, x_max+window)\n",
    "    plt.ylim(y_min-window, y_max+window)\n",
    "    plt.plot(x[:idx], y[:idx], 'mo')\n",
    "    fig.canvas.draw() #redraw the current figure"
   ]
  },
  {
   "cell_type": "markdown",
   "metadata": {},
   "source": [
    "Ver: [matplotlib magic command](https://ipython.readthedocs.io/en/stable/interactive/magics.html#magic-matplotlib), [plt.subplots](https://matplotlib.org/3.2.1/api/_as_gen/matplotlib.pyplot.subplots.html#matplotlib-pyplot-subplots)"
   ]
  },
  {
   "cell_type": "code",
   "execution_count": 5,
   "metadata": {
    "scrolled": true
   },
   "outputs": [],
   "source": [
    "%matplotlib notebook #for interactive plotting\n",
    "fig, ax = plt.subplots() #create figure that will be used\n",
    "                         #in make_plot func. Also retrieve axes\n",
    "for idx,_ in enumerate(t): #enumerate creates tuples \n",
    "                           #in a sequentially way\n",
    "    make_plot(ax, idx)\n",
    "    time.sleep(0.2)"
   ]
  },
  {
   "cell_type": "markdown",
   "metadata": {},
   "source": [
    "**Nota: Hay que dar click en el botón arriba de la figura de apagar interactividad.**"
   ]
  },
  {
   "cell_type": "markdown",
   "metadata": {},
   "source": [
    "## Ejemplo"
   ]
  },
  {
   "cell_type": "markdown",
   "metadata": {},
   "source": [
    "Usemos la imagen siguiente para realizar una interpolación a una curva paramétrica con *splines*:"
   ]
  },
  {
   "cell_type": "code",
   "execution_count": null,
   "metadata": {},
   "outputs": [],
   "source": [
    "!wget https://www.dropbox.com/s/25zbthmsco6u1u6/hummingbird.png?dl=0 -O hummingbird.png"
   ]
  },
  {
   "cell_type": "code",
   "execution_count": 38,
   "metadata": {},
   "outputs": [
    {
     "name": "stdout",
     "output_type": "stream",
     "text": [
      "0_definiciones_generales.ipynb\n",
      "1_ecuaciones_lineales.ipynb\n",
      "2_interpolacion.ipynb\n",
      "2_interpolacion_parametrica_apoyo.ipynb\n",
      "3_minimos_cuadrados.ipynb\n",
      "4_SVD_y_reconstruccion_de_imagenes.ipynb\n",
      "Kiara.png\n",
      "Nota_apoyo_1_ecuaciones_lineales.ipynb\n",
      "Nota_apoyo_3_minimos_cuadrados.ipynb\n",
      "__pycache__\n",
      "data_for_nbook_3_minimos_cuadrados.txt\n",
      "hummingbird.png\n",
      "img_bottle.png\n",
      "solve_linear_system_of_equations.py\n",
      "test_MSE.py\n",
      "test_solve_linear_system_of_equations.py\n",
      "utils.py\n"
     ]
    }
   ],
   "source": [
    "%%bash \n",
    "ls "
   ]
  },
  {
   "cell_type": "code",
   "execution_count": 39,
   "metadata": {
    "scrolled": true
   },
   "outputs": [
    {
     "data": {
      "image/png": "[encoded data removed]",
      "text/plain": [
       "<Figure size 432x288 with 1 Axes>"
      ]
     },
     "metadata": {
      "needs_background": "light"
     },
     "output_type": "display_data"
    }
   ],
   "source": [
    "img=plt.imread('hummingbird.png')\n",
    "plt.imshow(img)\n",
    "plt.title('Colibrí')\n",
    "plt.show()"
   ]
  },
  {
   "cell_type": "markdown",
   "metadata": {},
   "source": [
    "**Nota: Hay que dar click en el botón arriba de la figura de apagar interactividad.**"
   ]
  },
  {
   "cell_type": "markdown",
   "metadata": {},
   "source": [
    "**De manera interactiva vamos dando click a la imagen anterior con la siguiente celda, en la lista `pos` se irán guardando las coordenadas en donde hagamos click.**"
   ]
  },
  {
   "cell_type": "code",
   "execution_count": 40,
   "metadata": {},
   "outputs": [
    {
     "data": {
      "application/javascript": [
       "/* Put everything inside the global mpl namespace */\n",
       "window.mpl = {};\n",
       "\n",
       "\n",
       "mpl.get_websocket_type = function() {\n",
       "    if (typeof(WebSocket) !== 'undefined') {\n",
       "        return WebSocket;\n",
       "    } else if (typeof(MozWebSocket) !== 'undefined') {\n",
       "        return MozWebSocket;\n",
       "    } else {\n",
       "        alert('Your browser does not have WebSocket support. ' +\n",
       "              'Please try Chrome, Safari or Firefox ≥ 6. ' +\n",
       "              'Firefox 4 and 5 are also supported but you ' +\n",
       "              'have to enable WebSockets in about:config.');\n",
       "    };\n",
       "}\n",
       "\n",
       "mpl.figure = function(figure_id, websocket, ondownload, parent_element) {\n",
       "    this.id = figure_id;\n",
       "\n",
       "    this.ws = websocket;\n",
       "\n",
       "    this.supports_binary = (this.ws.binaryType != undefined);\n",
       "\n",
       "    if (!this.supports_binary) {\n",
       "        var warnings = document.getElementById(\"mpl-warnings\");\n",
       "        if (warnings) {\n",
       "            warnings.style.display = 'block';\n",
       "            warnings.textContent = (\n",
       "                \"This browser does not support binary websocket messages. \" +\n",
       "                    \"Performance may be slow.\");\n",
       "        }\n",
       "    }\n",
       "\n",
       "    this.imageObj = new Image();\n",
       "\n",
       "    this.context = undefined;\n",
       "    this.message = undefined;\n",
       "    this.canvas = undefined;\n",
       "    this.rubberband_canvas = undefined;\n",
       "    this.rubberband_context = undefined;\n",
       "    this.format_dropdown = undefined;\n",
       "\n",
       "    this.image_mode = 'full';\n",
       "\n",
       "    this.root = $('<div/>');\n",
       "    this._root_extra_style(this.root)\n",
       "    this.root.attr('style', 'display: inline-block');\n",
       "\n",
       "    $(parent_element).append(this.root);\n",
       "\n",
       "    this._init_header(this);\n",
       "    this._init_canvas(this);\n",
       "    this._init_toolbar(this);\n",
       "\n",
       "    var fig = this;\n",
       "\n",
       "    this.waiting = false;\n",
       "\n",
       "    this.ws.onopen =  function () {\n",
       "            fig.send_message(\"supports_binary\", {value: fig.supports_binary});\n",
       "            fig.send_message(\"send_image_mode\", {});\n",
       "            if (mpl.ratio != 1) {\n",
       "                fig.send_message(\"set_dpi_ratio\", {'dpi_ratio': mpl.ratio});\n",
       "            }\n",
       "            fig.send_message(\"refresh\", {});\n",
       "        }\n",
       "\n",
       "    this.imageObj.onload = function() {\n",
       "            if (fig.image_mode == 'full') {\n",
       "                // Full images could contain transparency (where diff images\n",
       "                // almost always do), so we need to clear the canvas so that\n",
       "                // there is no ghosting.\n",
       "                fig.context.clearRect(0, 0, fig.canvas.width, fig.canvas.height);\n",
       "            }\n",
       "            fig.context.drawImage(fig.imageObj, 0, 0);\n",
       "        };\n",
       "\n",
       "    this.imageObj.onunload = function() {\n",
       "        fig.ws.close();\n",
       "    }\n",
       "\n",
       "    this.ws.onmessage = this._make_on_message_function(this);\n",
       "\n",
       "    this.ondownload = ondownload;\n",
       "}\n",
       "\n",
       "mpl.figure.prototype._init_header = function() {\n",
       "    var titlebar = $(\n",
       "        '<div class=\"ui-dialog-titlebar ui-widget-header ui-corner-all ' +\n",
       "        'ui-helper-clearfix\"/>');\n",
       "    var titletext = $(\n",
       "        '<div class=\"ui-dialog-title\" style=\"width: 100%; ' +\n",
       "        'text-align: center; padding: 3px;\"/>');\n",
       "    titlebar.append(titletext)\n",
       "    this.root.append(titlebar);\n",
       "    this.header = titletext[0];\n",
       "}\n",
       "\n",
       "\n",
       "\n",
       "mpl.figure.prototype._canvas_extra_style = function(canvas_div) {\n",
       "\n",
       "}\n",
       "\n",
       "\n",
       "mpl.figure.prototype._root_extra_style = function(canvas_div) {\n",
       "\n",
       "}\n",
       "\n",
       "mpl.figure.prototype._init_canvas = function() {\n",
       "    var fig = this;\n",
       "\n",
       "    var canvas_div = $('<div/>');\n",
       "\n",
       "    canvas_div.attr('style', 'position: relative; clear: both; outline: 0');\n",
       "\n",
       "    function canvas_keyboard_event(event) {\n",
       "        return fig.key_event(event, event['data']);\n",
       "    }\n",
       "\n",
       "    canvas_div.keydown('key_press', canvas_keyboard_event);\n",
       "    canvas_div.keyup('key_release', canvas_keyboard_event);\n",
       "    this.canvas_div = canvas_div\n",
       "    this._canvas_extra_style(canvas_div)\n",
       "    this.root.append(canvas_div);\n",
       "\n",
       "    var canvas = $('<canvas/>');\n",
       "    canvas.addClass('mpl-canvas');\n",
       "    canvas.attr('style', \"left: 0; top: 0; z-index: 0; outline: 0\")\n",
       "\n",
       "    this.canvas = canvas[0];\n",
       "    this.context = canvas[0].getContext(\"2d\");\n",
       "\n",
       "    var backingStore = this.context.backingStorePixelRatio ||\n",
       "\tthis.context.webkitBackingStorePixelRatio ||\n",
       "\tthis.context.mozBackingStorePixelRatio ||\n",
       "\tthis.context.msBackingStorePixelRatio ||\n",
       "\tthis.context.oBackingStorePixelRatio ||\n",
       "\tthis.context.backingStorePixelRatio || 1;\n",
       "\n",
       "    mpl.ratio = (window.devicePixelRatio || 1) / backingStore;\n",
       "\n",
       "    var rubberband = $('<canvas/>');\n",
       "    rubberband.attr('style', \"position: absolute; left: 0; top: 0; z-index: 1;\")\n",
       "\n",
       "    var pass_mouse_events = true;\n",
       "\n",
       "    canvas_div.resizable({\n",
       "        start: function(event, ui) {\n",
       "            pass_mouse_events = false;\n",
       "        },\n",
       "        resize: function(event, ui) {\n",
       "            fig.request_resize(ui.size.width, ui.size.height);\n",
       "        },\n",
       "        stop: function(event, ui) {\n",
       "            pass_mouse_events = true;\n",
       "            fig.request_resize(ui.size.width, ui.size.height);\n",
       "        },\n",
       "    });\n",
       "\n",
       "    function mouse_event_fn(event) {\n",
       "        if (pass_mouse_events)\n",
       "            return fig.mouse_event(event, event['data']);\n",
       "    }\n",
       "\n",
       "    rubberband.mousedown('button_press', mouse_event_fn);\n",
       "    rubberband.mouseup('button_release', mouse_event_fn);\n",
       "    // Throttle sequential mouse events to 1 every 20ms.\n",
       "    rubberband.mousemove('motion_notify', mouse_event_fn);\n",
       "\n",
       "    rubberband.mouseenter('figure_enter', mouse_event_fn);\n",
       "    rubberband.mouseleave('figure_leave', mouse_event_fn);\n",
       "\n",
       "    canvas_div.on(\"wheel\", function (event) {\n",
       "        event = event.originalEvent;\n",
       "        event['data'] = 'scroll'\n",
       "        if (event.deltaY < 0) {\n",
       "            event.step = 1;\n",
       "        } else {\n",
       "            event.step = -1;\n",
       "        }\n",
       "        mouse_event_fn(event);\n",
       "    });\n",
       "\n",
       "    canvas_div.append(canvas);\n",
       "    canvas_div.append(rubberband);\n",
       "\n",
       "    this.rubberband = rubberband;\n",
       "    this.rubberband_canvas = rubberband[0];\n",
       "    this.rubberband_context = rubberband[0].getContext(\"2d\");\n",
       "    this.rubberband_context.strokeStyle = \"#000000\";\n",
       "\n",
       "    this._resize_canvas = function(width, height) {\n",
       "        // Keep the size of the canvas, canvas container, and rubber band\n",
       "        // canvas in synch.\n",
       "        canvas_div.css('width', width)\n",
       "        canvas_div.css('height', height)\n",
       "\n",
       "        canvas.attr('width', width * mpl.ratio);\n",
       "        canvas.attr('height', height * mpl.ratio);\n",
       "        canvas.attr('style', 'width: ' + width + 'px; height: ' + height + 'px;');\n",
       "\n",
       "        rubberband.attr('width', width);\n",
       "        rubberband.attr('height', height);\n",
       "    }\n",
       "\n",
       "    // Set the figure to an initial 600x600px, this will subsequently be updated\n",
       "    // upon first draw.\n",
       "    this._resize_canvas(600, 600);\n",
       "\n",
       "    // Disable right mouse context menu.\n",
       "    $(this.rubberband_canvas).bind(\"contextmenu\",function(e){\n",
       "        return false;\n",
       "    });\n",
       "\n",
       "    function set_focus () {\n",
       "        canvas.focus();\n",
       "        canvas_div.focus();\n",
       "    }\n",
       "\n",
       "    window.setTimeout(set_focus, 100);\n",
       "}\n",
       "\n",
       "mpl.figure.prototype._init_toolbar = function() {\n",
       "    var fig = this;\n",
       "\n",
       "    var nav_element = $('<div/>');\n",
       "    nav_element.attr('style', 'width: 100%');\n",
       "    this.root.append(nav_element);\n",
       "\n",
       "    // Define a callback function for later on.\n",
       "    function toolbar_event(event) {\n",
       "        return fig.toolbar_button_onclick(event['data']);\n",
       "    }\n",
       "    function toolbar_mouse_event(event) {\n",
       "        return fig.toolbar_button_onmouseover(event['data']);\n",
       "    }\n",
       "\n",
       "    for(var toolbar_ind in mpl.toolbar_items) {\n",
       "        var name = mpl.toolbar_items[toolbar_ind][0];\n",
       "        var tooltip = mpl.toolbar_items[toolbar_ind][1];\n",
       "        var image = mpl.toolbar_items[toolbar_ind][2];\n",
       "        var method_name = mpl.toolbar_items[toolbar_ind][3];\n",
       "\n",
       "        if (!name) {\n",
       "            // put a spacer in here.\n",
       "            continue;\n",
       "        }\n",
       "        var button = $('<button/>');\n",
       "        button.addClass('ui-button ui-widget ui-state-default ui-corner-all ' +\n",
       "                        'ui-button-icon-only');\n",
       "        button.attr('role', 'button');\n",
       "        button.attr('aria-disabled', 'false');\n",
       "        button.click(method_name, toolbar_event);\n",
       "        button.mouseover(tooltip, toolbar_mouse_event);\n",
       "\n",
       "        var icon_img = $('<span/>');\n",
       "        icon_img.addClass('ui-button-icon-primary ui-icon');\n",
       "        icon_img.addClass(image);\n",
       "        icon_img.addClass('ui-corner-all');\n",
       "\n",
       "        var tooltip_span = $('<span/>');\n",
       "        tooltip_span.addClass('ui-button-text');\n",
       "        tooltip_span.html(tooltip);\n",
       "\n",
       "        button.append(icon_img);\n",
       "        button.append(tooltip_span);\n",
       "\n",
       "        nav_element.append(button);\n",
       "    }\n",
       "\n",
       "    var fmt_picker_span = $('<span/>');\n",
       "\n",
       "    var fmt_picker = $('<select/>');\n",
       "    fmt_picker.addClass('mpl-toolbar-option ui-widget ui-widget-content');\n",
       "    fmt_picker_span.append(fmt_picker);\n",
       "    nav_element.append(fmt_picker_span);\n",
       "    this.format_dropdown = fmt_picker[0];\n",
       "\n",
       "    for (var ind in mpl.extensions) {\n",
       "        var fmt = mpl.extensions[ind];\n",
       "        var option = $(\n",
       "            '<option/>', {selected: fmt === mpl.default_extension}).html(fmt);\n",
       "        fmt_picker.append(option);\n",
       "    }\n",
       "\n",
       "    // Add hover states to the ui-buttons\n",
       "    $( \".ui-button\" ).hover(\n",
       "        function() { $(this).addClass(\"ui-state-hover\");},\n",
       "        function() { $(this).removeClass(\"ui-state-hover\");}\n",
       "    );\n",
       "\n",
       "    var status_bar = $('<span class=\"mpl-message\"/>');\n",
       "    nav_element.append(status_bar);\n",
       "    this.message = status_bar[0];\n",
       "}\n",
       "\n",
       "mpl.figure.prototype.request_resize = function(x_pixels, y_pixels) {\n",
       "    // Request matplotlib to resize the figure. Matplotlib will then trigger a resize in the client,\n",
       "    // which will in turn request a refresh of the image.\n",
       "    this.send_message('resize', {'width': x_pixels, 'height': y_pixels});\n",
       "}\n",
       "\n",
       "mpl.figure.prototype.send_message = function(type, properties) {\n",
       "    properties['type'] = type;\n",
       "    properties['figure_id'] = this.id;\n",
       "    this.ws.send(JSON.stringify(properties));\n",
       "}\n",
       "\n",
       "mpl.figure.prototype.send_draw_message = function() {\n",
       "    if (!this.waiting) {\n",
       "        this.waiting = true;\n",
       "        this.ws.send(JSON.stringify({type: \"draw\", figure_id: this.id}));\n",
       "    }\n",
       "}\n",
       "\n",
       "\n",
       "mpl.figure.prototype.handle_save = function(fig, msg) {\n",
       "    var format_dropdown = fig.format_dropdown;\n",
       "    var format = format_dropdown.options[format_dropdown.selectedIndex].value;\n",
       "    fig.ondownload(fig, format);\n",
       "}\n",
       "\n",
       "\n",
       "mpl.figure.prototype.handle_resize = function(fig, msg) {\n",
       "    var size = msg['size'];\n",
       "    if (size[0] != fig.canvas.width || size[1] != fig.canvas.height) {\n",
       "        fig._resize_canvas(size[0], size[1]);\n",
       "        fig.send_message(\"refresh\", {});\n",
       "    };\n",
       "}\n",
       "\n",
       "mpl.figure.prototype.handle_rubberband = function(fig, msg) {\n",
       "    var x0 = msg['x0'] / mpl.ratio;\n",
       "    var y0 = (fig.canvas.height - msg['y0']) / mpl.ratio;\n",
       "    var x1 = msg['x1'] / mpl.ratio;\n",
       "    var y1 = (fig.canvas.height - msg['y1']) / mpl.ratio;\n",
       "    x0 = Math.floor(x0) + 0.5;\n",
       "    y0 = Math.floor(y0) + 0.5;\n",
       "    x1 = Math.floor(x1) + 0.5;\n",
       "    y1 = Math.floor(y1) + 0.5;\n",
       "    var min_x = Math.min(x0, x1);\n",
       "    var min_y = Math.min(y0, y1);\n",
       "    var width = Math.abs(x1 - x0);\n",
       "    var height = Math.abs(y1 - y0);\n",
       "\n",
       "    fig.rubberband_context.clearRect(\n",
       "        0, 0, fig.canvas.width / mpl.ratio, fig.canvas.height / mpl.ratio);\n",
       "\n",
       "    fig.rubberband_context.strokeRect(min_x, min_y, width, height);\n",
       "}\n",
       "\n",
       "mpl.figure.prototype.handle_figure_label = function(fig, msg) {\n",
       "    // Updates the figure title.\n",
       "    fig.header.textContent = msg['label'];\n",
       "}\n",
       "\n",
       "mpl.figure.prototype.handle_cursor = function(fig, msg) {\n",
       "    var cursor = msg['cursor'];\n",
       "    switch(cursor)\n",
       "    {\n",
       "    case 0:\n",
       "        cursor = 'pointer';\n",
       "        break;\n",
       "    case 1:\n",
       "        cursor = 'default';\n",
       "        break;\n",
       "    case 2:\n",
       "        cursor = 'crosshair';\n",
       "        break;\n",
       "    case 3:\n",
       "        cursor = 'move';\n",
       "        break;\n",
       "    }\n",
       "    fig.rubberband_canvas.style.cursor = cursor;\n",
       "}\n",
       "\n",
       "mpl.figure.prototype.handle_message = function(fig, msg) {\n",
       "    fig.message.textContent = msg['message'];\n",
       "}\n",
       "\n",
       "mpl.figure.prototype.handle_draw = function(fig, msg) {\n",
       "    // Request the server to send over a new figure.\n",
       "    fig.send_draw_message();\n",
       "}\n",
       "\n",
       "mpl.figure.prototype.handle_image_mode = function(fig, msg) {\n",
       "    fig.image_mode = msg['mode'];\n",
       "}\n",
       "\n",
       "mpl.figure.prototype.updated_canvas_event = function() {\n",
       "    // Called whenever the canvas gets updated.\n",
       "    this.send_message(\"ack\", {});\n",
       "}\n",
       "\n",
       "// A function to construct a web socket function for onmessage handling.\n",
       "// Called in the figure constructor.\n",
       "mpl.figure.prototype._make_on_message_function = function(fig) {\n",
       "    return function socket_on_message(evt) {\n",
       "        if (evt.data instanceof Blob) {\n",
       "            /* FIXME: We get \"Resource interpreted as Image but\n",
       "             * transferred with MIME type text/plain:\" errors on\n",
       "             * Chrome.  But how to set the MIME type?  It doesn't seem\n",
       "             * to be part of the websocket stream */\n",
       "            evt.data.type = \"image/png\";\n",
       "\n",
       "            /* Free the memory for the previous frames */\n",
       "            if (fig.imageObj.src) {\n",
       "                (window.URL || window.webkitURL).revokeObjectURL(\n",
       "                    fig.imageObj.src);\n",
       "            }\n",
       "\n",
       "            fig.imageObj.src = (window.URL || window.webkitURL).createObjectURL(\n",
       "                evt.data);\n",
       "            fig.updated_canvas_event();\n",
       "            fig.waiting = false;\n",
       "            return;\n",
       "        }\n",
       "        else if (typeof evt.data === 'string' && evt.data.slice(0, 21) == \"data:image/png;base64\") {\n",
       "            fig.imageObj.src = evt.data;\n",
       "            fig.updated_canvas_event();\n",
       "            fig.waiting = false;\n",
       "            return;\n",
       "        }\n",
       "\n",
       "        var msg = JSON.parse(evt.data);\n",
       "        var msg_type = msg['type'];\n",
       "\n",
       "        // Call the  \"handle_{type}\" callback, which takes\n",
       "        // the figure and JSON message as its only arguments.\n",
       "        try {\n",
       "            var callback = fig[\"handle_\" + msg_type];\n",
       "        } catch (e) {\n",
       "            console.log(\"No handler for the '\" + msg_type + \"' message type: \", msg);\n",
       "            return;\n",
       "        }\n",
       "\n",
       "        if (callback) {\n",
       "            try {\n",
       "                // console.log(\"Handling '\" + msg_type + \"' message: \", msg);\n",
       "                callback(fig, msg);\n",
       "            } catch (e) {\n",
       "                console.log(\"Exception inside the 'handler_\" + msg_type + \"' callback:\", e, e.stack, msg);\n",
       "            }\n",
       "        }\n",
       "    };\n",
       "}\n",
       "\n",
       "// from http://stackoverflow.com/questions/1114465/getting-mouse-location-in-canvas\n",
       "mpl.findpos = function(e) {\n",
       "    //this section is from http://www.quirksmode.org/js/events_properties.html\n",
       "    var targ;\n",
       "    if (!e)\n",
       "        e = window.event;\n",
       "    if (e.target)\n",
       "        targ = e.target;\n",
       "    else if (e.srcElement)\n",
       "        targ = e.srcElement;\n",
       "    if (targ.nodeType == 3) // defeat Safari bug\n",
       "        targ = targ.parentNode;\n",
       "\n",
       "    // jQuery normalizes the pageX and pageY\n",
       "    // pageX,Y are the mouse positions relative to the document\n",
       "    // offset() returns the position of the element relative to the document\n",
       "    var x = e.pageX - $(targ).offset().left;\n",
       "    var y = e.pageY - $(targ).offset().top;\n",
       "\n",
       "    return {\"x\": x, \"y\": y};\n",
       "};\n",
       "\n",
       "/*\n",
       " * return a copy of an object with only non-object keys\n",
       " * we need this to avoid circular references\n",
       " * http://stackoverflow.com/a/24161582/3208463\n",
       " */\n",
       "function simpleKeys (original) {\n",
       "  return Object.keys(original).reduce(function (obj, key) {\n",
       "    if (typeof original[key] !== 'object')\n",
       "        obj[key] = original[key]\n",
       "    return obj;\n",
       "  }, {});\n",
       "}\n",
       "\n",
       "mpl.figure.prototype.mouse_event = function(event, name) {\n",
       "    var canvas_pos = mpl.findpos(event)\n",
       "\n",
       "    if (name === 'button_press')\n",
       "    {\n",
       "        this.canvas.focus();\n",
       "        this.canvas_div.focus();\n",
       "    }\n",
       "\n",
       "    var x = canvas_pos.x * mpl.ratio;\n",
       "    var y = canvas_pos.y * mpl.ratio;\n",
       "\n",
       "    this.send_message(name, {x: x, y: y, button: event.button,\n",
       "                             step: event.step,\n",
       "                             guiEvent: simpleKeys(event)});\n",
       "\n",
       "    /* This prevents the web browser from automatically changing to\n",
       "     * the text insertion cursor when the button is pressed.  We want\n",
       "     * to control all of the cursor setting manually through the\n",
       "     * 'cursor' event from matplotlib */\n",
       "    event.preventDefault();\n",
       "    return false;\n",
       "}\n",
       "\n",
       "mpl.figure.prototype._key_event_extra = function(event, name) {\n",
       "    // Handle any extra behaviour associated with a key event\n",
       "}\n",
       "\n",
       "mpl.figure.prototype.key_event = function(event, name) {\n",
       "\n",
       "    // Prevent repeat events\n",
       "    if (name == 'key_press')\n",
       "    {\n",
       "        if (event.which === this._key)\n",
       "            return;\n",
       "        else\n",
       "            this._key = event.which;\n",
       "    }\n",
       "    if (name == 'key_release')\n",
       "        this._key = null;\n",
       "\n",
       "    var value = '';\n",
       "    if (event.ctrlKey && event.which != 17)\n",
       "        value += \"ctrl+\";\n",
       "    if (event.altKey && event.which != 18)\n",
       "        value += \"alt+\";\n",
       "    if (event.shiftKey && event.which != 16)\n",
       "        value += \"shift+\";\n",
       "\n",
       "    value += 'k';\n",
       "    value += event.which.toString();\n",
       "\n",
       "    this._key_event_extra(event, name);\n",
       "\n",
       "    this.send_message(name, {key: value,\n",
       "                             guiEvent: simpleKeys(event)});\n",
       "    return false;\n",
       "}\n",
       "\n",
       "mpl.figure.prototype.toolbar_button_onclick = function(name) {\n",
       "    if (name == 'download') {\n",
       "        this.handle_save(this, null);\n",
       "    } else {\n",
       "        this.send_message(\"toolbar_button\", {name: name});\n",
       "    }\n",
       "};\n",
       "\n",
       "mpl.figure.prototype.toolbar_button_onmouseover = function(tooltip) {\n",
       "    this.message.textContent = tooltip;\n",
       "};\n",
       "mpl.toolbar_items = [[\"Home\", \"Reset original view\", \"fa fa-home icon-home\", \"home\"], [\"Back\", \"Back to previous view\", \"fa fa-arrow-left icon-arrow-left\", \"back\"], [\"Forward\", \"Forward to next view\", \"fa fa-arrow-right icon-arrow-right\", \"forward\"], [\"\", \"\", \"\", \"\"], [\"Pan\", \"Pan axes with left mouse, zoom with right\", \"fa fa-arrows icon-move\", \"pan\"], [\"Zoom\", \"Zoom to rectangle\", \"fa fa-square-o icon-check-empty\", \"zoom\"], [\"\", \"\", \"\", \"\"], [\"Download\", \"Download plot\", \"fa fa-floppy-o icon-save\", \"download\"]];\n",
       "\n",
       "mpl.extensions = [\"eps\", \"pdf\", \"png\", \"ps\", \"raw\", \"svg\"];\n",
       "\n",
       "mpl.default_extension = \"png\";var comm_websocket_adapter = function(comm) {\n",
       "    // Create a \"websocket\"-like object which calls the given IPython comm\n",
       "    // object with the appropriate methods. Currently this is a non binary\n",
       "    // socket, so there is still some room for performance tuning.\n",
       "    var ws = {};\n",
       "\n",
       "    ws.close = function() {\n",
       "        comm.close()\n",
       "    };\n",
       "    ws.send = function(m) {\n",
       "        //console.log('sending', m);\n",
       "        comm.send(m);\n",
       "    };\n",
       "    // Register the callback with on_msg.\n",
       "    comm.on_msg(function(msg) {\n",
       "        //console.log('receiving', msg['content']['data'], msg);\n",
       "        // Pass the mpl event to the overridden (by mpl) onmessage function.\n",
       "        ws.onmessage(msg['content']['data'])\n",
       "    });\n",
       "    return ws;\n",
       "}\n",
       "\n",
       "mpl.mpl_figure_comm = function(comm, msg) {\n",
       "    // This is the function which gets called when the mpl process\n",
       "    // starts-up an IPython Comm through the \"matplotlib\" channel.\n",
       "\n",
       "    var id = msg.content.data.id;\n",
       "    // Get hold of the div created by the display call when the Comm\n",
       "    // socket was opened in Python.\n",
       "    var element = $(\"#\" + id);\n",
       "    var ws_proxy = comm_websocket_adapter(comm)\n",
       "\n",
       "    function ondownload(figure, format) {\n",
       "        window.open(figure.imageObj.src);\n",
       "    }\n",
       "\n",
       "    var fig = new mpl.figure(id, ws_proxy,\n",
       "                           ondownload,\n",
       "                           element.get(0));\n",
       "\n",
       "    // Call onopen now - mpl needs it, as it is assuming we've passed it a real\n",
       "    // web socket which is closed, not our websocket->open comm proxy.\n",
       "    ws_proxy.onopen();\n",
       "\n",
       "    fig.parent_element = element.get(0);\n",
       "    fig.cell_info = mpl.find_output_cell(\"<div id='\" + id + \"'></div>\");\n",
       "    if (!fig.cell_info) {\n",
       "        console.error(\"Failed to find cell for figure\", id, fig);\n",
       "        return;\n",
       "    }\n",
       "\n",
       "    var output_index = fig.cell_info[2]\n",
       "    var cell = fig.cell_info[0];\n",
       "\n",
       "};\n",
       "\n",
       "mpl.figure.prototype.handle_close = function(fig, msg) {\n",
       "    var width = fig.canvas.width/mpl.ratio\n",
       "    fig.root.unbind('remove')\n",
       "\n",
       "    // Update the output cell to use the data from the current canvas.\n",
       "    fig.push_to_output();\n",
       "    var dataURL = fig.canvas.toDataURL();\n",
       "    // Re-enable the keyboard manager in IPython - without this line, in FF,\n",
       "    // the notebook keyboard shortcuts fail.\n",
       "    IPython.keyboard_manager.enable()\n",
       "    $(fig.parent_element).html('<img src=\"' + dataURL + '\" width=\"' + width + '\">');\n",
       "    fig.close_ws(fig, msg);\n",
       "}\n",
       "\n",
       "mpl.figure.prototype.close_ws = function(fig, msg){\n",
       "    fig.send_message('closing', msg);\n",
       "    // fig.ws.close()\n",
       "}\n",
       "\n",
       "mpl.figure.prototype.push_to_output = function(remove_interactive) {\n",
       "    // Turn the data on the canvas into data in the output cell.\n",
       "    var width = this.canvas.width/mpl.ratio\n",
       "    var dataURL = this.canvas.toDataURL();\n",
       "    this.cell_info[1]['text/html'] = '<img src=\"' + dataURL + '\" width=\"' + width + '\">';\n",
       "}\n",
       "\n",
       "mpl.figure.prototype.updated_canvas_event = function() {\n",
       "    // Tell IPython that the notebook contents must change.\n",
       "    IPython.notebook.set_dirty(true);\n",
       "    this.send_message(\"ack\", {});\n",
       "    var fig = this;\n",
       "    // Wait a second, then push the new image to the DOM so\n",
       "    // that it is saved nicely (might be nice to debounce this).\n",
       "    setTimeout(function () { fig.push_to_output() }, 1000);\n",
       "}\n",
       "\n",
       "mpl.figure.prototype._init_toolbar = function() {\n",
       "    var fig = this;\n",
       "\n",
       "    var nav_element = $('<div/>');\n",
       "    nav_element.attr('style', 'width: 100%');\n",
       "    this.root.append(nav_element);\n",
       "\n",
       "    // Define a callback function for later on.\n",
       "    function toolbar_event(event) {\n",
       "        return fig.toolbar_button_onclick(event['data']);\n",
       "    }\n",
       "    function toolbar_mouse_event(event) {\n",
       "        return fig.toolbar_button_onmouseover(event['data']);\n",
       "    }\n",
       "\n",
       "    for(var toolbar_ind in mpl.toolbar_items){\n",
       "        var name = mpl.toolbar_items[toolbar_ind][0];\n",
       "        var tooltip = mpl.toolbar_items[toolbar_ind][1];\n",
       "        var image = mpl.toolbar_items[toolbar_ind][2];\n",
       "        var method_name = mpl.toolbar_items[toolbar_ind][3];\n",
       "\n",
       "        if (!name) { continue; };\n",
       "\n",
       "        var button = $('<button class=\"btn btn-default\" href=\"#\" title=\"' + name + '\"><i class=\"fa ' + image + ' fa-lg\"></i></button>');\n",
       "        button.click(method_name, toolbar_event);\n",
       "        button.mouseover(tooltip, toolbar_mouse_event);\n",
       "        nav_element.append(button);\n",
       "    }\n",
       "\n",
       "    // Add the status bar.\n",
       "    var status_bar = $('<span class=\"mpl-message\" style=\"text-align:right; float: right;\"/>');\n",
       "    nav_element.append(status_bar);\n",
       "    this.message = status_bar[0];\n",
       "\n",
       "    // Add the close button to the window.\n",
       "    var buttongrp = $('<div class=\"btn-group inline pull-right\"></div>');\n",
       "    var button = $('<button class=\"btn btn-mini btn-primary\" href=\"#\" title=\"Stop Interaction\"><i class=\"fa fa-power-off icon-remove icon-large\"></i></button>');\n",
       "    button.click(function (evt) { fig.handle_close(fig, {}); } );\n",
       "    button.mouseover('Stop Interaction', toolbar_mouse_event);\n",
       "    buttongrp.append(button);\n",
       "    var titlebar = this.root.find($('.ui-dialog-titlebar'));\n",
       "    titlebar.prepend(buttongrp);\n",
       "}\n",
       "\n",
       "mpl.figure.prototype._root_extra_style = function(el){\n",
       "    var fig = this\n",
       "    el.on(\"remove\", function(){\n",
       "\tfig.close_ws(fig, {});\n",
       "    });\n",
       "}\n",
       "\n",
       "mpl.figure.prototype._canvas_extra_style = function(el){\n",
       "    // this is important to make the div 'focusable\n",
       "    el.attr('tabindex', 0)\n",
       "    // reach out to IPython and tell the keyboard manager to turn it's self\n",
       "    // off when our div gets focus\n",
       "\n",
       "    // location in version 3\n",
       "    if (IPython.notebook.keyboard_manager) {\n",
       "        IPython.notebook.keyboard_manager.register_events(el);\n",
       "    }\n",
       "    else {\n",
       "        // location in version 2\n",
       "        IPython.keyboard_manager.register_events(el);\n",
       "    }\n",
       "\n",
       "}\n",
       "\n",
       "mpl.figure.prototype._key_event_extra = function(event, name) {\n",
       "    var manager = IPython.notebook.keyboard_manager;\n",
       "    if (!manager)\n",
       "        manager = IPython.keyboard_manager;\n",
       "\n",
       "    // Check for shift+enter\n",
       "    if (event.shiftKey && event.which == 13) {\n",
       "        this.canvas_div.blur();\n",
       "        // select the cell after this one\n",
       "        var index = IPython.notebook.find_cell_index(this.cell_info[0]);\n",
       "        IPython.notebook.select(index + 1);\n",
       "    }\n",
       "}\n",
       "\n",
       "mpl.figure.prototype.handle_save = function(fig, msg) {\n",
       "    fig.ondownload(fig, null);\n",
       "}\n",
       "\n",
       "\n",
       "mpl.find_output_cell = function(html_output) {\n",
       "    // Return the cell and output element which can be found *uniquely* in the notebook.\n",
       "    // Note - this is a bit hacky, but it is done because the \"notebook_saving.Notebook\"\n",
       "    // IPython event is triggered only after the cells have been serialised, which for\n",
       "    // our purposes (turning an active figure into a static one), is too late.\n",
       "    var cells = IPython.notebook.get_cells();\n",
       "    var ncells = cells.length;\n",
       "    for (var i=0; i<ncells; i++) {\n",
       "        var cell = cells[i];\n",
       "        if (cell.cell_type === 'code'){\n",
       "            for (var j=0; j<cell.output_area.outputs.length; j++) {\n",
       "                var data = cell.output_area.outputs[j];\n",
       "                if (data.data) {\n",
       "                    // IPython >= 3 moved mimebundle to data attribute of output\n",
       "                    data = data.data;\n",
       "                }\n",
       "                if (data['text/html'] == html_output) {\n",
       "                    return [cell, data, j];\n",
       "                }\n",
       "            }\n",
       "        }\n",
       "    }\n",
       "}\n",
       "\n",
       "// Register the function which deals with the matplotlib target/channel.\n",
       "// The kernel may be null if the page has been refreshed.\n",
       "if (IPython.notebook.kernel != null) {\n",
       "    IPython.notebook.kernel.comm_manager.register_target('matplotlib', mpl.mpl_figure_comm);\n",
       "}\n"
      ],
      "text/plain": [
       "<IPython.core.display.Javascript object>"
      ]
     },
     "metadata": {},
     "output_type": "display_data"
    },
    {
     "data": {
      "text/html": [
       "<img src=\"data:image/png;base64,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\" width=\"640\">"
      ],
      "text/plain": [
       "<IPython.core.display.HTML object>"
      ]
     },
     "metadata": {},
     "output_type": "display_data"
    },
    {
     "data": {
      "text/plain": [
       "<matplotlib.image.AxesImage at 0x7f1528c62f60>"
      ]
     },
     "execution_count": 40,
     "metadata": {},
     "output_type": "execute_result"
    }
   ],
   "source": [
    "%matplotlib notebook\n",
    "fig, ax = plt.subplots()\n",
    "pos = []\n",
    "def onclick(event):\n",
    "    pos.append([event.xdata,event.ydata])\n",
    "fig.canvas.mpl_connect('button_press_event', onclick)\n",
    "plt.title('Colibrí')\n",
    "plt.imshow(img)"
   ]
  },
  {
   "cell_type": "code",
   "execution_count": 38,
   "metadata": {},
   "outputs": [
    {
     "data": {
      "text/plain": [
       "[[42.81249999999983, 886.0982142857146],\n",
       " [42.81249999999983, 826.9423701298704],\n",
       " [57.60146103896085, 735.7437770562774],\n",
       " [57.60146103896085, 661.7989718614721],\n",
       " [25.558712121211954, 600.178300865801],\n",
       " [28.023538961038753, 516.3741883116885],\n",
       " [57.60146103896085, 422.71076839826856],\n",
       " [119.22213203463178, 338.90665584415603],\n",
       " [138.94074675324663, 227.98944805194822],\n",
       " [203.02624458874442, 126.9315476190477],\n",
       " [276.97104978354963, 114.60741341991354],\n",
       " [363.2399891774891, 161.43912337662357],\n",
       " [449.5089285714284, 124.46672077922096],\n",
       " [548.102002164502, 65.31087662337688],\n",
       " [624.511634199134, 35.73295454545473],\n",
       " [639.3005952380952, 35.73295454545473],\n",
       " [604.7930194805194, 62.846049783549915],\n",
       " [557.9613095238094, 94.88879870129892],\n",
       " [476.6220238095237, 136.79085497835513],\n",
       " [412.5365259740258, 178.69291125541145],\n",
       " [380.493777056277, 235.38392857142878],\n",
       " [380.493777056277, 294.539772727273],\n",
       " [382.95860389610374, 358.62527056277077],\n",
       " [395.2827380952379, 422.71076839826856],\n",
       " [395.2827380952379, 481.86661255411286],\n",
       " [392.81791125541116, 555.811417748918],\n",
       " [373.0992965367963, 644.5451839826842],\n",
       " [343.5213744588743, 679.05275974026],\n",
       " [318.87310606060595, 679.05275974026],\n",
       " [306.54897186147167, 671.6582792207794],\n",
       " [294.2248376623375, 679.05275974026],\n",
       " [269.5765692640692, 740.6734307359309],\n",
       " [259.71726190476176, 807.2237554112555],\n",
       " [230.1393398268396, 866.3795995670998],\n",
       " [180.84280303030295, 903.3520021645024],\n",
       " [119.22213203463178, 883.6333874458876],\n",
       " [55.136634199133994, 893.492694805195]]"
      ]
     },
     "execution_count": 38,
     "metadata": {},
     "output_type": "execute_result"
    }
   ],
   "source": [
    "pos"
   ]
  },
  {
   "cell_type": "markdown",
   "metadata": {},
   "source": [
    "**Nota: una vez obtenida la lista `pos` dar click en el botón de apagado de interactividad.**"
   ]
  },
  {
   "cell_type": "code",
   "execution_count": 39,
   "metadata": {},
   "outputs": [],
   "source": [
    "pos_array = np.array(pos)"
   ]
  },
  {
   "cell_type": "code",
   "execution_count": 40,
   "metadata": {},
   "outputs": [],
   "source": [
    "x = pos_array[:,0]"
   ]
  },
  {
   "cell_type": "markdown",
   "metadata": {},
   "source": [
    "Algunas entradas imprimimos de $x$:"
   ]
  },
  {
   "cell_type": "code",
   "execution_count": 41,
   "metadata": {},
   "outputs": [
    {
     "data": {
      "text/plain": [
       "array([ 42.81,  42.81,  57.6 ,  57.6 ,  25.56,  28.02,  57.6 , 119.22,\n",
       "       138.94, 203.03])"
      ]
     },
     "execution_count": 41,
     "metadata": {},
     "output_type": "execute_result"
    }
   ],
   "source": [
    "x[0:10]"
   ]
  },
  {
   "cell_type": "code",
   "execution_count": 42,
   "metadata": {},
   "outputs": [],
   "source": [
    "y = pos_array[:,1]"
   ]
  },
  {
   "cell_type": "markdown",
   "metadata": {},
   "source": [
    "Algunas entradas imprimimos de $y$:"
   ]
  },
  {
   "cell_type": "code",
   "execution_count": 43,
   "metadata": {},
   "outputs": [
    {
     "data": {
      "text/plain": [
       "array([886.1 , 826.94, 735.74, 661.8 , 600.18, 516.37, 422.71, 338.91,\n",
       "       227.99, 126.93])"
      ]
     },
     "execution_count": 43,
     "metadata": {},
     "output_type": "execute_result"
    }
   ],
   "source": [
    "y[0:10]"
   ]
  },
  {
   "cell_type": "markdown",
   "metadata": {},
   "source": [
    "Definamos nuestro parámetro $t$ en el intervalo $[0,1]$:"
   ]
  },
  {
   "cell_type": "code",
   "execution_count": 44,
   "metadata": {},
   "outputs": [],
   "source": [
    "t = np.linspace(0,1, len(x))"
   ]
  },
  {
   "cell_type": "code",
   "execution_count": 45,
   "metadata": {},
   "outputs": [
    {
     "data": {
      "text/plain": [
       "array([0.  , 0.03, 0.06, 0.08, 0.11, 0.14, 0.17, 0.19, 0.22, 0.25, 0.28,\n",
       "       0.31, 0.33, 0.36, 0.39, 0.42, 0.44, 0.47, 0.5 , 0.53, 0.56, 0.58,\n",
       "       0.61, 0.64, 0.67, 0.69, 0.72, 0.75, 0.78, 0.81, 0.83, 0.86, 0.89,\n",
       "       0.92, 0.94, 0.97, 1.  ])"
      ]
     },
     "execution_count": 45,
     "metadata": {},
     "output_type": "execute_result"
    }
   ],
   "source": [
    "t"
   ]
  },
  {
   "cell_type": "markdown",
   "metadata": {},
   "source": [
    "Construyamos el spline para las curvas $x(t)$, $y(t)$ que nos definirán las coordenadas."
   ]
  },
  {
   "cell_type": "code",
   "execution_count": 46,
   "metadata": {},
   "outputs": [],
   "source": [
    "pw_spline_x = interp1d(t, x, kind = 'cubic') #spline piecewise \n",
    "pw_spline_y = interp1d(t,y, kind = 'cubic') #spline piecewise "
   ]
  },
  {
   "cell_type": "markdown",
   "metadata": {},
   "source": [
    "Realicemos interpolación en $100$ puntos:"
   ]
  },
  {
   "cell_type": "code",
   "execution_count": 47,
   "metadata": {},
   "outputs": [],
   "source": [
    "neval = 100\n",
    "teval = np.linspace(min(t),max(t), neval)"
   ]
  },
  {
   "cell_type": "code",
   "execution_count": 48,
   "metadata": {},
   "outputs": [],
   "source": [
    "xeval = pw_spline_x(teval)\n",
    "yeval = pw_spline_y(teval)"
   ]
  },
  {
   "cell_type": "code",
   "execution_count": 49,
   "metadata": {},
   "outputs": [
    {
     "name": "stdout",
     "output_type": "stream",
     "text": [
      "xeval.shape: 100\n",
      "yeval.shape: 100\n"
     ]
    }
   ],
   "source": [
    "print('xeval.shape:', xeval.shape[0])\n",
    "print('yeval.shape:', yeval.shape[0])"
   ]
  },
  {
   "cell_type": "code",
   "execution_count": 50,
   "metadata": {},
   "outputs": [
    {
     "data": {
      "text/plain": [
       "array([42.81, 39.51, 40.29, 43.92, 49.22, 54.95, 59.88, 62.18, 59.39,\n",
       "       49.63])"
      ]
     },
     "execution_count": 50,
     "metadata": {},
     "output_type": "execute_result"
    }
   ],
   "source": [
    "xeval[0:10]"
   ]
  },
  {
   "cell_type": "code",
   "execution_count": 51,
   "metadata": {
    "scrolled": true
   },
   "outputs": [
    {
     "data": {
      "text/plain": [
       "array([886.1 , 872.14, 848.82, 819.06, 785.8 , 751.96, 720.41, 692.4 ,\n",
       "       667.56, 645.32])"
      ]
     },
     "execution_count": 51,
     "metadata": {},
     "output_type": "execute_result"
    }
   ],
   "source": [
    "yeval[0:10]"
   ]
  },
  {
   "cell_type": "code",
   "execution_count": 52,
   "metadata": {},
   "outputs": [],
   "source": [
    "window_y = 50\n",
    "window_x = 500    \n",
    "x_min = np.min(x)\n",
    "y_min = np.min(y)\n",
    "x_max = np.max(x)\n",
    "y_max = np.max(y)"
   ]
  },
  {
   "cell_type": "code",
   "execution_count": 3,
   "metadata": {},
   "outputs": [],
   "source": [
    "fig, ax = plt.subplots()\n",
    "ax.plot(xeval,yeval)\n",
    "ax.set_ylim(np.max(y)+window_y,np.min(y)-window_y)\n",
    "plt.xlim(np.min(x)-window_x,np.max(x)+window_x)\n",
    "plt.title('Colibrí con interpolación vía curva paramétrica')\n",
    "plt.show()"
   ]
  },
  {
   "cell_type": "code",
   "execution_count": 63,
   "metadata": {},
   "outputs": [],
   "source": [
    "def make_plot(ax, idx):\n",
    "    ax.plot(x[:idx], y[:idx])\n",
    "    ax.set_ylim(y_max+window_y,y_min-window_y)\n",
    "    plt.xlim(x_min-window_x,x_max+window_x)\n",
    "    plt.plot(x[:idx], y[:idx], 'bo-')\n",
    "    plt.title('Colibrí con interpolación vía curva paramétrica')\n",
    "    fig.canvas.draw()"
   ]
  },
  {
   "cell_type": "code",
   "execution_count": 4,
   "metadata": {
    "scrolled": true
   },
   "outputs": [],
   "source": [
    "%matplotlib notebook\n",
    "fig, ax = plt.subplots()\n",
    "for idx,_ in enumerate(t):\n",
    "    make_plot(ax, idx)\n",
    "    time.sleep(0.2)"
   ]
  },
  {
   "cell_type": "markdown",
   "metadata": {},
   "source": [
    "**(Tarea) elegir una imagen y realizar interpolación con una curva paramétrica.**"
   ]
  },
  {
   "cell_type": "markdown",
   "metadata": {},
   "source": [
    "**Referencias:**\n",
    "\n",
    "* [animated_matplotlib-binder](https://github.com/fomightez/animated_matplotlib-binder)\n",
    "\n",
    "* [how-get-a-x-y-position-pointing-with-mouse-in-a-interactive-plot-python](https://stackoverflow.com/questions/29379502/how-get-a-x-y-position-pointing-with-mouse-in-a-interactive-plot-python)\n",
    "\n",
    "* [matplotlib: invert_axes](https://matplotlib.org/3.1.1/gallery/subplots_axes_and_figures/invert_axes.html)"
   ]
  }
 ],
 "metadata": {
  "kernelspec": {
   "display_name": "Python 3",
   "language": "python",
   "name": "python3"
  },
  "language_info": {
   "codemirror_mode": {
    "name": "ipython",
    "version": 3
   },
   "file_extension": ".py",
   "mimetype": "text/x-python",
   "name": "python",
   "nbconvert_exporter": "python",
   "pygments_lexer": "ipython3",
   "version": "3.6.9"
  }
 },
 "nbformat": 4,
 "nbformat_minor": 4
}
